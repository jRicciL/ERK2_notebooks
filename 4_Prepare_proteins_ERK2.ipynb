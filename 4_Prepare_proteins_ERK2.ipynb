{
 "cells": [
  {
   "cell_type": "markdown",
   "metadata": {},
   "source": [
    "# Preparación de Proteínas para Docking y DM\n",
    "Se realiza la preparación final de las proteínas generadas con Modeller, añadiendo átomos faltantes e hidrógenos a las estructuras."
   ]
  },
  {
   "cell_type": "code",
   "execution_count": 1,
   "metadata": {},
   "outputs": [
    {
     "name": "stderr",
     "output_type": "stream",
     "text": [
      "/home/joel/anaconda3/envs/mds/lib/python3.6/importlib/_bootstrap.py:219: RuntimeWarning: numpy.ufunc size changed, may indicate binary incompatibility. Expected 192 from C header, got 216 from PyObject\n",
      "  return f(*args, **kwds)\n"
     ]
    }
   ],
   "source": [
    "import pdb2pqr\n",
    "import pdb4amber\n",
    "import os\n",
    "from pathlib import Path\n",
    "import glob"
   ]
  },
  {
   "cell_type": "code",
   "execution_count": 8,
   "metadata": {},
   "outputs": [],
   "source": [
    "# Nombre de la proteina de interes\n",
    "prot_name = 'erk2'\n",
    "# Secuencia P28482 (ERK2_HUMAN)\n",
    "uniprot_id = \"P28482\""
   ]
  },
  {
   "cell_type": "markdown",
   "metadata": {},
   "source": [
    "## Se generan las estructuras preparadas \n",
    "### (pdb4amber, reduce, pdb2pqr y propka)\n",
    "La siguiente función recibe como entrada cada una de las estructuras generadas con Modeller (a alas cuales no se le agregaron hidrógenos) y devuelve:\n",
    "- **Archivos ID_ENS.pdb**: La estructura de la proteína con **todos los hidrógenos añadidos**, pero **no optimizados** para los residuos ionizables. Esto implica que todos sus residuos de histidina serán **HIS**. Además, **todas las conformaciones de la proteína tendrán el mismo número de átomos**, y en las mismas posiciones, lo que permitirá crear un ensamble con ellas.\n",
    "- **Archivos ID_PROT.pdb**: Estructura de la proteína con hidrógenos añadidos a un pH = 7, para lo cual se ha usado la herramienta **_reduce_** incluida en AmberTools y **PDB2PQR**. Pueden ser usados como estructura inicial para _docking_ y dinámica molecular.\n",
    "- **Archivos ID_PQR.pdb y ID_PQR.propka**: Archivos resultantes tras la ejecuación de **PDB2PQR** y **propka**."
   ]
  },
  {
   "cell_type": "markdown",
   "metadata": {},
   "source": [
    "### Creación de directorios\n",
    "Lista de modelos generados por Modeller."
   ]
  },
  {
   "cell_type": "code",
   "execution_count": 39,
   "metadata": {},
   "outputs": [],
   "source": [
    "# Lista de archivos pdb para preparar, originalmente modelos generados con Modeller\n",
    "pdb_list = glob.glob(F\"../ARCHIVOS/CRISTALES/PROT_{prot_name.upper()}_MODELOS_modeller_NoPrep/*\")\n",
    "pdb_list.sort()"
   ]
  },
  {
   "cell_type": "markdown",
   "metadata": {},
   "source": [
    "Se crean las rutas a los directorios, y los directorios, si aún no han sido creados."
   ]
  },
  {
   "cell_type": "code",
   "execution_count": 27,
   "metadata": {},
   "outputs": [],
   "source": [
    "main_out_dir = F\"../ARCHIVOS/CRISTALES/PROT_{prot_name.upper()}_PREPARADAS/\"\n",
    "out_dir_ens = main_out_dir +  \"PREP_ALL_ENSAMBLE/\" # Hidrógenos agregados sin pka\n",
    "out_dir_PREP_PROT = main_out_dir + \"PREP_PH_7/\" # Hidrógenos agregados usando Propka (res ionizables a pH 7)\n",
    "out_dir_pqr = main_out_dir + \"PQR_PKAs/\" # Directorio de pqr\"\n",
    "# Creación de los directorios, si estos no exiten\n",
    "import os\n",
    "if not os.path.exists(main_out_dir):\n",
    "    os.makedirs(main_out_dir)\n",
    "    os.makedirs(out_dir_ens)\n",
    "    os.makedirs(out_dir_PREP_PROT)\n",
    "    os.makedirs(out_dir_pqr)"
   ]
  },
  {
   "cell_type": "markdown",
   "metadata": {},
   "source": [
    "Procedemos a realizar la preparación de cada uno delos modelos de la proteína."
   ]
  },
  {
   "cell_type": "code",
   "execution_count": 60,
   "metadata": {},
   "outputs": [
    {
     "name": "stdout",
     "output_type": "stream",
     "text": [
      "Preparando la proteína: 3i60.\n",
      "Preparando la proteína: 4fv4.\n",
      "Preparando la proteína: 4fv5.\n",
      "Preparando la proteína: 4fv6.\n",
      "Preparando la proteína: 4fv8.\n",
      "Preparando la proteína: 4fv9.\n",
      "Preparando la proteína: 4o6e.\n",
      "Preparando la proteína: 4qp8.\n",
      "Preparando la proteína: 4qta.\n",
      "Preparando la proteína: 5ax3.\n",
      "Preparando la proteína: 5bvd.\n",
      "Preparando la proteína: 5bve.\n",
      "Preparando la proteína: 5bvf.\n",
      "Preparando la proteína: 6ots.\n"
     ]
    }
   ],
   "source": [
    "# Sufijos para nombrar los archivos resultantes\n",
    "ens_f_tail = \"_ENS\"\n",
    "prep_f_tail = \"_PROT\"\n",
    "prep_anyways = False # True para volver a preparar TODAS las proteínas\n",
    "\n",
    "num_struct = [16, 34, 35, 36, 38, 39, 54, 61, 64, 86, 90, 91, 92, 154]\n",
    "for pdb_file in np.array(pdb_list)[num_struct]:\n",
    "    pdb_id = Path(pdb_file).stem.rsplit('_', 1)[0]\n",
    "    print(F\"Preparando la proteína: {pdb_id}.\")\n",
    "    # Omite el proceso si la proteína ya ha sido preparada previamente\n",
    "    if not prep_anyways:\n",
    "        if os.path.isfile(out_dir_PREP_PROT  + pdb_id + prep_f_tail + \".pdb\") \\\n",
    "            and os.path.isfile(out_dir_ens + pdb_id + ens_f_tail + \".pdb\"):\n",
    "            print(F\"La proteína {pdb_id} ya existe en los directorios\\n\")\n",
    "            continue\n",
    "    \n",
    "    # ENSAMBLE: Añade átomos faltantes, incluyendo Hs\n",
    "    # No toma en cuenta los estados ionizables\n",
    "    ensamble_file = out_dir_ens + pdb_id + ens_f_tail + \".pdb\"\n",
    "    pdb4amber.run(arg_pdbin = pdb_file,\n",
    "                  arg_add_missing_atoms = True, \n",
    "                  arg_pdbout = ensamble_file)\n",
    "    # PROT PREPARADA:\n",
    "    # Ejecuta pdb2pqr para obtener los estados de protonación de los residuos ionizables\n",
    "    pqr_file = out_dir_pqr + pdb_id + \"_PQR.pdb\"\n",
    "    os.system(\"pdb2pqr_cli --ff=amber --with-ph=7.0 --ffout=amber --ph-calc-method=propka --chain \"\n",
    "               + pdb_file + \" \" \n",
    "               + pqr_file )\n",
    "    # Vuelve a ejecutar pdb4amber para generar las PROT con los estados ionizables usando \"--reduce\"\n",
    "    prepared_file = out_dir_PREP_PROT  + pdb_id + prep_f_tail + \".pdb\"\n",
    "    pdb4amber.run(arg_pdbin  = pdb_file,\n",
    "                  arg_reduce = True,\n",
    "                  arg_pdbout = prepared_file )\n",
    "    # Elimina los archivos temporales de pdb4amber\n",
    "    os.system(\"rm \" + out_dir_ens + \"/*\" + ens_f_tail + \"_*\")\n",
    "    os.system(\"rm \" + out_dir_PREP_PROT + \"/*\" + prep_f_tail + \"_*\")"
   ]
  },
  {
   "cell_type": "code",
   "execution_count": null,
   "metadata": {},
   "outputs": [],
   "source": []
  }
 ],
 "metadata": {
  "kernelspec": {
   "display_name": "Python 3",
   "language": "python",
   "name": "python3"
  },
  "language_info": {
   "codemirror_mode": {
    "name": "ipython",
    "version": 3
   },
   "file_extension": ".py",
   "mimetype": "text/x-python",
   "name": "python",
   "nbconvert_exporter": "python",
   "pygments_lexer": "ipython3",
   "version": "3.7.4"
  }
 },
 "nbformat": 4,
 "nbformat_minor": 2
}
