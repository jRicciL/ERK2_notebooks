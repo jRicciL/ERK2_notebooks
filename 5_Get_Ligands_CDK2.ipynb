{
 "cells": [
  {
   "cell_type": "markdown",
   "metadata": {},
   "source": [
    "# Proteína ERK2\n",
    "### Obtención de los ligandos ubicados en la cavidad de la proteína\n",
    "Esta libreta tinene como objetivo obtener los **ligandos cocristalizados en ele sitio activo de la proteína ERK2**, difereciando dichas moléculas de iones o moléculas del solvente, así como de ligandos o inhibidores alostéricos."
   ]
  },
  {
   "cell_type": "code",
   "execution_count": 1,
   "metadata": {},
   "outputs": [],
   "source": [
    "from prody import *\n",
    "import numpy as np\n",
    "import csv\n",
    "import pandas as pd"
   ]
  },
  {
   "cell_type": "code",
   "execution_count": 4,
   "metadata": {},
   "outputs": [],
   "source": [
    "# Nombre de la proteina de interes\n",
    "prot_name = 'erk2'"
   ]
  },
  {
   "cell_type": "markdown",
   "metadata": {},
   "source": [
    "**Carga del dataframe con la información de la proteína**"
   ]
  },
  {
   "cell_type": "code",
   "execution_count": 89,
   "metadata": {},
   "outputs": [
    {
     "data": {
      "text/html": [
       "<div>\n",
       "<style scoped>\n",
       "    .dataframe tbody tr th:only-of-type {\n",
       "        vertical-align: middle;\n",
       "    }\n",
       "\n",
       "    .dataframe tbody tr th {\n",
       "        vertical-align: top;\n",
       "    }\n",
       "\n",
       "    .dataframe thead th {\n",
       "        text-align: right;\n",
       "    }\n",
       "</style>\n",
       "<table border=\"1\" class=\"dataframe\">\n",
       "  <thead>\n",
       "    <tr style=\"text-align: right;\">\n",
       "      <th></th>\n",
       "      <th>Title</th>\n",
       "      <th>Date</th>\n",
       "      <th>Entities</th>\n",
       "      <th>ChainID</th>\n",
       "      <th>Resolution</th>\n",
       "      <th>Identity</th>\n",
       "      <th>Coverage</th>\n",
       "      <th>NumGaps</th>\n",
       "      <th>GapLen</th>\n",
       "      <th>GapPos</th>\n",
       "      <th>NumLigs</th>\n",
       "      <th>NameLigs</th>\n",
       "    </tr>\n",
       "    <tr>\n",
       "      <th>PDB_ID</th>\n",
       "      <th></th>\n",
       "      <th></th>\n",
       "      <th></th>\n",
       "      <th></th>\n",
       "      <th></th>\n",
       "      <th></th>\n",
       "      <th></th>\n",
       "      <th></th>\n",
       "      <th></th>\n",
       "      <th></th>\n",
       "      <th></th>\n",
       "      <th></th>\n",
       "    </tr>\n",
       "  </thead>\n",
       "  <tbody>\n",
       "    <tr>\n",
       "      <th>6qal</th>\n",
       "      <td>erk2 mini-fragment binding</td>\n",
       "      <td>2019-03-27</td>\n",
       "      <td>1</td>\n",
       "      <td>A</td>\n",
       "      <td>1.57</td>\n",
       "      <td>359.0</td>\n",
       "      <td>93.055556</td>\n",
       "      <td>5.0</td>\n",
       "      <td>[10, 3, 1, 8, 3]</td>\n",
       "      <td>[[1, 10], [34, 36], [161, 161], [331, 338], [3...</td>\n",
       "      <td>3.0</td>\n",
       "      <td>[CME, HV2, SO4]</td>\n",
       "    </tr>\n",
       "    <tr>\n",
       "      <th>6qaq</th>\n",
       "      <td>erk2 mini-fragment binding</td>\n",
       "      <td>2019-03-27</td>\n",
       "      <td>1</td>\n",
       "      <td>A</td>\n",
       "      <td>1.58</td>\n",
       "      <td>359.0</td>\n",
       "      <td>95.277778</td>\n",
       "      <td>4.0</td>\n",
       "      <td>[10, 1, 3, 3]</td>\n",
       "      <td>[[1, 10], [161, 161], [331, 333], [358, 360]]</td>\n",
       "      <td>3.0</td>\n",
       "      <td>[CME, HVQ, SO4]</td>\n",
       "    </tr>\n",
       "    <tr>\n",
       "      <th>6qaw</th>\n",
       "      <td>erk2 mini-fragment binding</td>\n",
       "      <td>2019-03-27</td>\n",
       "      <td>1</td>\n",
       "      <td>A</td>\n",
       "      <td>1.84</td>\n",
       "      <td>358.0</td>\n",
       "      <td>93.333333</td>\n",
       "      <td>5.0</td>\n",
       "      <td>[10, 1, 1, 9, 3]</td>\n",
       "      <td>[[1, 10], [127, 127], [161, 161], [330, 338], ...</td>\n",
       "      <td>3.0</td>\n",
       "      <td>[CME, HVE, SO4]</td>\n",
       "    </tr>\n",
       "  </tbody>\n",
       "</table>\n",
       "</div>"
      ],
      "text/plain": [
       "                             Title        Date  Entities ChainID  Resolution  \\\n",
       "PDB_ID                                                                         \n",
       "6qal    erk2 mini-fragment binding  2019-03-27         1       A        1.57   \n",
       "6qaq    erk2 mini-fragment binding  2019-03-27         1       A        1.58   \n",
       "6qaw    erk2 mini-fragment binding  2019-03-27         1       A        1.84   \n",
       "\n",
       "        Identity   Coverage  NumGaps            GapLen  \\\n",
       "PDB_ID                                                   \n",
       "6qal       359.0  93.055556      5.0  [10, 3, 1, 8, 3]   \n",
       "6qaq       359.0  95.277778      4.0     [10, 1, 3, 3]   \n",
       "6qaw       358.0  93.333333      5.0  [10, 1, 1, 9, 3]   \n",
       "\n",
       "                                                   GapPos  NumLigs  \\\n",
       "PDB_ID                                                               \n",
       "6qal    [[1, 10], [34, 36], [161, 161], [331, 338], [3...      3.0   \n",
       "6qaq        [[1, 10], [161, 161], [331, 333], [358, 360]]      3.0   \n",
       "6qaw    [[1, 10], [127, 127], [161, 161], [330, 338], ...      3.0   \n",
       "\n",
       "               NameLigs  \n",
       "PDB_ID                   \n",
       "6qal    [CME, HV2, SO4]  \n",
       "6qaq    [CME, HVQ, SO4]  \n",
       "6qaw    [CME, HVE, SO4]  "
      ]
     },
     "execution_count": 89,
     "metadata": {},
     "output_type": "execute_result"
    }
   ],
   "source": [
    "# abrir la tabla de metadatos de las proteinas\n",
    "import glob, os\n",
    "# Directorio hacia el archivo csv\n",
    "path_df_csv = glob.glob(os.path.join('.', 'data', \n",
    "                                     F'TABLA_MTDATA_{prot_name.upper()}_*_crys.csv'))\n",
    "\n",
    "df_prot = pd.read_csv(path_df_csv[0], index_col = 0,\n",
    "                     converters={\"NameLigs\": lambda x: x.strip(\"[]\").replace(\"'\", \"\").split(\", \")}, \n",
    "                      # Convierte en lista la celda del nombre de los ligandos\n",
    "                      # A falta de una solución más prolija\n",
    "                      # TODO: Trabajar con archivos json\n",
    "                     )\n",
    "df_prot.set_index('PDB_ID', inplace=True)\n",
    "df_prot.tail(3)"
   ]
  },
  {
   "cell_type": "code",
   "execution_count": 85,
   "metadata": {},
   "outputs": [
    {
     "data": {
      "text/plain": [
       "(166, 12)"
      ]
     },
     "execution_count": 85,
     "metadata": {},
     "output_type": "execute_result"
    }
   ],
   "source": [
    "df_prot.shape"
   ]
  },
  {
   "cell_type": "markdown",
   "metadata": {},
   "source": [
    "### Conteo de estructuras con ligandos\n",
    "Preguntamos cuantas y cuales estructuras cristalográficas tienen ligandos y creamos una nueva tabla con ellas.  "
   ]
  },
  {
   "cell_type": "code",
   "execution_count": 91,
   "metadata": {},
   "outputs": [
    {
     "name": "stdout",
     "output_type": "stream",
     "text": [
      "156 de 166 cristales con al menos un ligando.\n"
     ]
    }
   ],
   "source": [
    "df_prot_ligs = df_prot[df_prot.NumLigs > 0]\n",
    "print(F'{len(df_prot_ligs)} de {len(df_prot)} cristales con al menos un ligando.')"
   ]
  },
  {
   "cell_type": "markdown",
   "metadata": {},
   "source": [
    "**No obstante, no todas ellas son ligandos de la proteína**, ya que sólo hemos identificado cadenas en el archivo pdb con la designación **HETATM**. Si es ligando o no lo determinamos más adelante."
   ]
  },
  {
   "cell_type": "markdown",
   "metadata": {},
   "source": [
    "### ¿Cuántos ligandos diferentes hay?\n",
    "Ahora preguntamos cuántas moléculas distintas han sido cocristalizadas con la proteína."
   ]
  },
  {
   "cell_type": "code",
   "execution_count": 92,
   "metadata": {},
   "outputs": [
    {
     "name": "stdout",
     "output_type": "stream",
     "text": [
      "En total hay 459 moléculas HETATM,\n",
      "de las cuales 152 son moléculas DISTINTAS.\n"
     ]
    }
   ],
   "source": [
    "# ¿Cuantos ligandos hay en total?\n",
    "import itertools\n",
    "# Lista de nombre de todos los ligandos\n",
    "lig_full_list = list( itertools.chain.from_iterable( df_prot.NameLigs ) )\n",
    "print(F'En total hay {len(lig_full_list)} moléculas HETATM,')\n",
    "\n",
    "\n",
    "lig_all_list = list(set(lig_full_list))\n",
    "print(F'de las cuales {len(lig_all_list)} son moléculas DISTINTAS.')"
   ]
  },
  {
   "cell_type": "markdown",
   "metadata": {},
   "source": [
    "## Moléculas en la cavidad catalítica\n",
    "Ahora procedemos a identificar qué moléculas se encuentran en el sitio activo de la proteína, y si éstas tienen un peso molecular suficcientemente grande como para ser diferenciadas de posibles moléculas del solvente.\n",
    "\n",
    "### Primero definimos qué residuos forman parte del sitio activo\n",
    "Tomamos como referencia las primeras dos estructuras del DataFrame con ligandos:"
   ]
  },
  {
   "cell_type": "code",
   "execution_count": 93,
   "metadata": {},
   "outputs": [
    {
     "data": {
      "text/html": [
       "<div>\n",
       "<style scoped>\n",
       "    .dataframe tbody tr th:only-of-type {\n",
       "        vertical-align: middle;\n",
       "    }\n",
       "\n",
       "    .dataframe tbody tr th {\n",
       "        vertical-align: top;\n",
       "    }\n",
       "\n",
       "    .dataframe thead th {\n",
       "        text-align: right;\n",
       "    }\n",
       "</style>\n",
       "<table border=\"1\" class=\"dataframe\">\n",
       "  <thead>\n",
       "    <tr style=\"text-align: right;\">\n",
       "      <th></th>\n",
       "      <th>Title</th>\n",
       "      <th>Date</th>\n",
       "      <th>Entities</th>\n",
       "      <th>ChainID</th>\n",
       "      <th>Resolution</th>\n",
       "      <th>Identity</th>\n",
       "      <th>Coverage</th>\n",
       "      <th>NumGaps</th>\n",
       "      <th>GapLen</th>\n",
       "      <th>GapPos</th>\n",
       "      <th>NumLigs</th>\n",
       "      <th>NameLigs</th>\n",
       "    </tr>\n",
       "    <tr>\n",
       "      <th>PDB_ID</th>\n",
       "      <th></th>\n",
       "      <th></th>\n",
       "      <th></th>\n",
       "      <th></th>\n",
       "      <th></th>\n",
       "      <th></th>\n",
       "      <th></th>\n",
       "      <th></th>\n",
       "      <th></th>\n",
       "      <th></th>\n",
       "      <th></th>\n",
       "      <th></th>\n",
       "    </tr>\n",
       "  </thead>\n",
       "  <tbody>\n",
       "    <tr>\n",
       "      <th>1gol</th>\n",
       "      <td>coordinates of rat map kinase erk2 with an arg...</td>\n",
       "      <td>1997-03-12</td>\n",
       "      <td>1</td>\n",
       "      <td>A</td>\n",
       "      <td>2.8</td>\n",
       "      <td>354.0</td>\n",
       "      <td>99.166667</td>\n",
       "      <td>1.0</td>\n",
       "      <td>[3]</td>\n",
       "      <td>[[1, 3]]</td>\n",
       "      <td>2.0</td>\n",
       "      <td>[ATP, MG]</td>\n",
       "    </tr>\n",
       "    <tr>\n",
       "      <th>1pme</th>\n",
       "      <td>structure of penta mutant human erk2 map kinas...</td>\n",
       "      <td>1999-06-08</td>\n",
       "      <td>1</td>\n",
       "      <td>A</td>\n",
       "      <td>2.0</td>\n",
       "      <td>354.0</td>\n",
       "      <td>92.500000</td>\n",
       "      <td>4.0</td>\n",
       "      <td>[15, 3, 1, 8]</td>\n",
       "      <td>[[1, 15], [33, 35], [161, 161], [330, 337]]</td>\n",
       "      <td>3.0</td>\n",
       "      <td>[CME, SB2, SO4]</td>\n",
       "    </tr>\n",
       "  </tbody>\n",
       "</table>\n",
       "</div>"
      ],
      "text/plain": [
       "                                                    Title        Date  \\\n",
       "PDB_ID                                                                  \n",
       "1gol    coordinates of rat map kinase erk2 with an arg...  1997-03-12   \n",
       "1pme    structure of penta mutant human erk2 map kinas...  1999-06-08   \n",
       "\n",
       "        Entities ChainID  Resolution  Identity   Coverage  NumGaps  \\\n",
       "PDB_ID                                                               \n",
       "1gol           1       A         2.8     354.0  99.166667      1.0   \n",
       "1pme           1       A         2.0     354.0  92.500000      4.0   \n",
       "\n",
       "               GapLen                                       GapPos  NumLigs  \\\n",
       "PDB_ID                                                                        \n",
       "1gol              [3]                                     [[1, 3]]      2.0   \n",
       "1pme    [15, 3, 1, 8]  [[1, 15], [33, 35], [161, 161], [330, 337]]      3.0   \n",
       "\n",
       "               NameLigs  \n",
       "PDB_ID                   \n",
       "1gol          [ATP, MG]  \n",
       "1pme    [CME, SB2, SO4]  "
      ]
     },
     "execution_count": 93,
     "metadata": {},
     "output_type": "execute_result"
    }
   ],
   "source": [
    "df_prot_ligs.head(2)"
   ]
  },
  {
   "cell_type": "code",
   "execution_count": 61,
   "metadata": {},
   "outputs": [
    {
     "name": "stdout",
     "output_type": "stream",
     "text": [
      "Estructuras de referencia:\n",
      "Index(['1gol', '1pme'], dtype='object', name='PDB_ID')\n"
     ]
    }
   ],
   "source": [
    "print(F'Estructuras de referencia:\\n{df_prot_ligs.index[:2]}')\n",
    "second_ref_name = '1pme'"
   ]
  },
  {
   "cell_type": "code",
   "execution_count": 95,
   "metadata": {},
   "outputs": [
    {
     "data": {
      "text/plain": [
       "'ATP'"
      ]
     },
     "execution_count": 95,
     "metadata": {},
     "output_type": "execute_result"
    }
   ],
   "source": [
    "df_prot_ligs.loc[first_ref_name].NameLigs[0]"
   ]
  },
  {
   "cell_type": "code",
   "execution_count": 104,
   "metadata": {},
   "outputs": [
    {
     "name": "stderr",
     "output_type": "stream",
     "text": [
      "@> PDB file is found in working directory (1gol.pdb.gz).\n",
      "@> 3012 atoms and 1 coordinate set(s) were parsed in 0.04s.\n"
     ]
    },
    {
     "data": {
      "text/plain": [
       "array([ 27,  28,  29,  30,  35,  47,  48,  49,  50, 101, 102, 103, 104,\n",
       "       105, 106, 107, 149, 150, 152, 163])"
      ]
     },
     "execution_count": 104,
     "metadata": {},
     "output_type": "execute_result"
    }
   ],
   "source": [
    "cutoff = 7\n",
    "first_ref_name = '1gol'\n",
    "ligand_name = df_prot_ligs.loc[first_ref_name].NameLigs[0]\n",
    "\n",
    "# Obtenemos la estructura\n",
    "first_ref_strc = parsePDB(first_ref_name)\n",
    "# Selecion de los residuos a 5 agstroms del ligando en la cavidad\n",
    "selected_residues = first_ref_strc.select(F'within {cutoff} of resname {ligand_name} and name CA')\n",
    "# Obtenemos la secuencia de los residuos\n",
    "selected_residues.getResindices()"
   ]
  },
  {
   "cell_type": "markdown",
   "metadata": {},
   "source": [
    "Esta selección debe corroborarse de forma visual, asegurándonos que la molécula sea un inhibidor a sustrato en el sitio de interés de la proteína. Pra ello se puede usar UCSF Chimera, o, en este caso nglviewer:"
   ]
  },
  {
   "cell_type": "code",
   "execution_count": 150,
   "metadata": {},
   "outputs": [
    {
     "data": {
      "text/plain": [
       "<Selection: 'within 7 of res...ATP and name CA' from 1gol (20 atoms)>"
      ]
     },
     "execution_count": 150,
     "metadata": {},
     "output_type": "execute_result"
    }
   ],
   "source": [
    "selected_residues.ge"
   ]
  },
  {
   "cell_type": "code",
   "execution_count": 149,
   "metadata": {},
   "outputs": [
    {
     "data": {
      "application/vnd.jupyter.widget-view+json": {
       "model_id": "e01ef2372a7a467283ce602130cd0f7c",
       "version_major": 2,
       "version_minor": 0
      },
      "text/plain": [
       "NGLWidget()"
      ]
     },
     "metadata": {},
     "output_type": "display_data"
    }
   ],
   "source": [
    "import nglview as nv\n",
    "view = nv.show_prody(first_ref_strc)\n",
    "view.clear_representations()\n",
    "view.add_representation('cartoon', selection='protein', color='gray',\n",
    "                       opacity=0.1)\n",
    "view.add_representation('licorice',\n",
    "                       selection = 'ATP',\n",
    "                       color='red')\n",
    "view"
   ]
  },
  {
   "cell_type": "code",
   "execution_count": 6,
   "metadata": {},
   "outputs": [
    {
     "name": "stdout",
     "output_type": "stream",
     "text": [
      "40 residuos corresponden a los que definen al pocket de la proteína CDK2.\n",
      "8 9 10 11 12 13 14 15 16 17 18 19 30 31 32 33 64 65 79 80 81 82 83 84 85 86 87 88 89 90 129 130 131 132 133 134 143 144 145 146\n"
     ]
    }
   ],
   "source": [
    "from Funciones.subsecuencias_cdk2 import get_ricci_residues\n",
    "ricci_residues = get_ricci_residues('str')\n",
    "print(len(get_ricci_residues('list')), \n",
    "      \"residuos corresponden a los que definen al pocket de la proteína CDK2.\")\n",
    "print(ricci_residues)"
   ]
  },
  {
   "cell_type": "code",
   "execution_count": 15,
   "metadata": {},
   "outputs": [
    {
     "name": "stderr",
     "output_type": "stream",
     "text": [
      "@> 4848 atoms and 1 coordinate set(s) were parsed in 0.08s.\n"
     ]
    }
   ],
   "source": [
    "# Estructura de referencia con hidrógenos, la obtenemos del ensamble\n",
    "pdbs_model_dir = \"../ARCHIVOS/CRISTALES/PROT_CDK2_PREPARADAS/PREP_ALL_ENSAMBLE/\"\n",
    "ref_id = '1fin'\n",
    "pdb_file_tail = \"_ENS.pdb\"\n",
    "# Cargamos el archivo de referencia\n",
    "ref_structure = parsePDB(pdbs_model_dir + ref_id + pdb_file_tail)\n",
    "ref_structure.setChids(\"A\")"
   ]
  },
  {
   "cell_type": "code",
   "execution_count": 16,
   "metadata": {},
   "outputs": [
    {
     "name": "stdout",
     "output_type": "stream",
     "text": [
      "Centro de la estructura completa: [-20.114 214.997 119.258]\n",
      "Centro de los Ca del pocket: [-12.5263   206.416975 113.78675 ]\n"
     ]
    }
   ],
   "source": [
    "# COMENTADO PORQUE EVITO CONFUNDIRME CON MÄS ESTRUCTURAS: moveAtoms(ref_structure.select('ca resnum ' + ricci_residues ), to=np.zeros(3))\n",
    "# Cálculo del centro total de la proteína de referencia\n",
    "centro_strc_total = calcCenter(ref_structure).round(3)\n",
    "# Definimos los átomos del pocket\n",
    "pocket = ref_structure.select(\"ca resnum \" + ricci_residues)\n",
    "centro_pocket = calcCenter(pocket)\n",
    "print(\"Centro de la estructura completa:\", centro_strc_total)\n",
    "print(\"Centro de los Ca del pocket:\", centro_pocket)"
   ]
  },
  {
   "cell_type": "code",
   "execution_count": 29,
   "metadata": {},
   "outputs": [],
   "source": [
    "def get_pocket_ligand(pdb_id, ref_structure,\n",
    "                         PROT_DIR_in = pdbs_model_dir, \n",
    "                         RAW_LIG_DIR= \"../ARCHIVOS/CRISTALES/LIGS_CDK2/RAW/\",\n",
    "                         #PROT_DIR_out = \"../PDB_CDK2_DOCKING/CDK2_PROT_ALIGNED\",\n",
    "                         PREP_LIG_DIR_out= \"../ARCHIVOS/CRISTALES/LIGS_CDK2/IN_POCKET_NON_PREP/\",\n",
    "                         zona = 2.0, tail_file_pdb_prot = \"_ENS.pdb\",\n",
    "                         pocket_residues = get_ricci_residues(),\n",
    "                         write_files = True):\n",
    "\n",
    "    # Se carga el ligando en CRUDO usando Prody\n",
    "    try:\n",
    "        lig = parsePDB(RAW_LIG_DIR + \"/\" + pdb_id  + \"_lig.pdb\")\n",
    "        # print(\"Número de ligandos\", len( np.unique(lig.getResnums() )) )\n",
    "    except Exception as e:\n",
    "        print(e, \"La proteina\", pdb_id, \"NO TIENE LIGANDO.\")\n",
    "        return(None, None)\n",
    "\n",
    "    # Se carga la proteína usando los residuos que definen el pocket de la proteína\n",
    "    protein = parsePDB(PROT_DIR_in + \"/\" + pdb_id + tail_file_pdb_prot)\n",
    "    protein_pocket = protein.select(\"resid \" + pocket_residues)\n",
    "\n",
    "    # Se seleccionan los ligandos (RESIDUOS no protéicos) que estén a no más de X A\n",
    "    # de cualquier átomo de los residuos del pocket de la proteína\n",
    "    lig_sel = lig.select('within ' + str(zona) + ' of inhibitor', inhibitor = protein_pocket)\n",
    "    if lig_sel is None:\n",
    "        print(\"La proteina\", pdb_id, \"no tiene ligando en el pocket.\")\n",
    "        return(None, None)\n",
    "\n",
    "    # Se obtine la lista de moléculas que cumplen el criterio anterior\n",
    "    inhibidor_list = np.unique( lig_sel.getResnums() )\n",
    "    print(lig_sel.getResnums())\n",
    "    \n",
    "    # Calcula los centros geométricos de cada molécula\n",
    "    prot_pocket_center = calcCenter(protein_pocket).round(3)\n",
    "    \n",
    "    # Puede que haya más de una molécula en el pocket (debido a presencia de iones o moléculas pequeñas)\n",
    "    # Se itera entre cada molecula del ligando, se calcula su masa y se mantiene el ligando con mayor masa \n",
    "    masa_lig = 1\n",
    "    final_lig = \"\"\n",
    "\n",
    "    for i in inhibidor_list:\n",
    "            mol = lig.select(\"resnum \" + str(i))\n",
    "            masa = mol.getMasses().sum()\n",
    "            print(masa)\n",
    "            if masa == masa_lig:\n",
    "                dist_prot_m1 = calcDistance(prot_pocket_center, calcCenter(mol))\n",
    "                dist_prot_m2 = calcDistance(prot_pocket_center, calcCenter(final_lig))\n",
    "                if dist_prot_m1 < dist_prot_m2:\n",
    "                    masa_lig, final_lig = masa, mol\n",
    "                    continue\n",
    "            masa_lig, final_lig = (masa, mol) if masa > masa_lig else (masa_lig, final_lig)\n",
    "            \n",
    "    # Se extrae el nombre del ligando\n",
    "    name_lig = np.unique( final_lig.getResnames() )[0]\n",
    "    # print(name_lig, \" es el ligando, con una masa de \", masa_lig)\n",
    "    \n",
    "    # Se combinan proteína y ligando en una sola instancia, de tal manera que\n",
    "    # sea posible superponer las estructuras de la proteína de acuerdo a los residuos de su pocket\n",
    "    # y esto afcete la psoición del ligando\n",
    "    complejo_PL = protein + final_lig.toAtomGroup()\n",
    "\n",
    "    # Se hace el alineamiento con los residuos de Pisani y la estructura de referencia\n",
    "    # matchAlign(complejo_PL, ref_structure, tarsel= \"ca resnum \" + ricci_residues())\n",
    "\n",
    "    # Se guarda el ligando sólo si su masa es igual o mayor a la de una molécula de benceno: 78,11\n",
    "    # si el ligando aparece 2 veces cerca del pocket, se elige la molécula más cercana al\n",
    "    # centro geométrico del pocket\n",
    "    if final_lig.getMasses().sum() >= 70:\n",
    "        if write_files:\n",
    "            # Se guardan ligando y proteína alineados según la estructura de referencia\n",
    "            # Ligando\n",
    "            writePDB( PREP_LIG_DIR_out+ \"/\" + pdb_id + \"_\" + name_lig + \"_LIG.pdb\", \n",
    "                     complejo_PL.select(\"resname \" + name_lig) )\n",
    "            \n",
    "           # writePDB( PROT_DIR_out + \"/\" + pdb_id + \"_\" + name_lig + \"_PROT.pdb\", \n",
    "           #          complejo_PL.select(\"protein\") )\n",
    "        return(name_lig, masa_lig)\n",
    "    \n",
    "    else: \n",
    "        print(\"La proteina\", pdb_id, \"NO TIENE LIGANDO (masa => 80.0).\")\n",
    "        return(None, None)"
   ]
  },
  {
   "cell_type": "code",
   "execution_count": null,
   "metadata": {},
   "outputs": [],
   "source": []
  },
  {
   "cell_type": "code",
   "execution_count": 30,
   "metadata": {},
   "outputs": [
    {
     "name": "stderr",
     "output_type": "stream",
     "text": [
      "@> 35 atoms and 1 coordinate set(s) were parsed in 0.00s.\n",
      "@> 4848 atoms and 1 coordinate set(s) were parsed in 0.17s.\n",
      "@> 35 atoms and 1 coordinate set(s) were parsed in 0.00s.\n",
      "@> 4848 atoms and 1 coordinate set(s) were parsed in 0.08s.\n",
      "@> 35 atoms and 1 coordinate set(s) were parsed in 0.00s.\n"
     ]
    },
    {
     "name": "stdout",
     "output_type": "stream",
     "text": [
      "[299 299 299 299 299 299 299 299 299 299 299 299 299 299 299 299 299]\n",
      "440.0\n",
      "[382 381 381 381 381 381 381 381 381 381 381 381 381 381 381 381 381 381\n",
      " 381 381 381 381 381 381]\n",
      "398.0\n",
      "0.0\n"
     ]
    },
    {
     "name": "stderr",
     "output_type": "stream",
     "text": [
      "@> 4848 atoms and 1 coordinate set(s) were parsed in 0.08s.\n",
      "@> 22 atoms and 1 coordinate set(s) were parsed in 0.00s.\n",
      "@> 4848 atoms and 1 coordinate set(s) were parsed in 0.07s.\n",
      "@> 22 atoms and 1 coordinate set(s) were parsed in 0.00s.\n",
      "@> 4848 atoms and 1 coordinate set(s) were parsed in 0.07s.\n"
     ]
    },
    {
     "name": "stdout",
     "output_type": "stream",
     "text": [
      "[382 381 381 381 381 381 381 381 381 381 381 381 381 381 381 381 381 381\n",
      " 381 381 381 381 381 381]\n",
      "398.0\n",
      "0.0\n",
      "../ARCHIVOS/CRISTALES/LIGS_CDK2/RAW//1buh_lig.pdb is not a valid filename or a valid PDB identifier. La proteina 1buh NO TIENE LIGANDO.\n",
      "[299 299 299 299 299 299 299 299 299 299 299 299 300 300 300]\n",
      "214.0\n",
      "56.0\n",
      "[500 500 500 500 500 500 500 500 500 500 500 500 500 500 500]\n",
      "282.0\n"
     ]
    },
    {
     "name": "stderr",
     "output_type": "stream",
     "text": [
      "@> 35 atoms and 1 coordinate set(s) were parsed in 0.00s.\n",
      "@> 4848 atoms and 1 coordinate set(s) were parsed in 0.05s.\n",
      "@> 21 atoms and 1 coordinate set(s) were parsed in 0.00s.\n",
      "@> 4848 atoms and 1 coordinate set(s) were parsed in 0.05s.\n",
      "@> 21 atoms and 1 coordinate set(s) were parsed in 0.00s.\n",
      "@> 4848 atoms and 1 coordinate set(s) were parsed in 0.07s.\n",
      "@> 24 atoms and 1 coordinate set(s) were parsed in 0.00s.\n"
     ]
    },
    {
     "name": "stdout",
     "output_type": "stream",
     "text": [
      "[400 400 400 400 400 400 400 400 400 400 400 400 401 401 401]\n",
      "234.0\n",
      "56.0\n",
      "[401 401 401 401 401 401 401 401 401 401 401]\n",
      "230.0\n",
      "[401 401 401 401 401 401 401 401 401 401 401]\n",
      "234.0\n"
     ]
    },
    {
     "name": "stderr",
     "output_type": "stream",
     "text": [
      "@> 4848 atoms and 1 coordinate set(s) were parsed in 0.06s.\n",
      "@> 1 atoms and 1 coordinate set(s) were parsed in 0.00s.\n",
      "@> 4848 atoms and 1 coordinate set(s) were parsed in 0.06s.\n",
      "@> 31 atoms and 1 coordinate set(s) were parsed in 0.00s.\n",
      "@> 4848 atoms and 1 coordinate set(s) were parsed in 0.05s.\n",
      "@> 32 atoms and 1 coordinate set(s) were parsed in 0.00s.\n"
     ]
    },
    {
     "name": "stdout",
     "output_type": "stream",
     "text": [
      "[1298 1298 1298 1298 1298 1298 1298 1298 1298 1298 1298 1298 1298 1298\n",
      " 1298 1298 1298 1298 1298]\n",
      "332.0\n",
      "La proteina 1f5q no tiene ligando en el pocket.\n",
      "[299 299 299 299 299 299 299 299 299 299 299]\n",
      "398.0\n"
     ]
    },
    {
     "name": "stderr",
     "output_type": "stream",
     "text": [
      "@> 4848 atoms and 1 coordinate set(s) were parsed in 0.07s.\n",
      "@> 23 atoms and 1 coordinate set(s) were parsed in 0.00s.\n",
      "@> 4848 atoms and 1 coordinate set(s) were parsed in 0.05s.\n",
      "@> 31 atoms and 1 coordinate set(s) were parsed in 0.00s.\n",
      "@> 4848 atoms and 1 coordinate set(s) were parsed in 0.05s.\n",
      "@> 30 atoms and 1 coordinate set(s) were parsed in 0.00s.\n"
     ]
    },
    {
     "name": "stdout",
     "output_type": "stream",
     "text": [
      "[383 381 381 381 381 381 381 381 381 381 381 381 381 381 381 381]\n",
      "398.0\n",
      "0.0\n",
      "[299 299 299 299 299 299 299 299 299 299 299 299]\n",
      "304.0\n",
      "[501 501 501 501 501 501 501 501 501 501 501 501 501 501 501 501 501 501\n",
      " 501]\n",
      "434.0\n"
     ]
    },
    {
     "name": "stderr",
     "output_type": "stream",
     "text": [
      "@> 4848 atoms and 1 coordinate set(s) were parsed in 0.07s.\n",
      "@> 23 atoms and 1 coordinate set(s) were parsed in 0.00s.\n",
      "@> 4848 atoms and 1 coordinate set(s) were parsed in 0.06s.\n",
      "@> 23 atoms and 1 coordinate set(s) were parsed in 0.00s.\n",
      "@> 4848 atoms and 1 coordinate set(s) were parsed in 0.05s.\n",
      "@> 27 atoms and 1 coordinate set(s) were parsed in 0.00s.\n"
     ]
    },
    {
     "name": "stdout",
     "output_type": "stream",
     "text": [
      "[400 400 400 400 400 400 400 400 400 400 400 400 400 400 400]\n",
      "374.0\n",
      "[501 501 501 501 501 501 501 501 501 501 501 501 501 501]\n",
      "292.0\n",
      "[501 501 501 501 501 501 501 501 501 501 501 501 501]\n",
      "292.0\n"
     ]
    },
    {
     "name": "stderr",
     "output_type": "stream",
     "text": [
      "@> 4848 atoms and 1 coordinate set(s) were parsed in 0.08s.\n",
      "@> 32 atoms and 1 coordinate set(s) were parsed in 0.00s.\n",
      "@> 4848 atoms and 1 coordinate set(s) were parsed in 0.05s.\n",
      "@> 25 atoms and 1 coordinate set(s) were parsed in 0.00s.\n",
      "@> 4848 atoms and 1 coordinate set(s) were parsed in 0.05s.\n",
      "@> 33 atoms and 1 coordinate set(s) were parsed in 0.00s.\n"
     ]
    },
    {
     "name": "stdout",
     "output_type": "stream",
     "text": [
      "[501 501 501 501 501 501 501 501 501 501 501 501 501 501 501]\n",
      "344.0\n",
      "[1297 1297 1297 1297 1297 1297 1297 1297 1297 1297 1297 1297 1297 1297\n",
      " 1297 1297 1298 1299 1299 1299]\n",
      "350.0\n",
      "0.0\n",
      "62.0\n",
      "[1300 1300 1300 1300 1300 1300 1300 1300 1300 1300 1300 1300 1300 1300]\n",
      "222.0\n"
     ]
    },
    {
     "name": "stderr",
     "output_type": "stream",
     "text": [
      "@> 4848 atoms and 1 coordinate set(s) were parsed in 0.07s.\n",
      "@> 54 atoms and 1 coordinate set(s) were parsed in 0.01s.\n",
      "@> 4848 atoms and 1 coordinate set(s) were parsed in 0.05s.\n",
      "@> 36 atoms and 1 coordinate set(s) were parsed in 0.00s.\n",
      "@> 4848 atoms and 1 coordinate set(s) were parsed in 0.05s.\n",
      "@> 38 atoms and 1 coordinate set(s) were parsed in 0.00s.\n"
     ]
    },
    {
     "name": "stdout",
     "output_type": "stream",
     "text": [
      "[1300 1300 1300 1300 1300 1300 1300 1300 1300 1300 1300 1300 1300 1300\n",
      " 1300 1300 1300 1300]\n",
      "354.0\n",
      "[ 33  33  33  33  33  33  33  33  33 299 299 299 299 300 300 300 300 301\n",
      " 301 301 301 301 301 301 301 301 301 301]\n",
      "160.0\n",
      "84.0\n",
      "84.0\n",
      "354.0\n",
      "[301 301 301 301 301 301 301 301 301 301 301 301 301 301 301 301 301]\n",
      "404.0\n"
     ]
    },
    {
     "name": "stderr",
     "output_type": "stream",
     "text": [
      "@> 4848 atoms and 1 coordinate set(s) were parsed in 0.09s.\n",
      "@> 18 atoms and 1 coordinate set(s) were parsed in 0.00s.\n",
      "@> 4848 atoms and 1 coordinate set(s) were parsed in 0.07s.\n",
      "@> 18 atoms and 1 coordinate set(s) were parsed in 0.00s.\n",
      "@> 4848 atoms and 1 coordinate set(s) were parsed in 0.05s.\n",
      "@> 18 atoms and 1 coordinate set(s) were parsed in 0.00s.\n"
     ]
    },
    {
     "name": "stdout",
     "output_type": "stream",
     "text": [
      "[299 299 299 299 299 299 299 299 299 299 299 299 299 299 299 299 299 299\n",
      " 299]\n",
      "354.0\n",
      "[1299 1299 1299 1299 1299 1299 1299 1299 1299 1299]\n",
      "236.0\n",
      "[1299 1299 1299 1299 1299 1299 1299 1299 1299 1299 1299 1299]\n",
      "228.0\n"
     ]
    },
    {
     "name": "stderr",
     "output_type": "stream",
     "text": [
      "@> 4848 atoms and 1 coordinate set(s) were parsed in 0.05s.\n",
      "@> 24 atoms and 1 coordinate set(s) were parsed in 0.00s.\n",
      "@> 4848 atoms and 1 coordinate set(s) were parsed in 0.06s.\n",
      "@> 25 atoms and 1 coordinate set(s) were parsed in 0.00s.\n",
      "@> 4848 atoms and 1 coordinate set(s) were parsed in 0.07s.\n"
     ]
    },
    {
     "name": "stdout",
     "output_type": "stream",
     "text": [
      "[1298 1298 1298 1298 1298 1298]\n",
      "230.0\n",
      "[1298 1298 1298 1298 1298 1298 1298 1298 1298 1298 1298 1298 1298 1298\n",
      " 1298 1298]\n",
      "302.0\n",
      "[1298 1298 1298 1298 1298 1298 1298 1298 1298 1298 1298]\n",
      "302.0\n"
     ]
    },
    {
     "name": "stderr",
     "output_type": "stream",
     "text": [
      "@> 28 atoms and 1 coordinate set(s) were parsed in 0.00s.\n",
      "@> 4848 atoms and 1 coordinate set(s) were parsed in 0.05s.\n",
      "@> 1 atoms and 1 coordinate set(s) were parsed in 0.00s.\n",
      "@> 4848 atoms and 1 coordinate set(s) were parsed in 0.07s.\n",
      "@> 1 atoms and 1 coordinate set(s) were parsed in 0.00s.\n",
      "@> 4848 atoms and 1 coordinate set(s) were parsed in 0.06s.\n",
      "@> 32 atoms and 1 coordinate set(s) were parsed in 0.00s.\n"
     ]
    },
    {
     "name": "stdout",
     "output_type": "stream",
     "text": [
      "[1298 1298 1298 1298 1298 1298 1298 1298 1298 1298 1298 1298 1298 1298]\n",
      "380.0\n",
      "../ARCHIVOS/CRISTALES/LIGS_CDK2/RAW//1h24_lig.pdb is not a valid filename or a valid PDB identifier. La proteina 1h24 NO TIENE LIGANDO.\n",
      "../ARCHIVOS/CRISTALES/LIGS_CDK2/RAW//1h25_lig.pdb is not a valid filename or a valid PDB identifier. La proteina 1h25 NO TIENE LIGANDO.\n",
      "La proteina 1h26 no tiene ligando en el pocket.\n",
      "[297]\n",
      "14.0\n",
      "La proteina 1h27 NO TIENE LIGANDO (masa => 80.0).\n",
      "../ARCHIVOS/CRISTALES/LIGS_CDK2/RAW//1h28_lig.pdb is not a valid filename or a valid PDB identifier. La proteina 1h28 NO TIENE LIGANDO.\n"
     ]
    },
    {
     "name": "stderr",
     "output_type": "stream",
     "text": [
      "@> 4848 atoms and 1 coordinate set(s) were parsed in 0.06s.\n",
      "@> 32 atoms and 1 coordinate set(s) were parsed in 0.00s.\n",
      "@> 4848 atoms and 1 coordinate set(s) were parsed in 0.06s.\n",
      "@> 19 atoms and 1 coordinate set(s) were parsed in 0.00s.\n",
      "@> 4848 atoms and 1 coordinate set(s) were parsed in 0.06s.\n",
      "@> 23 atoms and 1 coordinate set(s) were parsed in 0.00s.\n"
     ]
    },
    {
     "name": "stdout",
     "output_type": "stream",
     "text": [
      "[401 400 400 400 400 400 400 400 400 400 400 400 400 400 400 400 400 400\n",
      " 400 400 400 400 400 400 400]\n",
      "398.0\n",
      "0.0\n",
      "../ARCHIVOS/CRISTALES/LIGS_CDK2/RAW//1hcl_lig.pdb is not a valid filename or a valid PDB identifier. La proteina 1hcl NO TIENE LIGANDO.\n",
      "[299 300 300 300 300 300 300 300 300 300 300 300 300 300 300 300 300 300\n",
      " 300 300 300]\n",
      "0.0\n",
      "398.0\n",
      "[400 400 400 400 400 400 400 400 400 400 400]\n",
      "254.0\n",
      "../ARCHIVOS/CRISTALES/LIGS_CDK2/RAW//1jvp_lig.pdb is not a valid filename or a valid PDB identifier. La proteina 1jvp NO TIENE LIGANDO.\n"
     ]
    },
    {
     "name": "stderr",
     "output_type": "stream",
     "text": [
      "@> 4848 atoms and 1 coordinate set(s) were parsed in 0.09s.\n",
      "@> 27 atoms and 1 coordinate set(s) were parsed in 0.00s.\n",
      "@> 4848 atoms and 1 coordinate set(s) were parsed in 0.05s.\n",
      "@> 28 atoms and 1 coordinate set(s) were parsed in 0.00s.\n",
      "@> 4848 atoms and 1 coordinate set(s) were parsed in 0.04s.\n",
      "@> 27 atoms and 1 coordinate set(s) were parsed in 0.00s.\n"
     ]
    },
    {
     "name": "stdout",
     "output_type": "stream",
     "text": [
      "[299 299 299 299 299 299 299 299 299 299 299 299]\n",
      "314.0\n",
      "[299 299 299 299 299 299 299 299 299 299 299 299 299 299 299 299 299 299\n",
      " 299]\n",
      "386.0\n",
      "[299 299 299 299 299 299 299 299 299 299 299 299 299 299 299 299 299 299]\n",
      "378.0\n"
     ]
    },
    {
     "name": "stderr",
     "output_type": "stream",
     "text": [
      "@> 4848 atoms and 1 coordinate set(s) were parsed in 0.05s.\n",
      "@> 25 atoms and 1 coordinate set(s) were parsed in 0.00s.\n",
      "@> 4848 atoms and 1 coordinate set(s) were parsed in 0.07s.\n",
      "@> 27 atoms and 1 coordinate set(s) were parsed in 0.00s.\n",
      "@> 4848 atoms and 1 coordinate set(s) were parsed in 0.05s.\n"
     ]
    },
    {
     "name": "stdout",
     "output_type": "stream",
     "text": [
      "[299 299 299 299 299 299 299 299 299 299 299 299 299]\n",
      "384.0\n",
      "[299 299 299 299 299 299 299 299 299]\n",
      "342.0\n",
      "[1298 1298 1298 1298 1298 1298 1298 1298 1298 1298 1298 1298 1298]\n",
      "348.0\n"
     ]
    },
    {
     "name": "stderr",
     "output_type": "stream",
     "text": [
      "@> 25 atoms and 1 coordinate set(s) were parsed in 0.00s.\n",
      "@> 4848 atoms and 1 coordinate set(s) were parsed in 0.05s.\n",
      "@> 20 atoms and 1 coordinate set(s) were parsed in 0.00s.\n",
      "@> 4848 atoms and 1 coordinate set(s) were parsed in 0.06s.\n",
      "@> 43 atoms and 1 coordinate set(s) were parsed in 0.00s.\n",
      "@> 4848 atoms and 1 coordinate set(s) were parsed in 0.07s.\n"
     ]
    },
    {
     "name": "stdout",
     "output_type": "stream",
     "text": [
      "[1298 1298 1298 1298 1298 1298 1298 1298 1298 1298 1298 1298 1298 1298\n",
      " 1298]\n",
      "318.0\n",
      "[1299 1299 1299 1299 1299 1299 1299 1299 1299 1299 1299 1299]\n",
      "254.0\n",
      "[  33   33   33   33   33   33   33   33   33   33 1298 1298 1298 1298\n",
      " 1298 1298 1298 1298 1298 1298 1298 1298 1298 1298]\n",
      "160.0\n",
      "392.0\n"
     ]
    },
    {
     "name": "stderr",
     "output_type": "stream",
     "text": [
      "@> 26 atoms and 1 coordinate set(s) were parsed in 0.00s.\n",
      "@> 4848 atoms and 1 coordinate set(s) were parsed in 0.05s.\n",
      "@> 28 atoms and 1 coordinate set(s) were parsed in 0.00s.\n",
      "@> 4848 atoms and 1 coordinate set(s) were parsed in 0.05s.\n",
      "@> 27 atoms and 1 coordinate set(s) were parsed in 0.00s.\n",
      "@> 4848 atoms and 1 coordinate set(s) were parsed in 0.06s.\n",
      "@> 1 atoms and 1 coordinate set(s) were parsed in 0.00s.\n"
     ]
    },
    {
     "name": "stdout",
     "output_type": "stream",
     "text": [
      "[1299 1299 1299 1299 1299 1299 1299 1299 1299 1299 1299 1299 1299 1299\n",
      " 1299]\n",
      "352.0\n",
      "[1298 1298 1298 1298 1298 1298 1298 1298 1298 1298 1298 1298 1298 1298]\n",
      "380.0\n",
      "[1298 1298 1298 1298 1298 1298 1298 1298 1298 1298 1298 1298 1298 1298\n",
      " 1298 1298 1298]\n",
      "344.0\n"
     ]
    },
    {
     "name": "stderr",
     "output_type": "stream",
     "text": [
      "@> 4848 atoms and 1 coordinate set(s) were parsed in 0.06s.\n",
      "@> 23 atoms and 1 coordinate set(s) were parsed in 0.00s.\n",
      "@> 4848 atoms and 1 coordinate set(s) were parsed in 0.06s.\n",
      "@> 13 atoms and 1 coordinate set(s) were parsed in 0.00s.\n",
      "@> 4848 atoms and 1 coordinate set(s) were parsed in 0.05s.\n",
      "@> 18 atoms and 1 coordinate set(s) were parsed in 0.00s.\n"
     ]
    },
    {
     "name": "stdout",
     "output_type": "stream",
     "text": [
      "[296]\n",
      "14.0\n",
      "La proteina 1okv NO TIENE LIGANDO (masa => 80.0).\n",
      "../ARCHIVOS/CRISTALES/LIGS_CDK2/RAW//1okw_lig.pdb is not a valid filename or a valid PDB identifier. La proteina 1okw NO TIENE LIGANDO.\n",
      "../ARCHIVOS/CRISTALES/LIGS_CDK2/RAW//1ol1_lig.pdb is not a valid filename or a valid PDB identifier. La proteina 1ol1 NO TIENE LIGANDO.\n",
      "../ARCHIVOS/CRISTALES/LIGS_CDK2/RAW//1ol2_lig.pdb is not a valid filename or a valid PDB identifier. La proteina 1ol2 NO TIENE LIGANDO.\n",
      "[301 301 301 301 301 301 301 301 301 301 301 301 301 301 301]\n",
      "276.0\n",
      "[301 301 301 301 301 301 301 301 301]\n",
      "114.0\n"
     ]
    },
    {
     "name": "stderr",
     "output_type": "stream",
     "text": [
      "@> 4848 atoms and 1 coordinate set(s) were parsed in 0.05s.\n",
      "@> 36 atoms and 1 coordinate set(s) were parsed in 0.00s.\n",
      "@> 4848 atoms and 1 coordinate set(s) were parsed in 0.07s.\n",
      "@> 14 atoms and 1 coordinate set(s) were parsed in 0.00s.\n",
      "@> 4848 atoms and 1 coordinate set(s) were parsed in 0.05s.\n",
      "@> 14 atoms and 1 coordinate set(s) were parsed in 0.00s.\n"
     ]
    },
    {
     "name": "stdout",
     "output_type": "stream",
     "text": [
      "[500 500 500 500 500 500 500 500 500 500 500 500 500 500]\n",
      "230.0\n",
      "[410 410 410 410 410 410 410 410 410 410 410 410 410 410 410 410 410 410\n",
      " 410]\n",
      "456.0\n",
      "../ARCHIVOS/CRISTALES/LIGS_CDK2/RAW//1pw2_lig.pdb is not a valid filename or a valid PDB identifier. La proteina 1pw2 NO TIENE LIGANDO.\n",
      "[500 500 500 500 500 500 500 500]\n",
      "170.0\n"
     ]
    },
    {
     "name": "stderr",
     "output_type": "stream",
     "text": [
      "@> 4848 atoms and 1 coordinate set(s) were parsed in 0.06s.\n",
      "@> 17 atoms and 1 coordinate set(s) were parsed in 0.00s.\n",
      "@> 4848 atoms and 1 coordinate set(s) were parsed in 0.06s.\n",
      "@> 24 atoms and 1 coordinate set(s) were parsed in 0.00s.\n",
      "@> 4848 atoms and 1 coordinate set(s) were parsed in 0.05s.\n",
      "@> 21 atoms and 1 coordinate set(s) were parsed in 0.00s.\n"
     ]
    },
    {
     "name": "stdout",
     "output_type": "stream",
     "text": [
      "[500 500 500 500 500 500 500 500 500]\n",
      "196.0\n",
      "[500 500 500 500 500 500 500 500 500 500 500 500]\n",
      "238.0\n",
      "[500 500 500 500 500 500 500 500 500 500 500 500 500 500 500]\n",
      "280.0\n"
     ]
    },
    {
     "name": "stderr",
     "output_type": "stream",
     "text": [
      "@> 4848 atoms and 1 coordinate set(s) were parsed in 0.06s.\n",
      "@> 22 atoms and 1 coordinate set(s) were parsed in 0.00s.\n",
      "@> 4848 atoms and 1 coordinate set(s) were parsed in 0.11s.\n",
      "@> 14 atoms and 1 coordinate set(s) were parsed in 0.00s.\n"
     ]
    },
    {
     "name": "stdout",
     "output_type": "stream",
     "text": [
      "[500 500 500 500 500 500 500 500 500 500 500 500 500]\n",
      "284.0\n",
      "[500 500 500 500 500 500 500 500 500 500 500 500 500 500 500 500 500 500\n",
      " 500 500]\n",
      "298.0\n"
     ]
    },
    {
     "name": "stderr",
     "output_type": "stream",
     "text": [
      "@> 4848 atoms and 1 coordinate set(s) were parsed in 0.12s.\n",
      "@> 23 atoms and 1 coordinate set(s) were parsed in 0.00s.\n",
      "@> 4848 atoms and 1 coordinate set(s) were parsed in 0.06s.\n",
      "@> 28 atoms and 1 coordinate set(s) were parsed in 0.00s.\n",
      "@> 4848 atoms and 1 coordinate set(s) were parsed in 0.06s.\n"
     ]
    },
    {
     "name": "stdout",
     "output_type": "stream",
     "text": [
      "[500 500 500 500 500 500 500 500]\n",
      "198.0\n",
      "[500 500 500 500 500 500 500 500 500 500 500 500 500 500 500]\n",
      "306.0\n",
      "[700 700 700 700 700 700 700 700 700 700 700 700 700 700 700 700 700 700\n",
      " 700 700]\n",
      "326.0\n"
     ]
    },
    {
     "name": "stderr",
     "output_type": "stream",
     "text": [
      "@> 32 atoms and 1 coordinate set(s) were parsed in 0.00s.\n",
      "@> 4848 atoms and 1 coordinate set(s) were parsed in 0.14s.\n",
      "@> 28 atoms and 1 coordinate set(s) were parsed in 0.00s.\n",
      "@> 4848 atoms and 1 coordinate set(s) were parsed in 0.15s.\n",
      "@> 35 atoms and 1 coordinate set(s) were parsed in 0.00s.\n"
     ]
    },
    {
     "name": "stdout",
     "output_type": "stream",
     "text": [
      "[381 381 381 381 381 381 381 381 381 381 381 381 381 381 381 381 381 381\n",
      " 381 381 383]\n",
      "398.0\n",
      "0.0\n",
      "[299 299 299 299 299 299 299 299 299 299 299 299 299 299 299 299 299]\n",
      "346.0\n",
      "../ARCHIVOS/CRISTALES/LIGS_CDK2/RAW//1urc_lig.pdb is not a valid filename or a valid PDB identifier. La proteina 1urc NO TIENE LIGANDO.\n"
     ]
    },
    {
     "name": "stderr",
     "output_type": "stream",
     "text": [
      "@> 4848 atoms and 1 coordinate set(s) were parsed in 0.06s.\n",
      "@> 36 atoms and 1 coordinate set(s) were parsed in 0.00s.\n",
      "@> 4848 atoms and 1 coordinate set(s) were parsed in 0.06s.\n",
      "@> 27 atoms and 1 coordinate set(s) were parsed in 0.00s.\n",
      "@> 4848 atoms and 1 coordinate set(s) were parsed in 0.06s.\n",
      "@> 17 atoms and 1 coordinate set(s) were parsed in 0.00s.\n"
     ]
    },
    {
     "name": "stdout",
     "output_type": "stream",
     "text": [
      "[1300 1300 1300 1300 1300 1300 1300 1300 1300 1300 1300 1300 1300 1300]\n",
      "428.0\n",
      "[299 299 299 299 299 299 299 299 299 299 299 299 299 299 299]\n",
      "366.0\n",
      "[2300 2300 2300 2300 2300 2300 2300 2300 2300 2300 2300 2300]\n",
      "274.0\n"
     ]
    },
    {
     "name": "stderr",
     "output_type": "stream",
     "text": [
      "@> 4848 atoms and 1 coordinate set(s) were parsed in 0.08s.\n",
      "@> 25 atoms and 1 coordinate set(s) were parsed in 0.00s.\n",
      "@> 4848 atoms and 1 coordinate set(s) were parsed in 0.05s.\n",
      "@> 32 atoms and 1 coordinate set(s) were parsed in 0.00s.\n",
      "@> 4848 atoms and 1 coordinate set(s) were parsed in 0.05s.\n",
      "@> 8 atoms and 1 coordinate set(s) were parsed in 0.00s.\n"
     ]
    },
    {
     "name": "stdout",
     "output_type": "stream",
     "text": [
      "[300 300 300 300 300 300 300 300 300 300]\n",
      "214.0\n",
      "[1299 1299 1299 1299 1299 1299 1299 1299 1299 1299 1299 1299 1299 1299\n",
      " 1299 1299 1299]\n",
      "283.0\n",
      "[1301 1301 1301 1301 1301 1301 1301 1301 1301 1301 1301 1301]\n",
      "266.0\n",
      "../ARCHIVOS/CRISTALES/LIGS_CDK2/RAW//1w98_lig.pdb is not a valid filename or a valid PDB identifier. La proteina 1w98 NO TIENE LIGANDO.\n"
     ]
    },
    {
     "name": "stderr",
     "output_type": "stream",
     "text": [
      "@> 4848 atoms and 1 coordinate set(s) were parsed in 0.07s.\n",
      "@> 21 atoms and 1 coordinate set(s) were parsed in 0.00s.\n",
      "@> 4848 atoms and 1 coordinate set(s) were parsed in 0.05s.\n",
      "@> 33 atoms and 1 coordinate set(s) were parsed in 0.00s.\n",
      "@> 4848 atoms and 1 coordinate set(s) were parsed in 0.05s.\n",
      "@> 30 atoms and 1 coordinate set(s) were parsed in 0.00s.\n"
     ]
    },
    {
     "name": "stdout",
     "output_type": "stream",
     "text": [
      "[1299 1299 1299 1299 1299 1299 1299]\n",
      "90.0\n",
      "[401 401 401 401 401 401 401 401 401 401 401 401 401]\n",
      "276.0\n",
      "[401 401 401 401 401 401 401 401 401 401 401 401 401 401 401 401 401 401\n",
      " 401 401 401 401]\n",
      "438.0\n"
     ]
    },
    {
     "name": "stderr",
     "output_type": "stream",
     "text": [
      "@> 4848 atoms and 1 coordinate set(s) were parsed in 0.06s.\n",
      "@> 27 atoms and 1 coordinate set(s) were parsed in 0.00s.\n",
      "@> 4848 atoms and 1 coordinate set(s) were parsed in 0.05s.\n",
      "@> 26 atoms and 1 coordinate set(s) were parsed in 0.00s.\n",
      "@> 4848 atoms and 1 coordinate set(s) were parsed in 0.05s.\n",
      "@> 31 atoms and 1 coordinate set(s) were parsed in 0.00s.\n"
     ]
    },
    {
     "name": "stdout",
     "output_type": "stream",
     "text": [
      "[299 299 299 299 299 299 299 299 299 299 299 299 299 299 299 299 299 299\n",
      " 299 299 299 299]\n",
      "376.0\n",
      "[500 500 500 500 500 500 500 500 500 500 500 500 500 500 500 500 500]\n",
      "344.0\n",
      "[300 300 300 300 300 300 300 300 300 300 300 300]\n",
      "328.0\n"
     ]
    },
    {
     "name": "stderr",
     "output_type": "stream",
     "text": [
      "@> 4848 atoms and 1 coordinate set(s) were parsed in 0.07s.\n",
      "@> 26 atoms and 1 coordinate set(s) were parsed in 0.00s.\n",
      "@> 4848 atoms and 1 coordinate set(s) were parsed in 0.06s.\n",
      "@> 30 atoms and 1 coordinate set(s) were parsed in 0.00s.\n",
      "@> 4848 atoms and 1 coordinate set(s) were parsed in 0.05s.\n",
      "@> 31 atoms and 1 coordinate set(s) were parsed in 0.00s.\n"
     ]
    },
    {
     "name": "stdout",
     "output_type": "stream",
     "text": [
      "[299 299 299 299 299 299 299 299 299 299 299 299 299 299 299 299 299 299\n",
      " 299 299 299 299]\n",
      "414.0\n",
      "[299 299 299 299 299 299 299 299]\n",
      "284.0\n",
      "[300 300 300 300 300 300 300 300 300 300 300 300 300 300 300]\n",
      "344.0\n"
     ]
    },
    {
     "name": "stderr",
     "output_type": "stream",
     "text": [
      "@> 4848 atoms and 1 coordinate set(s) were parsed in 0.06s.\n",
      "@> 21 atoms and 1 coordinate set(s) were parsed in 0.00s.\n",
      "@> 4848 atoms and 1 coordinate set(s) were parsed in 0.05s.\n",
      "@> 31 atoms and 1 coordinate set(s) were parsed in 0.00s.\n",
      "@> 4848 atoms and 1 coordinate set(s) were parsed in 0.05s.\n",
      "@> 30 atoms and 1 coordinate set(s) were parsed in 0.00s.\n"
     ]
    },
    {
     "name": "stdout",
     "output_type": "stream",
     "text": [
      "[299 299 299 299 299 299 299 299 299 299 299 299 299 299 299]\n",
      "390.0\n",
      "[1299 1299 1299 1299 1299 1299 1299 1299 1299 1299 1299]\n",
      "252.0\n",
      "[1299 1299 1299 1299 1299 1299 1299 1299 1299 1299 1299 1299 1299 1299\n",
      " 1299 1299 1299 1299 1299 1299]\n",
      "418.0\n"
     ]
    },
    {
     "name": "stderr",
     "output_type": "stream",
     "text": [
      "@> 4848 atoms and 1 coordinate set(s) were parsed in 0.06s.\n",
      "@> 30 atoms and 1 coordinate set(s) were parsed in 0.00s.\n",
      "@> 4848 atoms and 1 coordinate set(s) were parsed in 0.04s.\n",
      "@> 18 atoms and 1 coordinate set(s) were parsed in 0.00s.\n",
      "@> 4848 atoms and 1 coordinate set(s) were parsed in 0.05s.\n",
      "@> 19 atoms and 1 coordinate set(s) were parsed in 0.00s.\n"
     ]
    },
    {
     "name": "stdout",
     "output_type": "stream",
     "text": [
      "[1299 1299 1299 1299 1299 1299 1299 1299 1299 1299 1299 1299 1299 1299\n",
      " 1299 1299 1299]\n",
      "344.0\n",
      "[1299 1299 1299 1299 1299 1299 1299 1299 1299 1299 1299 1299]\n",
      "318.0\n",
      "[300 300 300 300 300 300 300 300 300 300]\n",
      "246.0\n"
     ]
    },
    {
     "name": "stderr",
     "output_type": "stream",
     "text": [
      "@> 4848 atoms and 1 coordinate set(s) were parsed in 0.06s.\n",
      "@> 25 atoms and 1 coordinate set(s) were parsed in 0.00s.\n",
      "@> 4848 atoms and 1 coordinate set(s) were parsed in 0.05s.\n",
      "@> 23 atoms and 1 coordinate set(s) were parsed in 0.00s.\n",
      "@> 4848 atoms and 1 coordinate set(s) were parsed in 0.05s.\n",
      "@> 14 atoms and 1 coordinate set(s) were parsed in 0.00s.\n"
     ]
    },
    {
     "name": "stdout",
     "output_type": "stream",
     "text": [
      "[1299 1299 1299 1299 1299 1299 1299 1299 1299 1299]\n",
      "282.0\n",
      "[306 306 306 306 306 306 306 306 306 306 306 306 306 306 306]\n",
      "256.0\n",
      "[1297 1297 1297 1297 1297 1297 1297 1297 1297 1297 1297]\n",
      "306.0\n"
     ]
    },
    {
     "name": "stderr",
     "output_type": "stream",
     "text": [
      "@> 4848 atoms and 1 coordinate set(s) were parsed in 0.06s.\n",
      "@> 24 atoms and 1 coordinate set(s) were parsed in 0.00s.\n",
      "@> 4848 atoms and 1 coordinate set(s) were parsed in 0.05s.\n",
      "@> 28 atoms and 1 coordinate set(s) were parsed in 0.00s.\n",
      "@> 4848 atoms and 1 coordinate set(s) were parsed in 0.05s.\n",
      "@> 28 atoms and 1 coordinate set(s) were parsed in 0.00s.\n"
     ]
    },
    {
     "name": "stdout",
     "output_type": "stream",
     "text": [
      "[1297 1297 1297 1297 1297 1297 1297 1297]\n",
      "196.0\n",
      "[1297 1297 1297 1297 1297 1297 1297 1297 1297 1297 1297 1297 1297 1297\n",
      " 1297 1297]\n",
      "280.0\n",
      "[1297 1297 1297 1297 1297 1297 1297 1297 1297 1297 1297 1297 1297 1297\n",
      " 1297]\n",
      "358.0\n"
     ]
    },
    {
     "name": "stderr",
     "output_type": "stream",
     "text": [
      "@> 4848 atoms and 1 coordinate set(s) were parsed in 0.06s.\n",
      "@> 24 atoms and 1 coordinate set(s) were parsed in 0.00s.\n",
      "@> 4848 atoms and 1 coordinate set(s) were parsed in 0.04s.\n",
      "@> 24 atoms and 1 coordinate set(s) were parsed in 0.00s.\n",
      "@> 4848 atoms and 1 coordinate set(s) were parsed in 0.05s.\n",
      "@> 28 atoms and 1 coordinate set(s) were parsed in 0.00s.\n"
     ]
    },
    {
     "name": "stdout",
     "output_type": "stream",
     "text": [
      "[1298 1298 1298 1298 1298 1298 1298 1298 1298 1298 1298 1298 1298 1298]\n",
      "358.0\n",
      "[1297 1297 1297 1297 1297 1297 1297 1297 1297 1297 1297 1297 1297 1297\n",
      " 1297 1297 1297 1297 1297 1297]\n",
      "286.0\n",
      "[1299 1299 1299 1299 1299 1299 1299 1299 1299 1299 1299 1299 1299 1299\n",
      " 1299]\n",
      "288.0\n"
     ]
    },
    {
     "name": "stderr",
     "output_type": "stream",
     "text": [
      "@> 4848 atoms and 1 coordinate set(s) were parsed in 0.07s.\n",
      "@> 27 atoms and 1 coordinate set(s) were parsed in 0.00s.\n",
      "@> 4848 atoms and 1 coordinate set(s) were parsed in 0.05s.\n",
      "@> 28 atoms and 1 coordinate set(s) were parsed in 0.00s.\n",
      "@> 4848 atoms and 1 coordinate set(s) were parsed in 0.04s.\n",
      "@> 27 atoms and 1 coordinate set(s) were parsed in 0.00s.\n"
     ]
    },
    {
     "name": "stdout",
     "output_type": "stream",
     "text": [
      "[1299 1299 1299 1299 1299 1299 1299 1299 1299 1299 1299 1299 1299 1299\n",
      " 1299 1299 1299]\n",
      "380.0\n",
      "[1299 1299 1299 1299 1299 1299 1299 1299 1299 1299 1299 1299 1299 1299\n",
      " 1299]\n",
      "366.0\n",
      "[1299 1299 1299 1299 1299 1299 1299 1299 1299 1299 1299 1299 1299 1299\n",
      " 1299 1299 1299]\n",
      "380.0\n"
     ]
    },
    {
     "name": "stderr",
     "output_type": "stream",
     "text": [
      "@> 4848 atoms and 1 coordinate set(s) were parsed in 0.08s.\n",
      "@> 28 atoms and 1 coordinate set(s) were parsed in 0.00s.\n",
      "@> 4848 atoms and 1 coordinate set(s) were parsed in 0.04s.\n",
      "@> 27 atoms and 1 coordinate set(s) were parsed in 0.00s.\n",
      "@> 4848 atoms and 1 coordinate set(s) were parsed in 0.05s.\n",
      "@> 48 atoms and 1 coordinate set(s) were parsed in 0.00s.\n"
     ]
    },
    {
     "name": "stdout",
     "output_type": "stream",
     "text": [
      "[1297 1297 1297 1297 1297 1297 1297 1297 1297 1297 1297 1297 1297 1297\n",
      " 1297 1297 1297 1297 1297]\n",
      "368.0\n",
      "[1297 1297 1297 1297 1297 1297 1297 1297 1297 1297 1297 1297 1297 1297\n",
      " 1297 1297 1297 1297]\n",
      "380.0\n",
      "[1297 1297 1297 1297 1297 1297 1297 1297 1297 1297 1297 1297 1297 1297]\n",
      "368.0\n"
     ]
    },
    {
     "name": "stderr",
     "output_type": "stream",
     "text": [
      "@> 4848 atoms and 1 coordinate set(s) were parsed in 0.07s.\n",
      "@> 32 atoms and 1 coordinate set(s) were parsed in 0.00s.\n",
      "@> 4848 atoms and 1 coordinate set(s) were parsed in 0.06s.\n",
      "@> 32 atoms and 1 coordinate set(s) were parsed in 0.00s.\n",
      "@> 4848 atoms and 1 coordinate set(s) were parsed in 0.05s.\n",
      "@> 16 atoms and 1 coordinate set(s) were parsed in 0.00s.\n"
     ]
    },
    {
     "name": "stdout",
     "output_type": "stream",
     "text": [
      "[1297 1297 1297 1297 1297 1297 1297 1297 1297 1297 1297 1297 1297 1297\n",
      " 1297]\n",
      "398.0\n",
      "[1297 1297 1297 1297 1297 1297 1297 1297 1297 1297 1297 1297 1297 1297\n",
      " 1297 1298]\n",
      "398.0\n",
      "0.0\n",
      "[1294 1294 1294 1294 1294 1294 1294 1294 1294 1294 1294 1294 1294 1294\n",
      " 1294 1294 1294 1294 1294 1294 1294]\n",
      "398.0\n"
     ]
    },
    {
     "name": "stderr",
     "output_type": "stream",
     "text": [
      "@> 4848 atoms and 1 coordinate set(s) were parsed in 0.06s.\n",
      "@> 30 atoms and 1 coordinate set(s) were parsed in 0.00s.\n",
      "@> 4848 atoms and 1 coordinate set(s) were parsed in 0.05s.\n",
      "@> 28 atoms and 1 coordinate set(s) were parsed in 0.00s.\n",
      "@> 4848 atoms and 1 coordinate set(s) were parsed in 0.04s.\n",
      "@> 15 atoms and 1 coordinate set(s) were parsed in 0.00s.\n"
     ]
    },
    {
     "name": "stdout",
     "output_type": "stream",
     "text": [
      "[1299 1299 1299 1299 1299 1299 1299 1299 1299 1299 1299 1299 1299]\n",
      "208.0\n",
      "[501 501 501 501 501 501 501 501 501 501 501 501 501 501]\n",
      "382.0\n",
      "[501 501 501 501 501 501 501 501 501 501 501 501 501 501 501]\n",
      "386.0\n"
     ]
    },
    {
     "name": "stderr",
     "output_type": "stream",
     "text": [
      "@> 4848 atoms and 1 coordinate set(s) were parsed in 0.06s.\n",
      "@> 30 atoms and 1 coordinate set(s) were parsed in 0.00s.\n",
      "@> 4848 atoms and 1 coordinate set(s) were parsed in 0.08s.\n",
      "@> 34 atoms and 1 coordinate set(s) were parsed in 0.00s.\n",
      "@> 4848 atoms and 1 coordinate set(s) were parsed in 0.04s.\n"
     ]
    },
    {
     "name": "stdout",
     "output_type": "stream",
     "text": [
      "[400 400 400 400 400 400 400 400 400]\n",
      "190.0\n",
      "[299 299 299 299 299 299 299 299 299 299 299 299 299 299 299 299 299 299]\n",
      "382.0\n",
      "[299 299 299 299 299 299 299 299 299 299 299 299 299 299 299 299 299]\n",
      "456.0\n"
     ]
    },
    {
     "name": "stderr",
     "output_type": "stream",
     "text": [
      "@> 31 atoms and 1 coordinate set(s) were parsed in 0.00s.\n",
      "@> 4848 atoms and 1 coordinate set(s) were parsed in 0.04s.\n",
      "@> 33 atoms and 1 coordinate set(s) were parsed in 0.00s.\n",
      "@> 4848 atoms and 1 coordinate set(s) were parsed in 0.05s.\n",
      "@> 28 atoms and 1 coordinate set(s) were parsed in 0.00s.\n",
      "@> 4848 atoms and 1 coordinate set(s) were parsed in 0.07s.\n",
      "@> 28 atoms and 1 coordinate set(s) were parsed in 0.00s.\n"
     ]
    },
    {
     "name": "stdout",
     "output_type": "stream",
     "text": [
      "[301 301 301 301 301 301 301 301 301 301 301 301 301 301 301 301 301]\n",
      "402.0\n",
      "[1296 1296 1296 1296 1296 1296 1296 1296 1296 1296 1296 1296 1296]\n",
      "404.0\n",
      "[1298 1298 1298 1298 1298 1298 1298 1298 1298 1298 1298 1298 1298 1298\n",
      " 1298]\n",
      "380.0\n"
     ]
    },
    {
     "name": "stderr",
     "output_type": "stream",
     "text": [
      "@> 4848 atoms and 1 coordinate set(s) were parsed in 0.05s.\n",
      "@> 22 atoms and 1 coordinate set(s) were parsed in 0.00s.\n",
      "@> 4848 atoms and 1 coordinate set(s) were parsed in 0.05s.\n",
      "@> 29 atoms and 1 coordinate set(s) were parsed in 0.00s.\n",
      "@> 4848 atoms and 1 coordinate set(s) were parsed in 0.05s.\n",
      "@> 30 atoms and 1 coordinate set(s) were parsed in 0.00s.\n"
     ]
    },
    {
     "name": "stdout",
     "output_type": "stream",
     "text": [
      "[1298 1298 1298 1298 1298 1298 1298 1298 1298 1298 1298 1298 1298 1298\n",
      " 1298]\n",
      "380.0\n",
      "[299 299 299 299 299 299 299 299 299 299 299]\n",
      "290.0\n",
      "../ARCHIVOS/CRISTALES/LIGS_CDK2/RAW//2jgz_lig.pdb is not a valid filename or a valid PDB identifier. La proteina 2jgz NO TIENE LIGANDO.\n",
      "[ 36 501 501 501 501 501 501 501 501 501 501 501 501 501 501 501 501 501]\n",
      "14.0\n",
      "286.0\n"
     ]
    },
    {
     "name": "stderr",
     "output_type": "stream",
     "text": [
      "@> 4848 atoms and 1 coordinate set(s) were parsed in 0.06s.\n",
      "@> 24 atoms and 1 coordinate set(s) were parsed in 0.00s.\n",
      "@> 4848 atoms and 1 coordinate set(s) were parsed in 0.05s.\n",
      "@> 36 atoms and 1 coordinate set(s) were parsed in 0.00s.\n",
      "@> 4848 atoms and 1 coordinate set(s) were parsed in 0.05s.\n",
      "@> 39 atoms and 1 coordinate set(s) were parsed in 0.00s.\n"
     ]
    },
    {
     "name": "stdout",
     "output_type": "stream",
     "text": [
      "[501 501 501 501 501 501 501 501 501 501 501 501 501 501 501 501]\n",
      "286.0\n",
      "[ 36 501 501 501 501 501 501 501 501 501 501 501 501]\n",
      "14.0\n",
      "226.0\n",
      "[ 36 501 501 501 501 501 501 501 501 501 501 501]\n",
      "14.0\n",
      "286.0\n"
     ]
    },
    {
     "name": "stderr",
     "output_type": "stream",
     "text": [
      "@> 4848 atoms and 1 coordinate set(s) were parsed in 0.06s.\n",
      "@> 39 atoms and 1 coordinate set(s) were parsed in 0.00s.\n",
      "@> 4848 atoms and 1 coordinate set(s) were parsed in 0.06s.\n",
      "@> 38 atoms and 1 coordinate set(s) were parsed in 0.00s.\n",
      "@> 4848 atoms and 1 coordinate set(s) were parsed in 0.06s.\n"
     ]
    },
    {
     "name": "stdout",
     "output_type": "stream",
     "text": [
      "[ 36 501 501 501 501 501 501 501 501 501 501 501]\n",
      "14.0\n",
      "286.0\n",
      "[501 501 501 501 501 501 501 501 501 501 501 501 501 501 501]\n",
      "286.0\n",
      "[501 501 501 501 501 501 501 501 501 501 501]\n",
      "286.0\n"
     ]
    },
    {
     "name": "stderr",
     "output_type": "stream",
     "text": [
      "@> 43 atoms and 1 coordinate set(s) were parsed in 0.00s.\n",
      "@> 4848 atoms and 1 coordinate set(s) were parsed in 0.06s.\n",
      "@> 39 atoms and 1 coordinate set(s) were parsed in 0.00s.\n",
      "@> 4848 atoms and 1 coordinate set(s) were parsed in 0.05s.\n",
      "@> 37 atoms and 1 coordinate set(s) were parsed in 0.00s.\n"
     ]
    },
    {
     "name": "stdout",
     "output_type": "stream",
     "text": [
      "[ 36 501 501 501 501 501 501 501 501 501 501 501 501 501 501 501 501 501\n",
      " 501]\n",
      "14.0\n",
      "326.0\n",
      "[501 501 501 501 501 501 501 501 501 501 501 501 501 501 501]\n",
      "322.0\n"
     ]
    },
    {
     "name": "stderr",
     "output_type": "stream",
     "text": [
      "@> 4848 atoms and 1 coordinate set(s) were parsed in 0.14s.\n",
      "@> 40 atoms and 1 coordinate set(s) were parsed in 0.00s.\n"
     ]
    },
    {
     "name": "stdout",
     "output_type": "stream",
     "text": [
      "[501 501 501 501 501 501 501 501 501 501 501 501 501 501 501 501 501 501\n",
      " 501 501]\n",
      "314.0\n"
     ]
    },
    {
     "name": "stderr",
     "output_type": "stream",
     "text": [
      "@> 4848 atoms and 1 coordinate set(s) were parsed in 0.25s.\n",
      "@> 40 atoms and 1 coordinate set(s) were parsed in 0.00s.\n",
      "@> 4848 atoms and 1 coordinate set(s) were parsed in 0.06s.\n",
      "@> 28 atoms and 1 coordinate set(s) were parsed in 0.00s.\n",
      "@> 4848 atoms and 1 coordinate set(s) were parsed in 0.05s.\n",
      "@> 32 atoms and 1 coordinate set(s) were parsed in 0.00s.\n"
     ]
    },
    {
     "name": "stdout",
     "output_type": "stream",
     "text": [
      "[ 36 501 501 501 501 501 501 501 501 501 501 501 501 501 501]\n",
      "14.0\n",
      "344.0\n",
      "[ 36 501 501 501 501 501 501 501 501 501 501 501 501 501 501 501 501]\n",
      "14.0\n",
      "314.0\n",
      "[ 36 501 501 501 501 501 501 501 501 501 501 501 501 501 501 501]\n",
      "14.0\n",
      "286.0\n"
     ]
    },
    {
     "name": "stderr",
     "output_type": "stream",
     "text": [
      "@> 4848 atoms and 1 coordinate set(s) were parsed in 0.07s.\n",
      "@> 26 atoms and 1 coordinate set(s) were parsed in 0.00s.\n",
      "@> 4848 atoms and 1 coordinate set(s) were parsed in 0.04s.\n",
      "@> 24 atoms and 1 coordinate set(s) were parsed in 0.00s.\n",
      "@> 4848 atoms and 1 coordinate set(s) were parsed in 0.05s.\n",
      "@> 23 atoms and 1 coordinate set(s) were parsed in 0.00s.\n"
     ]
    },
    {
     "name": "stdout",
     "output_type": "stream",
     "text": [
      "[500 500 500 500 500 500 500 500 500 500 500 500 500 500 500 500 500 500\n",
      " 500]\n",
      "426.0\n",
      "[1297 1297 1297 1297 1297 1297 1297 1297 1297 1297 1297 1297 1297 1297\n",
      " 1297 1297 1297 1297]\n",
      "348.0\n",
      "[1297 1297 1297 1297 1297 1297 1297 1297 1297 1297 1297 1297 1297 1297]\n",
      "350.0\n"
     ]
    },
    {
     "name": "stderr",
     "output_type": "stream",
     "text": [
      "@> 4848 atoms and 1 coordinate set(s) were parsed in 0.08s.\n",
      "@> 22 atoms and 1 coordinate set(s) were parsed in 0.00s.\n",
      "@> 4848 atoms and 1 coordinate set(s) were parsed in 0.05s.\n",
      "@> 28 atoms and 1 coordinate set(s) were parsed in 0.00s.\n",
      "@> 4848 atoms and 1 coordinate set(s) were parsed in 0.05s.\n",
      "@> 24 atoms and 1 coordinate set(s) were parsed in 0.00s.\n"
     ]
    },
    {
     "name": "stdout",
     "output_type": "stream",
     "text": [
      "[1297 1297 1297 1297 1297 1297 1297 1297 1297 1297 1297 1297 1297 1297]\n",
      "338.0\n",
      "[1297 1297 1297 1297 1297 1297 1297 1297 1297 1297 1297 1297 1297 1297\n",
      " 1297 1297 1297 1297]\n",
      "304.0\n",
      "[ 297 1297 1297 1297 1297 1297 1297 1297 1297 1297 1297 1297 1297 1297\n",
      " 1297]\n",
      "14.0\n",
      "350.0\n"
     ]
    },
    {
     "name": "stderr",
     "output_type": "stream",
     "text": [
      "@> 4848 atoms and 1 coordinate set(s) were parsed in 0.06s.\n",
      "@> 23 atoms and 1 coordinate set(s) were parsed in 0.00s.\n",
      "@> 4848 atoms and 1 coordinate set(s) were parsed in 0.05s.\n",
      "@> 15 atoms and 1 coordinate set(s) were parsed in 0.00s.\n",
      "@> 4848 atoms and 1 coordinate set(s) were parsed in 0.06s.\n",
      "@> 21 atoms and 1 coordinate set(s) were parsed in 0.00s.\n"
     ]
    },
    {
     "name": "stdout",
     "output_type": "stream",
     "text": [
      "[1299 1299 1299 1299 1299 1299 1299 1299 1299 1299 1299]\n",
      "350.0\n",
      "[1297 1297 1297 1297 1297 1297 1297 1297 1297 1297 1297 1297 1297]\n",
      "340.0\n",
      "[1299 1299 1299 1299 1299 1299 1299 1299 1299 1299 1299 1300]\n",
      "198.0\n",
      "0.0\n",
      "../ARCHIVOS/CRISTALES/LIGS_CDK2/RAW//2v22_lig.pdb is not a valid filename or a valid PDB identifier. La proteina 2v22 NO TIENE LIGANDO.\n"
     ]
    },
    {
     "name": "stderr",
     "output_type": "stream",
     "text": [
      "@> 4848 atoms and 1 coordinate set(s) were parsed in 0.08s.\n",
      "@> 21 atoms and 1 coordinate set(s) were parsed in 0.00s.\n",
      "@> 4848 atoms and 1 coordinate set(s) were parsed in 0.06s.\n",
      "@> 22 atoms and 1 coordinate set(s) were parsed in 0.00s.\n",
      "@> 4848 atoms and 1 coordinate set(s) were parsed in 0.05s.\n",
      "@> 24 atoms and 1 coordinate set(s) were parsed in 0.00s.\n"
     ]
    },
    {
     "name": "stdout",
     "output_type": "stream",
     "text": [
      "[1301 1301 1301 1301 1301 1301 1301]\n",
      "112.0\n",
      "[1300 1300 1300 1300 1300 1300 1300]\n",
      "214.0\n",
      "[1299 1299 1299 1299 1299 1299 1299 1299 1299 1299 1299 1299 1299]\n",
      "304.0\n"
     ]
    },
    {
     "name": "stderr",
     "output_type": "stream",
     "text": [
      "@> 4848 atoms and 1 coordinate set(s) were parsed in 0.05s.\n",
      "@> 14 atoms and 1 coordinate set(s) were parsed in 0.00s.\n",
      "@> 4848 atoms and 1 coordinate set(s) were parsed in 0.06s.\n",
      "@> 11 atoms and 1 coordinate set(s) were parsed in 0.00s.\n",
      "@> 4848 atoms and 1 coordinate set(s) were parsed in 0.04s.\n",
      "@> 19 atoms and 1 coordinate set(s) were parsed in 0.00s.\n"
     ]
    },
    {
     "name": "stdout",
     "output_type": "stream",
     "text": [
      "[1300 1300 1300 1300 1300 1300 1300 1300 1300 1300 1300]\n",
      "240.0\n",
      "[1299 1299 1299 1299 1299 1299 1299 1299 1299]\n",
      "178.0\n",
      "[1299 1299 1299 1299 1299 1299 1299 1299 1299 1299]\n",
      "140.0\n"
     ]
    },
    {
     "name": "stderr",
     "output_type": "stream",
     "text": [
      "@> 4848 atoms and 1 coordinate set(s) were parsed in 0.05s.\n",
      "@> 24 atoms and 1 coordinate set(s) were parsed in 0.00s.\n",
      "@> 4848 atoms and 1 coordinate set(s) were parsed in 0.06s.\n",
      "@> 26 atoms and 1 coordinate set(s) were parsed in 0.00s.\n",
      "@> 4848 atoms and 1 coordinate set(s) were parsed in 0.05s.\n",
      "@> 25 atoms and 1 coordinate set(s) were parsed in 0.00s.\n"
     ]
    },
    {
     "name": "stdout",
     "output_type": "stream",
     "text": [
      "[1299 1299 1299 1299 1299 1299 1299 1299 1299 1299]\n",
      "232.0\n",
      "[1299 1299 1299 1299 1299 1299 1299 1299 1299 1299 1299 1299]\n",
      "292.0\n",
      "[1299 1299 1299 1299 1299 1299 1299 1299 1299 1299 1299 1299 1299 1299\n",
      " 1299 1299 1299 1299 1299]\n",
      "292.0\n"
     ]
    },
    {
     "name": "stderr",
     "output_type": "stream",
     "text": [
      "@> 4848 atoms and 1 coordinate set(s) were parsed in 0.06s.\n",
      "@> 16 atoms and 1 coordinate set(s) were parsed in 0.00s.\n",
      "@> 4848 atoms and 1 coordinate set(s) were parsed in 0.06s.\n",
      "@> 23 atoms and 1 coordinate set(s) were parsed in 0.00s.\n",
      "@> 4848 atoms and 1 coordinate set(s) were parsed in 0.06s.\n",
      "@> 25 atoms and 1 coordinate set(s) were parsed in 0.00s.\n"
     ]
    },
    {
     "name": "stdout",
     "output_type": "stream",
     "text": [
      "[1299 1299 1299 1299 1299 1299 1299 1299 1299 1299 1299 1299 1299 1299\n",
      " 1299]\n",
      "294.0\n",
      "[1299 1299 1299 1299 1299 1299 1299 1299 1299 1299 1299]\n",
      "190.0\n",
      "[1299 1299 1299 1299 1299 1299 1299 1299 1299 1299 1299 1299 1299]\n",
      "290.0\n"
     ]
    },
    {
     "name": "stderr",
     "output_type": "stream",
     "text": [
      "@> 4848 atoms and 1 coordinate set(s) were parsed in 0.07s.\n",
      "@> 25 atoms and 1 coordinate set(s) were parsed in 0.00s.\n",
      "@> 4848 atoms and 1 coordinate set(s) were parsed in 0.06s.\n",
      "@> 35 atoms and 1 coordinate set(s) were parsed in 0.00s.\n",
      "@> 4848 atoms and 1 coordinate set(s) were parsed in 0.04s.\n",
      "@> 30 atoms and 1 coordinate set(s) were parsed in 0.00s.\n"
     ]
    },
    {
     "name": "stdout",
     "output_type": "stream",
     "text": [
      "[1299 1299 1299 1299 1299 1299 1299 1299 1299 1299 1299 1299 1299 1299\n",
      " 1299 1299 1299]\n",
      "294.0\n",
      "[1299 1299 1299 1299 1299 1299 1299 1299 1299 1299 1299 1299 1299 1299\n",
      " 1299]\n",
      "294.0\n",
      "[1300 1300 1300 1300 1300 1300 1300 1300 1300 1300 1300 1300 1300 1300\n",
      " 1300 1300 1300]\n",
      "406.0\n"
     ]
    },
    {
     "name": "stderr",
     "output_type": "stream",
     "text": [
      "@> 4848 atoms and 1 coordinate set(s) were parsed in 0.06s.\n",
      "@> 30 atoms and 1 coordinate set(s) were parsed in 0.00s.\n",
      "@> 4848 atoms and 1 coordinate set(s) were parsed in 0.08s.\n",
      "@> 40 atoms and 1 coordinate set(s) were parsed in 0.00s.\n",
      "@> 4848 atoms and 1 coordinate set(s) were parsed in 0.05s.\n"
     ]
    },
    {
     "name": "stdout",
     "output_type": "stream",
     "text": [
      "[1299 1299 1299 1299 1299 1299 1299 1299 1299 1299 1299 1299 1299 1299]\n",
      "404.0\n",
      "[1300 1300 1300 1300 1300 1300 1300 1300 1300 1300 1300 1300 1300 1300\n",
      " 1300]\n",
      "364.0\n",
      "[1300 1300 1300 1300 1300 1300 1300 1300 1300 1300 1300 1300 1300 1300\n",
      " 1300 1300 1300 1300 1300 1300]\n",
      "402.0\n"
     ]
    },
    {
     "name": "stderr",
     "output_type": "stream",
     "text": [
      "@> 23 atoms and 1 coordinate set(s) were parsed in 0.00s.\n",
      "@> 4848 atoms and 1 coordinate set(s) were parsed in 0.05s.\n",
      "@> 23 atoms and 1 coordinate set(s) were parsed in 0.00s.\n",
      "@> 4848 atoms and 1 coordinate set(s) were parsed in 0.06s.\n",
      "@> 1 atoms and 1 coordinate set(s) were parsed in 0.00s.\n",
      "@> 4848 atoms and 1 coordinate set(s) were parsed in 0.05s.\n",
      "@> 34 atoms and 1 coordinate set(s) were parsed in 0.00s.\n"
     ]
    },
    {
     "name": "stdout",
     "output_type": "stream",
     "text": [
      "[1299 1299 1299 1299 1299 1299 1299 1299 1299 1299 1299 1299 1299 1299]\n",
      "290.0\n",
      "[1297 1297 1297 1297 1297 1297 1297 1297 1297 1297 1297]\n",
      "316.0\n",
      "La proteina 2wfy no tiene ligando en el pocket.\n",
      "../ARCHIVOS/CRISTALES/LIGS_CDK2/RAW//2whb_lig.pdb is not a valid filename or a valid PDB identifier. La proteina 2whb NO TIENE LIGANDO.\n"
     ]
    },
    {
     "name": "stderr",
     "output_type": "stream",
     "text": [
      "@> 4848 atoms and 1 coordinate set(s) were parsed in 0.07s.\n",
      "@> 24 atoms and 1 coordinate set(s) were parsed in 0.00s.\n",
      "@> 4848 atoms and 1 coordinate set(s) were parsed in 0.05s.\n",
      "@> 31 atoms and 1 coordinate set(s) were parsed in 0.00s.\n",
      "@> 4848 atoms and 1 coordinate set(s) were parsed in 0.06s.\n",
      "@> 29 atoms and 1 coordinate set(s) were parsed in 0.00s.\n"
     ]
    },
    {
     "name": "stdout",
     "output_type": "stream",
     "text": [
      "[1299 1299 1299 1299 1299 1299 1299 1299 1299 1299 1299 1299 1299]\n",
      "428.0\n",
      "[1299 1299 1299 1299 1299 1299 1299 1299 1299 1299 1299 1299 1299 1299\n",
      " 1299 1299 1299 1299 1299]\n",
      "306.0\n",
      "../ARCHIVOS/CRISTALES/LIGS_CDK2/RAW//2wma_lig.pdb is not a valid filename or a valid PDB identifier. La proteina 2wma NO TIENE LIGANDO.\n",
      "../ARCHIVOS/CRISTALES/LIGS_CDK2/RAW//2wmb_lig.pdb is not a valid filename or a valid PDB identifier. La proteina 2wmb NO TIENE LIGANDO.\n",
      "[1301 1301 1301 1301 1301 1301 1301 1301 1301 1301 1301 1301 1301 1301\n",
      " 1301]\n",
      "330.0\n"
     ]
    },
    {
     "name": "stderr",
     "output_type": "stream",
     "text": [
      "@> 4848 atoms and 1 coordinate set(s) were parsed in 0.05s.\n",
      "@> 24 atoms and 1 coordinate set(s) were parsed in 0.00s.\n",
      "@> 4848 atoms and 1 coordinate set(s) were parsed in 0.05s.\n",
      "@> 29 atoms and 1 coordinate set(s) were parsed in 0.00s.\n",
      "@> 4848 atoms and 1 coordinate set(s) were parsed in 0.07s.\n",
      "@> 27 atoms and 1 coordinate set(s) were parsed in 0.00s.\n"
     ]
    },
    {
     "name": "stdout",
     "output_type": "stream",
     "text": [
      "[1299 1299 1299 1299 1299 1299 1299 1299 1299 1299 1299 1299 1299 1299\n",
      " 1299 1299]\n",
      "394.0\n",
      "[1297 1297 1297 1297 1297 1297 1297 1297 1297 1297 1297 1297 1297 1297]\n",
      "326.0\n",
      "[500 500 500 500 500 500 500 500 500 500 500 500 500 500 500 500 500 500\n",
      " 500 500]\n",
      "414.0\n"
     ]
    },
    {
     "name": "stderr",
     "output_type": "stream",
     "text": [
      "@> 4848 atoms and 1 coordinate set(s) were parsed in 0.05s.\n",
      "@> 18 atoms and 1 coordinate set(s) were parsed in 0.00s.\n",
      "@> 4848 atoms and 1 coordinate set(s) were parsed in 0.05s.\n",
      "@> 20 atoms and 1 coordinate set(s) were parsed in 0.00s.\n",
      "@> 4848 atoms and 1 coordinate set(s) were parsed in 0.07s.\n",
      "@> 22 atoms and 1 coordinate set(s) were parsed in 0.00s.\n"
     ]
    },
    {
     "name": "stdout",
     "output_type": "stream",
     "text": [
      "[1299 1299 1299 1299 1299 1299 1299 1299 1299 1299 1299 1299 1299 1299]\n",
      "360.0\n",
      "[299 299 299 299 299 299 299 299 299 299 299 299 299 299 299]\n",
      "230.0\n",
      "[299 299 299 299 299 299 299 299 299 299 299 299 299 299]\n",
      "254.0\n"
     ]
    },
    {
     "name": "stderr",
     "output_type": "stream",
     "text": [
      "@> 4848 atoms and 1 coordinate set(s) were parsed in 0.05s.\n",
      "@> 32 atoms and 1 coordinate set(s) were parsed in 0.00s.\n",
      "@> 4848 atoms and 1 coordinate set(s) were parsed in 0.05s.\n",
      "@> 26 atoms and 1 coordinate set(s) were parsed in 0.00s.\n",
      "@> 4848 atoms and 1 coordinate set(s) were parsed in 0.05s.\n",
      "@> 26 atoms and 1 coordinate set(s) were parsed in 0.00s.\n"
     ]
    },
    {
     "name": "stdout",
     "output_type": "stream",
     "text": [
      "[299 299 299 299 299 299 299 299 299 299 299 299 299 299 299]\n",
      "282.0\n",
      "[299 299 299 299 299 299 299 299 299 299 299 299 299 299 299 299]\n",
      "402.0\n",
      "[299 299 299 299 299 299 299 299 299 299 299 299 299 299]\n",
      "328.0\n"
     ]
    },
    {
     "name": "stderr",
     "output_type": "stream",
     "text": [
      "@> 4848 atoms and 1 coordinate set(s) were parsed in 0.05s.\n",
      "@> 36 atoms and 1 coordinate set(s) were parsed in 0.00s.\n",
      "@> 4848 atoms and 1 coordinate set(s) were parsed in 0.05s.\n",
      "@> 19 atoms and 1 coordinate set(s) were parsed in 0.00s.\n",
      "@> 4848 atoms and 1 coordinate set(s) were parsed in 0.07s.\n",
      "@> 29 atoms and 1 coordinate set(s) were parsed in 0.00s.\n"
     ]
    },
    {
     "name": "stdout",
     "output_type": "stream",
     "text": [
      "[299 299 299 299 299 299 299 299 299 299 299 299 299 299 299 299]\n",
      "328.0\n",
      "[299 299 299 299 299 299 299 299 299 299 299 299 299]\n",
      "460.0\n",
      "[299 299 299 299 299 299 299 299 299 299]\n",
      "240.0\n"
     ]
    },
    {
     "name": "stderr",
     "output_type": "stream",
     "text": [
      "@> 4848 atoms and 1 coordinate set(s) were parsed in 0.06s.\n",
      "@> 68 atoms and 1 coordinate set(s) were parsed in 0.01s.\n",
      "@> 4848 atoms and 1 coordinate set(s) were parsed in 0.05s.\n",
      "@> 32 atoms and 1 coordinate set(s) were parsed in 0.00s.\n",
      "@> 4848 atoms and 1 coordinate set(s) were parsed in 0.06s.\n",
      "@> 38 atoms and 1 coordinate set(s) were parsed in 0.00s.\n"
     ]
    },
    {
     "name": "stdout",
     "output_type": "stream",
     "text": [
      "[501 501 501 501 501 501 501 501 501 501 501 501 501 501 501 501]\n",
      "370.0\n",
      "[300 300 300 300 300 300 300 300 300 300 300 300 300 300 300 300 300 300\n",
      " 300 300 300 300 300]\n",
      "426.0\n",
      "[300 300 300 300 300 300 300 300 300 300 300 300 300 300 300 300 300 300]\n",
      "398.0\n"
     ]
    },
    {
     "name": "stderr",
     "output_type": "stream",
     "text": [
      "@> 4848 atoms and 1 coordinate set(s) were parsed in 0.06s.\n",
      "@> 19 atoms and 1 coordinate set(s) were parsed in 0.00s.\n",
      "@> 4848 atoms and 1 coordinate set(s) were parsed in 0.04s.\n",
      "@> 28 atoms and 1 coordinate set(s) were parsed in 0.00s.\n",
      "@> 4848 atoms and 1 coordinate set(s) were parsed in 0.05s.\n",
      "@> 25 atoms and 1 coordinate set(s) were parsed in 0.00s.\n"
     ]
    },
    {
     "name": "stdout",
     "output_type": "stream",
     "text": [
      "[299 299 300 300 300 300 300 300 300 300 300 300 300 300 300 300 300 300\n",
      " 300 300 300 300 300 300]\n",
      "84.0\n",
      "398.0\n",
      "[299 299 299 299 299 299 299 299 299 299 299 299]\n",
      "262.0\n",
      "[999 999 999 999 999 999 999 999 999 999 999 999 999 999 999 999]\n",
      "320.0\n"
     ]
    },
    {
     "name": "stderr",
     "output_type": "stream",
     "text": [
      "@> 4848 atoms and 1 coordinate set(s) were parsed in 0.05s.\n",
      "@> 25 atoms and 1 coordinate set(s) were parsed in 0.00s.\n",
      "@> 4848 atoms and 1 coordinate set(s) were parsed in 0.05s.\n",
      "@> 28 atoms and 1 coordinate set(s) were parsed in 0.00s.\n",
      "@> 4848 atoms and 1 coordinate set(s) were parsed in 0.06s.\n",
      "@> 23 atoms and 1 coordinate set(s) were parsed in 0.00s.\n"
     ]
    },
    {
     "name": "stdout",
     "output_type": "stream",
     "text": [
      "[999 999 999 999 999 999 999 999 999 999 999 999 999 999 999]\n",
      "282.0\n",
      "[299 299 299 299 299 299 299 299 299]\n",
      "306.0\n",
      "[299 299 299 299 299 299 299 299 299 299 299 299 299 299 299 299 299 299\n",
      " 299 299]\n",
      "350.0\n"
     ]
    },
    {
     "name": "stderr",
     "output_type": "stream",
     "text": [
      "@> 4848 atoms and 1 coordinate set(s) were parsed in 0.06s.\n",
      "@> 22 atoms and 1 coordinate set(s) were parsed in 0.00s.\n",
      "@> 4848 atoms and 1 coordinate set(s) were parsed in 0.05s.\n",
      "@> 23 atoms and 1 coordinate set(s) were parsed in 0.00s.\n",
      "@> 4848 atoms and 1 coordinate set(s) were parsed in 0.06s.\n",
      "@> 28 atoms and 1 coordinate set(s) were parsed in 0.00s.\n"
     ]
    },
    {
     "name": "stdout",
     "output_type": "stream",
     "text": [
      "[299 299 299 299 299 299 299 299 299 299 299 299 299]\n",
      "262.0\n",
      "[299 299 299 299 299 299 299 299 299 299 299 299]\n",
      "262.0\n",
      "[300 300 300 300 300 300 300 300 300 300]\n",
      "236.0\n"
     ]
    },
    {
     "name": "stderr",
     "output_type": "stream",
     "text": [
      "@> 4848 atoms and 1 coordinate set(s) were parsed in 0.08s.\n",
      "@> 26 atoms and 1 coordinate set(s) were parsed in 0.00s.\n",
      "@> 4848 atoms and 1 coordinate set(s) were parsed in 0.04s.\n",
      "@> 62 atoms and 1 coordinate set(s) were parsed in 0.02s.\n",
      "@> 4848 atoms and 1 coordinate set(s) were parsed in 0.07s.\n"
     ]
    },
    {
     "name": "stdout",
     "output_type": "stream",
     "text": [
      "[0 0 0 0 0 0 0 0 0 0 0 0 0 0 0]\n",
      "358.0\n",
      "[299 299 299 299 299 299 299 299 299 299 299 299 299]\n",
      "328.0\n",
      "[299 305 305 305 305 305 305 305]\n",
      "56.0\n",
      "286.0\n"
     ]
    },
    {
     "name": "stderr",
     "output_type": "stream",
     "text": [
      "@> 67 atoms and 1 coordinate set(s) were parsed in 0.01s.\n",
      "@> 4848 atoms and 1 coordinate set(s) were parsed in 0.05s.\n",
      "@> 4 atoms and 1 coordinate set(s) were parsed in 0.00s.\n",
      "@> 4848 atoms and 1 coordinate set(s) were parsed in 0.05s.\n",
      "@> 22 atoms and 1 coordinate set(s) were parsed in 0.00s.\n",
      "@> 4848 atoms and 1 coordinate set(s) were parsed in 0.06s.\n",
      "@> 59 atoms and 1 coordinate set(s) were parsed in 0.02s.\n"
     ]
    },
    {
     "name": "stdout",
     "output_type": "stream",
     "text": [
      "[300 300 300 300 300 300 300 300 300 300 300 300 300 300 300 300 302 302\n",
      " 302 302 302 302 302]\n",
      "286.0\n",
      "286.0\n",
      "La proteina 3pxr no tiene ligando en el pocket.\n",
      "[299 299 299 299 299 299 299 299 299 299 299 299 299 300 300 300 300 300]\n",
      "222.0\n",
      "64.0\n"
     ]
    },
    {
     "name": "stderr",
     "output_type": "stream",
     "text": [
      "@> 4848 atoms and 1 coordinate set(s) were parsed in 0.05s.\n",
      "@> 27 atoms and 1 coordinate set(s) were parsed in 0.00s.\n",
      "@> 4848 atoms and 1 coordinate set(s) were parsed in 0.06s.\n",
      "@> 64 atoms and 1 coordinate set(s) were parsed in 0.00s.\n",
      "@> 4848 atoms and 1 coordinate set(s) were parsed in 0.07s.\n"
     ]
    },
    {
     "name": "stdout",
     "output_type": "stream",
     "text": [
      "[300 300 300 300 300 300 301 301 301 301 301 301 301 301 301 301 301 301\n",
      " 301 301]\n",
      "286.0\n",
      "222.0\n",
      "[299 299 300 300 300 300 300 301 301 301 301 301 301 301 301 301 301 301\n",
      " 301]\n",
      "56.0\n",
      "64.0\n",
      "230.0\n",
      "[300 300 300 300 300 300 300 300 300 300 300 300 300 300 302 302 302 302\n",
      " 302 302 302 302 302 302 302]\n",
      "230.0\n",
      "286.0\n"
     ]
    },
    {
     "name": "stderr",
     "output_type": "stream",
     "text": [
      "@> 58 atoms and 1 coordinate set(s) were parsed in 0.02s.\n",
      "@> 4848 atoms and 1 coordinate set(s) were parsed in 0.05s.\n",
      "@> 34 atoms and 1 coordinate set(s) were parsed in 0.00s.\n",
      "@> 4848 atoms and 1 coordinate set(s) were parsed in 0.06s.\n",
      "@> 20 atoms and 1 coordinate set(s) were parsed in 0.00s.\n",
      "@> 4848 atoms and 1 coordinate set(s) were parsed in 0.05s.\n",
      "@> 24 atoms and 1 coordinate set(s) were parsed in 0.00s.\n"
     ]
    },
    {
     "name": "stdout",
     "output_type": "stream",
     "text": [
      "[297 297 297 297 297 297 297 297 297 297 297 297 297 297 297 297 297 297\n",
      " 298 299 300 300 300 301]\n",
      "350.0\n",
      "0.0\n",
      "0.0\n",
      "0.0\n",
      "0.0\n",
      "[297 297 297 297 297 297 297 297 297 297 297 297 297 297 297 297 297 297\n",
      " 298 299 300 300 300 301]\n",
      "350.0\n",
      "0.0\n",
      "0.0\n",
      "0.0\n",
      "0.0\n",
      "[300 300 300 300 300 300 300 300 300 300]\n",
      "206.0\n"
     ]
    },
    {
     "name": "stderr",
     "output_type": "stream",
     "text": [
      "@> 4848 atoms and 1 coordinate set(s) were parsed in 0.05s.\n",
      "@> 25 atoms and 1 coordinate set(s) were parsed in 0.00s.\n",
      "@> 4848 atoms and 1 coordinate set(s) were parsed in 0.07s.\n",
      "@> 43 atoms and 1 coordinate set(s) were parsed in 0.00s.\n",
      "@> 4848 atoms and 1 coordinate set(s) were parsed in 0.06s.\n"
     ]
    },
    {
     "name": "stdout",
     "output_type": "stream",
     "text": [
      "[543 543 543 543 543 543 543 543 543 543 543 543 543 543 543]\n",
      "260.0\n",
      "[300 300 300 300 300 300 300 300 300 300 300 300 301 301 301 301 301]\n",
      "194.0\n",
      "64.0\n",
      "[303 303 303 303 303 303 303 303 303 303 303 303 303 303 303 303 303 304\n",
      " 304 304 304 304]\n",
      "266.0\n",
      "64.0\n"
     ]
    },
    {
     "name": "stderr",
     "output_type": "stream",
     "text": [
      "@> 24 atoms and 1 coordinate set(s) were parsed in 0.00s.\n",
      "@> 4848 atoms and 1 coordinate set(s) were parsed in 0.05s.\n",
      "@> 38 atoms and 1 coordinate set(s) were parsed in 0.00s.\n",
      "@> 4848 atoms and 1 coordinate set(s) were parsed in 0.06s.\n",
      "@> 18 atoms and 1 coordinate set(s) were parsed in 0.00s.\n",
      "@> 4848 atoms and 1 coordinate set(s) were parsed in 0.05s.\n",
      "@> 36 atoms and 1 coordinate set(s) were parsed in 0.00s.\n"
     ]
    },
    {
     "name": "stdout",
     "output_type": "stream",
     "text": [
      "[300 300 300 300 300 300 300 300 300 300 300 301 301 301 301 301]\n",
      "194.0\n",
      "64.0\n",
      "[497 497 497 497 497 497 497 497 497 497 497]\n",
      "246.0\n",
      "[299 299 299 299 299 299 299 299 299 299]\n",
      "228.0\n"
     ]
    },
    {
     "name": "stderr",
     "output_type": "stream",
     "text": [
      "@> 4848 atoms and 1 coordinate set(s) were parsed in 0.05s.\n",
      "@> 22 atoms and 1 coordinate set(s) were parsed in 0.00s.\n",
      "@> 4848 atoms and 1 coordinate set(s) were parsed in 0.09s.\n",
      "@> 22 atoms and 1 coordinate set(s) were parsed in 0.00s.\n",
      "@> 4848 atoms and 1 coordinate set(s) were parsed in 0.05s.\n"
     ]
    },
    {
     "name": "stdout",
     "output_type": "stream",
     "text": [
      "[535 535 535 535 535 535 535 535 535 535 535 535 535 535 535 535]\n",
      "376.0\n",
      "[492 492 492 493 493 493 493 493 493 493 493 493]\n",
      "56.0\n",
      "226.0\n",
      "[476 476 476 476 476 476 476 476 476 476 476 476 476 476]\n",
      "248.0\n"
     ]
    },
    {
     "name": "stderr",
     "output_type": "stream",
     "text": [
      "@> 21 atoms and 1 coordinate set(s) were parsed in 0.00s.\n",
      "@> 4848 atoms and 1 coordinate set(s) were parsed in 0.06s.\n",
      "@> 23 atoms and 1 coordinate set(s) were parsed in 0.00s.\n",
      "@> 4848 atoms and 1 coordinate set(s) were parsed in 0.05s.\n",
      "@> 29 atoms and 1 coordinate set(s) were parsed in 0.00s.\n",
      "@> 4848 atoms and 1 coordinate set(s) were parsed in 0.05s.\n",
      "@> 45 atoms and 1 coordinate set(s) were parsed in 0.00s.\n"
     ]
    },
    {
     "name": "stdout",
     "output_type": "stream",
     "text": [
      "[497 497 497 497 497 497 497 497 497 497 497 497 497 497 497]\n",
      "282.0\n",
      "[299 299 299 299 299 299 299 299 299 299 299 299 299]\n",
      "310.0\n",
      "[451 451 451 451 451 451 451 451 451 451 451 451 451 451 451 451 451 451]\n",
      "438.0\n"
     ]
    },
    {
     "name": "stderr",
     "output_type": "stream",
     "text": [
      "@> 4848 atoms and 1 coordinate set(s) were parsed in 0.05s.\n",
      "@> 28 atoms and 1 coordinate set(s) were parsed in 0.00s.\n",
      "@> 4848 atoms and 1 coordinate set(s) were parsed in 0.08s.\n",
      "@> 34 atoms and 1 coordinate set(s) were parsed in 0.00s.\n",
      "@> 4848 atoms and 1 coordinate set(s) were parsed in 0.05s.\n",
      "@> 41 atoms and 1 coordinate set(s) were parsed in 0.00s.\n"
     ]
    },
    {
     "name": "stdout",
     "output_type": "stream",
     "text": [
      "[451 451 451 451 451 451 451 451 451 451 451 451 451 451]\n",
      "284.0\n",
      "[299 299 299 299 299 299 299 299 299 299 299 299 299 299 299 299]\n",
      "406.0\n",
      "[451 451 451 453 453 453 453 453 453 453 453 453 453 453 453 453 453 453\n",
      " 453 453]\n",
      "56.0\n",
      "360.0\n"
     ]
    },
    {
     "name": "stderr",
     "output_type": "stream",
     "text": [
      "@> 4848 atoms and 1 coordinate set(s) were parsed in 0.05s.\n",
      "@> 26 atoms and 1 coordinate set(s) were parsed in 0.00s.\n",
      "@> 4848 atoms and 1 coordinate set(s) were parsed in 0.06s.\n",
      "@> 38 atoms and 1 coordinate set(s) were parsed in 0.00s.\n",
      "@> 4848 atoms and 1 coordinate set(s) were parsed in 0.06s.\n",
      "@> 29 atoms and 1 coordinate set(s) were parsed in 0.00s.\n"
     ]
    },
    {
     "name": "stdout",
     "output_type": "stream",
     "text": [
      "[454 454 454 454 454 454 454 454 454 454 454 454 454 454 454]\n",
      "362.0\n",
      "[483 483 483 483 483 483 483 483 483 483 483 483 483 483]\n",
      "276.0\n",
      "[490 490 493 493 493 493 493 493 493 493 493 493 493 493 493 493]\n",
      "56.0\n",
      "262.0\n"
     ]
    },
    {
     "name": "stderr",
     "output_type": "stream",
     "text": [
      "@> 4848 atoms and 1 coordinate set(s) were parsed in 0.05s.\n",
      "@> 29 atoms and 1 coordinate set(s) were parsed in 0.00s.\n",
      "@> 4848 atoms and 1 coordinate set(s) were parsed in 0.06s.\n",
      "@> 28 atoms and 1 coordinate set(s) were parsed in 0.00s.\n",
      "@> 4848 atoms and 1 coordinate set(s) were parsed in 0.05s.\n",
      "@> 32 atoms and 1 coordinate set(s) were parsed in 0.00s.\n"
     ]
    },
    {
     "name": "stdout",
     "output_type": "stream",
     "text": [
      "[300 300 300 300 300 300 300 300 300 300 300 300 300 300]\n",
      "330.0\n",
      "[454 454 454 454 454 454 454 454 454 454 454 454 454 454 454]\n",
      "260.0\n",
      "[668 668 668 668 668 668 668 668 668 668 668 668 668]\n",
      "336.0\n"
     ]
    },
    {
     "name": "stderr",
     "output_type": "stream",
     "text": [
      "@> 4848 atoms and 1 coordinate set(s) were parsed in 0.05s.\n",
      "@> 16 atoms and 1 coordinate set(s) were parsed in 0.00s.\n",
      "@> 4848 atoms and 1 coordinate set(s) were parsed in 0.07s.\n",
      "@> 24 atoms and 1 coordinate set(s) were parsed in 0.00s.\n",
      "@> 4848 atoms and 1 coordinate set(s) were parsed in 0.06s.\n"
     ]
    },
    {
     "name": "stdout",
     "output_type": "stream",
     "text": [
      "[300 300 300 300 300 300 300 300 300 300 300 300 300 300]\n",
      "406.0\n",
      "[299 299 299 299 299 299 299 299 299 299 299]\n",
      "210.0\n",
      "[471 471 471 471 471 471 471 471 471 471 471 471 471]\n",
      "194.0\n"
     ]
    },
    {
     "name": "stderr",
     "output_type": "stream",
     "text": [
      "@> 26 atoms and 1 coordinate set(s) were parsed in 0.00s.\n",
      "@> 4848 atoms and 1 coordinate set(s) were parsed in 0.07s.\n",
      "@> 25 atoms and 1 coordinate set(s) were parsed in 0.00s.\n",
      "@> 4848 atoms and 1 coordinate set(s) were parsed in 0.07s.\n",
      "@> 26 atoms and 1 coordinate set(s) were parsed in 0.00s.\n",
      "@> 4848 atoms and 1 coordinate set(s) were parsed in 0.04s.\n",
      "@> 25 atoms and 1 coordinate set(s) were parsed in 0.00s.\n"
     ]
    },
    {
     "name": "stdout",
     "output_type": "stream",
     "text": [
      "[839 839 839 839 839 839 839 839 839 839 839 839 839 839 839 839]\n",
      "288.0\n",
      "[512 512 512 512 512 512 512 512 512 512 512 512]\n",
      "262.0\n",
      "[616 616 616 616 616 616 616 616 616 616 616 616 616]\n",
      "260.0\n"
     ]
    },
    {
     "name": "stderr",
     "output_type": "stream",
     "text": [
      "@> 4848 atoms and 1 coordinate set(s) were parsed in 0.07s.\n",
      "@> 21 atoms and 1 coordinate set(s) were parsed in 0.00s.\n",
      "@> 4848 atoms and 1 coordinate set(s) were parsed in 0.05s.\n",
      "@> 28 atoms and 1 coordinate set(s) were parsed in 0.00s.\n",
      "@> 4848 atoms and 1 coordinate set(s) were parsed in 0.05s.\n",
      "@> 29 atoms and 1 coordinate set(s) were parsed in 0.00s.\n"
     ]
    },
    {
     "name": "stdout",
     "output_type": "stream",
     "text": [
      "[647 647 647 647 647 647 647 647 647 647 647]\n",
      "260.0\n",
      "[488 488 488 488 488 488 488 488 488 488 488 488]\n",
      "214.0\n",
      "[782 782 782 782 782 782 782 782 782 782 782 782 782 782]\n",
      "258.0\n"
     ]
    },
    {
     "name": "stderr",
     "output_type": "stream",
     "text": [
      "@> 4848 atoms and 1 coordinate set(s) were parsed in 0.06s.\n",
      "@> 30 atoms and 1 coordinate set(s) were parsed in 0.00s.\n",
      "@> 4848 atoms and 1 coordinate set(s) were parsed in 0.05s.\n",
      "@> 29 atoms and 1 coordinate set(s) were parsed in 0.00s.\n",
      "@> 4848 atoms and 1 coordinate set(s) were parsed in 0.05s.\n",
      "@> 24 atoms and 1 coordinate set(s) were parsed in 0.00s.\n"
     ]
    },
    {
     "name": "stdout",
     "output_type": "stream",
     "text": [
      "[778 778 778 778 778 778 778 778 778 778 778]\n",
      "326.0\n",
      "[800 800 800 800 800 800 800 800 800 800 800]\n",
      "338.0\n",
      "[920 920 920 920 920 920 920 920 920]\n",
      "324.0\n"
     ]
    },
    {
     "name": "stderr",
     "output_type": "stream",
     "text": [
      "@> 4848 atoms and 1 coordinate set(s) were parsed in 0.09s.\n",
      "@> 27 atoms and 1 coordinate set(s) were parsed in 0.00s.\n",
      "@> 4848 atoms and 1 coordinate set(s) were parsed in 0.05s.\n",
      "@> 26 atoms and 1 coordinate set(s) were parsed in 0.00s.\n",
      "@> 4848 atoms and 1 coordinate set(s) were parsed in 0.05s.\n",
      "@> 24 atoms and 1 coordinate set(s) were parsed in 0.00s.\n"
     ]
    },
    {
     "name": "stdout",
     "output_type": "stream",
     "text": [
      "[919 919 919 919 919 919 919 919 919 919 919 919 919]\n",
      "262.0\n",
      "[505 505 505 505 505 505 505 505 505]\n",
      "302.0\n",
      "[523 523 523 523 523 523 523 523 523 523 523 523]\n",
      "284.0\n"
     ]
    },
    {
     "name": "stderr",
     "output_type": "stream",
     "text": [
      "@> 4848 atoms and 1 coordinate set(s) were parsed in 0.07s.\n",
      "@> 31 atoms and 1 coordinate set(s) were parsed in 0.00s.\n",
      "@> 4848 atoms and 1 coordinate set(s) were parsed in 0.05s.\n",
      "@> 32 atoms and 1 coordinate set(s) were parsed in 0.00s.\n",
      "@> 4848 atoms and 1 coordinate set(s) were parsed in 0.05s.\n",
      "@> 17 atoms and 1 coordinate set(s) were parsed in 0.00s.\n"
     ]
    },
    {
     "name": "stdout",
     "output_type": "stream",
     "text": [
      "[490 490 490 490 490 490 490 490 490 490 490 490 490 490]\n",
      "260.0\n",
      "[484 484 484 484 484 484 484 484 484 484 484 484 484 484 484 484 484]\n",
      "354.0\n",
      "[589 589 589 589 589 589 589 589 589 589]\n",
      "364.0\n"
     ]
    },
    {
     "name": "stderr",
     "output_type": "stream",
     "text": [
      "@> 4848 atoms and 1 coordinate set(s) were parsed in 0.07s.\n",
      "@> 18 atoms and 1 coordinate set(s) were parsed in 0.00s.\n",
      "@> 4848 atoms and 1 coordinate set(s) were parsed in 0.04s.\n",
      "@> 16 atoms and 1 coordinate set(s) were parsed in 0.00s.\n",
      "@> 4848 atoms and 1 coordinate set(s) were parsed in 0.05s.\n",
      "@> 22 atoms and 1 coordinate set(s) were parsed in 0.00s.\n"
     ]
    },
    {
     "name": "stdout",
     "output_type": "stream",
     "text": [
      "[423 423 423 423 423 423 423 423]\n",
      "216.0\n",
      "[485 485 485 485 485 486 486 486 486 486 486 486 486 486 486 486]\n",
      "64.0\n",
      "168.0\n",
      "[511 511 511 511 511 511 511 511 511 511]\n",
      "204.0\n"
     ]
    },
    {
     "name": "stderr",
     "output_type": "stream",
     "text": [
      "@> 4848 atoms and 1 coordinate set(s) were parsed in 0.07s.\n",
      "@> 21 atoms and 1 coordinate set(s) were parsed in 0.00s.\n",
      "@> 4848 atoms and 1 coordinate set(s) were parsed in 0.05s.\n",
      "@> 18 atoms and 1 coordinate set(s) were parsed in 0.00s.\n",
      "@> 4848 atoms and 1 coordinate set(s) were parsed in 0.05s.\n",
      "@> 27 atoms and 1 coordinate set(s) were parsed in 0.00s.\n"
     ]
    },
    {
     "name": "stdout",
     "output_type": "stream",
     "text": [
      "[465 465 465 465 465 465 465 465 465 465 465 465 465 465 465]\n",
      "294.0\n",
      "[473 473 473 473 473 473 473 473 473 473 473 473 473 473]\n",
      "292.0\n",
      "[440 440 440 440 440 440 440 440 440 440 440]\n",
      "248.0\n"
     ]
    },
    {
     "name": "stderr",
     "output_type": "stream",
     "text": [
      "@> 4848 atoms and 1 coordinate set(s) were parsed in 0.08s.\n",
      "@> 28 atoms and 1 coordinate set(s) were parsed in 0.00s.\n",
      "@> 4848 atoms and 1 coordinate set(s) were parsed in 0.09s.\n",
      "@> 24 atoms and 1 coordinate set(s) were parsed in 0.00s.\n",
      "@> 4848 atoms and 1 coordinate set(s) were parsed in 0.06s.\n"
     ]
    },
    {
     "name": "stdout",
     "output_type": "stream",
     "text": [
      "[590 590 590 590 590 590 590 590 590 590 590 590 590 590 590 590 590 590\n",
      " 590]\n",
      "374.0\n",
      "[606 606 606 606 606 606 606 606 606 606 606 606 606 606 606]\n",
      "374.0\n",
      "[529 529 529 529 529 529 529 529 529 529 529 529 529 529 529 529]\n",
      "328.0\n"
     ]
    },
    {
     "name": "stderr",
     "output_type": "stream",
     "text": [
      "@> 28 atoms and 1 coordinate set(s) were parsed in 0.00s.\n",
      "@> 4848 atoms and 1 coordinate set(s) were parsed in 0.05s.\n",
      "@> 25 atoms and 1 coordinate set(s) were parsed in 0.00s.\n",
      "@> 4848 atoms and 1 coordinate set(s) were parsed in 0.06s.\n",
      "@> 34 atoms and 1 coordinate set(s) were parsed in 0.00s.\n",
      "@> 4848 atoms and 1 coordinate set(s) were parsed in 0.05s.\n"
     ]
    },
    {
     "name": "stdout",
     "output_type": "stream",
     "text": [
      "[401 401 401 401 401 401 401 401 401 401 401 401 401 401 401 401 401 401\n",
      " 401 401]\n",
      "374.0\n",
      "[516 516 516 516 516 516 516 516 516 516 516 516 516 516 516]\n",
      "330.0\n"
     ]
    },
    {
     "name": "stderr",
     "output_type": "stream",
     "text": [
      "@> 25 atoms and 1 coordinate set(s) were parsed in 0.00s.\n",
      "@> 4848 atoms and 1 coordinate set(s) were parsed in 0.05s.\n",
      "@> 27 atoms and 1 coordinate set(s) were parsed in 0.00s.\n",
      "@> 4848 atoms and 1 coordinate set(s) were parsed in 0.05s.\n",
      "@> 22 atoms and 1 coordinate set(s) were parsed in 0.00s.\n"
     ]
    },
    {
     "name": "stdout",
     "output_type": "stream",
     "text": [
      "[923 923 923 923 923 923 923 923 923 923 923 923 923 923]\n",
      "388.0\n",
      "[497 497 497 497 497 497 497 497 497 497 497 497 497 497 497 497]\n",
      "360.0\n",
      "[499 499 499 499 499 499 499 499 499 499 499 499 499 499 499 499]\n",
      "388.0\n"
     ]
    },
    {
     "name": "stderr",
     "output_type": "stream",
     "text": [
      "@> 4848 atoms and 1 coordinate set(s) were parsed in 0.04s.\n",
      "@> 24 atoms and 1 coordinate set(s) were parsed in 0.00s.\n",
      "@> 4848 atoms and 1 coordinate set(s) were parsed in 0.04s.\n",
      "@> 28 atoms and 1 coordinate set(s) were parsed in 0.00s.\n",
      "@> 4848 atoms and 1 coordinate set(s) were parsed in 0.06s.\n",
      "@> 18 atoms and 1 coordinate set(s) were parsed in 0.00s.\n"
     ]
    },
    {
     "name": "stdout",
     "output_type": "stream",
     "text": [
      "[450 450 450 450 450 450 450 450 450 450 450 450 450 450]\n",
      "282.0\n",
      "[436 436 436 436 436 436 436 436 436 436 436 436 436]\n",
      "328.0\n",
      "[467 467 467 467 467 467 467 467]\n",
      "326.0\n"
     ]
    },
    {
     "name": "stderr",
     "output_type": "stream",
     "text": [
      "@> 4848 atoms and 1 coordinate set(s) were parsed in 0.06s.\n",
      "@> 25 atoms and 1 coordinate set(s) were parsed in 0.00s.\n",
      "@> 4848 atoms and 1 coordinate set(s) were parsed in 0.07s.\n",
      "@> 34 atoms and 1 coordinate set(s) were parsed in 0.00s.\n",
      "@> 4848 atoms and 1 coordinate set(s) were parsed in 0.05s.\n",
      "@> 25 atoms and 1 coordinate set(s) were parsed in 0.00s.\n"
     ]
    },
    {
     "name": "stdout",
     "output_type": "stream",
     "text": [
      "[483 483 483 483 483 483 483 483 483 483 483 483 483 483]\n",
      "248.0\n",
      "[457 457 457 457 457 457 457 457 457 457 457]\n",
      "284.0\n",
      "[478 478 478 478 478 478 478 478 478 478 478 478 478 478 478 478]\n",
      "390.0\n"
     ]
    },
    {
     "name": "stderr",
     "output_type": "stream",
     "text": [
      "@> 4848 atoms and 1 coordinate set(s) were parsed in 0.05s.\n",
      "@> 29 atoms and 1 coordinate set(s) were parsed in 0.00s.\n",
      "@> 4848 atoms and 1 coordinate set(s) were parsed in 0.05s.\n",
      "@> 25 atoms and 1 coordinate set(s) were parsed in 0.00s.\n",
      "@> 4848 atoms and 1 coordinate set(s) were parsed in 0.05s.\n",
      "@> 31 atoms and 1 coordinate set(s) were parsed in 0.00s.\n"
     ]
    },
    {
     "name": "stdout",
     "output_type": "stream",
     "text": [
      "[654 654 654 654 654 654 654 654 654 654 654 654 654]\n",
      "274.0\n",
      "[496 496 496 496 496 496 496 496 496 496 496 496 496 496 496]\n",
      "408.0\n",
      "[424 424 424 424 424 424 424 424 424 424 424 424]\n",
      "360.0\n"
     ]
    },
    {
     "name": "stderr",
     "output_type": "stream",
     "text": [
      "@> 4848 atoms and 1 coordinate set(s) were parsed in 0.05s.\n",
      "@> 31 atoms and 1 coordinate set(s) were parsed in 0.00s.\n",
      "@> 4848 atoms and 1 coordinate set(s) were parsed in 0.06s.\n",
      "@> 25 atoms and 1 coordinate set(s) were parsed in 0.00s.\n",
      "@> 4848 atoms and 1 coordinate set(s) were parsed in 0.04s.\n",
      "@> 30 atoms and 1 coordinate set(s) were parsed in 0.00s.\n"
     ]
    },
    {
     "name": "stdout",
     "output_type": "stream",
     "text": [
      "[781 781 781 781 781 781 781 781 781 781 781 781 781 781 781]\n",
      "346.0\n",
      "[778 778 778 778 778 778 778 778 778 778 778 778 778 778 778 778]\n",
      "354.0\n",
      "[529 529 529 529 529 529 529 529 529 529 529 529 529 529 529]\n",
      "294.0\n"
     ]
    },
    {
     "name": "stderr",
     "output_type": "stream",
     "text": [
      "@> 4848 atoms and 1 coordinate set(s) were parsed in 0.06s.\n",
      "@> 20 atoms and 1 coordinate set(s) were parsed in 0.00s.\n",
      "@> 4848 atoms and 1 coordinate set(s) were parsed in 0.07s.\n",
      "@> 16 atoms and 1 coordinate set(s) were parsed in 0.00s.\n",
      "@> 4848 atoms and 1 coordinate set(s) were parsed in 0.05s.\n",
      "@> 18 atoms and 1 coordinate set(s) were parsed in 0.00s.\n"
     ]
    },
    {
     "name": "stdout",
     "output_type": "stream",
     "text": [
      "[495 495 495 495 495 495 495 495 495 495 495 495 495 495 495 495]\n",
      "374.0\n",
      "[470 470 470 470 470 470 470 470 470 470 470 470]\n",
      "302.0\n",
      "[458 458 458 458 458 458 458 458 458 458 458 458]\n",
      "224.0\n"
     ]
    },
    {
     "name": "stderr",
     "output_type": "stream",
     "text": [
      "@> 4848 atoms and 1 coordinate set(s) were parsed in 0.05s.\n",
      "@> 18 atoms and 1 coordinate set(s) were parsed in 0.00s.\n",
      "@> 4848 atoms and 1 coordinate set(s) were parsed in 0.08s.\n",
      "@> 27 atoms and 1 coordinate set(s) were parsed in 0.00s.\n",
      "@> 4848 atoms and 1 coordinate set(s) were parsed in 0.05s.\n"
     ]
    },
    {
     "name": "stdout",
     "output_type": "stream",
     "text": [
      "[461 461 461 461 461 461 461 461 461 461 461 461 461 461]\n",
      "254.0\n",
      "[446 446 446 446 446 446 446 446 446 446 446 446 446 446 446 446]\n",
      "248.0\n",
      "[479 479 479 479 479 479 479 479 479 479 479 479 479 479 479]\n",
      "388.0\n"
     ]
    },
    {
     "name": "stderr",
     "output_type": "stream",
     "text": [
      "@> 24 atoms and 1 coordinate set(s) were parsed in 0.00s.\n",
      "@> 4848 atoms and 1 coordinate set(s) were parsed in 0.04s.\n",
      "@> 30 atoms and 1 coordinate set(s) were parsed in 0.00s.\n",
      "@> 4848 atoms and 1 coordinate set(s) were parsed in 0.05s.\n",
      "@> 31 atoms and 1 coordinate set(s) were parsed in 0.00s.\n",
      "@> 4848 atoms and 1 coordinate set(s) were parsed in 0.05s.\n",
      "@> 29 atoms and 1 coordinate set(s) were parsed in 0.00s.\n"
     ]
    },
    {
     "name": "stdout",
     "output_type": "stream",
     "text": [
      "[500 500 500 500 500 500 500 500 500 500 500 500 500 500]\n",
      "308.0\n",
      "[456 456 456 456 456 456 456 456 456 456 456 456 456 456 456 456]\n",
      "372.0\n",
      "[ 36 299 299 299 299 299 299 299 299 299 299 299 299 299 299]\n",
      "14.0\n",
      "308.0\n"
     ]
    },
    {
     "name": "stderr",
     "output_type": "stream",
     "text": [
      "@> 4848 atoms and 1 coordinate set(s) were parsed in 0.05s.\n",
      "@> 61 atoms and 1 coordinate set(s) were parsed in 0.02s.\n",
      "@> 4848 atoms and 1 coordinate set(s) were parsed in 0.07s.\n",
      "@> 64 atoms and 1 coordinate set(s) were parsed in 0.02s.\n"
     ]
    },
    {
     "name": "stdout",
     "output_type": "stream",
     "text": [
      "[299 299 299 299 299 299 299 299 299 299 299 299 299]\n",
      "352.0\n",
      "[299 299 299 299 299 299 299 299 299 299 299 299 299 299 299 299 299 299\n",
      " 300 300 300]\n",
      "352.0\n",
      "56.0\n"
     ]
    },
    {
     "name": "stderr",
     "output_type": "stream",
     "text": [
      "@> 4848 atoms and 1 coordinate set(s) were parsed in 0.05s.\n",
      "@> 52 atoms and 1 coordinate set(s) were parsed in 0.00s.\n",
      "@> 4848 atoms and 1 coordinate set(s) were parsed in 0.05s.\n",
      "@> 16 atoms and 1 coordinate set(s) were parsed in 0.00s.\n",
      "@> 4848 atoms and 1 coordinate set(s) were parsed in 0.07s.\n",
      "@> 30 atoms and 1 coordinate set(s) were parsed in 0.00s.\n"
     ]
    },
    {
     "name": "stdout",
     "output_type": "stream",
     "text": [
      "[300 309 310 310 310 311 311 311 311 311 311 311 311 311 311 311 311 311\n",
      " 311]\n",
      "56.0\n",
      "56.0\n",
      "56.0\n",
      "212.0\n",
      "[299 299 299 299 299 299 299 299 299 299 299 299 299 299 303 303 307 307]\n",
      "250.0\n",
      "56.0\n",
      "56.0\n",
      "[299 299 299 299 299 299 299 299 299 299 299 299 299]\n",
      "208.0\n"
     ]
    },
    {
     "name": "stderr",
     "output_type": "stream",
     "text": [
      "@> 4848 atoms and 1 coordinate set(s) were parsed in 0.09s.\n",
      "@> 28 atoms and 1 coordinate set(s) were parsed in 0.00s.\n",
      "@> 4848 atoms and 1 coordinate set(s) were parsed in 0.05s.\n",
      "@> 29 atoms and 1 coordinate set(s) were parsed in 0.00s.\n",
      "@> 4848 atoms and 1 coordinate set(s) were parsed in 0.06s.\n",
      "@> 31 atoms and 1 coordinate set(s) were parsed in 0.00s.\n"
     ]
    },
    {
     "name": "stdout",
     "output_type": "stream",
     "text": [
      "[299 299 299 299 299 299 299 299 299 299 299 299 299 299 299 299 299]\n",
      "368.0\n",
      "[299 299 299 299 299 299 299 299 299 299 299 299 299 299 299 299 299 300\n",
      " 300 300 300 300]\n",
      "292.0\n",
      "64.0\n",
      "[299 299 299 299 299 299 299 299 299 299 299 299 299 299 299 299 300 300\n",
      " 300 300 300]\n",
      "292.0\n",
      "64.0\n"
     ]
    },
    {
     "name": "stderr",
     "output_type": "stream",
     "text": [
      "@> 4848 atoms and 1 coordinate set(s) were parsed in 0.05s.\n",
      "@> 69 atoms and 1 coordinate set(s) were parsed in 0.00s.\n",
      "@> 4848 atoms and 1 coordinate set(s) were parsed in 0.05s.\n",
      "@> 48 atoms and 1 coordinate set(s) were parsed in 0.00s.\n",
      "@> 4848 atoms and 1 coordinate set(s) were parsed in 0.06s.\n",
      "@> 33 atoms and 1 coordinate set(s) were parsed in 0.00s.\n"
     ]
    },
    {
     "name": "stdout",
     "output_type": "stream",
     "text": [
      "[302 302 302 302 302 302 302 302 302 302 302 302]\n",
      "340.0\n",
      "[1302 1302 1302 1302 1302 1302 1302 1302 1302 1302 1302 1302 1302 1302\n",
      " 1302 1302 1302 1302 1302 1302 1302 1302 1302 1302 1302 1302 1302 1302\n",
      " 1302 1302 1302 1302]\n",
      "441.0\n",
      "[1298 1298 1298 1298 1298 1298 1298 1298 1298 1298 1298 1298 1298 1298\n",
      " 1298 1298 1298 1298 1298 1298 1298 1298 1298 1298 1298 1298 1298]\n",
      "401.0\n"
     ]
    },
    {
     "name": "stderr",
     "output_type": "stream",
     "text": [
      "@> 4848 atoms and 1 coordinate set(s) were parsed in 0.06s.\n",
      "@> 24 atoms and 1 coordinate set(s) were parsed in 0.00s.\n",
      "@> 4848 atoms and 1 coordinate set(s) were parsed in 0.05s.\n",
      "@> 33 atoms and 1 coordinate set(s) were parsed in 0.00s.\n",
      "@> 4848 atoms and 1 coordinate set(s) were parsed in 0.07s.\n"
     ]
    },
    {
     "name": "stdout",
     "output_type": "stream",
     "text": [
      "[1297 1297 1297 1297 1297 1297 1297 1297 1297 1297 1297 1297 1297 1297\n",
      " 1297 1297 1297 1297 1297 1297 1297 1297]\n",
      "462.0\n",
      "[1299 1299 1299 1299 1299 1299 1299 1299 1299 1299 1299 1299 1299 1299\n",
      " 1299 1299 1299]\n",
      "324.0\n",
      "[1299 1299 1299 1299 1299 1299 1299 1299 1299 1299 1299 1299 1299 1299\n",
      " 1299 1299 1299 1299]\n",
      "436.0\n"
     ]
    },
    {
     "name": "stderr",
     "output_type": "stream",
     "text": [
      "@> 30 atoms and 1 coordinate set(s) were parsed in 0.00s.\n",
      "@> 4848 atoms and 1 coordinate set(s) were parsed in 0.06s.\n",
      "@> 31 atoms and 1 coordinate set(s) were parsed in 0.00s.\n",
      "@> 4848 atoms and 1 coordinate set(s) were parsed in 0.05s.\n",
      "@> 23 atoms and 1 coordinate set(s) were parsed in 0.00s.\n",
      "@> 4848 atoms and 1 coordinate set(s) were parsed in 0.06s.\n",
      "@> 33 atoms and 1 coordinate set(s) were parsed in 0.00s.\n"
     ]
    },
    {
     "name": "stdout",
     "output_type": "stream",
     "text": [
      "[1299 1299 1299 1299 1299 1299 1299 1299 1299 1299 1299 1299 1299 1299\n",
      " 1299 1299 1299 1299]\n",
      "396.0\n",
      "[1296 1296 1296 1296 1296 1296 1296 1296]\n",
      "414.0\n",
      "[1001 1001 1001 1001 1001 1001 1001 1001 1001 1001 1001 1001 1001 1001]\n",
      "306.0\n"
     ]
    },
    {
     "name": "stderr",
     "output_type": "stream",
     "text": [
      "@> 4848 atoms and 1 coordinate set(s) were parsed in 0.05s.\n",
      "@> 25 atoms and 1 coordinate set(s) were parsed in 0.00s.\n",
      "@> 4848 atoms and 1 coordinate set(s) were parsed in 0.05s.\n",
      "@> 22 atoms and 1 coordinate set(s) were parsed in 0.00s.\n",
      "@> 4848 atoms and 1 coordinate set(s) were parsed in 0.06s.\n",
      "@> 29 atoms and 1 coordinate set(s) were parsed in 0.00s.\n"
     ]
    },
    {
     "name": "stdout",
     "output_type": "stream",
     "text": [
      "[1300 1300 1300 1300 1300 1300 1300 1300 1300 1300 1300 1300]\n",
      "366.0\n",
      "[1297 1297 1297 1297 1297 1297 1297 1297 1297 1297 1297 1297 1297 1297\n",
      " 1297]\n",
      "314.0\n",
      "[1298 1298 1298 1298 1298 1298 1298 1298]\n",
      "242.0\n"
     ]
    },
    {
     "name": "stderr",
     "output_type": "stream",
     "text": [
      "@> 4848 atoms and 1 coordinate set(s) were parsed in 0.05s.\n",
      "@> 26 atoms and 1 coordinate set(s) were parsed in 0.00s.\n",
      "@> 4848 atoms and 1 coordinate set(s) were parsed in 0.05s.\n",
      "@> 29 atoms and 1 coordinate set(s) were parsed in 0.00s.\n",
      "@> 4848 atoms and 1 coordinate set(s) were parsed in 0.06s.\n",
      "@> 28 atoms and 1 coordinate set(s) were parsed in 0.00s.\n"
     ]
    },
    {
     "name": "stdout",
     "output_type": "stream",
     "text": [
      "[1299 1299 1299 1299 1299 1299 1299 1299 1299 1299 1299 1299 1299 1299\n",
      " 1299]\n",
      "358.0\n",
      "[1299 1299 1299 1299 1299 1299 1299 1299 1299]\n",
      "330.0\n",
      "[1299 1299 1299 1299 1299 1299 1299 1299 1299 1299 1299 1299]\n",
      "392.0\n"
     ]
    },
    {
     "name": "stderr",
     "output_type": "stream",
     "text": [
      "@> 4848 atoms and 1 coordinate set(s) were parsed in 0.05s.\n",
      "@> 18 atoms and 1 coordinate set(s) were parsed in 0.00s.\n",
      "@> 4848 atoms and 1 coordinate set(s) were parsed in 0.04s.\n",
      "@> 56 atoms and 1 coordinate set(s) were parsed in 0.01s.\n",
      "@> 4848 atoms and 1 coordinate set(s) were parsed in 0.07s.\n"
     ]
    },
    {
     "name": "stdout",
     "output_type": "stream",
     "text": [
      "[1299 1299 1299 1299 1299 1299 1299 1299 1299 1299 1299 1299 1299 1299]\n",
      "380.0\n",
      "[1299 1299 1299 1299 1299 1299 1299 1299 1299 1299 1299 1299 1299 1299\n",
      " 1299]\n",
      "272.0\n",
      "[1296 1296 1296 1296 1296 1296 1296 1296 1296 1296 1296 1296 1296 1296\n",
      " 1296 1296 1296 1296 1296 1296 1296 1296 1296 1296 1296]\n",
      "273.0\n"
     ]
    },
    {
     "name": "stderr",
     "output_type": "stream",
     "text": [
      "@> 4 atoms and 1 coordinate set(s) were parsed in 0.00s.\n",
      "@> 4848 atoms and 1 coordinate set(s) were parsed in 0.05s.\n",
      "@> 24 atoms and 1 coordinate set(s) were parsed in 0.00s.\n",
      "@> 4848 atoms and 1 coordinate set(s) were parsed in 0.06s.\n",
      "@> 22 atoms and 1 coordinate set(s) were parsed in 0.00s.\n",
      "@> 4848 atoms and 1 coordinate set(s) were parsed in 0.09s.\n"
     ]
    },
    {
     "name": "stdout",
     "output_type": "stream",
     "text": [
      "[36]\n",
      "14.0\n",
      "La proteina 4ek3 NO TIENE LIGANDO (masa => 80.0).\n",
      "[301 301 301 301 301 301 301 301 301 301 302]\n",
      "190.0\n",
      "0.0\n",
      "[300 300 300 300 300 300 300 300 300 300 300 300]\n",
      "256.0\n"
     ]
    },
    {
     "name": "stderr",
     "output_type": "stream",
     "text": [
      "@> 26 atoms and 1 coordinate set(s) were parsed in 0.00s.\n",
      "@> 4848 atoms and 1 coordinate set(s) were parsed in 0.08s.\n",
      "@> 28 atoms and 1 coordinate set(s) were parsed in 0.00s.\n",
      "@> 4848 atoms and 1 coordinate set(s) were parsed in 0.10s.\n",
      "@> 32 atoms and 1 coordinate set(s) were parsed in 0.00s.\n"
     ]
    },
    {
     "name": "stdout",
     "output_type": "stream",
     "text": [
      "[301 301 301 301 301 301 301 301 301 301 301 301 301 301]\n",
      "314.0\n",
      "[301 301 301 301 301 301 301 301 301 301 301 301 301 301 301]\n",
      "338.0\n"
     ]
    },
    {
     "name": "stderr",
     "output_type": "stream",
     "text": [
      "@> 4848 atoms and 1 coordinate set(s) were parsed in 0.07s.\n",
      "@> 28 atoms and 1 coordinate set(s) were parsed in 0.00s.\n",
      "@> 4848 atoms and 1 coordinate set(s) were parsed in 0.04s.\n",
      "@> 24 atoms and 1 coordinate set(s) were parsed in 0.00s.\n",
      "@> 4848 atoms and 1 coordinate set(s) were parsed in 0.05s.\n",
      "@> 36 atoms and 1 coordinate set(s) were parsed in 0.00s.\n"
     ]
    },
    {
     "name": "stdout",
     "output_type": "stream",
     "text": [
      "[301 301 301 301 301 301 301 301 301 301 301 301 301 301 301 301 301 301\n",
      " 302]\n",
      "398.0\n",
      "0.0\n",
      "[301 301 301 301 301 301 301 301 301 301 301 301 301 301 301 301]\n",
      "380.0\n",
      "[301 301 301 301 301 301 301 301 301 301 301 301 301]\n",
      "338.0\n"
     ]
    },
    {
     "name": "stderr",
     "output_type": "stream",
     "text": [
      "@> 4848 atoms and 1 coordinate set(s) were parsed in 0.06s.\n",
      "@> 24 atoms and 1 coordinate set(s) were parsed in 0.00s.\n",
      "@> 4848 atoms and 1 coordinate set(s) were parsed in 0.05s.\n",
      "@> 32 atoms and 1 coordinate set(s) were parsed in 0.00s.\n",
      "@> 4848 atoms and 1 coordinate set(s) were parsed in 0.05s.\n",
      "@> 24 atoms and 1 coordinate set(s) were parsed in 0.00s.\n"
     ]
    },
    {
     "name": "stdout",
     "output_type": "stream",
     "text": [
      "[301 301 301 301 301 301 301 301 301 301 301 301 301 301 301 301 301 301\n",
      " 301 301 301 302]\n",
      "402.0\n",
      "0.0\n",
      "[301 301 301 301 301 301 301 301 301 301 301]\n",
      "338.0\n",
      "[301 302 302 302 302 302 302 302 302 302 302 302 302 302 302 302 302 302\n",
      " 302 302]\n",
      "0.0\n",
      "398.0\n"
     ]
    },
    {
     "name": "stderr",
     "output_type": "stream",
     "text": [
      "@> 4848 atoms and 1 coordinate set(s) were parsed in 0.06s.\n",
      "@> 32 atoms and 1 coordinate set(s) were parsed in 0.00s.\n",
      "@> 4848 atoms and 1 coordinate set(s) were parsed in 0.06s.\n",
      "@> 28 atoms and 1 coordinate set(s) were parsed in 0.00s.\n"
     ]
    },
    {
     "name": "stdout",
     "output_type": "stream",
     "text": [
      "[301 301 301 301 301 301 301 301 301 301 301 301 301 301]\n",
      "338.0\n",
      "[301 301 301 301 301 301 301 301 301 301 301 301 301 301 301 301 302]\n",
      "398.0\n",
      "0.0\n"
     ]
    },
    {
     "name": "stderr",
     "output_type": "stream",
     "text": [
      "@> 4848 atoms and 1 coordinate set(s) were parsed in 0.16s.\n",
      "@> 24 atoms and 1 coordinate set(s) were parsed in 0.00s.\n",
      "@> 4848 atoms and 1 coordinate set(s) were parsed in 0.07s.\n",
      "@> 108 atoms and 1 coordinate set(s) were parsed in 0.01s.\n",
      "@> 4848 atoms and 1 coordinate set(s) were parsed in 0.04s.\n",
      "@> 24 atoms and 1 coordinate set(s) were parsed in 0.00s.\n"
     ]
    },
    {
     "name": "stdout",
     "output_type": "stream",
     "text": [
      "[301 301 301 301 301 301 301 301 301 301 301 301 301 301 301 301]\n",
      "380.0\n",
      "[301 301 301 301 301 301 301 301 301 301 301 301]\n",
      "338.0\n",
      "[301 301 301 301 301 301 301 301 301 301 301 301 301 301 301 301 301 301\n",
      " 301 301 301 304 304 304 307 307 307 311 311 311 314 314 314]\n",
      "440.0\n",
      "56.0\n",
      "56.0\n",
      "56.0\n",
      "56.0\n"
     ]
    },
    {
     "name": "stderr",
     "output_type": "stream",
     "text": [
      "@> 4848 atoms and 1 coordinate set(s) were parsed in 0.07s.\n",
      "@> 93 atoms and 1 coordinate set(s) were parsed in 0.02s.\n",
      "@> 4848 atoms and 1 coordinate set(s) were parsed in 0.04s.\n",
      "@> 23 atoms and 1 coordinate set(s) were parsed in 0.00s.\n",
      "@> 4848 atoms and 1 coordinate set(s) were parsed in 0.05s.\n"
     ]
    },
    {
     "name": "stdout",
     "output_type": "stream",
     "text": [
      "[301 301 301 301 301 301 301 301 301 301 301 301 301 301 301 301 302 302\n",
      " 302]\n",
      "284.0\n",
      "56.0\n",
      "[301 301 301 301 301 301 301 301 301 301 301 301 301 301 301 301 301 301\n",
      " 301 301 301 301 301 301 302 302 302 302 302 302 302 302 302 302 302 305\n",
      " 306 307 307 307 307]\n",
      "440.0\n",
      "286.0\n",
      "56.0\n",
      "56.0\n",
      "56.0\n",
      "[300 300 300 300 300 300 300 300 300]\n",
      "258.0\n"
     ]
    },
    {
     "name": "stderr",
     "output_type": "stream",
     "text": [
      "@> 26 atoms and 1 coordinate set(s) were parsed in 0.00s.\n",
      "@> 4848 atoms and 1 coordinate set(s) were parsed in 0.06s.\n",
      "@> 32 atoms and 1 coordinate set(s) were parsed in 0.00s.\n",
      "@> 4848 atoms and 1 coordinate set(s) were parsed in 0.06s.\n",
      "@> 18 atoms and 1 coordinate set(s) were parsed in 0.00s.\n",
      "@> 4848 atoms and 1 coordinate set(s) were parsed in 0.07s.\n",
      "@> 31 atoms and 1 coordinate set(s) were parsed in 0.00s.\n"
     ]
    },
    {
     "name": "stdout",
     "output_type": "stream",
     "text": [
      "[301 301 301 301 301 301 301 301 301 301 301 301 301 301]\n",
      "254.0\n",
      "[301 301 301 301 301 301 301 301 301 301 301 301 301]\n",
      "328.0\n",
      "[ 36 300 300 300 300 300 300 300 300]\n",
      "14.0\n",
      "196.0\n"
     ]
    },
    {
     "name": "stderr",
     "output_type": "stream",
     "text": [
      "@> 4848 atoms and 1 coordinate set(s) were parsed in 0.05s.\n",
      "@> 31 atoms and 1 coordinate set(s) were parsed in 0.00s.\n",
      "@> 4848 atoms and 1 coordinate set(s) were parsed in 0.06s.\n",
      "@> 34 atoms and 1 coordinate set(s) were parsed in 0.00s.\n",
      "@> 4848 atoms and 1 coordinate set(s) were parsed in 0.04s.\n",
      "@> 34 atoms and 1 coordinate set(s) were parsed in 0.00s.\n"
     ]
    },
    {
     "name": "stdout",
     "output_type": "stream",
     "text": [
      "[301 301 301 301 301 301 301 301 301 301 301]\n",
      "306.0\n",
      "[301 301 301 301 301 301 301 301 301 301 301 301 301 301 301 302]\n",
      "342.0\n",
      "0.0\n",
      "[301 301 301 301 301 301 301 301 301 301 301 301 301 301 301 301 301 301\n",
      " 301]\n",
      "346.0\n"
     ]
    },
    {
     "name": "stderr",
     "output_type": "stream",
     "text": [
      "@> 4848 atoms and 1 coordinate set(s) were parsed in 0.06s.\n",
      "@> 45 atoms and 1 coordinate set(s) were parsed in 0.00s.\n",
      "@> 4848 atoms and 1 coordinate set(s) were parsed in 0.05s.\n",
      "@> 52 atoms and 1 coordinate set(s) were parsed in 0.02s.\n",
      "@> 4848 atoms and 1 coordinate set(s) were parsed in 0.06s.\n"
     ]
    },
    {
     "name": "stdout",
     "output_type": "stream",
     "text": [
      "[301 301 301 301 301 301 301 301 301 301 301 301 301 301]\n",
      "370.0\n",
      "[301 301 301 301 301 301 301 301 301 301 301 301 301 301 301 301 301 301\n",
      " 301 301 301 301 301 301 301]\n",
      "414.0\n",
      "[301 301 301 301 301 301 301 301 301 301 301 301 301 301 301 301 301 301\n",
      " 301 301 301 301 301 301 301 301 301]\n",
      "386.0\n"
     ]
    },
    {
     "name": "stderr",
     "output_type": "stream",
     "text": [
      "@> 82 atoms and 1 coordinate set(s) were parsed in 0.02s.\n",
      "@> 4848 atoms and 1 coordinate set(s) were parsed in 0.05s.\n",
      "@> 40 atoms and 1 coordinate set(s) were parsed in 0.00s.\n",
      "@> 4848 atoms and 1 coordinate set(s) were parsed in 0.07s.\n",
      "@> 37 atoms and 1 coordinate set(s) were parsed in 0.00s.\n",
      "@> 4848 atoms and 1 coordinate set(s) were parsed in 0.05s.\n",
      "@> 45 atoms and 1 coordinate set(s) were parsed in 0.00s.\n"
     ]
    },
    {
     "name": "stdout",
     "output_type": "stream",
     "text": [
      "[303 303 303 303 303 303 303 303 303 303 303 303 303 303 303 303 303 303\n",
      " 303 303 303 303 303 303 303]\n",
      "360.0\n",
      "[301 301 301 301 301 301 301 301 301 301 301 301 301 301 301 301 301 301\n",
      " 301]\n",
      "434.0\n",
      "[301 301 301 301 301 301 301 301 301 301 301 301 301 301 301 301 301]\n",
      "396.0\n"
     ]
    },
    {
     "name": "stderr",
     "output_type": "stream",
     "text": [
      "@> 4848 atoms and 1 coordinate set(s) were parsed in 0.06s.\n",
      "@> 44 atoms and 1 coordinate set(s) were parsed in 0.00s.\n",
      "@> 4848 atoms and 1 coordinate set(s) were parsed in 0.05s.\n",
      "@> 48 atoms and 1 coordinate set(s) were parsed in 0.00s.\n",
      "@> 4848 atoms and 1 coordinate set(s) were parsed in 0.07s.\n"
     ]
    },
    {
     "name": "stdout",
     "output_type": "stream",
     "text": [
      "[301 301 301 301 301 301 301 301 301 301 301 301 301 301 301 301 301 301\n",
      " 301 301 301 301 301 301 301 301]\n",
      "360.0\n",
      "[301 303 303 303 304 304 304 305 305 305 305 305 305 305 305 305 305 305\n",
      " 305 305 305 305 305 305 305]\n",
      "56.0\n",
      "56.0\n",
      "56.0\n",
      "406.0\n",
      "[301 301 301 301 301 301 301 301 301 301 301 301 301 301 301 301 302 303\n",
      " 305 306 306 306 306 307]\n",
      "350.0\n",
      "0.0\n",
      "0.0\n",
      "84.0\n",
      "84.0\n",
      "0.0\n"
     ]
    },
    {
     "name": "stderr",
     "output_type": "stream",
     "text": [
      "@> 34 atoms and 1 coordinate set(s) were parsed in 0.00s.\n",
      "@> 4848 atoms and 1 coordinate set(s) were parsed in 0.04s.\n",
      "@> 33 atoms and 1 coordinate set(s) were parsed in 0.00s.\n",
      "@> 4848 atoms and 1 coordinate set(s) were parsed in 0.09s.\n",
      "@> 27 atoms and 1 coordinate set(s) were parsed in 0.00s.\n",
      "@> 4848 atoms and 1 coordinate set(s) were parsed in 0.05s.\n"
     ]
    },
    {
     "name": "stdout",
     "output_type": "stream",
     "text": [
      "[301 301 301 301 301 301 301 301 301 301 301 301 301 301 301 301 302 303]\n",
      "350.0\n",
      "0.0\n",
      "84.0\n",
      "[301 301 301 302 302 302 302 302 302 302 302 302 302 302 302 302 302 302\n",
      " 302 302 302 302]\n",
      "56.0\n",
      "368.0\n",
      "[301 301 301 301 301 301 301 301 301 301 301 301 301 301 301 301 301]\n",
      "378.0\n"
     ]
    },
    {
     "name": "stderr",
     "output_type": "stream",
     "text": [
      "@> 51 atoms and 1 coordinate set(s) were parsed in 0.00s.\n",
      "@> 4848 atoms and 1 coordinate set(s) were parsed in 0.07s.\n",
      "@> 45 atoms and 1 coordinate set(s) were parsed in 0.00s.\n",
      "@> 4848 atoms and 1 coordinate set(s) were parsed in 0.10s.\n",
      "@> 75 atoms and 1 coordinate set(s) were parsed in 0.01s.\n"
     ]
    },
    {
     "name": "stdout",
     "output_type": "stream",
     "text": [
      "[150 301 301 301 301 301 301 301 301 301 301 301 301 301 301 301 301]\n",
      "14.0\n",
      "448.0\n",
      "[ 33  33  33  33  33  33  33  33  33 301 301 302 302 302 302 302 302 302\n",
      " 302 302 302 302 302 302 302 302]\n",
      "156.0\n",
      "56.0\n",
      "364.0\n"
     ]
    },
    {
     "name": "stderr",
     "output_type": "stream",
     "text": [
      "@> 4848 atoms and 1 coordinate set(s) were parsed in 0.10s.\n",
      "@> 14 atoms and 1 coordinate set(s) were parsed in 0.00s.\n",
      "@> 4848 atoms and 1 coordinate set(s) were parsed in 0.09s.\n",
      "@> 11 atoms and 1 coordinate set(s) were parsed in 0.00s.\n"
     ]
    },
    {
     "name": "stdout",
     "output_type": "stream",
     "text": [
      "[1297 1297 1297 1297 1297 1297 1297 1297 1297 1297 1297 1297 1297]\n",
      "418.0\n",
      "[1295 1295 1295 1295 1295 1295 1295 1295 1295 1295 1295 1295]\n",
      "176.0\n"
     ]
    },
    {
     "name": "stderr",
     "output_type": "stream",
     "text": [
      "@> 4848 atoms and 1 coordinate set(s) were parsed in 0.15s.\n",
      "@> 10 atoms and 1 coordinate set(s) were parsed in 0.00s.\n",
      "@> 4848 atoms and 1 coordinate set(s) were parsed in 0.13s.\n",
      "@> 17 atoms and 1 coordinate set(s) were parsed in 0.00s.\n"
     ]
    },
    {
     "name": "stdout",
     "output_type": "stream",
     "text": [
      "[1299 1299 1299 1299 1299 1299 1299 1299 1299 1299]\n",
      "144.0\n",
      "[1299 1299 1299 1299 1299 1299 1299 1299 1299]\n",
      "116.0\n"
     ]
    },
    {
     "name": "stderr",
     "output_type": "stream",
     "text": [
      "@> 4848 atoms and 1 coordinate set(s) were parsed in 0.10s.\n",
      "@> 18 atoms and 1 coordinate set(s) were parsed in 0.00s.\n",
      "@> 4848 atoms and 1 coordinate set(s) were parsed in 0.09s.\n",
      "@> 29 atoms and 1 coordinate set(s) were parsed in 0.00s.\n",
      "@> 4848 atoms and 1 coordinate set(s) were parsed in 0.05s.\n"
     ]
    },
    {
     "name": "stdout",
     "output_type": "stream",
     "text": [
      "[1299 1299 1299 1299 1299 1299 1299 1299 1299 1299 1299 1299]\n",
      "238.0\n",
      "[1299 1299 1299 1299 1299 1299 1299 1299 1299 1299 1299 1299 1299 1299]\n",
      "238.0\n",
      "../ARCHIVOS/CRISTALES/LIGS_CDK2/RAW//5ano_lig.pdb is not a valid filename or a valid PDB identifier. La proteina 5ano NO TIENE LIGANDO.\n"
     ]
    },
    {
     "name": "stderr",
     "output_type": "stream",
     "text": [
      "@> 25 atoms and 1 coordinate set(s) were parsed in 0.00s.\n",
      "@> 4848 atoms and 1 coordinate set(s) were parsed in 0.05s.\n",
      "@> 31 atoms and 1 coordinate set(s) were parsed in 0.00s.\n",
      "@> 4848 atoms and 1 coordinate set(s) were parsed in 0.05s.\n",
      "@> 44 atoms and 1 coordinate set(s) were parsed in 0.00s.\n",
      "@> 4848 atoms and 1 coordinate set(s) were parsed in 0.06s.\n",
      "@> 29 atoms and 1 coordinate set(s) were parsed in 0.00s.\n"
     ]
    },
    {
     "name": "stdout",
     "output_type": "stream",
     "text": [
      "[301 301 301 301 301 301 301 301 301 301 301 301 301 301 301 301 301 301\n",
      " 301 301]\n",
      "390.0\n",
      "[4000 4000 4000 4000 4000 4000 4000 4000 4000 4000 4000]\n",
      "356.0\n",
      "[1297 1297 1297 1297 1297 1297 1297 1297 1297 1297 1297 1297 1296 1296]\n",
      "40.0\n",
      "120.0\n",
      "[1295 1295 1295 1295 1295 1295 1295 1295 1295 1295 1295 1295 1295 1295\n",
      " 1295 1295 1295 1295]\n",
      "169.0\n"
     ]
    },
    {
     "name": "stderr",
     "output_type": "stream",
     "text": [
      "@> 4848 atoms and 1 coordinate set(s) were parsed in 0.05s.\n",
      "@> 26 atoms and 1 coordinate set(s) were parsed in 0.00s.\n",
      "@> 4848 atoms and 1 coordinate set(s) were parsed in 0.05s.\n",
      "@> 23 atoms and 1 coordinate set(s) were parsed in 0.00s.\n",
      "@> 4848 atoms and 1 coordinate set(s) were parsed in 0.04s.\n",
      "@> 33 atoms and 1 coordinate set(s) were parsed in 0.00s.\n"
     ]
    },
    {
     "name": "stdout",
     "output_type": "stream",
     "text": [
      "[1001 1001 1001 1001 1001 1001 1001 1001 1001 1001 1001 1001 1001 1001\n",
      " 1001 1001]\n",
      "352.0\n",
      "[1001 1001 1001 1001 1001 1001 1001 1001 1001 1001 1001 1001 1001]\n",
      "340.0\n",
      "[1001 1001 1001 1001 1001 1001 1001 1001 1001 1001 1001 1001]\n",
      "318.0\n",
      "../ARCHIVOS/CRISTALES/LIGS_CDK2/RAW//5if1_lig.pdb is not a valid filename or a valid PDB identifier. La proteina 5if1 NO TIENE LIGANDO.\n"
     ]
    },
    {
     "name": "stderr",
     "output_type": "stream",
     "text": [
      "@> 4848 atoms and 1 coordinate set(s) were parsed in 0.07s.\n",
      "@> 29 atoms and 1 coordinate set(s) were parsed in 0.00s.\n",
      "@> 4848 atoms and 1 coordinate set(s) were parsed in 0.05s.\n",
      "@> 31 atoms and 1 coordinate set(s) were parsed in 0.00s.\n",
      "@> 4848 atoms and 1 coordinate set(s) were parsed in 0.07s.\n",
      "@> 35 atoms and 1 coordinate set(s) were parsed in 0.00s.\n"
     ]
    },
    {
     "name": "stdout",
     "output_type": "stream",
     "text": [
      "[301 301 302 302 302 302 302 302 302 302 302 302 302]\n",
      "56.0\n",
      "364.0\n",
      "[301 301 301 301 301 301 301 301 301 301 301 301 301 301 301 301 301 301\n",
      " 301 301 301]\n",
      "364.0\n",
      "[301 301 301 301 301 301 301 301 301 301 301 301 301 301 301 301 301]\n",
      "368.0\n"
     ]
    },
    {
     "name": "stderr",
     "output_type": "stream",
     "text": [
      "@> 4848 atoms and 1 coordinate set(s) were parsed in 0.05s.\n",
      "@> 33 atoms and 1 coordinate set(s) were parsed in 0.00s.\n",
      "@> 4848 atoms and 1 coordinate set(s) were parsed in 0.08s.\n",
      "@> 32 atoms and 1 coordinate set(s) were parsed in 0.00s.\n",
      "@> 4848 atoms and 1 coordinate set(s) were parsed in 0.04s.\n",
      "@> 18 atoms and 1 coordinate set(s) were parsed in 0.00s.\n"
     ]
    },
    {
     "name": "stdout",
     "output_type": "stream",
     "text": [
      "[900 900 900 900 900 900 900 900 900 900 900 900 900 900 901 901]\n",
      "368.0\n",
      "84.0\n",
      "[301 301 301 301 301 301 301 301 301 301 301 301]\n",
      "400.0\n",
      "[301 301 301 301 301 301 301 301 301 301 301 301 301 301 301]\n",
      "424.0\n"
     ]
    },
    {
     "name": "stderr",
     "output_type": "stream",
     "text": [
      "@> 4848 atoms and 1 coordinate set(s) were parsed in 0.09s.\n",
      "@> 17 atoms and 1 coordinate set(s) were parsed in 0.00s.\n",
      "@> 4848 atoms and 1 coordinate set(s) were parsed in 0.05s.\n",
      "@> 16 atoms and 1 coordinate set(s) were parsed in 0.00s.\n",
      "@> 4848 atoms and 1 coordinate set(s) were parsed in 0.07s.\n",
      "@> 21 atoms and 1 coordinate set(s) were parsed in 0.00s.\n"
     ]
    },
    {
     "name": "stdout",
     "output_type": "stream",
     "text": [
      "La proteina 5oo0 no tiene ligando en el pocket.\n",
      "[301 301 301 301 301 301 301 301]\n",
      "214.0\n",
      "[301 301 301 301 301 301 301 301 301 301 301 301]\n",
      "200.0\n"
     ]
    },
    {
     "name": "stderr",
     "output_type": "stream",
     "text": [
      "@> 4848 atoms and 1 coordinate set(s) were parsed in 0.05s.\n",
      "@> 18 atoms and 1 coordinate set(s) were parsed in 0.00s.\n",
      "@> 4848 atoms and 1 coordinate set(s) were parsed in 0.06s.\n",
      "@> 28 atoms and 1 coordinate set(s) were parsed in 0.00s.\n",
      "@> 4848 atoms and 1 coordinate set(s) were parsed in 0.08s.\n",
      "@> 18 atoms and 1 coordinate set(s) were parsed in 0.00s.\n"
     ]
    },
    {
     "name": "stdout",
     "output_type": "stream",
     "text": [
      "La proteina 5osj no tiene ligando en el pocket.\n",
      "[301 301 301 301 301 301 301 301 301 301 301]\n",
      "230.0\n",
      "../ARCHIVOS/CRISTALES/LIGS_CDK2/RAW//5uq1_lig.pdb is not a valid filename or a valid PDB identifier. La proteina 5uq1 NO TIENE LIGANDO.\n",
      "../ARCHIVOS/CRISTALES/LIGS_CDK2/RAW//5uq2_lig.pdb is not a valid filename or a valid PDB identifier. La proteina 5uq2 NO TIENE LIGANDO.\n",
      "[301 301 301 301 301 301 301 301 301 301 301 301 301 301 301 301]\n",
      "346.0\n"
     ]
    },
    {
     "name": "stderr",
     "output_type": "stream",
     "text": [
      "@> 4848 atoms and 1 coordinate set(s) were parsed in 0.05s.\n",
      "@> 26 atoms and 1 coordinate set(s) were parsed in 0.00s.\n",
      "@> 4848 atoms and 1 coordinate set(s) were parsed in 0.05s.\n",
      "@> 27 atoms and 1 coordinate set(s) were parsed in 0.00s.\n",
      "@> 4848 atoms and 1 coordinate set(s) were parsed in 0.07s.\n",
      "@> 34 atoms and 1 coordinate set(s) were parsed in 0.00s.\n"
     ]
    },
    {
     "name": "stdout",
     "output_type": "stream",
     "text": [
      "[301 301 301 301 301 301 301 301 301]\n",
      "230.0\n",
      "[301 301 301 301 301 301 301 301 301 301 301 301 301 301 301 301]\n",
      "350.0\n",
      "[301 301 301 301 301 301 301 301 301 301 301]\n",
      "326.0\n"
     ]
    },
    {
     "name": "stderr",
     "output_type": "stream",
     "text": [
      "@> 4848 atoms and 1 coordinate set(s) were parsed in 0.06s.\n",
      "@> 27 atoms and 1 coordinate set(s) were parsed in 0.00s.\n",
      "@> 4848 atoms and 1 coordinate set(s) were parsed in 0.06s.\n",
      "@> 40 atoms and 1 coordinate set(s) were parsed in 0.00s.\n",
      "@> 4848 atoms and 1 coordinate set(s) were parsed in 0.05s.\n",
      "@> 6 atoms and 1 coordinate set(s) were parsed in 0.00s.\n"
     ]
    },
    {
     "name": "stdout",
     "output_type": "stream",
     "text": [
      "[301 301 301 301 301 301 301 301 301 301 301 301 301 301 301 301 302 302]\n",
      "350.0\n",
      "56.0\n",
      "[301 301 301 301 301 301 301 301 301 301 301]\n",
      "326.0\n",
      "[301 301 301 301 301 301 301 301 301 301 301 301 301 301 301]\n",
      "394.0\n"
     ]
    },
    {
     "name": "stderr",
     "output_type": "stream",
     "text": [
      "@> 4848 atoms and 1 coordinate set(s) were parsed in 0.07s.\n",
      "@> 15 atoms and 1 coordinate set(s) were parsed in 0.00s.\n",
      "@> 4848 atoms and 1 coordinate set(s) were parsed in 0.05s.\n",
      "@> 17 atoms and 1 coordinate set(s) were parsed in 0.00s.\n",
      "@> 4848 atoms and 1 coordinate set(s) were parsed in 0.06s.\n",
      "@> 12 atoms and 1 coordinate set(s) were parsed in 0.00s.\n",
      "@> 4848 atoms and 1 coordinate set(s) were parsed in 0.05s.\n"
     ]
    },
    {
     "name": "stdout",
     "output_type": "stream",
     "text": [
      "[301 301 301 301 301]\n",
      "64.0\n",
      "La proteina 6q3b NO TIENE LIGANDO (masa => 80.0).\n",
      "[301 301 301 301 301]\n",
      "64.0\n",
      "La proteina 6q3c NO TIENE LIGANDO (masa => 80.0).\n",
      "La proteina 6q3f no tiene ligando en el pocket.\n"
     ]
    },
    {
     "name": "stderr",
     "output_type": "stream",
     "text": [
      "@> 12 atoms and 1 coordinate set(s) were parsed in 0.00s.\n",
      "@> 4848 atoms and 1 coordinate set(s) were parsed in 0.06s.\n",
      "@> 7 atoms and 1 coordinate set(s) were parsed in 0.00s.\n",
      "@> 4848 atoms and 1 coordinate set(s) were parsed in 0.05s.\n",
      "@> 7 atoms and 1 coordinate set(s) were parsed in 0.00s.\n"
     ]
    },
    {
     "name": "stdout",
     "output_type": "stream",
     "text": [
      "[302 302 302]\n",
      "90.0\n",
      "La proteina 6q49 no tiene ligando en el pocket.\n",
      "[301 301 301 301 301]\n",
      "76.0\n"
     ]
    },
    {
     "name": "stderr",
     "output_type": "stream",
     "text": [
      "@> 4848 atoms and 1 coordinate set(s) were parsed in 0.07s.\n",
      "@> 11 atoms and 1 coordinate set(s) were parsed in 0.00s.\n",
      "@> 4848 atoms and 1 coordinate set(s) were parsed in 0.05s.\n",
      "@> 81 atoms and 1 coordinate set(s) were parsed in 0.01s.\n",
      "@> 4848 atoms and 1 coordinate set(s) were parsed in 0.05s.\n",
      "@> 19 atoms and 1 coordinate set(s) were parsed in 0.00s.\n"
     ]
    },
    {
     "name": "stdout",
     "output_type": "stream",
     "text": [
      "[301 301 301 301 301 301 301]\n",
      "76.0\n",
      "[301 301 301 301 301 301 301 301 301]\n",
      "124.0\n",
      "[301 301 301 301 301 301 302]\n",
      "156.0\n",
      "156.0\n"
     ]
    },
    {
     "name": "stderr",
     "output_type": "stream",
     "text": [
      "@> 4848 atoms and 1 coordinate set(s) were parsed in 0.09s.\n",
      "@> 17 atoms and 1 coordinate set(s) were parsed in 0.00s.\n",
      "@> 4848 atoms and 1 coordinate set(s) were parsed in 0.04s.\n",
      "@> 20 atoms and 1 coordinate set(s) were parsed in 0.00s.\n",
      "@> 4848 atoms and 1 coordinate set(s) were parsed in 0.08s.\n",
      "@> 25 atoms and 1 coordinate set(s) were parsed in 0.00s.\n"
     ]
    },
    {
     "name": "stdout",
     "output_type": "stream",
     "text": [
      "[303 303 303 303 303 303 303 303]\n",
      "130.0\n",
      "[301 301 301 301 301 301]\n",
      "102.0\n",
      "[301 301 301 301 301 301 301 301 301 301 301 301]\n",
      "258.0\n"
     ]
    },
    {
     "name": "stderr",
     "output_type": "stream",
     "text": [
      "@> 4848 atoms and 1 coordinate set(s) were parsed in 0.05s.\n",
      "@> 22 atoms and 1 coordinate set(s) were parsed in 0.00s.\n",
      "@> 4848 atoms and 1 coordinate set(s) were parsed in 0.05s.\n",
      "@> 25 atoms and 1 coordinate set(s) were parsed in 0.00s.\n",
      "@> 4848 atoms and 1 coordinate set(s) were parsed in 0.05s.\n",
      "@> 46 atoms and 1 coordinate set(s) were parsed in 0.00s.\n"
     ]
    },
    {
     "name": "stdout",
     "output_type": "stream",
     "text": [
      "[301 301 301 301 301 301 301 301 301 301 301 301]\n",
      "274.0\n",
      "[302 302 302 302 302 302 302 302 302 302]\n",
      "234.0\n",
      "[303 303 303 303 303 303 303 303 303 303 303 303 303]\n",
      "218.0\n"
     ]
    },
    {
     "name": "stderr",
     "output_type": "stream",
     "text": [
      "@> 4848 atoms and 1 coordinate set(s) were parsed in 0.08s.\n"
     ]
    },
    {
     "name": "stdout",
     "output_type": "stream",
     "text": [
      "[303 303 303 303]\n",
      "56.0\n",
      "La proteina 6q4k NO TIENE LIGANDO (masa => 80.0).\n"
     ]
    }
   ],
   "source": [
    "# Se obtienen los ligandos y a la tabla de datos se le agrega la información sobre el inhibidor y su masa\n",
    "\n",
    "df_cdk2_c = df_cdk2.copy()\n",
    "# Se agregan dos columnas\n",
    "df_cdk2_c[\"Inhib\"] = \"\"\n",
    "df_cdk2_c[\"Inhib_mass\"] = np.nan\n",
    "# Se establecen los PDB IDs  como indices\n",
    "df_cdk2_c = df_cdk2_c.set_index(\"PDB_ID\")\n",
    "\n",
    "pdb_id_prueba = [\"3pxf\"]\n",
    "\n",
    "# Se obtienen los ligandos\n",
    "for pdb_id in df_cdk2_c.index:\n",
    "    inhibidor = get_pocket_ligand(pdb_id, write_files=True, \n",
    "                                  ref_structure=ref_structure, zona=3.0)\n",
    "    df_cdk2_c.at[str(pdb_id), 'Inhib'] = inhibidor[0]\n",
    "    df_cdk2_c.at[pdb_id, 'Inhib_mass'] = inhibidor[1]\n",
    "    \n",
    "df_cdk2_c = df_cdk2_c.reset_index()"
   ]
  },
  {
   "cell_type": "code",
   "execution_count": 32,
   "metadata": {},
   "outputs": [],
   "source": [
    "df_cdk2_c.to_csv(\"./B_DATOS/TABLA_MTDATA_CDK2_402_crys_LIGS_INFO.csv\")"
   ]
  },
  {
   "cell_type": "code",
   "execution_count": 31,
   "metadata": {},
   "outputs": [
    {
     "data": {
      "text/html": [
       "<div>\n",
       "<style scoped>\n",
       "    .dataframe tbody tr th:only-of-type {\n",
       "        vertical-align: middle;\n",
       "    }\n",
       "\n",
       "    .dataframe tbody tr th {\n",
       "        vertical-align: top;\n",
       "    }\n",
       "\n",
       "    .dataframe thead th {\n",
       "        text-align: right;\n",
       "    }\n",
       "</style>\n",
       "<table border=\"1\" class=\"dataframe\">\n",
       "  <thead>\n",
       "    <tr style=\"text-align: right;\">\n",
       "      <th></th>\n",
       "      <th>PDB_ID</th>\n",
       "      <th>Title</th>\n",
       "      <th>Date</th>\n",
       "      <th>Entities</th>\n",
       "      <th>ChainID</th>\n",
       "      <th>Resolution</th>\n",
       "      <th>Identity</th>\n",
       "      <th>Coverage</th>\n",
       "      <th>NumGaps</th>\n",
       "      <th>GapLen</th>\n",
       "      <th>GapPos</th>\n",
       "      <th>NumLigs</th>\n",
       "      <th>NameLigs</th>\n",
       "      <th>Inhib</th>\n",
       "      <th>Inhib_mass</th>\n",
       "    </tr>\n",
       "  </thead>\n",
       "  <tbody>\n",
       "    <tr>\n",
       "      <th>0</th>\n",
       "      <td>1aq1</td>\n",
       "      <td>human cyclin dependent kinase 2 complexed with...</td>\n",
       "      <td>1997-11-12</td>\n",
       "      <td>1</td>\n",
       "      <td>A</td>\n",
       "      <td>2.00</td>\n",
       "      <td>298.0</td>\n",
       "      <td>92.953020</td>\n",
       "      <td>2.0</td>\n",
       "      <td>[8, 13]</td>\n",
       "      <td>[[36, 43], [149, 161]]</td>\n",
       "      <td>1.0</td>\n",
       "      <td>['STU']</td>\n",
       "      <td>STU</td>\n",
       "      <td>440.0</td>\n",
       "    </tr>\n",
       "    <tr>\n",
       "      <th>1</th>\n",
       "      <td>1b38</td>\n",
       "      <td>human cyclin-dependent kinase 2</td>\n",
       "      <td>1998-12-23</td>\n",
       "      <td>1</td>\n",
       "      <td>A</td>\n",
       "      <td>2.00</td>\n",
       "      <td>298.0</td>\n",
       "      <td>97.315436</td>\n",
       "      <td>1.0</td>\n",
       "      <td>[8]</td>\n",
       "      <td>[[36, 43]]</td>\n",
       "      <td>3.0</td>\n",
       "      <td>['ACE', 'ATP', 'MG']</td>\n",
       "      <td>ATP</td>\n",
       "      <td>398.0</td>\n",
       "    </tr>\n",
       "    <tr>\n",
       "      <th>2</th>\n",
       "      <td>1b39</td>\n",
       "      <td>human cyclin-dependent kinase 2 phosphorylated...</td>\n",
       "      <td>1998-12-23</td>\n",
       "      <td>1</td>\n",
       "      <td>A</td>\n",
       "      <td>2.10</td>\n",
       "      <td>298.0</td>\n",
       "      <td>97.315436</td>\n",
       "      <td>1.0</td>\n",
       "      <td>[8]</td>\n",
       "      <td>[[36, 43]]</td>\n",
       "      <td>3.0</td>\n",
       "      <td>['ACE', 'ATP', 'MG']</td>\n",
       "      <td>ATP</td>\n",
       "      <td>398.0</td>\n",
       "    </tr>\n",
       "    <tr>\n",
       "      <th>3</th>\n",
       "      <td>1buh</td>\n",
       "      <td>crystal structure of the human cdk2 kinase com...</td>\n",
       "      <td>1998-09-09</td>\n",
       "      <td>2</td>\n",
       "      <td>A</td>\n",
       "      <td>2.60</td>\n",
       "      <td>298.0</td>\n",
       "      <td>96.308725</td>\n",
       "      <td>2.0</td>\n",
       "      <td>[7, 4]</td>\n",
       "      <td>[[40, 46], [295, 298]]</td>\n",
       "      <td>0.0</td>\n",
       "      <td>[]</td>\n",
       "      <td>None</td>\n",
       "      <td>NaN</td>\n",
       "    </tr>\n",
       "    <tr>\n",
       "      <th>4</th>\n",
       "      <td>1ckp</td>\n",
       "      <td>human cyclin dependent kinase 2 complexed with...</td>\n",
       "      <td>1999-01-13</td>\n",
       "      <td>1</td>\n",
       "      <td>A</td>\n",
       "      <td>2.05</td>\n",
       "      <td>298.0</td>\n",
       "      <td>93.624161</td>\n",
       "      <td>2.0</td>\n",
       "      <td>[8, 11]</td>\n",
       "      <td>[[36, 43], [153, 163]]</td>\n",
       "      <td>2.0</td>\n",
       "      <td>['EDO', 'PVB']</td>\n",
       "      <td>PVB</td>\n",
       "      <td>214.0</td>\n",
       "    </tr>\n",
       "    <tr>\n",
       "      <th>5</th>\n",
       "      <td>1di8</td>\n",
       "      <td>the structure of cyclin-dependent kinase 2 (cd...</td>\n",
       "      <td>2000-11-29</td>\n",
       "      <td>1</td>\n",
       "      <td>A</td>\n",
       "      <td>2.20</td>\n",
       "      <td>298.0</td>\n",
       "      <td>94.966443</td>\n",
       "      <td>2.0</td>\n",
       "      <td>[6, 9]</td>\n",
       "      <td>[[37, 42], [153, 161]]</td>\n",
       "      <td>1.0</td>\n",
       "      <td>['DTQ']</td>\n",
       "      <td>DTQ</td>\n",
       "      <td>282.0</td>\n",
       "    </tr>\n",
       "    <tr>\n",
       "      <th>6</th>\n",
       "      <td>1dm2</td>\n",
       "      <td>human cyclin-dependent kinase 2 complexed with...</td>\n",
       "      <td>2000-05-31</td>\n",
       "      <td>1</td>\n",
       "      <td>A</td>\n",
       "      <td>2.10</td>\n",
       "      <td>298.0</td>\n",
       "      <td>91.946309</td>\n",
       "      <td>2.0</td>\n",
       "      <td>[9, 15]</td>\n",
       "      <td>[[36, 44], [149, 163]]</td>\n",
       "      <td>2.0</td>\n",
       "      <td>['EDO', 'HMD']</td>\n",
       "      <td>HMD</td>\n",
       "      <td>234.0</td>\n",
       "    </tr>\n",
       "    <tr>\n",
       "      <th>7</th>\n",
       "      <td>1e1v</td>\n",
       "      <td>human cyclin dependent kinase 2 complexed with...</td>\n",
       "      <td>2001-05-10</td>\n",
       "      <td>1</td>\n",
       "      <td>A</td>\n",
       "      <td>1.95</td>\n",
       "      <td>298.0</td>\n",
       "      <td>97.315436</td>\n",
       "      <td>1.0</td>\n",
       "      <td>[8]</td>\n",
       "      <td>[[36, 43]]</td>\n",
       "      <td>2.0</td>\n",
       "      <td>['ACE', 'CMG']</td>\n",
       "      <td>CMG</td>\n",
       "      <td>230.0</td>\n",
       "    </tr>\n",
       "    <tr>\n",
       "      <th>8</th>\n",
       "      <td>1e1x</td>\n",
       "      <td>human cyclin dependent kinase 2 complexed with...</td>\n",
       "      <td>2001-05-10</td>\n",
       "      <td>1</td>\n",
       "      <td>A</td>\n",
       "      <td>1.85</td>\n",
       "      <td>298.0</td>\n",
       "      <td>97.315436</td>\n",
       "      <td>1.0</td>\n",
       "      <td>[8]</td>\n",
       "      <td>[[36, 43]]</td>\n",
       "      <td>2.0</td>\n",
       "      <td>['ACE', 'NW1']</td>\n",
       "      <td>NW1</td>\n",
       "      <td>234.0</td>\n",
       "    </tr>\n",
       "    <tr>\n",
       "      <th>9</th>\n",
       "      <td>1e9h</td>\n",
       "      <td>thr 160 phosphorylated cdk2 - human cyclin a3 ...</td>\n",
       "      <td>2001-10-11</td>\n",
       "      <td>2</td>\n",
       "      <td>A</td>\n",
       "      <td>2.50</td>\n",
       "      <td>295.0</td>\n",
       "      <td>99.328859</td>\n",
       "      <td>1.0</td>\n",
       "      <td>[2]</td>\n",
       "      <td>[[296, 297]]</td>\n",
       "      <td>2.0</td>\n",
       "      <td>['INR', 'TPO']</td>\n",
       "      <td>INR</td>\n",
       "      <td>332.0</td>\n",
       "    </tr>\n",
       "    <tr>\n",
       "      <th>10</th>\n",
       "      <td>1f5q</td>\n",
       "      <td>crystal structure of murine gamma herpesvirus ...</td>\n",
       "      <td>2000-12-27</td>\n",
       "      <td>2</td>\n",
       "      <td>A</td>\n",
       "      <td>2.50</td>\n",
       "      <td>298.0</td>\n",
       "      <td>99.328859</td>\n",
       "      <td>1.0</td>\n",
       "      <td>[2]</td>\n",
       "      <td>[[10, 11]]</td>\n",
       "      <td>1.0</td>\n",
       "      <td>['CL']</td>\n",
       "      <td>None</td>\n",
       "      <td>NaN</td>\n",
       "    </tr>\n",
       "    <tr>\n",
       "      <th>11</th>\n",
       "      <td>1fin</td>\n",
       "      <td>cyclin a-cyclin-dependent kinase 2 complex</td>\n",
       "      <td>1997-01-27</td>\n",
       "      <td>2</td>\n",
       "      <td>A</td>\n",
       "      <td>2.30</td>\n",
       "      <td>298.0</td>\n",
       "      <td>100.000000</td>\n",
       "      <td>0.0</td>\n",
       "      <td>[]</td>\n",
       "      <td>[]</td>\n",
       "      <td>1.0</td>\n",
       "      <td>['ATP']</td>\n",
       "      <td>ATP</td>\n",
       "      <td>398.0</td>\n",
       "    </tr>\n",
       "    <tr>\n",
       "      <th>12</th>\n",
       "      <td>1fq1</td>\n",
       "      <td>crystal structure of kinase associated phospha...</td>\n",
       "      <td>2001-05-09</td>\n",
       "      <td>2</td>\n",
       "      <td>B</td>\n",
       "      <td>3.00</td>\n",
       "      <td>297.0</td>\n",
       "      <td>99.328859</td>\n",
       "      <td>1.0</td>\n",
       "      <td>[2]</td>\n",
       "      <td>[[296, 297]]</td>\n",
       "      <td>3.0</td>\n",
       "      <td>['ATP', 'MG', 'TPO']</td>\n",
       "      <td>ATP</td>\n",
       "      <td>398.0</td>\n",
       "    </tr>\n",
       "    <tr>\n",
       "      <th>13</th>\n",
       "      <td>1fvt</td>\n",
       "      <td>the structure of cyclin-dependent kinase 2 (cd...</td>\n",
       "      <td>2001-01-17</td>\n",
       "      <td>1</td>\n",
       "      <td>A</td>\n",
       "      <td>2.20</td>\n",
       "      <td>298.0</td>\n",
       "      <td>94.630872</td>\n",
       "      <td>2.0</td>\n",
       "      <td>[7, 9]</td>\n",
       "      <td>[[37, 43], [154, 162]]</td>\n",
       "      <td>1.0</td>\n",
       "      <td>['106']</td>\n",
       "      <td>106</td>\n",
       "      <td>304.0</td>\n",
       "    </tr>\n",
       "    <tr>\n",
       "      <th>14</th>\n",
       "      <td>1fvv</td>\n",
       "      <td>the structure of cdk2/cyclin a in complex with...</td>\n",
       "      <td>2001-01-17</td>\n",
       "      <td>2</td>\n",
       "      <td>A</td>\n",
       "      <td>2.80</td>\n",
       "      <td>298.0</td>\n",
       "      <td>100.000000</td>\n",
       "      <td>0.0</td>\n",
       "      <td>[]</td>\n",
       "      <td>[]</td>\n",
       "      <td>1.0</td>\n",
       "      <td>['107']</td>\n",
       "      <td>107</td>\n",
       "      <td>434.0</td>\n",
       "    </tr>\n",
       "    <tr>\n",
       "      <th>15</th>\n",
       "      <td>1g5s</td>\n",
       "      <td>crystal structure of human cyclin dependent ki...</td>\n",
       "      <td>2001-11-02</td>\n",
       "      <td>1</td>\n",
       "      <td>A</td>\n",
       "      <td>2.61</td>\n",
       "      <td>298.0</td>\n",
       "      <td>92.281879</td>\n",
       "      <td>2.0</td>\n",
       "      <td>[9, 14]</td>\n",
       "      <td>[[37, 45], [149, 162]]</td>\n",
       "      <td>1.0</td>\n",
       "      <td>['I17']</td>\n",
       "      <td>I17</td>\n",
       "      <td>374.0</td>\n",
       "    </tr>\n",
       "    <tr>\n",
       "      <th>16</th>\n",
       "      <td>1gih</td>\n",
       "      <td>human cyclin dependent kinase 2 complexed with...</td>\n",
       "      <td>2002-02-06</td>\n",
       "      <td>1</td>\n",
       "      <td>A</td>\n",
       "      <td>2.80</td>\n",
       "      <td>298.0</td>\n",
       "      <td>92.617450</td>\n",
       "      <td>2.0</td>\n",
       "      <td>[8, 14]</td>\n",
       "      <td>[[37, 44], [150, 163]]</td>\n",
       "      <td>1.0</td>\n",
       "      <td>['1PU']</td>\n",
       "      <td>1PU</td>\n",
       "      <td>292.0</td>\n",
       "    </tr>\n",
       "    <tr>\n",
       "      <th>17</th>\n",
       "      <td>1gii</td>\n",
       "      <td>human cyclin dependent kinase 2 complexed with...</td>\n",
       "      <td>2002-02-06</td>\n",
       "      <td>1</td>\n",
       "      <td>A</td>\n",
       "      <td>2.00</td>\n",
       "      <td>295.0</td>\n",
       "      <td>93.624161</td>\n",
       "      <td>2.0</td>\n",
       "      <td>[8, 11]</td>\n",
       "      <td>[[36, 43], [153, 163]]</td>\n",
       "      <td>1.0</td>\n",
       "      <td>['1PU']</td>\n",
       "      <td>1PU</td>\n",
       "      <td>292.0</td>\n",
       "    </tr>\n",
       "    <tr>\n",
       "      <th>18</th>\n",
       "      <td>1gij</td>\n",
       "      <td>human cyclin dependent kinase 2 complexed with...</td>\n",
       "      <td>2002-02-06</td>\n",
       "      <td>1</td>\n",
       "      <td>A</td>\n",
       "      <td>2.20</td>\n",
       "      <td>295.0</td>\n",
       "      <td>91.610738</td>\n",
       "      <td>2.0</td>\n",
       "      <td>[11, 14]</td>\n",
       "      <td>[[37, 47], [150, 163]]</td>\n",
       "      <td>1.0</td>\n",
       "      <td>['2PU']</td>\n",
       "      <td>2PU</td>\n",
       "      <td>344.0</td>\n",
       "    </tr>\n",
       "    <tr>\n",
       "      <th>19</th>\n",
       "      <td>1gy3</td>\n",
       "      <td>pcdk2/cyclin a in complex with mgadp, nitrate ...</td>\n",
       "      <td>2002-04-29</td>\n",
       "      <td>3</td>\n",
       "      <td>A</td>\n",
       "      <td>2.70</td>\n",
       "      <td>297.0</td>\n",
       "      <td>99.328859</td>\n",
       "      <td>1.0</td>\n",
       "      <td>[2]</td>\n",
       "      <td>[[296, 297]]</td>\n",
       "      <td>5.0</td>\n",
       "      <td>['ATP', 'GOL', 'MG', 'NO3', 'TPO']</td>\n",
       "      <td>ATP</td>\n",
       "      <td>350.0</td>\n",
       "    </tr>\n",
       "    <tr>\n",
       "      <th>20</th>\n",
       "      <td>1gz8</td>\n",
       "      <td>human cyclin dependent kinase 2 complexed with...</td>\n",
       "      <td>2003-06-12</td>\n",
       "      <td>1</td>\n",
       "      <td>A</td>\n",
       "      <td>1.30</td>\n",
       "      <td>297.0</td>\n",
       "      <td>97.315436</td>\n",
       "      <td>2.0</td>\n",
       "      <td>[7, 1]</td>\n",
       "      <td>[[37, 43], [177, 177]]</td>\n",
       "      <td>3.0</td>\n",
       "      <td>['ACE', 'CSD', 'MBP']</td>\n",
       "      <td>MBP</td>\n",
       "      <td>222.0</td>\n",
       "    </tr>\n",
       "    <tr>\n",
       "      <th>21</th>\n",
       "      <td>1h00</td>\n",
       "      <td>cdk2 in complex with a disubstituted 4, 6-bis ...</td>\n",
       "      <td>2003-07-11</td>\n",
       "      <td>1</td>\n",
       "      <td>A</td>\n",
       "      <td>1.60</td>\n",
       "      <td>298.0</td>\n",
       "      <td>93.288591</td>\n",
       "      <td>3.0</td>\n",
       "      <td>[2, 8, 10]</td>\n",
       "      <td>[[13, 14], [36, 43], [152, 161]]</td>\n",
       "      <td>3.0</td>\n",
       "      <td>['ACE', 'FAP', 'FCP']</td>\n",
       "      <td>FAP</td>\n",
       "      <td>354.0</td>\n",
       "    </tr>\n",
       "    <tr>\n",
       "      <th>22</th>\n",
       "      <td>1h01</td>\n",
       "      <td>cdk2 in complex with a disubstituted 2, 4-bis ...</td>\n",
       "      <td>2003-07-11</td>\n",
       "      <td>1</td>\n",
       "      <td>A</td>\n",
       "      <td>1.79</td>\n",
       "      <td>297.0</td>\n",
       "      <td>95.973154</td>\n",
       "      <td>2.0</td>\n",
       "      <td>[10, 2]</td>\n",
       "      <td>[[34, 43], [296, 297]]</td>\n",
       "      <td>4.0</td>\n",
       "      <td>['FAL', 'FBL', 'GOL', 'KCX']</td>\n",
       "      <td>FAL</td>\n",
       "      <td>354.0</td>\n",
       "    </tr>\n",
       "    <tr>\n",
       "      <th>23</th>\n",
       "      <td>1h07</td>\n",
       "      <td>cdk2 in complex with a disubstituted 4, 6-bis ...</td>\n",
       "      <td>2003-07-11</td>\n",
       "      <td>1</td>\n",
       "      <td>A</td>\n",
       "      <td>1.85</td>\n",
       "      <td>298.0</td>\n",
       "      <td>95.637584</td>\n",
       "      <td>3.0</td>\n",
       "      <td>[7, 4, 2]</td>\n",
       "      <td>[[37, 43], [151, 154], [296, 297]]</td>\n",
       "      <td>3.0</td>\n",
       "      <td>['ACE', 'MFP', 'MFQ']</td>\n",
       "      <td>MFP</td>\n",
       "      <td>404.0</td>\n",
       "    </tr>\n",
       "    <tr>\n",
       "      <th>24</th>\n",
       "      <td>1h08</td>\n",
       "      <td>cdk2 in complex with a disubstituted 2, 4-bis ...</td>\n",
       "      <td>2003-07-11</td>\n",
       "      <td>1</td>\n",
       "      <td>A</td>\n",
       "      <td>1.80</td>\n",
       "      <td>298.0</td>\n",
       "      <td>94.966443</td>\n",
       "      <td>2.0</td>\n",
       "      <td>[8, 7]</td>\n",
       "      <td>[[36, 43], [154, 160]]</td>\n",
       "      <td>4.0</td>\n",
       "      <td>['ACE', 'BWP', 'BYP', 'GOL']</td>\n",
       "      <td>BYP</td>\n",
       "      <td>354.0</td>\n",
       "    </tr>\n",
       "    <tr>\n",
       "      <th>25</th>\n",
       "      <td>1h0v</td>\n",
       "      <td>human cyclin dependent protein kinase 2 in com...</td>\n",
       "      <td>2003-06-27</td>\n",
       "      <td>1</td>\n",
       "      <td>A</td>\n",
       "      <td>1.90</td>\n",
       "      <td>298.0</td>\n",
       "      <td>96.644295</td>\n",
       "      <td>2.0</td>\n",
       "      <td>[7, 3]</td>\n",
       "      <td>[[37, 43], [159, 161]]</td>\n",
       "      <td>1.0</td>\n",
       "      <td>['UN4']</td>\n",
       "      <td>UN4</td>\n",
       "      <td>236.0</td>\n",
       "    </tr>\n",
       "    <tr>\n",
       "      <th>26</th>\n",
       "      <td>1h0w</td>\n",
       "      <td>human cyclin dependent protein kinase 2 in com...</td>\n",
       "      <td>2003-06-27</td>\n",
       "      <td>1</td>\n",
       "      <td>A</td>\n",
       "      <td>2.10</td>\n",
       "      <td>298.0</td>\n",
       "      <td>94.966443</td>\n",
       "      <td>2.0</td>\n",
       "      <td>[7, 8]</td>\n",
       "      <td>[[37, 43], [156, 163]]</td>\n",
       "      <td>1.0</td>\n",
       "      <td>['207']</td>\n",
       "      <td>207</td>\n",
       "      <td>228.0</td>\n",
       "    </tr>\n",
       "    <tr>\n",
       "      <th>27</th>\n",
       "      <td>1h1p</td>\n",
       "      <td>structure of human thr160-phospho cdk2/cyclin ...</td>\n",
       "      <td>2002-09-19</td>\n",
       "      <td>2</td>\n",
       "      <td>A</td>\n",
       "      <td>2.10</td>\n",
       "      <td>297.0</td>\n",
       "      <td>99.664430</td>\n",
       "      <td>1.0</td>\n",
       "      <td>[2]</td>\n",
       "      <td>[[297, 298]]</td>\n",
       "      <td>2.0</td>\n",
       "      <td>['CMG', 'TPO']</td>\n",
       "      <td>CMG</td>\n",
       "      <td>230.0</td>\n",
       "    </tr>\n",
       "    <tr>\n",
       "      <th>28</th>\n",
       "      <td>1h1q</td>\n",
       "      <td>structure of human thr160-phospho cdk2/cyclin ...</td>\n",
       "      <td>2002-09-19</td>\n",
       "      <td>2</td>\n",
       "      <td>A</td>\n",
       "      <td>2.50</td>\n",
       "      <td>297.0</td>\n",
       "      <td>99.664430</td>\n",
       "      <td>1.0</td>\n",
       "      <td>[2]</td>\n",
       "      <td>[[297, 298]]</td>\n",
       "      <td>2.0</td>\n",
       "      <td>['2A6', 'TPO']</td>\n",
       "      <td>2A6</td>\n",
       "      <td>302.0</td>\n",
       "    </tr>\n",
       "    <tr>\n",
       "      <th>29</th>\n",
       "      <td>1h1r</td>\n",
       "      <td>structure of human thr160-phospho cdk2/cyclin ...</td>\n",
       "      <td>2002-09-19</td>\n",
       "      <td>2</td>\n",
       "      <td>A</td>\n",
       "      <td>2.00</td>\n",
       "      <td>297.0</td>\n",
       "      <td>99.664430</td>\n",
       "      <td>1.0</td>\n",
       "      <td>[2]</td>\n",
       "      <td>[[297, 298]]</td>\n",
       "      <td>2.0</td>\n",
       "      <td>['6CP', 'TPO']</td>\n",
       "      <td>6CP</td>\n",
       "      <td>302.0</td>\n",
       "    </tr>\n",
       "    <tr>\n",
       "      <th>...</th>\n",
       "      <td>...</td>\n",
       "      <td>...</td>\n",
       "      <td>...</td>\n",
       "      <td>...</td>\n",
       "      <td>...</td>\n",
       "      <td>...</td>\n",
       "      <td>...</td>\n",
       "      <td>...</td>\n",
       "      <td>...</td>\n",
       "      <td>...</td>\n",
       "      <td>...</td>\n",
       "      <td>...</td>\n",
       "      <td>...</td>\n",
       "      <td>...</td>\n",
       "      <td>...</td>\n",
       "    </tr>\n",
       "    <tr>\n",
       "      <th>372</th>\n",
       "      <td>5oo0</td>\n",
       "      <td>cdk2(wt) covalent adduct with d28 at c177</td>\n",
       "      <td>2018-03-14</td>\n",
       "      <td>1</td>\n",
       "      <td>A</td>\n",
       "      <td>1.60</td>\n",
       "      <td>298.0</td>\n",
       "      <td>96.644295</td>\n",
       "      <td>3.0</td>\n",
       "      <td>[1, 7, 2]</td>\n",
       "      <td>[[1, 1], [37, 43], [296, 297]]</td>\n",
       "      <td>1.0</td>\n",
       "      <td>['9YZ']</td>\n",
       "      <td>None</td>\n",
       "      <td>NaN</td>\n",
       "    </tr>\n",
       "    <tr>\n",
       "      <th>373</th>\n",
       "      <td>5oo1</td>\n",
       "      <td>cdk2(f80c, c177a) covalent adduct with c37 at ...</td>\n",
       "      <td>2018-08-29</td>\n",
       "      <td>1</td>\n",
       "      <td>A</td>\n",
       "      <td>2.00</td>\n",
       "      <td>296.0</td>\n",
       "      <td>93.288591</td>\n",
       "      <td>2.0</td>\n",
       "      <td>[3, 17]</td>\n",
       "      <td>[[1, 3], [147, 163]]</td>\n",
       "      <td>1.0</td>\n",
       "      <td>['9Z2']</td>\n",
       "      <td>9Z2</td>\n",
       "      <td>214.0</td>\n",
       "    </tr>\n",
       "    <tr>\n",
       "      <th>374</th>\n",
       "      <td>5oo3</td>\n",
       "      <td>cdk2(f80c, c177a) with covalent ligand at f80c</td>\n",
       "      <td>2018-08-29</td>\n",
       "      <td>1</td>\n",
       "      <td>A</td>\n",
       "      <td>1.73</td>\n",
       "      <td>296.0</td>\n",
       "      <td>95.973154</td>\n",
       "      <td>3.0</td>\n",
       "      <td>[1, 7, 4]</td>\n",
       "      <td>[[1, 1], [38, 44], [295, 298]]</td>\n",
       "      <td>1.0</td>\n",
       "      <td>['9ZB']</td>\n",
       "      <td>9ZB</td>\n",
       "      <td>200.0</td>\n",
       "    </tr>\n",
       "    <tr>\n",
       "      <th>375</th>\n",
       "      <td>5osj</td>\n",
       "      <td>cdk2(wt) with covalent adduct at c177</td>\n",
       "      <td>2018-03-14</td>\n",
       "      <td>1</td>\n",
       "      <td>A</td>\n",
       "      <td>1.83</td>\n",
       "      <td>298.0</td>\n",
       "      <td>97.986577</td>\n",
       "      <td>3.0</td>\n",
       "      <td>[1, 3, 2]</td>\n",
       "      <td>[[1, 1], [39, 41], [296, 297]]</td>\n",
       "      <td>1.0</td>\n",
       "      <td>['AAK']</td>\n",
       "      <td>None</td>\n",
       "      <td>NaN</td>\n",
       "    </tr>\n",
       "    <tr>\n",
       "      <th>376</th>\n",
       "      <td>5osm</td>\n",
       "      <td>cdk2(f80c, c177a) with covalent adduct at c80</td>\n",
       "      <td>2018-03-14</td>\n",
       "      <td>1</td>\n",
       "      <td>A</td>\n",
       "      <td>1.77</td>\n",
       "      <td>296.0</td>\n",
       "      <td>97.986577</td>\n",
       "      <td>2.0</td>\n",
       "      <td>[8, 2]</td>\n",
       "      <td>[[41, 48], [300, 301]]</td>\n",
       "      <td>1.0</td>\n",
       "      <td>['AEQ']</td>\n",
       "      <td>AEQ</td>\n",
       "      <td>230.0</td>\n",
       "    </tr>\n",
       "    <tr>\n",
       "      <th>377</th>\n",
       "      <td>5uq1</td>\n",
       "      <td>crystal structure of human cdk2-spy1 complex</td>\n",
       "      <td>2017-07-05</td>\n",
       "      <td>2</td>\n",
       "      <td>A</td>\n",
       "      <td>3.20</td>\n",
       "      <td>298.0</td>\n",
       "      <td>96.644295</td>\n",
       "      <td>3.0</td>\n",
       "      <td>[2, 6, 2]</td>\n",
       "      <td>[[1, 2], [22, 27], [296, 297]]</td>\n",
       "      <td>0.0</td>\n",
       "      <td>[]</td>\n",
       "      <td>None</td>\n",
       "      <td>NaN</td>\n",
       "    </tr>\n",
       "    <tr>\n",
       "      <th>378</th>\n",
       "      <td>5uq2</td>\n",
       "      <td>crystal structure of human cdk2-spy1 complex</td>\n",
       "      <td>2017-07-05</td>\n",
       "      <td>2</td>\n",
       "      <td>A</td>\n",
       "      <td>2.70</td>\n",
       "      <td>298.0</td>\n",
       "      <td>99.328859</td>\n",
       "      <td>1.0</td>\n",
       "      <td>[2]</td>\n",
       "      <td>[[296, 297]]</td>\n",
       "      <td>0.0</td>\n",
       "      <td>[]</td>\n",
       "      <td>None</td>\n",
       "      <td>NaN</td>\n",
       "    </tr>\n",
       "    <tr>\n",
       "      <th>379</th>\n",
       "      <td>6gub</td>\n",
       "      <td>cdk2/cyclina in complex with flavopiridol</td>\n",
       "      <td>2018-12-05</td>\n",
       "      <td>2</td>\n",
       "      <td>A</td>\n",
       "      <td>2.52</td>\n",
       "      <td>297.0</td>\n",
       "      <td>98.657718</td>\n",
       "      <td>2.0</td>\n",
       "      <td>[3, 2]</td>\n",
       "      <td>[[39, 41], [297, 298]]</td>\n",
       "      <td>2.0</td>\n",
       "      <td>['F9Z', 'TPO']</td>\n",
       "      <td>F9Z</td>\n",
       "      <td>346.0</td>\n",
       "    </tr>\n",
       "    <tr>\n",
       "      <th>380</th>\n",
       "      <td>6guc</td>\n",
       "      <td>cdk2/cyclina in complex with su9516</td>\n",
       "      <td>2018-12-05</td>\n",
       "      <td>2</td>\n",
       "      <td>A</td>\n",
       "      <td>2.00</td>\n",
       "      <td>297.0</td>\n",
       "      <td>97.986577</td>\n",
       "      <td>2.0</td>\n",
       "      <td>[5, 2]</td>\n",
       "      <td>[[37, 41], [297, 298]]</td>\n",
       "      <td>2.0</td>\n",
       "      <td>['SU9', 'TPO']</td>\n",
       "      <td>SU9</td>\n",
       "      <td>230.0</td>\n",
       "    </tr>\n",
       "    <tr>\n",
       "      <th>381</th>\n",
       "      <td>6gue</td>\n",
       "      <td>cdk2/cyclina in complex with azd5438</td>\n",
       "      <td>2018-12-05</td>\n",
       "      <td>3</td>\n",
       "      <td>C</td>\n",
       "      <td>1.99</td>\n",
       "      <td>297.0</td>\n",
       "      <td>96.979866</td>\n",
       "      <td>3.0</td>\n",
       "      <td>[5, 3, 2]</td>\n",
       "      <td>[[226, 230], [243, 245], [297, 298]]</td>\n",
       "      <td>2.0</td>\n",
       "      <td>['FB8', 'TPO']</td>\n",
       "      <td>FB8</td>\n",
       "      <td>350.0</td>\n",
       "    </tr>\n",
       "    <tr>\n",
       "      <th>382</th>\n",
       "      <td>6guf</td>\n",
       "      <td>cdk2/cyclina in complex with cgp74514a</td>\n",
       "      <td>2018-12-05</td>\n",
       "      <td>2</td>\n",
       "      <td>A</td>\n",
       "      <td>2.65</td>\n",
       "      <td>297.0</td>\n",
       "      <td>99.328859</td>\n",
       "      <td>1.0</td>\n",
       "      <td>[3]</td>\n",
       "      <td>[[39, 41]]</td>\n",
       "      <td>2.0</td>\n",
       "      <td>['23D', 'TPO']</td>\n",
       "      <td>23D</td>\n",
       "      <td>326.0</td>\n",
       "    </tr>\n",
       "    <tr>\n",
       "      <th>383</th>\n",
       "      <td>6guh</td>\n",
       "      <td>cdk2 in complex with azd5438</td>\n",
       "      <td>2018-12-05</td>\n",
       "      <td>1</td>\n",
       "      <td>A</td>\n",
       "      <td>1.50</td>\n",
       "      <td>298.0</td>\n",
       "      <td>95.302013</td>\n",
       "      <td>2.0</td>\n",
       "      <td>[8, 8]</td>\n",
       "      <td>[[40, 47], [151, 158]]</td>\n",
       "      <td>2.0</td>\n",
       "      <td>['EDO', 'FB8']</td>\n",
       "      <td>FB8</td>\n",
       "      <td>350.0</td>\n",
       "    </tr>\n",
       "    <tr>\n",
       "      <th>384</th>\n",
       "      <td>6guk</td>\n",
       "      <td>cdk2 in complex with cgp74514a</td>\n",
       "      <td>2018-12-05</td>\n",
       "      <td>1</td>\n",
       "      <td>A</td>\n",
       "      <td>1.30</td>\n",
       "      <td>298.0</td>\n",
       "      <td>93.288591</td>\n",
       "      <td>2.0</td>\n",
       "      <td>[10, 10]</td>\n",
       "      <td>[[37, 46], [154, 163]]</td>\n",
       "      <td>1.0</td>\n",
       "      <td>['FC8']</td>\n",
       "      <td>FC8</td>\n",
       "      <td>326.0</td>\n",
       "    </tr>\n",
       "    <tr>\n",
       "      <th>385</th>\n",
       "      <td>6gva</td>\n",
       "      <td>cdk2/cyclin a2 in complex with pyrazolo[4,3-d]...</td>\n",
       "      <td>2019-05-01</td>\n",
       "      <td>2</td>\n",
       "      <td>A</td>\n",
       "      <td>2.15</td>\n",
       "      <td>297.0</td>\n",
       "      <td>96.644295</td>\n",
       "      <td>2.0</td>\n",
       "      <td>[2, 8]</td>\n",
       "      <td>[[39, 40], [291, 298]]</td>\n",
       "      <td>8.0</td>\n",
       "      <td>['BR', 'CL', 'EDO', 'FCQ', 'PG4', 'PGE', 'SGM'...</td>\n",
       "      <td>FCQ</td>\n",
       "      <td>394.0</td>\n",
       "    </tr>\n",
       "    <tr>\n",
       "      <th>386</th>\n",
       "      <td>6q3b</td>\n",
       "      <td>cdk2 in complex with fraglite2</td>\n",
       "      <td>2019-03-20</td>\n",
       "      <td>1</td>\n",
       "      <td>A</td>\n",
       "      <td>1.11</td>\n",
       "      <td>298.0</td>\n",
       "      <td>94.966443</td>\n",
       "      <td>2.0</td>\n",
       "      <td>[7, 8]</td>\n",
       "      <td>[[38, 44], [155, 162]]</td>\n",
       "      <td>1.0</td>\n",
       "      <td>['PYZ']</td>\n",
       "      <td>None</td>\n",
       "      <td>NaN</td>\n",
       "    </tr>\n",
       "    <tr>\n",
       "      <th>387</th>\n",
       "      <td>6q3c</td>\n",
       "      <td>cdk2 in complex with fraglite1</td>\n",
       "      <td>2019-03-20</td>\n",
       "      <td>1</td>\n",
       "      <td>A</td>\n",
       "      <td>1.29</td>\n",
       "      <td>297.0</td>\n",
       "      <td>96.644295</td>\n",
       "      <td>3.0</td>\n",
       "      <td>[1, 8, 1]</td>\n",
       "      <td>[[1, 1], [37, 44], [177, 177]]</td>\n",
       "      <td>2.0</td>\n",
       "      <td>['BYZ', 'OCS']</td>\n",
       "      <td>None</td>\n",
       "      <td>NaN</td>\n",
       "    </tr>\n",
       "    <tr>\n",
       "      <th>388</th>\n",
       "      <td>6q3f</td>\n",
       "      <td>cdk2 in complex with fraglite2</td>\n",
       "      <td>2019-03-20</td>\n",
       "      <td>1</td>\n",
       "      <td>A</td>\n",
       "      <td>1.18</td>\n",
       "      <td>297.0</td>\n",
       "      <td>97.986577</td>\n",
       "      <td>2.0</td>\n",
       "      <td>[9, 1]</td>\n",
       "      <td>[[40, 48], [181, 181]]</td>\n",
       "      <td>2.0</td>\n",
       "      <td>['HEW', 'OCS']</td>\n",
       "      <td>None</td>\n",
       "      <td>NaN</td>\n",
       "    </tr>\n",
       "    <tr>\n",
       "      <th>389</th>\n",
       "      <td>6q48</td>\n",
       "      <td>cdk2 in complex with fraglite7</td>\n",
       "      <td>2019-03-20</td>\n",
       "      <td>1</td>\n",
       "      <td>A</td>\n",
       "      <td>1.03</td>\n",
       "      <td>298.0</td>\n",
       "      <td>93.959732</td>\n",
       "      <td>3.0</td>\n",
       "      <td>[8, 8, 2]</td>\n",
       "      <td>[[38, 45], [154, 161], [296, 297]]</td>\n",
       "      <td>2.0</td>\n",
       "      <td>['DMS', 'HHQ']</td>\n",
       "      <td>HHQ</td>\n",
       "      <td>90.0</td>\n",
       "    </tr>\n",
       "    <tr>\n",
       "      <th>390</th>\n",
       "      <td>6q49</td>\n",
       "      <td>cdk2 in complex with fraglite6</td>\n",
       "      <td>2019-03-20</td>\n",
       "      <td>1</td>\n",
       "      <td>A</td>\n",
       "      <td>1.00</td>\n",
       "      <td>298.0</td>\n",
       "      <td>96.308725</td>\n",
       "      <td>2.0</td>\n",
       "      <td>[6, 5]</td>\n",
       "      <td>[[38, 43], [157, 161]]</td>\n",
       "      <td>2.0</td>\n",
       "      <td>['DMS', 'HGQ']</td>\n",
       "      <td>None</td>\n",
       "      <td>NaN</td>\n",
       "    </tr>\n",
       "    <tr>\n",
       "      <th>391</th>\n",
       "      <td>6q4a</td>\n",
       "      <td>cdk2 in complex with fraglite14</td>\n",
       "      <td>2019-03-20</td>\n",
       "      <td>1</td>\n",
       "      <td>A</td>\n",
       "      <td>1.13</td>\n",
       "      <td>298.0</td>\n",
       "      <td>97.651007</td>\n",
       "      <td>2.0</td>\n",
       "      <td>[6, 1]</td>\n",
       "      <td>[[39, 44], [126, 126]]</td>\n",
       "      <td>1.0</td>\n",
       "      <td>['HGW']</td>\n",
       "      <td>HGW</td>\n",
       "      <td>76.0</td>\n",
       "    </tr>\n",
       "    <tr>\n",
       "      <th>392</th>\n",
       "      <td>6q4b</td>\n",
       "      <td>cdk2 in complex with fraglite13</td>\n",
       "      <td>2019-03-20</td>\n",
       "      <td>1</td>\n",
       "      <td>A</td>\n",
       "      <td>1.12</td>\n",
       "      <td>298.0</td>\n",
       "      <td>97.651007</td>\n",
       "      <td>1.0</td>\n",
       "      <td>[7]</td>\n",
       "      <td>[[38, 44]]</td>\n",
       "      <td>1.0</td>\n",
       "      <td>['HHN']</td>\n",
       "      <td>HHN</td>\n",
       "      <td>76.0</td>\n",
       "    </tr>\n",
       "    <tr>\n",
       "      <th>393</th>\n",
       "      <td>6q4c</td>\n",
       "      <td>cdk2 in complex with fraglite16</td>\n",
       "      <td>2019-03-20</td>\n",
       "      <td>1</td>\n",
       "      <td>A</td>\n",
       "      <td>1.73</td>\n",
       "      <td>298.0</td>\n",
       "      <td>98.322148</td>\n",
       "      <td>1.0</td>\n",
       "      <td>[7]</td>\n",
       "      <td>[[40, 46]]</td>\n",
       "      <td>1.0</td>\n",
       "      <td>['HH8']</td>\n",
       "      <td>HH8</td>\n",
       "      <td>124.0</td>\n",
       "    </tr>\n",
       "    <tr>\n",
       "      <th>394</th>\n",
       "      <td>6q4d</td>\n",
       "      <td>cdk2 in complex with fraglite31</td>\n",
       "      <td>2019-03-20</td>\n",
       "      <td>1</td>\n",
       "      <td>A</td>\n",
       "      <td>1.07</td>\n",
       "      <td>298.0</td>\n",
       "      <td>96.644295</td>\n",
       "      <td>3.0</td>\n",
       "      <td>[7, 1, 2]</td>\n",
       "      <td>[[38, 44], [177, 177], [296, 297]]</td>\n",
       "      <td>1.0</td>\n",
       "      <td>['HHT']</td>\n",
       "      <td>HHT</td>\n",
       "      <td>156.0</td>\n",
       "    </tr>\n",
       "    <tr>\n",
       "      <th>395</th>\n",
       "      <td>6q4e</td>\n",
       "      <td>cdk2 in complex with fraglite33</td>\n",
       "      <td>2019-03-20</td>\n",
       "      <td>1</td>\n",
       "      <td>A</td>\n",
       "      <td>1.06</td>\n",
       "      <td>298.0</td>\n",
       "      <td>95.302013</td>\n",
       "      <td>2.0</td>\n",
       "      <td>[7, 8]</td>\n",
       "      <td>[[39, 45], [155, 162]]</td>\n",
       "      <td>2.0</td>\n",
       "      <td>['DMS', 'HH5']</td>\n",
       "      <td>HH5</td>\n",
       "      <td>130.0</td>\n",
       "    </tr>\n",
       "    <tr>\n",
       "      <th>396</th>\n",
       "      <td>6q4f</td>\n",
       "      <td>cdk2 in complex with fraglite32</td>\n",
       "      <td>2019-03-20</td>\n",
       "      <td>1</td>\n",
       "      <td>A</td>\n",
       "      <td>1.21</td>\n",
       "      <td>297.0</td>\n",
       "      <td>97.651007</td>\n",
       "      <td>3.0</td>\n",
       "      <td>[7, 1, 1]</td>\n",
       "      <td>[[40, 46], [126, 126], [179, 179]]</td>\n",
       "      <td>2.0</td>\n",
       "      <td>['26D', 'OCS']</td>\n",
       "      <td>26D</td>\n",
       "      <td>102.0</td>\n",
       "    </tr>\n",
       "    <tr>\n",
       "      <th>397</th>\n",
       "      <td>6q4g</td>\n",
       "      <td>cdk2 in complex with fraglite37</td>\n",
       "      <td>2019-03-20</td>\n",
       "      <td>1</td>\n",
       "      <td>A</td>\n",
       "      <td>0.98</td>\n",
       "      <td>297.0</td>\n",
       "      <td>94.630872</td>\n",
       "      <td>2.0</td>\n",
       "      <td>[6, 10]</td>\n",
       "      <td>[[39, 44], [154, 163]]</td>\n",
       "      <td>1.0</td>\n",
       "      <td>['HJK']</td>\n",
       "      <td>HJK</td>\n",
       "      <td>258.0</td>\n",
       "    </tr>\n",
       "    <tr>\n",
       "      <th>398</th>\n",
       "      <td>6q4h</td>\n",
       "      <td>cdk2 in complex with fraglite36</td>\n",
       "      <td>2019-03-20</td>\n",
       "      <td>1</td>\n",
       "      <td>A</td>\n",
       "      <td>1.00</td>\n",
       "      <td>298.0</td>\n",
       "      <td>97.651007</td>\n",
       "      <td>2.0</td>\n",
       "      <td>[6, 2]</td>\n",
       "      <td>[[40, 45], [155, 156]]</td>\n",
       "      <td>2.0</td>\n",
       "      <td>['DMS', 'HGH']</td>\n",
       "      <td>HGH</td>\n",
       "      <td>274.0</td>\n",
       "    </tr>\n",
       "    <tr>\n",
       "      <th>399</th>\n",
       "      <td>6q4i</td>\n",
       "      <td>cdk2 in complex with fraglite35</td>\n",
       "      <td>2019-03-20</td>\n",
       "      <td>1</td>\n",
       "      <td>A</td>\n",
       "      <td>1.11</td>\n",
       "      <td>297.0</td>\n",
       "      <td>96.644295</td>\n",
       "      <td>2.0</td>\n",
       "      <td>[7, 3]</td>\n",
       "      <td>[[38, 44], [153, 155]]</td>\n",
       "      <td>2.0</td>\n",
       "      <td>['DMS', 'HGK']</td>\n",
       "      <td>HGK</td>\n",
       "      <td>234.0</td>\n",
       "    </tr>\n",
       "    <tr>\n",
       "      <th>400</th>\n",
       "      <td>6q4j</td>\n",
       "      <td>cdk2 in complex with fraglite34</td>\n",
       "      <td>2019-03-20</td>\n",
       "      <td>1</td>\n",
       "      <td>A</td>\n",
       "      <td>1.05</td>\n",
       "      <td>298.0</td>\n",
       "      <td>96.979866</td>\n",
       "      <td>2.0</td>\n",
       "      <td>[8, 2]</td>\n",
       "      <td>[[39, 46], [155, 156]]</td>\n",
       "      <td>2.0</td>\n",
       "      <td>['DMS', 'HHB']</td>\n",
       "      <td>HHB</td>\n",
       "      <td>218.0</td>\n",
       "    </tr>\n",
       "    <tr>\n",
       "      <th>401</th>\n",
       "      <td>6q4k</td>\n",
       "      <td>cdk2 in complex with fraglite38</td>\n",
       "      <td>2019-03-20</td>\n",
       "      <td>1</td>\n",
       "      <td>A</td>\n",
       "      <td>1.06</td>\n",
       "      <td>298.0</td>\n",
       "      <td>97.651007</td>\n",
       "      <td>2.0</td>\n",
       "      <td>[7, 1]</td>\n",
       "      <td>[[39, 45], [125, 125]]</td>\n",
       "      <td>2.0</td>\n",
       "      <td>['EDO', 'HHW']</td>\n",
       "      <td>None</td>\n",
       "      <td>NaN</td>\n",
       "    </tr>\n",
       "  </tbody>\n",
       "</table>\n",
       "<p>402 rows × 15 columns</p>\n",
       "</div>"
      ],
      "text/plain": [
       "    PDB_ID                                              Title        Date  \\\n",
       "0     1aq1  human cyclin dependent kinase 2 complexed with...  1997-11-12   \n",
       "1     1b38                    human cyclin-dependent kinase 2  1998-12-23   \n",
       "2     1b39  human cyclin-dependent kinase 2 phosphorylated...  1998-12-23   \n",
       "3     1buh  crystal structure of the human cdk2 kinase com...  1998-09-09   \n",
       "4     1ckp  human cyclin dependent kinase 2 complexed with...  1999-01-13   \n",
       "5     1di8  the structure of cyclin-dependent kinase 2 (cd...  2000-11-29   \n",
       "6     1dm2  human cyclin-dependent kinase 2 complexed with...  2000-05-31   \n",
       "7     1e1v  human cyclin dependent kinase 2 complexed with...  2001-05-10   \n",
       "8     1e1x  human cyclin dependent kinase 2 complexed with...  2001-05-10   \n",
       "9     1e9h  thr 160 phosphorylated cdk2 - human cyclin a3 ...  2001-10-11   \n",
       "10    1f5q  crystal structure of murine gamma herpesvirus ...  2000-12-27   \n",
       "11    1fin         cyclin a-cyclin-dependent kinase 2 complex  1997-01-27   \n",
       "12    1fq1  crystal structure of kinase associated phospha...  2001-05-09   \n",
       "13    1fvt  the structure of cyclin-dependent kinase 2 (cd...  2001-01-17   \n",
       "14    1fvv  the structure of cdk2/cyclin a in complex with...  2001-01-17   \n",
       "15    1g5s  crystal structure of human cyclin dependent ki...  2001-11-02   \n",
       "16    1gih  human cyclin dependent kinase 2 complexed with...  2002-02-06   \n",
       "17    1gii  human cyclin dependent kinase 2 complexed with...  2002-02-06   \n",
       "18    1gij  human cyclin dependent kinase 2 complexed with...  2002-02-06   \n",
       "19    1gy3  pcdk2/cyclin a in complex with mgadp, nitrate ...  2002-04-29   \n",
       "20    1gz8  human cyclin dependent kinase 2 complexed with...  2003-06-12   \n",
       "21    1h00  cdk2 in complex with a disubstituted 4, 6-bis ...  2003-07-11   \n",
       "22    1h01  cdk2 in complex with a disubstituted 2, 4-bis ...  2003-07-11   \n",
       "23    1h07  cdk2 in complex with a disubstituted 4, 6-bis ...  2003-07-11   \n",
       "24    1h08  cdk2 in complex with a disubstituted 2, 4-bis ...  2003-07-11   \n",
       "25    1h0v  human cyclin dependent protein kinase 2 in com...  2003-06-27   \n",
       "26    1h0w  human cyclin dependent protein kinase 2 in com...  2003-06-27   \n",
       "27    1h1p  structure of human thr160-phospho cdk2/cyclin ...  2002-09-19   \n",
       "28    1h1q  structure of human thr160-phospho cdk2/cyclin ...  2002-09-19   \n",
       "29    1h1r  structure of human thr160-phospho cdk2/cyclin ...  2002-09-19   \n",
       "..     ...                                                ...         ...   \n",
       "372   5oo0          cdk2(wt) covalent adduct with d28 at c177  2018-03-14   \n",
       "373   5oo1  cdk2(f80c, c177a) covalent adduct with c37 at ...  2018-08-29   \n",
       "374   5oo3     cdk2(f80c, c177a) with covalent ligand at f80c  2018-08-29   \n",
       "375   5osj              cdk2(wt) with covalent adduct at c177  2018-03-14   \n",
       "376   5osm      cdk2(f80c, c177a) with covalent adduct at c80  2018-03-14   \n",
       "377   5uq1       crystal structure of human cdk2-spy1 complex  2017-07-05   \n",
       "378   5uq2       crystal structure of human cdk2-spy1 complex  2017-07-05   \n",
       "379   6gub          cdk2/cyclina in complex with flavopiridol  2018-12-05   \n",
       "380   6guc                cdk2/cyclina in complex with su9516  2018-12-05   \n",
       "381   6gue               cdk2/cyclina in complex with azd5438  2018-12-05   \n",
       "382   6guf             cdk2/cyclina in complex with cgp74514a  2018-12-05   \n",
       "383   6guh                       cdk2 in complex with azd5438  2018-12-05   \n",
       "384   6guk                     cdk2 in complex with cgp74514a  2018-12-05   \n",
       "385   6gva  cdk2/cyclin a2 in complex with pyrazolo[4,3-d]...  2019-05-01   \n",
       "386   6q3b                     cdk2 in complex with fraglite2  2019-03-20   \n",
       "387   6q3c                     cdk2 in complex with fraglite1  2019-03-20   \n",
       "388   6q3f                     cdk2 in complex with fraglite2  2019-03-20   \n",
       "389   6q48                     cdk2 in complex with fraglite7  2019-03-20   \n",
       "390   6q49                     cdk2 in complex with fraglite6  2019-03-20   \n",
       "391   6q4a                    cdk2 in complex with fraglite14  2019-03-20   \n",
       "392   6q4b                    cdk2 in complex with fraglite13  2019-03-20   \n",
       "393   6q4c                    cdk2 in complex with fraglite16  2019-03-20   \n",
       "394   6q4d                    cdk2 in complex with fraglite31  2019-03-20   \n",
       "395   6q4e                    cdk2 in complex with fraglite33  2019-03-20   \n",
       "396   6q4f                    cdk2 in complex with fraglite32  2019-03-20   \n",
       "397   6q4g                    cdk2 in complex with fraglite37  2019-03-20   \n",
       "398   6q4h                    cdk2 in complex with fraglite36  2019-03-20   \n",
       "399   6q4i                    cdk2 in complex with fraglite35  2019-03-20   \n",
       "400   6q4j                    cdk2 in complex with fraglite34  2019-03-20   \n",
       "401   6q4k                    cdk2 in complex with fraglite38  2019-03-20   \n",
       "\n",
       "     Entities ChainID  Resolution  Identity    Coverage  NumGaps      GapLen  \\\n",
       "0           1       A        2.00     298.0   92.953020      2.0     [8, 13]   \n",
       "1           1       A        2.00     298.0   97.315436      1.0         [8]   \n",
       "2           1       A        2.10     298.0   97.315436      1.0         [8]   \n",
       "3           2       A        2.60     298.0   96.308725      2.0      [7, 4]   \n",
       "4           1       A        2.05     298.0   93.624161      2.0     [8, 11]   \n",
       "5           1       A        2.20     298.0   94.966443      2.0      [6, 9]   \n",
       "6           1       A        2.10     298.0   91.946309      2.0     [9, 15]   \n",
       "7           1       A        1.95     298.0   97.315436      1.0         [8]   \n",
       "8           1       A        1.85     298.0   97.315436      1.0         [8]   \n",
       "9           2       A        2.50     295.0   99.328859      1.0         [2]   \n",
       "10          2       A        2.50     298.0   99.328859      1.0         [2]   \n",
       "11          2       A        2.30     298.0  100.000000      0.0          []   \n",
       "12          2       B        3.00     297.0   99.328859      1.0         [2]   \n",
       "13          1       A        2.20     298.0   94.630872      2.0      [7, 9]   \n",
       "14          2       A        2.80     298.0  100.000000      0.0          []   \n",
       "15          1       A        2.61     298.0   92.281879      2.0     [9, 14]   \n",
       "16          1       A        2.80     298.0   92.617450      2.0     [8, 14]   \n",
       "17          1       A        2.00     295.0   93.624161      2.0     [8, 11]   \n",
       "18          1       A        2.20     295.0   91.610738      2.0    [11, 14]   \n",
       "19          3       A        2.70     297.0   99.328859      1.0         [2]   \n",
       "20          1       A        1.30     297.0   97.315436      2.0      [7, 1]   \n",
       "21          1       A        1.60     298.0   93.288591      3.0  [2, 8, 10]   \n",
       "22          1       A        1.79     297.0   95.973154      2.0     [10, 2]   \n",
       "23          1       A        1.85     298.0   95.637584      3.0   [7, 4, 2]   \n",
       "24          1       A        1.80     298.0   94.966443      2.0      [8, 7]   \n",
       "25          1       A        1.90     298.0   96.644295      2.0      [7, 3]   \n",
       "26          1       A        2.10     298.0   94.966443      2.0      [7, 8]   \n",
       "27          2       A        2.10     297.0   99.664430      1.0         [2]   \n",
       "28          2       A        2.50     297.0   99.664430      1.0         [2]   \n",
       "29          2       A        2.00     297.0   99.664430      1.0         [2]   \n",
       "..        ...     ...         ...       ...         ...      ...         ...   \n",
       "372         1       A        1.60     298.0   96.644295      3.0   [1, 7, 2]   \n",
       "373         1       A        2.00     296.0   93.288591      2.0     [3, 17]   \n",
       "374         1       A        1.73     296.0   95.973154      3.0   [1, 7, 4]   \n",
       "375         1       A        1.83     298.0   97.986577      3.0   [1, 3, 2]   \n",
       "376         1       A        1.77     296.0   97.986577      2.0      [8, 2]   \n",
       "377         2       A        3.20     298.0   96.644295      3.0   [2, 6, 2]   \n",
       "378         2       A        2.70     298.0   99.328859      1.0         [2]   \n",
       "379         2       A        2.52     297.0   98.657718      2.0      [3, 2]   \n",
       "380         2       A        2.00     297.0   97.986577      2.0      [5, 2]   \n",
       "381         3       C        1.99     297.0   96.979866      3.0   [5, 3, 2]   \n",
       "382         2       A        2.65     297.0   99.328859      1.0         [3]   \n",
       "383         1       A        1.50     298.0   95.302013      2.0      [8, 8]   \n",
       "384         1       A        1.30     298.0   93.288591      2.0    [10, 10]   \n",
       "385         2       A        2.15     297.0   96.644295      2.0      [2, 8]   \n",
       "386         1       A        1.11     298.0   94.966443      2.0      [7, 8]   \n",
       "387         1       A        1.29     297.0   96.644295      3.0   [1, 8, 1]   \n",
       "388         1       A        1.18     297.0   97.986577      2.0      [9, 1]   \n",
       "389         1       A        1.03     298.0   93.959732      3.0   [8, 8, 2]   \n",
       "390         1       A        1.00     298.0   96.308725      2.0      [6, 5]   \n",
       "391         1       A        1.13     298.0   97.651007      2.0      [6, 1]   \n",
       "392         1       A        1.12     298.0   97.651007      1.0         [7]   \n",
       "393         1       A        1.73     298.0   98.322148      1.0         [7]   \n",
       "394         1       A        1.07     298.0   96.644295      3.0   [7, 1, 2]   \n",
       "395         1       A        1.06     298.0   95.302013      2.0      [7, 8]   \n",
       "396         1       A        1.21     297.0   97.651007      3.0   [7, 1, 1]   \n",
       "397         1       A        0.98     297.0   94.630872      2.0     [6, 10]   \n",
       "398         1       A        1.00     298.0   97.651007      2.0      [6, 2]   \n",
       "399         1       A        1.11     297.0   96.644295      2.0      [7, 3]   \n",
       "400         1       A        1.05     298.0   96.979866      2.0      [8, 2]   \n",
       "401         1       A        1.06     298.0   97.651007      2.0      [7, 1]   \n",
       "\n",
       "                                   GapPos  NumLigs  \\\n",
       "0                  [[36, 43], [149, 161]]      1.0   \n",
       "1                              [[36, 43]]      3.0   \n",
       "2                              [[36, 43]]      3.0   \n",
       "3                  [[40, 46], [295, 298]]      0.0   \n",
       "4                  [[36, 43], [153, 163]]      2.0   \n",
       "5                  [[37, 42], [153, 161]]      1.0   \n",
       "6                  [[36, 44], [149, 163]]      2.0   \n",
       "7                              [[36, 43]]      2.0   \n",
       "8                              [[36, 43]]      2.0   \n",
       "9                            [[296, 297]]      2.0   \n",
       "10                             [[10, 11]]      1.0   \n",
       "11                                     []      1.0   \n",
       "12                           [[296, 297]]      3.0   \n",
       "13                 [[37, 43], [154, 162]]      1.0   \n",
       "14                                     []      1.0   \n",
       "15                 [[37, 45], [149, 162]]      1.0   \n",
       "16                 [[37, 44], [150, 163]]      1.0   \n",
       "17                 [[36, 43], [153, 163]]      1.0   \n",
       "18                 [[37, 47], [150, 163]]      1.0   \n",
       "19                           [[296, 297]]      5.0   \n",
       "20                 [[37, 43], [177, 177]]      3.0   \n",
       "21       [[13, 14], [36, 43], [152, 161]]      3.0   \n",
       "22                 [[34, 43], [296, 297]]      4.0   \n",
       "23     [[37, 43], [151, 154], [296, 297]]      3.0   \n",
       "24                 [[36, 43], [154, 160]]      4.0   \n",
       "25                 [[37, 43], [159, 161]]      1.0   \n",
       "26                 [[37, 43], [156, 163]]      1.0   \n",
       "27                           [[297, 298]]      2.0   \n",
       "28                           [[297, 298]]      2.0   \n",
       "29                           [[297, 298]]      2.0   \n",
       "..                                    ...      ...   \n",
       "372        [[1, 1], [37, 43], [296, 297]]      1.0   \n",
       "373                  [[1, 3], [147, 163]]      1.0   \n",
       "374        [[1, 1], [38, 44], [295, 298]]      1.0   \n",
       "375        [[1, 1], [39, 41], [296, 297]]      1.0   \n",
       "376                [[41, 48], [300, 301]]      1.0   \n",
       "377        [[1, 2], [22, 27], [296, 297]]      0.0   \n",
       "378                          [[296, 297]]      0.0   \n",
       "379                [[39, 41], [297, 298]]      2.0   \n",
       "380                [[37, 41], [297, 298]]      2.0   \n",
       "381  [[226, 230], [243, 245], [297, 298]]      2.0   \n",
       "382                            [[39, 41]]      2.0   \n",
       "383                [[40, 47], [151, 158]]      2.0   \n",
       "384                [[37, 46], [154, 163]]      1.0   \n",
       "385                [[39, 40], [291, 298]]      8.0   \n",
       "386                [[38, 44], [155, 162]]      1.0   \n",
       "387        [[1, 1], [37, 44], [177, 177]]      2.0   \n",
       "388                [[40, 48], [181, 181]]      2.0   \n",
       "389    [[38, 45], [154, 161], [296, 297]]      2.0   \n",
       "390                [[38, 43], [157, 161]]      2.0   \n",
       "391                [[39, 44], [126, 126]]      1.0   \n",
       "392                            [[38, 44]]      1.0   \n",
       "393                            [[40, 46]]      1.0   \n",
       "394    [[38, 44], [177, 177], [296, 297]]      1.0   \n",
       "395                [[39, 45], [155, 162]]      2.0   \n",
       "396    [[40, 46], [126, 126], [179, 179]]      2.0   \n",
       "397                [[39, 44], [154, 163]]      1.0   \n",
       "398                [[40, 45], [155, 156]]      2.0   \n",
       "399                [[38, 44], [153, 155]]      2.0   \n",
       "400                [[39, 46], [155, 156]]      2.0   \n",
       "401                [[39, 45], [125, 125]]      2.0   \n",
       "\n",
       "                                              NameLigs Inhib  Inhib_mass  \n",
       "0                                              ['STU']   STU       440.0  \n",
       "1                                 ['ACE', 'ATP', 'MG']   ATP       398.0  \n",
       "2                                 ['ACE', 'ATP', 'MG']   ATP       398.0  \n",
       "3                                                   []  None         NaN  \n",
       "4                                       ['EDO', 'PVB']   PVB       214.0  \n",
       "5                                              ['DTQ']   DTQ       282.0  \n",
       "6                                       ['EDO', 'HMD']   HMD       234.0  \n",
       "7                                       ['ACE', 'CMG']   CMG       230.0  \n",
       "8                                       ['ACE', 'NW1']   NW1       234.0  \n",
       "9                                       ['INR', 'TPO']   INR       332.0  \n",
       "10                                              ['CL']  None         NaN  \n",
       "11                                             ['ATP']   ATP       398.0  \n",
       "12                                ['ATP', 'MG', 'TPO']   ATP       398.0  \n",
       "13                                             ['106']   106       304.0  \n",
       "14                                             ['107']   107       434.0  \n",
       "15                                             ['I17']   I17       374.0  \n",
       "16                                             ['1PU']   1PU       292.0  \n",
       "17                                             ['1PU']   1PU       292.0  \n",
       "18                                             ['2PU']   2PU       344.0  \n",
       "19                  ['ATP', 'GOL', 'MG', 'NO3', 'TPO']   ATP       350.0  \n",
       "20                               ['ACE', 'CSD', 'MBP']   MBP       222.0  \n",
       "21                               ['ACE', 'FAP', 'FCP']   FAP       354.0  \n",
       "22                        ['FAL', 'FBL', 'GOL', 'KCX']   FAL       354.0  \n",
       "23                               ['ACE', 'MFP', 'MFQ']   MFP       404.0  \n",
       "24                        ['ACE', 'BWP', 'BYP', 'GOL']   BYP       354.0  \n",
       "25                                             ['UN4']   UN4       236.0  \n",
       "26                                             ['207']   207       228.0  \n",
       "27                                      ['CMG', 'TPO']   CMG       230.0  \n",
       "28                                      ['2A6', 'TPO']   2A6       302.0  \n",
       "29                                      ['6CP', 'TPO']   6CP       302.0  \n",
       "..                                                 ...   ...         ...  \n",
       "372                                            ['9YZ']  None         NaN  \n",
       "373                                            ['9Z2']   9Z2       214.0  \n",
       "374                                            ['9ZB']   9ZB       200.0  \n",
       "375                                            ['AAK']  None         NaN  \n",
       "376                                            ['AEQ']   AEQ       230.0  \n",
       "377                                                 []  None         NaN  \n",
       "378                                                 []  None         NaN  \n",
       "379                                     ['F9Z', 'TPO']   F9Z       346.0  \n",
       "380                                     ['SU9', 'TPO']   SU9       230.0  \n",
       "381                                     ['FB8', 'TPO']   FB8       350.0  \n",
       "382                                     ['23D', 'TPO']   23D       326.0  \n",
       "383                                     ['EDO', 'FB8']   FB8       350.0  \n",
       "384                                            ['FC8']   FC8       326.0  \n",
       "385  ['BR', 'CL', 'EDO', 'FCQ', 'PG4', 'PGE', 'SGM'...   FCQ       394.0  \n",
       "386                                            ['PYZ']  None         NaN  \n",
       "387                                     ['BYZ', 'OCS']  None         NaN  \n",
       "388                                     ['HEW', 'OCS']  None         NaN  \n",
       "389                                     ['DMS', 'HHQ']   HHQ        90.0  \n",
       "390                                     ['DMS', 'HGQ']  None         NaN  \n",
       "391                                            ['HGW']   HGW        76.0  \n",
       "392                                            ['HHN']   HHN        76.0  \n",
       "393                                            ['HH8']   HH8       124.0  \n",
       "394                                            ['HHT']   HHT       156.0  \n",
       "395                                     ['DMS', 'HH5']   HH5       130.0  \n",
       "396                                     ['26D', 'OCS']   26D       102.0  \n",
       "397                                            ['HJK']   HJK       258.0  \n",
       "398                                     ['DMS', 'HGH']   HGH       274.0  \n",
       "399                                     ['DMS', 'HGK']   HGK       234.0  \n",
       "400                                     ['DMS', 'HHB']   HHB       218.0  \n",
       "401                                     ['EDO', 'HHW']  None         NaN  \n",
       "\n",
       "[402 rows x 15 columns]"
      ]
     },
     "execution_count": 31,
     "metadata": {},
     "output_type": "execute_result"
    }
   ],
   "source": [
    "df_cdk2_c"
   ]
  },
  {
   "cell_type": "code",
   "execution_count": 38,
   "metadata": {},
   "outputs": [
    {
     "name": "stdout",
     "output_type": "stream",
     "text": [
      "1aq1\n",
      "1b38\n",
      "1b39\n",
      "1buh\n",
      "1ckp\n",
      "1di8\n",
      "1dm2\n",
      "1e1v\n",
      "1e1x\n",
      "1e9h\n",
      "1f5q\n",
      "1fin\n",
      "1fq1\n",
      "1fvt\n",
      "1fvv\n",
      "1g5s\n",
      "1gih\n",
      "1gii\n",
      "1gij\n",
      "1gy3\n",
      "1gz8\n",
      "1h00\n",
      "1h01\n",
      "1h07\n",
      "1h08\n",
      "1h0v\n",
      "1h0w\n",
      "1h1p\n",
      "1h1q\n",
      "1h1r\n",
      "1h1s\n",
      "1h24\n",
      "1h25\n",
      "1h26\n",
      "1h27\n",
      "1h28\n",
      "1hck\n",
      "1hcl\n",
      "1jst\n",
      "1jsv\n",
      "1jvp\n",
      "1ke5\n",
      "1ke6\n",
      "1ke7\n",
      "1ke8\n",
      "1ke9\n",
      "1ogu\n",
      "1oi9\n",
      "1oiq\n",
      "1oir\n",
      "1oit\n",
      "1oiu\n",
      "1oiy\n",
      "1okv\n",
      "1okw\n",
      "1ol1\n",
      "1ol2\n",
      "1p2a\n",
      "1p5e\n",
      "1pf8\n",
      "1pkd\n",
      "1pw2\n",
      "1pxi\n",
      "1pxj\n",
      "1pxk\n",
      "1pxl\n",
      "1pxm\n",
      "1pxn\n",
      "1pxo\n",
      "1pxp\n",
      "1pye\n",
      "1qmz\n",
      "1r78\n",
      "1urc\n",
      "1urw\n",
      "1v1k\n",
      "1vyw\n",
      "1vyz\n",
      "1w0x\n",
      "1w8c\n",
      "1w98\n",
      "1wcc\n",
      "1y8y\n",
      "1y91\n",
      "1ykr\n",
      "2a0c\n",
      "2a4l\n",
      "2b52\n",
      "2b53\n",
      "2b54\n",
      "2b55\n",
      "2bhe\n",
      "2bhh\n",
      "2bkz\n",
      "2bpm\n",
      "2btr\n",
      "2bts\n",
      "2c4g\n",
      "2c5n\n",
      "2c5o\n",
      "2c5v\n",
      "2c5x\n",
      "2c5y\n",
      "2c68\n",
      "2c69\n",
      "2c6i\n",
      "2c6k\n",
      "2c6l\n",
      "2c6m\n",
      "2c6o\n",
      "2c6t\n",
      "2cch\n",
      "2cci\n",
      "2cjm\n",
      "2clx\n",
      "2ds1\n",
      "2duv\n",
      "2exm\n",
      "2fvd\n",
      "2g9x\n",
      "2i40\n",
      "2iw6\n",
      "2iw8\n",
      "2iw9\n",
      "2j9m\n",
      "2jgz\n",
      "2r3f\n",
      "2r3g\n",
      "2r3h\n",
      "2r3i\n",
      "2r3j\n",
      "2r3k\n",
      "2r3l\n",
      "2r3m\n",
      "2r3n\n",
      "2r3o\n",
      "2r3p\n",
      "2r3q\n",
      "2r3r\n",
      "2r64\n",
      "2uue\n",
      "2uzb\n",
      "2uzd\n",
      "2uze\n",
      "2uzl\n",
      "2uzn\n",
      "2uzo\n",
      "2v0d\n",
      "2v22\n",
      "2vta\n",
      "2vth\n",
      "2vti\n",
      "2vtj\n",
      "2vtl\n",
      "2vtm\n",
      "2vtn\n",
      "2vto\n",
      "2vtp\n",
      "2vtq\n",
      "2vtr\n",
      "2vts\n",
      "2vtt\n",
      "2vu3\n",
      "2vv9\n",
      "2w05\n",
      "2w06\n",
      "2w17\n",
      "2w1h\n",
      "2wev\n",
      "2wfy\n",
      "2whb\n",
      "2wih\n",
      "2wip\n",
      "2wma\n",
      "2wmb\n",
      "2wpa\n",
      "2wxv\n",
      "2x1n\n",
      "2xmy\n",
      "2xnb\n",
      "3bht\n",
      "3bhu\n",
      "3bhv\n",
      "3ddp\n",
      "3ddq\n",
      "3dog\n",
      "3eid\n",
      "3ej1\n",
      "3eoc\n",
      "3ezr\n",
      "3ezv\n",
      "3f5x\n",
      "3fz1\n",
      "3ig7\n",
      "3igg\n",
      "3le6\n",
      "3lfn\n",
      "3lfq\n",
      "3lfs\n",
      "3my5\n",
      "3ns9\n",
      "3pj8\n",
      "3pxf\n",
      "3pxq\n",
      "3pxr\n",
      "3pxy\n",
      "3pxz\n",
      "3py0\n",
      "3py1\n",
      "3qhr\n",
      "3qhw\n",
      "3ql8\n",
      "3qqf\n",
      "3qqg\n",
      "3qqh\n",
      "3qqj\n",
      "3qqk\n",
      "3qql\n",
      "3qrt\n",
      "3qru\n",
      "3qtq\n",
      "3qtr\n",
      "3qts\n",
      "3qtu\n",
      "3qtw\n",
      "3qtx\n",
      "3qtz\n",
      "3qu0\n",
      "3qwj\n",
      "3qwk\n",
      "3qx2\n",
      "3qx4\n",
      "3qxo\n",
      "3qxp\n",
      "3qzf\n",
      "3qzg\n",
      "3qzh\n",
      "3qzi\n",
      "3r1q\n",
      "3r1s\n",
      "3r1y\n",
      "3r28\n",
      "3r6x\n",
      "3r71\n",
      "3r73\n",
      "3r7e\n",
      "3r7i\n",
      "3r7u\n",
      "3r7v\n",
      "3r7y\n",
      "3r83\n",
      "3r8l\n",
      "3r8m\n",
      "3r8p\n",
      "3r8u\n",
      "3r8v\n",
      "3r8z\n",
      "3r9d\n",
      "3r9h\n",
      "3r9n\n",
      "3r9o\n",
      "3rah\n",
      "3rai\n",
      "3rak\n",
      "3ral\n",
      "3rjc\n",
      "3rk5\n",
      "3rk7\n",
      "3rk9\n",
      "3rkb\n",
      "3rm6\n",
      "3rm7\n",
      "3rmf\n",
      "3rni\n",
      "3roy\n",
      "3rpo\n",
      "3rpr\n",
      "3rpv\n",
      "3rpy\n",
      "3rzb\n",
      "3s00\n",
      "3s0o\n",
      "3s1h\n",
      "3s2p\n",
      "3sqq\n",
      "3sw4\n",
      "3sw7\n",
      "3ti1\n",
      "3tiy\n",
      "3tiz\n",
      "3tnw\n",
      "3uli\n",
      "3unj\n",
      "3unk\n",
      "3wbl\n",
      "4acm\n",
      "4bck\n",
      "4bcm\n",
      "4bcn\n",
      "4bco\n",
      "4bcp\n",
      "4bcq\n",
      "4bgh\n",
      "4bzd\n",
      "4cfm\n",
      "4cfn\n",
      "4cfu\n",
      "4cfv\n",
      "4cfw\n",
      "4cfx\n",
      "4d1x\n",
      "4d1z\n",
      "4ek3\n",
      "4ek4\n",
      "4ek5\n",
      "4ek8\n",
      "4eoi\n",
      "4eoj\n",
      "4eok\n",
      "4eol\n",
      "4eom\n",
      "4eon\n",
      "4eoo\n",
      "4eop\n",
      "4eoq\n",
      "4eor\n",
      "4eos\n",
      "4erw\n",
      "4ez3\n",
      "4ez7\n",
      "4fkg\n",
      "4fki\n",
      "4fkj\n",
      "4fkl\n",
      "4fko\n",
      "4fkp\n",
      "4fkq\n",
      "4fkr\n",
      "4fks\n",
      "4fkt\n",
      "4fku\n",
      "4fkv\n",
      "4fkw\n",
      "4fx3\n",
      "4gcj\n",
      "4i3z\n",
      "4ii5\n",
      "4kd1\n",
      "4lyn\n",
      "4nj3\n",
      "4rj3\n",
      "5a14\n",
      "5and\n",
      "5ane\n",
      "5ani\n",
      "5anj\n",
      "5ank\n",
      "5ano\n",
      "5cyi\n",
      "5d1j\n",
      "5fp5\n",
      "5fp6\n",
      "5iev\n",
      "5iex\n",
      "5iey\n",
      "5if1\n",
      "5jq5\n",
      "5jq8\n",
      "5k4j\n",
      "5l2w\n",
      "5lmk\n",
      "5nev\n",
      "5oo0\n",
      "5oo1\n",
      "5oo3\n",
      "5osj\n",
      "5osm\n",
      "5uq1\n",
      "5uq2\n",
      "6gub\n",
      "6guc\n",
      "6gue\n",
      "6guf\n",
      "6guh\n",
      "6guk\n"
     ]
    }
   ],
   "source": [
    "# Convertir con babel\n",
    "import os\n",
    "\n",
    "IN_dir = \"./CDK2_INHIBIDORES/\"\n",
    "OUT_dir = \"./CDK2_INHIBIDORES_PREPARADOS/\"\n",
    "\n",
    "lista_prueba = [\"1qmz\"]\n",
    "\n",
    "# Los ligandos deben convertirse a mol2, debido a que, por alguna razón\n",
    "# la asignación de cargas no es correcta con archivos pdb\n",
    "for pdb_id in df_cdk2_c.PDB_ID:\n",
    "    print(pdb_id)\n",
    "    os.system(\"obabel -ipdb \" + IN_dir + pdb_id + \"*.pdb\" + \n",
    "              \" -omol2 -O \" + OUT_dir + pdb_id + \"_LIG.mol2\" + \n",
    "              \" -h -p 7\")\n"
   ]
  },
  {
   "cell_type": "code",
   "execution_count": 19,
   "metadata": {},
   "outputs": [
    {
     "name": "stdout",
     "output_type": "stream",
     "text": [
      "ad4_multiDock_PARES.py  \u001b[0m\u001b[01;34mCDK2_INHIBIDORES_Hs\u001b[0m/  Obtener_ligandos_CDK2.ipynb\r\n",
      "\u001b[01;34mCDK2_INHIBIDORES\u001b[0m/       \u001b[01;34menvio_miztli\u001b[0m/         \u001b[01;34mprueba\u001b[0m/\r\n"
     ]
    }
   ],
   "source": [
    "%ls"
   ]
  },
  {
   "cell_type": "code",
   "execution_count": 32,
   "metadata": {},
   "outputs": [
    {
     "ename": "AttributeError",
     "evalue": "'generator' object has no attribute 'next'",
     "output_type": "error",
     "traceback": [
      "\u001b[0;31m---------------------------------------------------------------------------\u001b[0m",
      "\u001b[0;31mAttributeError\u001b[0m                            Traceback (most recent call last)",
      "\u001b[0;32m<ipython-input-32-6b274e73edc3>\u001b[0m in \u001b[0;36m<module>\u001b[0;34m\u001b[0m\n\u001b[1;32m      1\u001b[0m \u001b[0;32mimport\u001b[0m \u001b[0mpybel\u001b[0m\u001b[0;34m\u001b[0m\u001b[0;34m\u001b[0m\u001b[0m\n\u001b[1;32m      2\u001b[0m \u001b[0;34m\u001b[0m\u001b[0m\n\u001b[0;32m----> 3\u001b[0;31m \u001b[0mmol\u001b[0m \u001b[0;34m=\u001b[0m \u001b[0mpybel\u001b[0m\u001b[0;34m.\u001b[0m\u001b[0mreadfile\u001b[0m\u001b[0;34m(\u001b[0m\u001b[0mfilename\u001b[0m\u001b[0;34m=\u001b[0m\u001b[0;34m\"./CDK2_INHIBIDORES/1aq1-STU.pdb\"\u001b[0m\u001b[0;34m,\u001b[0m \u001b[0mformat\u001b[0m\u001b[0;34m=\u001b[0m\u001b[0;34m\"pdb\"\u001b[0m\u001b[0;34m)\u001b[0m\u001b[0;34m.\u001b[0m\u001b[0mnext\u001b[0m\u001b[0;34m(\u001b[0m\u001b[0;34m)\u001b[0m\u001b[0;34m\u001b[0m\u001b[0;34m\u001b[0m\u001b[0m\n\u001b[0m\u001b[1;32m      4\u001b[0m \u001b[0mprint\u001b[0m\u001b[0;34m(\u001b[0m\u001b[0mmol\u001b[0m\u001b[0;34m.\u001b[0m\u001b[0matoms\u001b[0m\u001b[0;34m)\u001b[0m\u001b[0;34m\u001b[0m\u001b[0;34m\u001b[0m\u001b[0m\n",
      "\u001b[0;31mAttributeError\u001b[0m: 'generator' object has no attribute 'next'"
     ]
    }
   ],
   "source": [
    "import pybel\n",
    "\n",
    "mol = pybel.readfile(filename=\"./CDK2_INHIBIDORES/1aq1-STU.pdb\", format=\"pdb\").next()\n",
    "print(mol.atoms)"
   ]
  }
 ],
 "metadata": {
  "kernelspec": {
   "display_name": "Python 3",
   "language": "python",
   "name": "python3"
  },
  "language_info": {
   "codemirror_mode": {
    "name": "ipython",
    "version": 3
   },
   "file_extension": ".py",
   "mimetype": "text/x-python",
   "name": "python",
   "nbconvert_exporter": "python",
   "pygments_lexer": "ipython3",
   "version": "3.7.4"
  }
 },
 "nbformat": 4,
 "nbformat_minor": 2
}
