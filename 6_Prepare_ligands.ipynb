{
 "cells": [
  {
   "cell_type": "code",
   "execution_count": 60,
   "metadata": {},
   "outputs": [],
   "source": [
    "prot_name = 'erk2'"
   ]
  },
  {
   "cell_type": "code",
   "execution_count": 61,
   "metadata": {},
   "outputs": [],
   "source": [
    "DIR_LIGS = F'../ARCHIVOS/CRISTALES/LIGS_{prot_name.upper()}'\n",
    "dir_inputs = F'{DIR_LIGS}/POCKET_LIGS/'\n",
    "dir_outputs_sdf = F'{DIR_LIGS}/POCKET_LIGS_PREP_SDF/'\n",
    "dir_outputs_mol2 = F'{DIR_LIGS}/POCKET_LIGS_PREP_MOL2/'\n",
    "dir_outputs_pdb = F'{DIR_LIGS}/POCKET_LIGS_PREP_PDB/'"
   ]
  },
  {
   "cell_type": "code",
   "execution_count": 62,
   "metadata": {},
   "outputs": [],
   "source": [
    "import os\n",
    "if not os.path.exists(dir_outputs_pdb):\n",
    "    os.makedirs(dir_outputs_sdf)\n",
    "    os.makedirs(dir_outputs_mol2)\n",
    "    os.makedirs(dir_outputs_pdb)"
   ]
  },
  {
   "cell_type": "code",
   "execution_count": null,
   "metadata": {},
   "outputs": [],
   "source": [
    "%%bash -s \"$dir_inputs\" \"$dir_outputs_sdf\" \"$dir_outputs_mol2\" \"$dir_outputs_pdb\"\n",
    "for i in `ls ${1}`\n",
    "do\n",
    "    name=${i%.pdb}\n",
    "    babel -ipdb ${1}$i -osdf -O ${2}${name}.sdf --gen3d\n",
    "    babel -ipdb ${1}$i -omol2 -O ${3}${name}.mol2 -p 7\n",
    "    pdb4amber -i ${1}$i -o ${4}${name}.pdb --add-missing-atoms\n",
    "    echo $i\n",
    "done"
   ]
  },
  {
   "cell_type": "code",
   "execution_count": null,
   "metadata": {},
   "outputs": [],
   "source": [
    "impor nglview as nv\n"
   ]
  }
 ],
 "metadata": {
  "kernelspec": {
   "display_name": "Python 3",
   "language": "python",
   "name": "python3"
  },
  "language_info": {
   "codemirror_mode": {
    "name": "ipython",
    "version": 3
   },
   "file_extension": ".py",
   "mimetype": "text/x-python",
   "name": "python",
   "nbconvert_exporter": "python",
   "pygments_lexer": "ipython3",
   "version": "3.7.4"
  }
 },
 "nbformat": 4,
 "nbformat_minor": 2
}
