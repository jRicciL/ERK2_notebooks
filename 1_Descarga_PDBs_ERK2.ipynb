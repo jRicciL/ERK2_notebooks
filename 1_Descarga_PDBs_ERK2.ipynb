{
 "cells": [
  {
   "cell_type": "markdown",
   "metadata": {},
   "source": [
    "# Descarga de PDBs de la proteína ERK2\n",
    "Esta libreta de Jupiter permite descargar las estructuras cristalográficas disponibles de una proteína dada una secuencia de UniProt, un valor de identidad y un valor de covertura.\n",
    "\n",
    "**Como resultado**, al final de la ejecución todos los archivos *pdb* disponibles de la proteína son descargados, generándose tres archivos por cada **_pdb id_**:\n",
    "1. Archivo en crudo del pdb id (el archivo tal y como se puede descargar del PDB).\n",
    "2. Archivo pdb con únicamnete la cadena protéica correspondiente a la proteína de interés.\n",
    "3. Archivo pdb con todas las moléculas con la etiqueta **HETATM** que acompañana a la proteína pudiendo ser moléculas pequeñas, iones o residuos portéicos modificados (las moléculas d eagua son removidas)."
   ]
  },
  {
   "cell_type": "code",
   "execution_count": 4,
   "metadata": {},
   "outputs": [],
   "source": [
    "from prody import *\n",
    "from pylab import *\n",
    "import pickle"
   ]
  },
  {
   "cell_type": "markdown",
   "metadata": {},
   "source": [
    "## Secuencia de la proteína\n",
    "Se define el nombre de la proteína y su identificador en UNIPROT:"
   ]
  },
  {
   "cell_type": "code",
   "execution_count": 5,
   "metadata": {},
   "outputs": [],
   "source": [
    "# Nombre de la proteina de interes\n",
    "prot_name = 'erk2'\n",
    "# Secuencia P28482 (ERK2_HUMAN)\n",
    "uniprot_id = \"P28482\""
   ]
  },
  {
   "cell_type": "markdown",
   "metadata": {},
   "source": [
    "Se obtiene la secuencia de la proteína y se guarda en un archivo en la carpeta *data*:"
   ]
  },
  {
   "cell_type": "code",
   "execution_count": 33,
   "metadata": {},
   "outputs": [
    {
     "name": "stdout",
     "output_type": "stream",
     "text": [
      "MAAAAAAGAGPEMVRGQVFDVGPRYTNLSYIGEGAYGMVCSAYDNVNKVRVAIKKISPFEHQTYCQRTLREIKILLRFRHENIIGINDIIRAPTIEQMKDVYIVQDLMETDLYKLLKTQHLSNDHICYFLYQILRGLKYIHSANVLHRDLKPSNLLLNTTCDLKICDFGLARVADPDHDHTGFLTEYVATRWYRAPEIMLNSKGYTKSIDIWSVGCILAEMLSNRPIFPGKHYLDQLNHILGILGSPSQEDLNCIINLKARNYLLSLPHKNKVPWNRLFPNADSKALDLLDKMLTFNPHKRIEVEQALAHPYLEQYYDPSDEPIAEAPFKFDMELDDLPKEKLKELIFEETARFQPGYRS\n",
      "La longitud de la secuancia es: 360 residuos.\n"
     ]
    }
   ],
   "source": [
    "# Secuencia de la erk2 de UniProt\n",
    "import requests\n",
    "from Bio import SeqIO\n",
    "\n",
    "# Descargamos el fasta de UniProt\n",
    "url_fasta = requests.get(\"https://www.uniprot.org/uniprot/\" + uniprot_id + \".fasta\")\n",
    "file_name_fasta = './data/' + uniprot_id + '.fasta'\n",
    "open(file_name_fasta, 'wb').write(url_fasta.content)\n",
    "# Leemos la secuenciade aminoácidos\n",
    "fasta_prot = SeqIO.read(open(file_name_fasta),'fasta')\n",
    "seq_prot = str(fasta_prot.seq)\n",
    "print(seq_prot)\n",
    "print(F'La longitud de la secuancia es: {len(seq_prot)} residuos.')"
   ]
  },
  {
   "cell_type": "markdown",
   "metadata": {},
   "source": [
    "### BLASTp de la secuencia en el PDB\n",
    "Descomentar el código para volver a ejecutar, o en su defecto, recuperar el archivo de blast guardado en el directorio."
   ]
  },
  {
   "cell_type": "code",
   "execution_count": 9,
   "metadata": {},
   "outputs": [],
   "source": [
    "## Hacemos un blast\n",
    "# blast_record = blastPDB(seq_prot)\n",
    "## Lo guardamos para poder usarlo y no tener que rehacerlo\n",
    "# pickle.dump(blast_record, open(F'data/{prot_name}_blast_record.pkl', 'wb'))\n",
    "# Para abrirlo:\n",
    "blast_record = pickle.load(open(F'data/{prot_name}_blast_record.pkl', 'rb'))"
   ]
  },
  {
   "cell_type": "markdown",
   "metadata": {},
   "source": [
    "Se obtienen los \"hits\" del BLAST según un valor de identidad especificado. También se obtiene una lista con los identificadores de dichos hits."
   ]
  },
  {
   "cell_type": "code",
   "execution_count": 10,
   "metadata": {},
   "outputs": [
    {
     "name": "stdout",
     "output_type": "stream",
     "text": [
      "Se obtuvo un total de 166 hits con una identidad del 95%\n"
     ]
    }
   ],
   "source": [
    "identidad  = 95\n",
    "pdbids = blast_record.getHits(percent_identity = identidad) # Devuelve un diccionario con cada proteína hit\n",
    "len(pdbids) # 391 proteínas tienen un 95% de identidad con la seucuencia\n",
    "pdbids_list = list(pdbids.keys()) # lista de pdb_ids de las estructuras de CDK2\n",
    "\n",
    "print(F'Se obtuvo un total de {len(pdbids_list)} hits con una identidad del {identidad}%')"
   ]
  },
  {
   "cell_type": "markdown",
   "metadata": {},
   "source": [
    "### Lista de identificadores de los PDB hits\n",
    "Se guarda un archivo csv con todos los identificadores. Descomentar el código para volver a guardar.  "
   ]
  },
  {
   "cell_type": "code",
   "execution_count": 10,
   "metadata": {},
   "outputs": [],
   "source": [
    "# Guarda la lista de PDB IDs de los hits\n",
    "import csv\n",
    "num_pdb_ids = len(pdbids_list); num_pdb_ids\n",
    "with open(F'data/{prot_name}_pdb_{str(num_pdb_ids)}_IDs_{uniprot_id}.csv', 'w') as myfile:\n",
    "    wr = csv.writer(myfile, quoting = csv.QUOTE_ALL)\n",
    "    wr.writerow(pdbids_list)"
   ]
  },
  {
   "cell_type": "markdown",
   "metadata": {},
   "source": [
    "## Selección de los residuos con estructura secundaria\n",
    "Basado en la selección de residuos usados por Pisani (2016) al trabajar con la proteína CDK2.  \n",
    "La idea es utilizar la estructura secundaria de la proteína para hecer la superposición de las estructuras."
   ]
  },
  {
   "cell_type": "code",
   "execution_count": 152,
   "metadata": {},
   "outputs": [
    {
     "name": "stderr",
     "output_type": "stream",
     "text": [
      "@> PDB file is found in working directory (4fmq.pdb.gz).\n",
      "@> PDB file is found in working directory (data/4fmq.pdb).\n",
      "@> 3188 atoms and 1 coordinate set(s) were parsed in 0.04s.\n",
      "@> Secondary structures were assigned to 224 residues.\n"
     ]
    },
    {
     "name": "stdout",
     "output_type": "stream",
     "text": [
      "Estructura de referencia usada: 4fmq\n"
     ]
    }
   ],
   "source": [
    "ref_prot_id = pdbids_list[1] # Seleccionamos un pdb id de la proteina\n",
    "print(F'Estructura de referencia usada: {ref_prot_id}')\n",
    "cabezal = parsePDB(ref_prot_id, header=True, model=0)\n",
    "estructura = parsePDB(ref_prot_id, folder = 'data')\n",
    "sec_sctr = assignSecstr(cabezal, estructura.select('protein')).getSecstrs()\n",
    "sec_sctr_HE = estructura.select(F'secondary H E and calpha and resnum 1:{len(seq_prot)}').getResnums()"
   ]
  },
  {
   "cell_type": "markdown",
   "metadata": {},
   "source": [
    "**Finalmente, obtenemos la lista de residuos que pertenecen a alguna región con estructura secundaria en la proteína.**"
   ]
  },
  {
   "cell_type": "code",
   "execution_count": 153,
   "metadata": {},
   "outputs": [
    {
     "data": {
      "text/plain": [
       "'13 14 17 18 25 26 27 28 29 30 31 32 33 38 39 40 41 42 43 44 49 50 51 52 53 54 55 56 61 62 63 64 65 66 67 68 69 70 71 72 73 74 75 76 77 78 88 89 90 101 102 103 104 105 106 110 111 112 113 114 115 116 117 118 119 122 123 124 125 126 127 128 129 130 131 132 133 134 135 136 137 138 139 140 141 142 143 145 146 155 156 157 163 164 165 172 173 195 196 197 198 199 200 207 208 209 210 211 212 213 214 215 216 217 218 219 220 221 222 223 224 232 233 234 235 236 237 238 239 240 241 242 243 244 245 257 258 259 260 261 262 263 264 265 266 267 274 275 276 277 278 279 283 284 285 286 287 288 289 290 291 292 293 294 303 304 305 306 307 308 309 339 340 341 342 343 344 345 346 347 348 349 350 351 352'"
      ]
     },
     "execution_count": 153,
     "metadata": {},
     "output_type": "execute_result"
    }
   ],
   "source": [
    "sec_sctr_res_list = sec_sctr_HE.tolist()\n",
    "sec_sctr_res_str = ' '.join(map(str, sec_sctr_res_list))\n",
    "sec_sctr_res_str"
   ]
  },
  {
   "cell_type": "markdown",
   "metadata": {},
   "source": [
    "## Descarga de los archivos PDB\n",
    "El siguiente ciclo descarga cada uno de los archivos PDB de la lista de identificadores PDB.\n",
    "* Descarga el archivo PDB completo\n",
    "* Descarga únicamente la cadena protéica del PDB con mayor identidad a la secuencia de UniProt dada (**Quedan alineadas por su estructura secundaria**)\n",
    "* Descarga cualquier ligando asociado a la cadena protéica de mayor identidad."
   ]
  },
  {
   "cell_type": "code",
   "execution_count": null,
   "metadata": {},
   "outputs": [],
   "source": [
    "# Directorios\n",
    "DIR_OUT_RAW_PDBS = '../ARCHIVOS/CRISTALES/PDB_ERK2_RAW_files/'\n",
    "DIR_OUT_ERK2_CHAINS = '../ARCHIVOS/CRISTALES/PROT_ERK2_CHAINS/'\n",
    "DIR_OUT_ERK2_LIGS = '../ARCHIVOS/CRISTALES/LIGS_ERK2/RAW/'\n",
    "\n",
    "# Crea los directorios si no existen\n",
    "import os\n",
    "for dir in [DIR_OUT_RAW_PDBS, DIR_OUT_ERK2_CHAINS, DIR_OUT_ERK2_LIGS]\n",
    "    if not os.path.exist(dir):\n",
    "        os.makedirs(dir)"
   ]
  },
  {
   "cell_type": "code",
   "execution_count": null,
   "metadata": {},
   "outputs": [],
   "source": [
    "# Estructura de referencia para alinear los PDBs, se usarán los CA de los residuos que pertenezcan a una región con estructura secundaria.\n",
    "best_id = blast_record.getBest()['pdb_id']\n",
    "chain_best_id = pdbids[best_id]['chain_id']\n",
    "ref_struct = parsePDB(best_id, folder = DIR_OUT_RAW_PDBS).select('protein and chain ' + \n",
    "                                                                 chain_best_id)\n",
    "\n",
    "for pdb_id in pdbids_list:\n",
    "    try:\n",
    "        chain_id = pdbids[pdb_id]['chain_id'] # Obtiene el id de la cadena correspondiente a la mejor estructura empatada según el BLAST\n",
    "        pdb_cry = parsePDB(pdb_id, folder = DIR_OUT_RAW_PDBS) # Obtiene del pdb la estructura y la guarda en el folder\n",
    "        pdb_chain = pdb_cry.select('protein and chain ' + chain_id) # selecciona de la proteína a la cadena que el BLAST indicó\n",
    "          # Realiza el alineamiento usando los CA de los residuos con estructura Secundaria\n",
    "        pdb_alg = matchAlign(pdb_chain, ref_struct, \n",
    "                             overlap=85, tarsel='calpha and resnum' + ' ' + sec_sctr_res_str) \n",
    "        # Retorna un tuple con la estructura alineada en el primer índice\n",
    "        protein = pdb_alg[0]\n",
    "    except Exception as e:\n",
    "        print(e, \"Error al alinear:\", pdb_id)\n",
    "        continue\n",
    "    else:\n",
    "        repr(protein)\n",
    "        if protein: # Si hubo una cadena, la guarda\n",
    "            protein.setChids(\"A\") # fuerza que la cadena sea renombrada a \"A\", para homogenizar\n",
    "            writePDB(DIR_OUT_ERK2_CHAINS + pdb_id + '_A.pdb', protein) # Guarda el archivo\n",
    "        # Comprueba si existen ligandos (moléculas no protéicas)\n",
    "        ligand = pdb_cry.select('not protein and not water and chain ' + chain_id)\n",
    "        repr(ligand)\n",
    "        if ligand: # Si hubo un ligando, lo guarda\n",
    "            writePDB(DIR_OUT_ERK2_LIGS + pdb_id + '_lig.pdb', ligand)"
   ]
  },
  {
   "cell_type": "markdown",
   "metadata": {},
   "source": [
    "# ¡Terminado!"
   ]
  }
 ],
 "metadata": {
  "kernelspec": {
   "display_name": "Python 3",
   "language": "python",
   "name": "python3"
  },
  "language_info": {
   "codemirror_mode": {
    "name": "ipython",
    "version": 3
   },
   "file_extension": ".py",
   "mimetype": "text/x-python",
   "name": "python",
   "nbconvert_exporter": "python",
   "pygments_lexer": "ipython3",
   "version": "3.7.4"
  }
 },
 "nbformat": 4,
 "nbformat_minor": 2
}
