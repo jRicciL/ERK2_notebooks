{
 "cells": [
  {
   "cell_type": "markdown",
   "metadata": {},
   "source": [
    "# Datos de los ligandos\n",
    "\n",
    "## Obtención de los datos de los ligandos  cocristalizados con ERK2 desde Pubchem y Chembl\n",
    "\n",
    "**Esta libreta tiene como objetivo extraer datos de las moléculas cocristalizadas con la proteína ERK2 a partir de las bases de datos CheMBL y PubChem**\n",
    "\n",
    "> Puntos clave de esta libreta:\n",
    "- Se extrae de la tabla de datos principal de la proteína las conformaciones que poseen a algún ligando en el sitio activo.\n",
    "- Se crea un set de moléculas usando identificador PDB de cada molécula (cada molécula es designada con un id de 3 letras).\n",
    "- Se usa el id de cada molécula (LIG) para obtener los datos de la página `http://www.rcsb.org/ligand/LIG`, correspondiente a cada ligando. Con ello obtenemos:\n",
    "    - El smile isomérico de la molécula.\n",
    "    - El InChI\n",
    "    - El InChI Key\n",
    "- Usamos el **InChI** para obtener los datos de cada molécula desde _**PUBCHEM**_ y _**CHEMBL**_.\n",
    "- Guardamos los datos en un diccionario y a su vez lo exportamos a un archivo pinckle.\n",
    "\n",
    "### Importamos las librerías necesarias"
   ]
  },
  {
   "cell_type": "code",
   "execution_count": 2,
   "metadata": {},
   "outputs": [],
   "source": [
    "import pandas as pd\n",
    "import numpy as np\n",
    "import glob, os, sys\n",
    "# Añadimos la ruta del directorio raíz para tener acceso a los arvhivos y módulos\n",
    "sys.path.append(r'..')"
   ]
  },
  {
   "cell_type": "markdown",
   "metadata": {},
   "source": [
    "## Cargamos los datos de la tabla principal\n",
    "Nombre de laproteína:"
   ]
  },
  {
   "cell_type": "code",
   "execution_count": 20,
   "metadata": {},
   "outputs": [],
   "source": [
    "# nombre de la proteína\n",
    "prot_name = 'erk2'"
   ]
  },
  {
   "cell_type": "code",
   "execution_count": 9,
   "metadata": {},
   "outputs": [
    {
     "data": {
      "text/plain": [
       "(166, 14)"
      ]
     },
     "execution_count": 9,
     "metadata": {},
     "output_type": "execute_result"
    }
   ],
   "source": [
    "# Cargamos el dataframe principal de la proteína\n",
    "path_arguments = ('../data/TABLA_MTDATA_ERK2_166_crys_LIGS_INFO.json').split('/')\n",
    "path_to_json_file = glob.glob(os.path.join(*path_arguments))[0]\n",
    "\n",
    "df_prot_labels = pd.read_json(path_to_json_file)\n",
    "df_prot_labels.shape"
   ]
  },
  {
   "cell_type": "markdown",
   "metadata": {},
   "source": [
    "**Esta tabla contiene ya la información de la molécula presente en el sitio activo de cada conformación de la proteína**"
   ]
  },
  {
   "cell_type": "code",
   "execution_count": 10,
   "metadata": {},
   "outputs": [
    {
     "data": {
      "text/html": [
       "<div>\n",
       "<style scoped>\n",
       "    .dataframe tbody tr th:only-of-type {\n",
       "        vertical-align: middle;\n",
       "    }\n",
       "\n",
       "    .dataframe tbody tr th {\n",
       "        vertical-align: top;\n",
       "    }\n",
       "\n",
       "    .dataframe thead th {\n",
       "        text-align: right;\n",
       "    }\n",
       "</style>\n",
       "<table border=\"1\" class=\"dataframe\">\n",
       "  <thead>\n",
       "    <tr style=\"text-align: right;\">\n",
       "      <th></th>\n",
       "      <th>Title</th>\n",
       "      <th>Date</th>\n",
       "      <th>Entities</th>\n",
       "      <th>ChainID</th>\n",
       "      <th>Resolution</th>\n",
       "      <th>Identity</th>\n",
       "      <th>Coverage</th>\n",
       "      <th>NumGaps</th>\n",
       "      <th>GapLen</th>\n",
       "      <th>GapPos</th>\n",
       "      <th>NumLigs</th>\n",
       "      <th>NameLigs</th>\n",
       "      <th>Inhib</th>\n",
       "      <th>Inhib_mass</th>\n",
       "    </tr>\n",
       "  </thead>\n",
       "  <tbody>\n",
       "    <tr>\n",
       "      <th>1erk</th>\n",
       "      <td>structure of signal-regulated kinase</td>\n",
       "      <td>1997-05-15</td>\n",
       "      <td>1</td>\n",
       "      <td>A</td>\n",
       "      <td>2.3</td>\n",
       "      <td>355</td>\n",
       "      <td>99.166667</td>\n",
       "      <td>1</td>\n",
       "      <td>[3]</td>\n",
       "      <td>[[1, 3]]</td>\n",
       "      <td>0</td>\n",
       "      <td>[]</td>\n",
       "      <td>None</td>\n",
       "      <td>NaN</td>\n",
       "    </tr>\n",
       "    <tr>\n",
       "      <th>1gol</th>\n",
       "      <td>coordinates of rat map kinase erk2 with an arg...</td>\n",
       "      <td>1997-03-12</td>\n",
       "      <td>1</td>\n",
       "      <td>A</td>\n",
       "      <td>2.8</td>\n",
       "      <td>354</td>\n",
       "      <td>99.166667</td>\n",
       "      <td>1</td>\n",
       "      <td>[3]</td>\n",
       "      <td>[[1, 3]]</td>\n",
       "      <td>2</td>\n",
       "      <td>[ATP, MG]</td>\n",
       "      <td>ATP</td>\n",
       "      <td>398.0</td>\n",
       "    </tr>\n",
       "    <tr>\n",
       "      <th>1pme</th>\n",
       "      <td>structure of penta mutant human erk2 map kinas...</td>\n",
       "      <td>1999-06-08</td>\n",
       "      <td>1</td>\n",
       "      <td>A</td>\n",
       "      <td>2.0</td>\n",
       "      <td>354</td>\n",
       "      <td>92.500000</td>\n",
       "      <td>4</td>\n",
       "      <td>[15, 3, 1, 8]</td>\n",
       "      <td>[[1, 15], [33, 35], [161, 161], [330, 337]]</td>\n",
       "      <td>3</td>\n",
       "      <td>[CME, SB2, SO4]</td>\n",
       "      <td>SB2</td>\n",
       "      <td>342.0</td>\n",
       "    </tr>\n",
       "  </tbody>\n",
       "</table>\n",
       "</div>"
      ],
      "text/plain": [
       "                                                  Title       Date  Entities  \\\n",
       "1erk               structure of signal-regulated kinase 1997-05-15         1   \n",
       "1gol  coordinates of rat map kinase erk2 with an arg... 1997-03-12         1   \n",
       "1pme  structure of penta mutant human erk2 map kinas... 1999-06-08         1   \n",
       "\n",
       "     ChainID  Resolution  Identity   Coverage  NumGaps         GapLen  \\\n",
       "1erk       A         2.3       355  99.166667        1            [3]   \n",
       "1gol       A         2.8       354  99.166667        1            [3]   \n",
       "1pme       A         2.0       354  92.500000        4  [15, 3, 1, 8]   \n",
       "\n",
       "                                           GapPos  NumLigs         NameLigs  \\\n",
       "1erk                                     [[1, 3]]        0               []   \n",
       "1gol                                     [[1, 3]]        2        [ATP, MG]   \n",
       "1pme  [[1, 15], [33, 35], [161, 161], [330, 337]]        3  [CME, SB2, SO4]   \n",
       "\n",
       "     Inhib  Inhib_mass  \n",
       "1erk  None         NaN  \n",
       "1gol   ATP       398.0  \n",
       "1pme   SB2       342.0  "
      ]
     },
     "execution_count": 10,
     "metadata": {},
     "output_type": "execute_result"
    }
   ],
   "source": [
    "df_prot_labels.head(3)"
   ]
  },
  {
   "cell_type": "markdown",
   "metadata": {},
   "source": [
    "## Identificación de los inhibidores\n",
    "### Seleccionamos las conformaciones que posean algun inhibidor"
   ]
  },
  {
   "cell_type": "code",
   "execution_count": 12,
   "metadata": {},
   "outputs": [
    {
     "data": {
      "text/plain": [
       "(138, 14)"
      ]
     },
     "execution_count": 12,
     "metadata": {},
     "output_type": "execute_result"
    }
   ],
   "source": [
    "filtro_inh = df_prot_labels.Inhib.notnull()\n",
    "df_ligs_crys = df_prot_labels[filtro_inh]\n",
    "# Número total de conformaciones con algún ligando en el sitio activo\n",
    "df_ligs_crys.shape"
   ]
  },
  {
   "cell_type": "code",
   "execution_count": 13,
   "metadata": {},
   "outputs": [
    {
     "name": "stdout",
     "output_type": "stream",
     "text": [
      "138 conformaciones poseen algún ligando en el sitio activo.\n"
     ]
    }
   ],
   "source": [
    "print(F'{df_ligs_crys.shape[0]} conformaciones poseen algún ligando en el sitio activo.')"
   ]
  },
  {
   "cell_type": "markdown",
   "metadata": {},
   "source": [
    "### Identificamos el número de ligandos únicos"
   ]
  },
  {
   "cell_type": "code",
   "execution_count": 14,
   "metadata": {},
   "outputs": [
    {
     "data": {
      "text/plain": [
       "118"
      ]
     },
     "execution_count": 14,
     "metadata": {},
     "output_type": "execute_result"
    }
   ],
   "source": [
    "ligs_crys_prot = set(df_ligs_crys.Inhib)\n",
    "len(ligs_crys_prot)"
   ]
  },
  {
   "cell_type": "markdown",
   "metadata": {},
   "source": [
    "## Comenzamos la obtención de los datos\n",
    "El proceso es el siguiente:\n",
    "> 1. Con el identificador de la molécula del PDB (nombe de tres letras, por ejemplo: ATP) se busca en el PDB la información de dicha molécula: http://www.rcsb.org/ligand\n",
    "2. Se obtiene el *chemicalInChIKey*, el *chemicalInChI* y el SMILES isomérico de la molécula.\n",
    "3. El *InChI el *InChIKey* o en su defecto el SMILES isimérico, es usado para buscar a la molécula en las bases de datos PubChem y Chembl.\n",
    "    - Dichos *request* a la la API de cada base de datos se hacen con las librerías **_chembl_webresource_client_** y **_pubchemy_**.\n",
    "4. Todos los datos disponibles de las moléculas son guardados en un diccionario de pyhton.\n",
    "5. Finalmente el objeto se guarda en un archivo para posteriormente poder tener acceso al mismo.\n",
    "\n",
    "\n",
    "### Web scrapping de los ligandos"
   ]
  },
  {
   "cell_type": "code",
   "execution_count": 15,
   "metadata": {},
   "outputs": [],
   "source": [
    "# Librerías útiles para el web scrapping de los ligandos\n",
    "import urllib.request\n",
    "from bs4 import BeautifulSoup\n",
    "from chembl_webresource_client.new_client import new_client\n",
    "import pubchempy"
   ]
  },
  {
   "cell_type": "code",
   "execution_count": 16,
   "metadata": {},
   "outputs": [],
   "source": [
    "# Url para accesar a la información de los ligandos en el PDB\n",
    "URL_PDB = 'http://www.rcsb.org/ligand'"
   ]
  },
  {
   "cell_type": "markdown",
   "metadata": {},
   "source": [
    "### Obtenemos los datos de cada ligando y los guardamos en un diccionario"
   ]
  },
  {
   "cell_type": "code",
   "execution_count": 17,
   "metadata": {},
   "outputs": [
    {
     "name": "stdout",
     "output_type": "stream",
     "text": [
      "Procesando al ligando: HMY\n",
      "\n",
      "No se pudo obtener infor de CEHMBL: HMY\n",
      "InChI=1S/C19H22O8/c1-9-4-3-5-12(20)17(23)14(22)8-15-18(27-15)11-6-10(25-2)7-13(21)16(11)19(24)26-9/h3,5-7,9,14-15,17-18,21-23H,4,8H2,1-2H3/t9-,14-,15+,17+,18+/m0/s1\n",
      "\n",
      "Procesando al ligando: 36O\n",
      "\n",
      "Procesando al ligando: 36N\n",
      "\n",
      "Procesando al ligando: TT4\n",
      "\n",
      "No se pudo obtener infor de CEHMBL: TT4\n",
      "InChI=1S/C8H9N5/c9-7-11-8(10)13(12-7)6-4-2-1-3-5-6/h1-5H,(H4,9,10,11,12)\n",
      "\n",
      "Procesando al ligando: 362\n",
      "\n",
      "Procesando al ligando: AOC\n",
      "\n",
      "No se pudo obtener infor de CEHMBL: AOC\n",
      "InChI=1S/C13H15N5O4/c1-2-3-21-4-7-9(19)10(20)13(22-7)18-6-17-8-11(14)15-5-16-12(8)18/h1,5-7,9-10,13,19-20H,3-4H2,(H2,14,15,16)/t7-,9-,10-,13-/m1/s1\n",
      "\n",
      "Procesando al ligando: 36R\n",
      "\n",
      "Procesando al ligando: ESN\n",
      "\n",
      "No se pudo obtener infor de CEHMBL: ESN\n",
      "InChI=1S/C29H32ClN5O4/c1-17-4-3-5-19(12-17)25(16-36)33-27(37)18(2)35-15-21-7-6-20(13-23(21)28(35)38)26-24(30)14-31-29(34-26)32-22-8-10-39-11-9-22/h3-7,12-14,18,22,25,36H,8-11,15-16H2,1-2H3,(H,33,37)(H,31,32,34)/t18-,25-/m1/s1\n",
      "\n",
      "Procesando al ligando: B7S\n",
      "\n",
      "Procesando al ligando: 4V8\n",
      "\n",
      "Procesando al ligando: DQ2\n",
      "\n",
      "No se pudo obtener infor de CEHMBL: DQ2\n",
      "InChI=1S/C15H22N10O4S/c16-2-3-19-8(26)1-4-30-15-23-9-12(17)20-6-21-13(9)25(15)14-11(28)10(27)7(29-14)5-22-24-18/h6-7,10-11,14,18,27-28H,1-5,16H2,(H2-,17,19,20,21,26)/p+1/t7-,10-,11-,14-/m1/s1\n",
      "\n",
      "Procesando al ligando: 8QB\n",
      "\n",
      "Procesando al ligando: NRA\n",
      "\n",
      "Procesando al ligando: E28\n",
      "\n",
      "No se pudo obtener infor de CEHMBL: E28\n",
      "InChI=1S/C25H22F3N5O2/c26-25(27,28)20-8-15(2-3-17(20)10-29)19-13-32-33-23(19)18-9-21(30-12-18)24(34)31-11-14-1-4-22-16(7-14)5-6-35-22/h1-4,7-9,12-13,30H,5-6,10-11,29H2,(H,31,34)(H,32,33)\n",
      "\n",
      "Procesando al ligando: CQ8\n",
      "\n",
      "Procesando al ligando: 4V9\n",
      "\n",
      "Procesando al ligando: ADP\n",
      "\n",
      "Procesando al ligando: ERK\n",
      "\n",
      "No se pudo obtener infor de CEHMBL: ERK\n",
      "InChI=1S/C27H28ClN5O3/c1-17(18-5-3-2-4-6-18)30-24(34)16-33-15-20-8-7-19(13-22(20)26(33)35)25-23(28)14-29-27(32-25)31-21-9-11-36-12-10-21/h2-8,13-14,17,21H,9-12,15-16H2,1H3,(H,30,34)(H,29,31,32)/t17-/m1/s1\n",
      "\n",
      "Procesando al ligando: ESW\n",
      "\n",
      "No se pudo obtener infor de CEHMBL: ESW\n",
      "InChI=1S/C28H30ClN5O3/c1-28(2,20-6-4-3-5-7-20)33-24(35)17-34-16-19-9-8-18(14-22(19)26(34)36)25-23(29)15-30-27(32-25)31-21-10-12-37-13-11-21/h3-9,14-15,21H,10-13,16-17H2,1-2H3,(H,33,35)(H,30,31,32)\n",
      "\n",
      "Procesando al ligando: SB2\n",
      "\n",
      "No se pudo obtener infor de CEHMBL: SB2\n",
      "InChI=1S/C21H16FN3OS/c1-27(26)18-8-4-16(5-9-18)21-24-19(14-2-6-17(22)7-3-14)20(25-21)15-10-12-23-13-11-15/h2-13H,1H3,(H,24,25)/t27-/m0/s1\n",
      "\n",
      "Procesando al ligando: 6H3\n",
      "\n",
      "Procesando al ligando: 3G7\n",
      "\n",
      "Procesando al ligando: ERW\n",
      "\n",
      "No se pudo obtener infor de CEHMBL: ERW\n",
      "InChI=1S/C24H30ClN5O3/c1-24(2,3)29(4)20(31)14-30-13-16-6-5-15(11-18(16)22(30)32)21-19(25)12-26-23(28-21)27-17-7-9-33-10-8-17/h5-6,11-12,17H,7-10,13-14H2,1-4H3,(H,26,27,28)\n",
      "\n",
      "Procesando al ligando: F0H\n",
      "\n",
      "No se pudo obtener infor de CEHMBL: F0H\n",
      "InChI=1S/C35H34ClFN6O4/c36-29-12-11-25(20-30(29)37)32(23-44)43-19-15-24(21-33(43)45)31-14-18-39-34(42-31)41-27-13-17-38-26(22-27)8-6-7-16-40-35(46)47-28-9-4-2-1-3-5-10-28/h1-2,11-15,17-22,28,32,44H,3-5,7,9-10,16,23H2,(H,40,46)(H,38,39,41,42)/b2-1-/t28-,32+/m0/s1\n",
      "\n",
      "Procesando al ligando: 620\n",
      "\n",
      "Procesando al ligando: 363\n",
      "\n",
      "Procesando al ligando: E75\n",
      "\n",
      "No se pudo obtener infor de CEHMBL: E75\n",
      "InChI=1S/C20H22N4O2/c1-13-18(19(24-26-13)14-5-3-2-4-6-14)17-11-12-21-20(23-17)22-15-7-9-16(25)10-8-15/h2-6,11-12,15-16,25H,7-10H2,1H3,(H,21,22,23)/t15-,16-\n",
      "\n",
      "Procesando al ligando: ATP\n",
      "\n",
      "Procesando al ligando: 35X\n",
      "\n",
      "Procesando al ligando: CME\n",
      "\n",
      "No se pudo obtener infor de CEHMBL: CME\n",
      "InChI=1S/C5H11NO3S2/c6-4(5(8)9)3-11-10-2-1-7/h4,7H,1-3,6H2,(H,8,9)/t4-/m0/s1\n",
      "\n",
      "Procesando al ligando: F8V\n",
      "\n",
      "No se pudo obtener infor de CEHMBL: F8V\n",
      "InChI=1S/C35H35FN8O2S/c1-47-35(34(46)39-27-9-12-30-29(21-27)32(41-40-30)24-3-7-26(36)8-4-24)13-16-42(23-35)22-31(45)44-19-17-43(18-20-44)28-10-5-25(6-11-28)33-37-14-2-15-38-33/h2-12,14-15,21H,13,16-20,22-23H2,1H3,(H,39,46)(H,40,41)/t35-/m0/s1\n",
      "\n",
      "Procesando al ligando: SB4\n",
      "\n",
      "Procesando al ligando: 19A\n",
      "\n",
      "Procesando al ligando: FRZ\n",
      "\n",
      "Procesando al ligando: EK3\n",
      "\n",
      "No se pudo obtener infor de CEHMBL: EK3\n",
      "InChI=1S/C20H21FN4/c21-16-8-6-14(7-9-16)20-18(13-23-25-20)15-10-11-22-19(12-15)24-17-4-2-1-3-5-17/h6-13,17H,1-5H2,(H,22,24)(H,23,25)\n",
      "\n",
      "Procesando al ligando: EK6\n",
      "\n",
      "No se pudo obtener infor de CEHMBL: EK6\n",
      "InChI=1S/C27H26Cl2FN5O4/c1-2-39-25(37)13-31-10-17-4-3-15(7-20(17)28)19-12-33-35-26(19)18-9-23(32-11-18)27(38)34-24(14-36)16-5-6-22(30)21(29)8-16/h3-9,11-12,24,31-32,36H,2,10,13-14H2,1H3,(H,33,35)(H,34,38)/t24-/m1/s1\n",
      "\n",
      "Procesando al ligando: 36Q\n",
      "\n",
      "No se pudo obtener infor de CEHMBL: 36Q\n",
      "InChI=1S/C14H15N5O/c20-7-11(6-10-4-2-1-3-5-10)19-14-12-13(16-8-15-12)17-9-18-14/h1-5,8-9,11,20H,6-7H2,(H2,15,16,17,18,19)/t11-/m0/s1\n",
      "\n",
      "Procesando al ligando: ERZ\n",
      "\n",
      "No se pudo obtener infor de CEHMBL: ERZ\n",
      "InChI=1S/C10H13N5/c1-7-4-11-10(12-5-7)14-9-6-13-15(3)8(9)2/h4-6H,1-3H3,(H,11,12,14)\n",
      "\n",
      "Procesando al ligando: 8XB\n",
      "\n",
      "Procesando al ligando: EK0\n",
      "\n",
      "Procesando al ligando: E57\n",
      "\n",
      "No se pudo obtener infor de CEHMBL: E57\n",
      "InChI=1S/C22H26ClN5O3/c1-3-17(11-29)26-22-25-9-13(2)20(28-22)15-8-18(24-10-15)21(31)27-19(12-30)14-5-4-6-16(23)7-14/h4-10,17,19,24,29-30H,3,11-12H2,1-2H3,(H,27,31)(H,25,26,28)/t17-,19+/m0/s1\n",
      "\n",
      "Procesando al ligando: E3K\n",
      "\n",
      "No se pudo obtener infor de CEHMBL: E3K\n",
      "InChI=1S/C14H19N9O4S2/c15-11-8-12(19-5-18-11)23(14(21-8)29-4-7(24)17-1-2-28)13-10(26)9(25)6(27-13)3-20-22-16/h5-6,9-10,13,16,25-26H,1-4H2,(H3-,15,17,18,19,24,28)/p+1/t6-,9-,10-,13-/m1/s1\n",
      "\n",
      "Procesando al ligando: 35W\n",
      "\n",
      "Procesando al ligando: 41B\n",
      "\n",
      "Procesando al ligando: HVE\n",
      "\n",
      "No se pudo obtener infor de CEHMBL: HVE\n",
      "InChI=1S/C12H17N5/c13-7-9-2-5-17(6-3-9)12-10-1-4-14-11(10)15-8-16-12/h1,4,8-9H,2-3,5-7,13H2,(H,14,15,16)/p+1\n",
      "\n",
      "Procesando al ligando: ESK\n",
      "\n",
      "No se pudo obtener infor de CEHMBL: ESK\n",
      "InChI=1S/C27H28ClN5O4/c28-22-13-29-27(30-20-8-10-37-11-9-20)32-25(22)18-6-7-19-14-33(26(36)21(19)12-18)15-24(35)31-23(16-34)17-4-2-1-3-5-17/h1-7,12-13,20,23,34H,8-11,14-16H2,(H,31,35)(H,29,30,32)/t23-/m1/s1\n",
      "\n",
      "Procesando al ligando: ANP\n",
      "\n",
      "Procesando al ligando: 8X2\n",
      "\n",
      "Procesando al ligando: F0E\n",
      "\n",
      "No se pudo obtener infor de CEHMBL: F0E\n",
      "InChI=1S/C46H55N11O5/c58-41(57-26-24-56(25-27-57)36-13-10-32(11-14-36)43-48-18-6-19-49-43)31-55-23-17-34(30-55)44(59)52-35-12-15-39-38(29-35)42(54-53-39)33-16-22-47-40(28-33)45(60)50-20-7-21-51-46(61)62-37-8-4-2-1-3-5-9-37/h6,10-16,18-19,22,28-29,34,37H,1-5,7-9,17,20-21,23-27,30-31H2,(H,50,60)(H,51,61)(H,52,59)(H,53,54)/t34-/m1/s1\n",
      "\n",
      "Procesando al ligando: DVZ\n",
      "\n",
      "No se pudo obtener infor de CEHMBL: DVZ\n",
      "InChI=1S/C12H14N8O5S/c13-9-6-10(16-3-15-9)20(12(18-6)26-2-5(21)22)11-8(24)7(23)4(25-11)1-17-19-14/h3-4,7-8,11,14,23-24H,1-2H2,(H2-,13,15,16,21,22)/p+1/t4-,7-,8-,11-/m1/s1\n",
      "\n",
      "Procesando al ligando: 38Z\n",
      "\n",
      "Procesando al ligando: 4VF\n",
      "\n",
      "Procesando al ligando: EK4\n",
      "\n",
      "No se pudo obtener infor de CEHMBL: EK4\n",
      "InChI=1S/C23H19F3N4O2/c24-23(25,26)17-8-4-7-15(9-17)18-12-28-30-21(18)16-10-19(27-11-16)22(32)29-20(13-31)14-5-2-1-3-6-14/h1-12,20,27,31H,13H2,(H,28,30)(H,29,32)/t20-/m1/s1\n",
      "\n",
      "Procesando al ligando: 82A\n",
      "\n",
      "Procesando al ligando: 4VB\n",
      "\n",
      "Procesando al ligando: 6PB\n",
      "\n",
      "No se pudo obtener infor de CEHMBL: 6PB\n",
      "InChI=1S/C11H8BrN5/c12-7-3-1-2-6(4-7)8-9-10(15-5-14-9)17-11(13)16-8/h1-5H,(H3,13,14,15,16,17)\n",
      "\n",
      "Procesando al ligando: 4VG\n",
      "\n",
      "Procesando al ligando: EU2\n",
      "\n",
      "No se pudo obtener infor de CEHMBL: EU2\n",
      "InChI=1S/C17H17ClN4O2/c18-14-9-20-17(21-12-3-5-24-6-4-12)22-15(14)10-1-2-11-8-19-16(23)13(11)7-10/h1-2,7,9,12H,3-6,8H2,(H,19,23)(H,20,21,22)\n",
      "\n",
      "Procesando al ligando: ER8\n",
      "\n",
      "No se pudo obtener infor de CEHMBL: ER8\n",
      "InChI=1S/C23H28ClN5O3/c1-23(2,3)28-19(30)13-29-12-15-5-4-14(10-17(15)21(29)31)20-18(24)11-25-22(27-20)26-16-6-8-32-9-7-16/h4-5,10-11,16H,6-9,12-13H2,1-3H3,(H,28,30)(H,25,26,27)\n",
      "\n",
      "Procesando al ligando: DU8\n",
      "\n",
      "No se pudo obtener infor de CEHMBL: DU8\n",
      "InChI=1S/C13H16N8O5S/c14-10-7-11(17-4-16-10)21(13(19-7)27-2-1-6(22)23)12-9(25)8(24)5(26-12)3-18-20-15/h4-5,8-9,12,24-25H,1-3H2,(H,22,23)(H2,14,16,17)/t5-,8-,9-,12-/m1/s1\n",
      "\n",
      "Procesando al ligando: EVK\n",
      "\n",
      "Procesando al ligando: ESQ\n",
      "\n",
      "No se pudo obtener infor de CEHMBL: ESQ\n",
      "InChI=1S/C23H28ClN5O3/c24-20-14-25-23(26-18-3-9-31-10-4-18)27-21(20)16-1-2-17-15-29(22(30)19(17)13-16)6-5-28-7-11-32-12-8-28/h1-2,13-14,18H,3-12,15H2,(H,25,26,27)\n",
      "\n",
      "Procesando al ligando: N0V\n",
      "\n",
      "Procesando al ligando: EMU\n",
      "\n",
      "Procesando al ligando: DX4\n",
      "\n",
      "Procesando al ligando: 4VJ\n",
      "\n"
     ]
    },
    {
     "name": "stdout",
     "output_type": "stream",
     "text": [
      "Procesando al ligando: E94\n",
      "\n",
      "No se pudo obtener infor de CEHMBL: E94\n",
      "InChI=1S/C28H27ClN6OS/c29-20-7-4-6-19(16-20)25-23(18-30)27(31-12-15-35-13-2-1-3-14-35)37-26(25)24-10-11-32-28(34-24)33-21-8-5-9-22(36)17-21/h4-11,16-17,31,36H,1-3,12-15H2,(H,32,33,34)\n",
      "\n",
      "Procesando al ligando: EQT\n",
      "\n",
      "Procesando al ligando: S91\n",
      "\n",
      "No se pudo obtener infor de CEHMBL: S91\n",
      "InChI=1S/C20H19N5O3/c1-12-3-2-4-15(9-12)23-19-16(18(21)28)11-22-20(25-19)24-14-7-5-13(6-8-14)10-17(26)27/h2-9,11H,10H2,1H3,(H2,21,28)(H,26,27)(H2,22,23,24,25)\n",
      "\n",
      "Procesando al ligando: DJ2\n",
      "\n",
      "No se pudo obtener infor de CEHMBL: DJ2\n",
      "InChI=1S/C10H14N6O4/c11-8-5-9(14-2-13-8)16(3-15-5)10-7(18)6(17)4(20-10)1-19-12/h2-4,6-7,10,17-18H,1,12H2,(H2,11,13,14)/t4-,6-,7-,10-/m1/s1\n",
      "\n",
      "Procesando al ligando: 2H1\n",
      "\n",
      "No se pudo obtener infor de CEHMBL: 2H1\n",
      "InChI=1S/C25H24N6O/c1-15(2)31-25-21(24(26)27-14-28-25)23(30-31)19-11-16(3)22-18(12-19)9-10-20(29-22)32-13-17-7-5-4-6-8-17/h4-12,14-15H,13H2,1-3H3,(H2,26,27,28)\n",
      "\n",
      "Procesando al ligando: 6TS\n",
      "\n",
      "No se pudo obtener infor de CEHMBL: 6TS\n",
      "InChI=1S/C31H34ClN7O3/c1-2-28(40)37-26-15-8-9-16-27(26)38-29-25(32)21-35-30(39-29)36-23-17-19-33-22(20-23)12-10-11-18-34-31(41)42-24-13-6-4-3-5-7-14-24/h3-4,8-9,15-17,19-21,24H,2,5-7,11,13-14,18H2,1H3,(H,34,41)(H,37,40)(H2,33,35,36,38,39)/b4-3-/t24-/m0/s1\n",
      "\n",
      "Procesando al ligando: DHC\n",
      "\n",
      "Procesando al ligando: CQ6\n",
      "\n",
      "Procesando al ligando: 1FM\n",
      "\n",
      "Procesando al ligando: HVQ\n",
      "\n",
      "No se pudo obtener infor de CEHMBL: HVQ\n",
      "InChI=1S/C5H7NS/c6-3-5-1-2-7-4-5/h1-2,4H,3,6H2/p+1\n",
      "\n",
      "Procesando al ligando: ZAS\n",
      "\n",
      "No se pudo obtener infor de CEHMBL: ZAS\n",
      "InChI=1S/C10H13N8O3/c11-8-5-9(14-2-13-8)18(3-15-5)10-7(20)6(19)4(21-10)1-16-17-12/h2-4,6-7,10,12,19-20H,1H2,(H2,11,13,14)/t4-,6-,7-,10-/m1/s1\n",
      "\n",
      "Fallo con datos PUBCHEM: ZAS\n",
      "Procesando al ligando: G67\n",
      "\n",
      "No se pudo obtener infor de CEHMBL: G67\n",
      "InChI=1S/C37H41N9O3S/c1-24(2)49-32-12-9-28(20-38-32)34-30-19-29(10-11-31(30)41-42-34)40-36(48)37(50-4)15-18-45(22-37)21-33(47)46-16-13-26(14-17-46)25-5-7-27(8-6-25)35-39-23-44(3)43-35/h5-13,19-20,23-24H,14-18,21-22H2,1-4H3,(H,40,48)(H,41,42)/t37-/m0/s1\n",
      "\n",
      "Procesando al ligando: 42A\n",
      "\n",
      "Procesando al ligando: EK7\n",
      "\n",
      "No se pudo obtener infor de CEHMBL: EK7\n",
      "InChI=1S/C19H17N5OS/c1-24(2)18-16-14(15(9-20)26-18)7-6-11-10-21-19(23-17(11)16)22-12-4-3-5-13(25)8-12/h3-5,8,10,25H,6-7H2,1-2H3,(H,21,22,23)\n",
      "\n",
      "Procesando al ligando: 6S9\n",
      "\n",
      "Procesando al ligando: E63\n",
      "\n",
      "No se pudo obtener infor de CEHMBL: E63\n",
      "InChI=1S/C23H21N9O/c33-22-16-9-8-15(10-18(16)30-32-22)26-23-24-12-19(25-14-4-2-1-3-5-14)21(28-23)27-20-11-17(29-31-20)13-6-7-13/h1-5,8-13,25H,6-7H2,(H2,30,32,33)(H3,24,26,27,28,29,31)\n",
      "\n",
      "Procesando al ligando: DKW\n",
      "\n",
      "No se pudo obtener infor de CEHMBL: DKW\n",
      "InChI=1S/C13H14N6O4/c1-2-3-15-12(22)9-7(20)8(21)13(23-9)19-5-18-6-10(14)16-4-17-11(6)19/h1,4-5,7-9,13,20-21H,3H2,(H,15,22)(H2,14,16,17)/t7-,8+,9-,13+/m0/s1\n",
      "\n",
      "Procesando al ligando: A3N\n",
      "\n",
      "Procesando al ligando: EQZ\n",
      "\n",
      "No se pudo obtener infor de CEHMBL: EQZ\n",
      "InChI=1S/C20H23ClN4O3/c1-27-9-6-25-12-14-3-2-13(10-16(14)19(25)26)18-17(21)11-22-20(24-18)23-15-4-7-28-8-5-15/h2-3,10-11,15H,4-9,12H2,1H3,(H,22,23,24)\n",
      "\n",
      "Procesando al ligando: 2SH\n",
      "\n",
      "Procesando al ligando: E71\n",
      "\n",
      "No se pudo obtener infor de CEHMBL: E71\n",
      "InChI=1S/C21H12F2N4O/c22-18-3-1-2-14(19(18)23)17-11-27-28-20(17)16-10-26-21-15(16)8-13(9-25-21)12-4-6-24-7-5-12/h1-11H,(H,25,26)\n",
      "\n",
      "Procesando al ligando: EVQ\n",
      "\n",
      "No se pudo obtener infor de CEHMBL: EVQ\n",
      "InChI=1S/C28H30ClN5O4/c1-17(18-4-3-5-22(12-18)37-2)31-25(35)16-34-15-20-7-6-19(13-23(20)27(34)36)26-24(29)14-30-28(33-26)32-21-8-10-38-11-9-21/h3-7,12-14,17,21H,8-11,15-16H2,1-2H3,(H,31,35)(H,30,32,33)/t17-/m1/s1\n",
      "\n",
      "Procesando al ligando: Z8B\n",
      "\n",
      "No se pudo obtener infor de CEHMBL: Z8B\n",
      "InChI=1S/C10H11BrN8O3/c11-10-17-4-7(12)14-2-15-8(4)19(10)9-6(21)5(20)3(22-9)1-16-18-13/h2-3,5-6,9,20-21H,1H2,(H2,12,14,15)/t3-,5-,6-,9-/m1/s1\n",
      "\n",
      "Procesando al ligando: 5ID\n",
      "\n",
      "Procesando al ligando: 6QB\n",
      "\n",
      "Procesando al ligando: CQ3\n",
      "\n",
      "Procesando al ligando: EK9\n",
      "\n",
      "No se pudo obtener infor de CEHMBL: EK9\n",
      "InChI=1S/C24H22N4O2/c1-16-13-26-23(18-10-6-3-7-11-18)28-22(16)19-12-20(25-14-19)24(30)27-21(15-29)17-8-4-2-5-9-17/h2-14,21,25,29H,15H2,1H3,(H,27,30)/t21-/m1/s1\n",
      "\n",
      "Procesando al ligando: ACP\n",
      "\n",
      "Procesando al ligando: E9W\n",
      "\n",
      "No se pudo obtener infor de CEHMBL: E9W\n",
      "InChI=1S/C15H17N9O4S/c1-2-3-18-8(25)5-29-15-22-9-12(16)19-6-20-13(9)24(15)14-11(27)10(26)7(28-14)4-21-23-17/h1,6-7,10-11,14,17,26-27H,3-5H2,(H2-,16,18,19,20,25)/p+1/t7-,10-,11-,14-/m1/s1\n",
      "\n",
      "Procesando al ligando: E2K\n",
      "\n",
      "No se pudo obtener infor de CEHMBL: E2K\n",
      "InChI=1S/C14H18N8O5S/c15-11-8-12(18-5-17-11)22(14(20-8)28-3-1-2-7(23)24)13-10(26)9(25)6(27-13)4-19-21-16/h5-6,9-10,13,25-26H,1-4H2,(H,23,24)(H2,15,17,18)/t6-,9-,10-,13-/m1/s1\n",
      "\n",
      "Procesando al ligando: F29\n",
      "\n",
      "Procesando al ligando: 8XH\n",
      "\n",
      "Procesando al ligando: OLO\n",
      "\n",
      "Procesando al ligando: Z48\n",
      "\n",
      "Procesando al ligando: 390\n",
      "\n",
      "Procesando al ligando: F3Z\n",
      "\n",
      "Procesando al ligando: EK5\n",
      "\n",
      "No se pudo obtener infor de CEHMBL: EK5\n",
      "InChI=1S/C23H19ClN4O2/c24-18-3-1-2-15(9-18)19-13-27-28-22(19)17-10-20(25-12-17)23(29)26-11-14-4-5-21-16(8-14)6-7-30-21/h1-5,8-10,12-13,25H,6-7,11H2,(H,26,29)(H,27,28)\n",
      "\n",
      "Procesando al ligando: 8XK\n",
      "\n",
      "Procesando al ligando: EQW\n",
      "\n",
      "No se pudo obtener infor de CEHMBL: EQW\n",
      "InChI=1S/C9H12ClN3O/c10-7-5-11-9(12-6-7)13-8-1-3-14-4-2-8/h5-6,8H,1-4H2,(H,11,12,13)\n",
      "\n",
      "Procesando al ligando: 8XN\n",
      "\n",
      "Procesando al ligando: E86\n",
      "\n",
      "Procesando al ligando: HV2\n",
      "\n",
      "No se pudo obtener infor de CEHMBL: HV2\n",
      "InChI=1S/C3H6O3S/c4-3-1-7(5,6)2-3/h3-4H,1-2H2\n",
      "\n",
      "Procesando al ligando: 81Y\n",
      "\n",
      "Procesando al ligando: EK2\n",
      "\n",
      "No se pudo obtener infor de CEHMBL: EK2\n",
      "InChI=1S/C18H16Cl2N4O2/c19-13-5-11(6-14(20)8-13)15-10-22-23-17(15)12-7-16(21-9-12)18(25)24-1-3-26-4-2-24/h5-10,21H,1-4H2,(H,22,23)\n",
      "\n",
      "Procesando al ligando: G17\n",
      "\n",
      "No se pudo obtener infor de CEHMBL: G17\n",
      "InChI=1S/C26H21F3N4O/c1-15-5-7-21(31-24(34)17-3-2-4-19(12-17)26(27,28)29)13-22(15)16-6-10-23-18(11-16)14-30-25(33-23)32-20-8-9-20/h2-7,10-14,20H,8-9H2,1H3,(H,31,34)(H,30,32,33)\n",
      "\n",
      "Procesando al ligando: PGE\n",
      "\n",
      "Procesando al ligando: DF8\n",
      "\n",
      "No se pudo obtener infor de CEHMBL: DF8\n",
      "InChI=1S/C10H15N7O4/c11-7-4-8(14-2-13-7)17(10(15-4)16-12)9-6(20)5(19)3(1-18)21-9/h2-3,5-6,9,18-20H,1,12H2,(H,15,16)(H2,11,13,14)/t3-,5-,6-,9-/m1/s1\n",
      "\n",
      "Procesando al ligando: 8X5\n",
      "\n",
      "Procesando al ligando: 33A\n",
      "\n",
      "Procesando al ligando: 6TT\n",
      "\n",
      "No se pudo obtener infor de CEHMBL: 6TT\n",
      "InChI=1S/C20H19F3N6O2/c1-3-17(30)27-15-6-4-5-7-16(15)28-18-14(20(21,22)23)11-25-19(29-18)26-12-8-13(31-2)10-24-9-12/h4-11H,3H2,1-2H3,(H,27,30)(H2,25,26,28,29)\n",
      "\n",
      "Procesando al ligando: 8XE\n",
      "\n",
      "Procesando al ligando: DTW\n",
      "\n",
      "No se pudo obtener infor de CEHMBL: DTW\n",
      "InChI=1S/C14H20N10O4S/c15-11-8-12(19-5-18-11)24(14(21-8)29-3-1-2-7(25)22-16)13-10(27)9(26)6(28-13)4-20-23-17/h5-6,9-10,13,16,26-27H,1-4H2,(H4,15,17,18,19,20)/p+1/t6-,9-,10-,13-/m1/s1\n",
      "\n",
      "Fallo con datos PUBCHEM: DTW\n"
     ]
    }
   ],
   "source": [
    "# Generamos un diccionario con los datos de la molécula\n",
    "dic_ligs_crys_prot = {}\n",
    "\n",
    "for ligando in ligs_crys_prot:\n",
    "    url_lig = F'{URL_PDB}/{ligando}'\n",
    "    print(F'Procesando al ligando: {ligando}\\n')\n",
    "    \n",
    "    # Extraemos los datos del html del ligando:\n",
    "    lig_data = urllib.request.urlopen( url_lig ).read().decode()\n",
    "    \n",
    "    # Extraemos del bsoup los siguientes datos:\n",
    "    # InChIKey\n",
    "    soup = BeautifulSoup(lig_data)\n",
    "    inchi_key = soup.find(\"tr\", {\"id\": \"chemicalInChIKey\"})\n",
    "    inchi_key_str = inchi_key.find('td').text\n",
    "    \n",
    "    # InChI\n",
    "    inchi = soup.find(\"tr\", {\"id\": \"chemicalInChI\"})\n",
    "    inchi_str = inchi.find('td').text\n",
    "    \n",
    "    # isomeric SMILE (por si no se encuentra en la API de PbCh)\n",
    "    smiles = soup.find(\"tr\", {\"id\": \"chemicalIsomeric\"})\n",
    "    smiles_str = smiles.find('td').text\n",
    "    \n",
    "    # Peso molecular\n",
    "    mw = soup.find(\"tr\", {\"id\": \"chemicalMolecularWeight\"})\n",
    "    mw_str = mw.find('td').text\n",
    "    \n",
    "    # Con los datos anteriores usamos la librería para accesar al Chembl\n",
    "    # **** CHEMBL ****\n",
    "    # Procedemos a extraer los datos del Chembl\n",
    "    molecule = new_client.molecule\n",
    "    try:\n",
    "        chblMol_info = molecule.get(inchi_key_str)\n",
    "        chembl_id = chblMol_info['molecule_chembl_id']\n",
    "    except:\n",
    "        print(F'No se pudo obtener infor de CHEMBL: {ligando}')\n",
    "        print(inchi_str + '\\n')\n",
    "        chblMol_info = None\n",
    "        chembl_id = None\n",
    "        \n",
    "    # Ahora obtenemos datos correspondientes a pubchem\n",
    "    # *** PUBCHEM ***\n",
    "    try:\n",
    "        pbch_mol = pubchempy.get_compounds(inchi_str, 'inchi')[0]\n",
    "        pbch_cid = pbch_mol.cid\n",
    "        pbch_data = pbch_mol.to_dict()\n",
    "        canonical_smiles = pbch_mol.canonical_smiles\n",
    "    except:\n",
    "        print(F'Fallo con datos PUBCHEM: {ligando}')\n",
    "        pbch_mol = None\n",
    "        pbch_cid = None\n",
    "        pbch_data = None\n",
    "        canonical_smiles = None\n",
    "    # Creamos la entrada para el diccionario\n",
    "    # Primero el diccionario del ligando\n",
    "    dic_lig = {'inchi_key': inchi_key_str,\n",
    "               'inchi': inchi_str,\n",
    "               'molecular_weight': float(mw_str),\n",
    "               'canonical_smiles': canonical_smiles,\n",
    "               'isomeric_similes': smiles_str,\n",
    "               'chembl_id': chembl_id,\n",
    "               'chembl_data': chblMol_info,\n",
    "               'pubchem_id': pbch_cid,\n",
    "               'pubchem_data': pbch_data,}\n",
    "    \n",
    "    # Anidamos el dict  del ligando al dic principal\n",
    "    dic_ligs_crys_prot[ligando] = dic_lig"
   ]
  },
  {
   "cell_type": "markdown",
   "metadata": {},
   "source": [
    "## Guardamos el set de datos en formato *pickle*"
   ]
  },
  {
   "cell_type": "code",
   "execution_count": 18,
   "metadata": {},
   "outputs": [],
   "source": [
    "import pickle"
   ]
  },
  {
   "cell_type": "code",
   "execution_count": 24,
   "metadata": {},
   "outputs": [
    {
     "name": "stdout",
     "output_type": "stream",
     "text": [
      "El archivo ya ha sido creado.\n"
     ]
    }
   ],
   "source": [
    "nombre_archivo = os.path.join('..','data', F'LIGS_{prot_name.upper()}_crys_pubchem_chembl_data.pkl')\n",
    "if not os.path.exists(nombre_archivo):\n",
    "    with open(nombre_archivo, 'wb') as dic_file:\n",
    "        pickle.dump(dic_ligs_crys_prot, dic_file, protocol=pickle.HIGHEST_PROTOCOL)\n",
    "else:\n",
    "    print(\"El archivo ya ha sido creado.\")"
   ]
  },
  {
   "cell_type": "markdown",
   "metadata": {},
   "source": [
    "### Lectura del archivo guardado"
   ]
  },
  {
   "cell_type": "code",
   "execution_count": 26,
   "metadata": {},
   "outputs": [],
   "source": [
    "# Lectura del diccionario con pickle\n",
    "nombre_archivo = os.path.join('..','data', F'LIGS_{prot_name.upper()}_crys_pubchem_chembl_data.pkl')\n",
    "with open(nombre_archivo, 'rb') as dic_file:\n",
    "    dic_ligs_crys_prot = pickle.load(open(nombre_archivo, 'rb'))"
   ]
  },
  {
   "cell_type": "code",
   "execution_count": 27,
   "metadata": {},
   "outputs": [
    {
     "data": {
      "text/plain": [
       "118"
      ]
     },
     "execution_count": 27,
     "metadata": {},
     "output_type": "execute_result"
    }
   ],
   "source": [
    "# Número de ligandos procesados\n",
    "len(dic_ligs_crys_prot)"
   ]
  },
  {
   "cell_type": "markdown",
   "metadata": {},
   "source": [
    "# Finalmente:\n",
    "## Uso del diccionario final\n",
    "A modo de ejemplo visualizamos algunos de los datos disponibles en el diccionario:"
   ]
  },
  {
   "cell_type": "code",
   "execution_count": 28,
   "metadata": {},
   "outputs": [
    {
     "name": "stderr",
     "output_type": "stream",
     "text": [
      "RDKit WARNING: [09:25:13] Enabling RDKit 2019.09.1 jupyter extensions\n"
     ]
    }
   ],
   "source": [
    "import rdkit as rd"
   ]
  },
  {
   "cell_type": "code",
   "execution_count": 31,
   "metadata": {},
   "outputs": [
    {
     "data": {
      "text/html": [
       "<div>\n",
       "<style scoped>\n",
       "    .dataframe tbody tr th:only-of-type {\n",
       "        vertical-align: middle;\n",
       "    }\n",
       "\n",
       "    .dataframe tbody tr th {\n",
       "        vertical-align: top;\n",
       "    }\n",
       "\n",
       "    .dataframe thead th {\n",
       "        text-align: right;\n",
       "    }\n",
       "</style>\n",
       "<table border=\"1\" class=\"dataframe\">\n",
       "  <thead>\n",
       "    <tr style=\"text-align: right;\">\n",
       "      <th></th>\n",
       "      <th>Title</th>\n",
       "      <th>Date</th>\n",
       "      <th>Entities</th>\n",
       "      <th>ChainID</th>\n",
       "      <th>Resolution</th>\n",
       "      <th>Identity</th>\n",
       "      <th>Coverage</th>\n",
       "      <th>NumGaps</th>\n",
       "      <th>GapLen</th>\n",
       "      <th>GapPos</th>\n",
       "      <th>NumLigs</th>\n",
       "      <th>NameLigs</th>\n",
       "      <th>Inhib</th>\n",
       "      <th>Inhib_mass</th>\n",
       "    </tr>\n",
       "  </thead>\n",
       "  <tbody>\n",
       "    <tr>\n",
       "      <th>1gol</th>\n",
       "      <td>coordinates of rat map kinase erk2 with an arg...</td>\n",
       "      <td>1997-03-12</td>\n",
       "      <td>1</td>\n",
       "      <td>A</td>\n",
       "      <td>2.80</td>\n",
       "      <td>354</td>\n",
       "      <td>99.166667</td>\n",
       "      <td>1</td>\n",
       "      <td>[3]</td>\n",
       "      <td>[[1, 3]]</td>\n",
       "      <td>2</td>\n",
       "      <td>[ATP, MG]</td>\n",
       "      <td>ATP</td>\n",
       "      <td>398.0</td>\n",
       "    </tr>\n",
       "    <tr>\n",
       "      <th>4gt3</th>\n",
       "      <td>atp-bound form of the erk2 kinase</td>\n",
       "      <td>2012-09-12</td>\n",
       "      <td>1</td>\n",
       "      <td>A</td>\n",
       "      <td>1.68</td>\n",
       "      <td>354</td>\n",
       "      <td>96.388889</td>\n",
       "      <td>3</td>\n",
       "      <td>[10, 1, 2]</td>\n",
       "      <td>[[1, 10], [161, 161], [359, 360]]</td>\n",
       "      <td>5</td>\n",
       "      <td>[ATP, CME, GOL, MG, PEG]</td>\n",
       "      <td>ATP</td>\n",
       "      <td>398.0</td>\n",
       "    </tr>\n",
       "  </tbody>\n",
       "</table>\n",
       "</div>"
      ],
      "text/plain": [
       "                                                  Title       Date  Entities  \\\n",
       "1gol  coordinates of rat map kinase erk2 with an arg... 1997-03-12         1   \n",
       "4gt3                  atp-bound form of the erk2 kinase 2012-09-12         1   \n",
       "\n",
       "     ChainID  Resolution  Identity   Coverage  NumGaps      GapLen  \\\n",
       "1gol       A        2.80       354  99.166667        1         [3]   \n",
       "4gt3       A        1.68       354  96.388889        3  [10, 1, 2]   \n",
       "\n",
       "                                 GapPos  NumLigs                  NameLigs  \\\n",
       "1gol                           [[1, 3]]        2                 [ATP, MG]   \n",
       "4gt3  [[1, 10], [161, 161], [359, 360]]        5  [ATP, CME, GOL, MG, PEG]   \n",
       "\n",
       "     Inhib  Inhib_mass  \n",
       "1gol   ATP       398.0  \n",
       "4gt3   ATP       398.0  "
      ]
     },
     "execution_count": 31,
     "metadata": {},
     "output_type": "execute_result"
    }
   ],
   "source": [
    "df_ligs_crys[df_ligs_crys.loc[:, 'Inhib'] == 'ATP']"
   ]
  },
  {
   "cell_type": "code",
   "execution_count": 32,
   "metadata": {},
   "outputs": [
    {
     "name": "stdout",
     "output_type": "stream",
     "text": [
      "ID Chembl: CHEMBL14249\n",
      "cid Pubchem: 5957\n",
      "Nombre: ADENOSINE TRIPHOSPHATE\n"
     ]
    },
    {
     "data": {
      "image/png": "[encoded data removed]",
      "text/plain": [
       "<rdkit.Chem.rdchem.Mol at 0x7f9f15ded1c0>"
      ]
     },
     "execution_count": 32,
     "metadata": {},
     "output_type": "execute_result"
    }
   ],
   "source": [
    "# Obtención del un ligando a través de una conformación\n",
    "lig_1aq1 = df_ligs_crys.loc['1gol', 'Inhib']\n",
    "# Imprimimos su nombre y otros datos interesantes\n",
    "lig_1aq1_data = dic_ligs_crys_prot[lig_1aq1]\n",
    "print(F'ID Chembl: {lig_1aq1_data[\"chembl_id\"]}')\n",
    "print(F'cid Pubchem: {lig_1aq1_data[\"pubchem_id\"]}')\n",
    "print(F'Nombre: {lig_1aq1_data[\"chembl_data\"][\"pref_name\"]}')\n",
    "# Obtenemos el smiles canonico\n",
    "lig_1aq1_smiles = dic_ligs_crys_prot[lig_1aq1]['canonical_smiles']\n",
    "# Lo visualizamos con rdkit\n",
    "rd.Chem.MolFromSmiles(lig_1aq1_smiles)"
   ]
  },
  {
   "cell_type": "code",
   "execution_count": 33,
   "metadata": {},
   "outputs": [
    {
     "name": "stdout",
     "output_type": "stream",
     "text": [
      "ID Chembl: CHEMBL565459\n",
      "Cid Pubchem: 44480711\n",
      "Nombre: None\n"
     ]
    },
    {
     "data": {
      "image/png": "[encoded data removed]",
      "text/plain": [
       "<rdkit.Chem.rdchem.Mol at 0x7f9f15ded210>"
      ]
     },
     "execution_count": 33,
     "metadata": {},
     "output_type": "execute_result"
    }
   ],
   "source": [
    "# Obtención del un ligando a través de una conformación\n",
    "lig_1aq1 = df_ligs_crys.loc['3i5z', 'Inhib']\n",
    "# Imprimimos su nombre y otros datos interesantes\n",
    "lig_1aq1_data = dic_ligs_crys_prot[lig_1aq1]\n",
    "print(F'ID Chembl: {lig_1aq1_data[\"chembl_id\"]}')\n",
    "print(F'Cid Pubchem: {lig_1aq1_data[\"pubchem_id\"]}')\n",
    "print(F'Nombre: {lig_1aq1_data[\"chembl_data\"][\"pref_name\"]}')\n",
    "# Obtenemos el smiles canonico\n",
    "lig_1aq1_smiles = dic_ligs_crys_prot[lig_1aq1]['canonical_smiles']\n",
    "# Lo visualizamos con rdkit\n",
    "rd.Chem.MolFromSmiles(lig_1aq1_smiles)"
   ]
  },
  {
   "cell_type": "markdown",
   "metadata": {},
   "source": [
    "# ¡Terminado!"
   ]
  }
 ],
 "metadata": {
  "kernelspec": {
   "display_name": "Python 3",
   "language": "python",
   "name": "python3"
  },
  "language_info": {
   "codemirror_mode": {
    "name": "ipython",
    "version": 3
   },
   "file_extension": ".py",
   "mimetype": "text/x-python",
   "name": "python",
   "nbconvert_exporter": "python",
   "pygments_lexer": "ipython3",
   "version": "3.7.4"
  }
 },
 "nbformat": 4,
 "nbformat_minor": 2
}
