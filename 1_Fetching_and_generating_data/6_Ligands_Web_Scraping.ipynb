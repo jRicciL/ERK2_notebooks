{
 "cells": [
  {
   "cell_type": "markdown",
   "metadata": {},
   "source": [
    "# Datos de los ligandos\n",
    "\n",
    "## Obtención de los datos de los ligandos  cocristalizados con ERK2 desde Pubchem y Chembl\n",
    "\n",
    "**Esta libreta tiene como objetivo extraer datos de las moléculas cocristalizadas con la proteína ERK2 a partir de las bases de datos CheMBL y PubChem**\n",
    "\n",
    "> Puntos clave de esta libreta:\n",
    "- Se extrae de la tabla de datos principal de la proteína las conformaciones que poseen a algún ligando en el sitio activo.\n",
    "- Se crea un set de moléculas usando identificador PDB de cada molécula (cada molécula es designada con un id de 3 letras).\n",
    "- Se usa el id de cada molécula (LIG) para obtener los datos de la página `http://www.rcsb.org/ligand/LIG`, correspondiente a cada ligando. Con ello obtenemos:\n",
    "    - El smile isomérico de la molécula.\n",
    "    - El InChI\n",
    "    - El InChI Key\n",
    "- Usamos el **InChI** para obtener los datos de cada molécula desde _**PUBCHEM**_ y _**CHEMBL**_.\n",
    "- Guardamos los datos en un diccionario y a su vez lo exportamos a un archivo pinckle.\n",
    "\n",
    "### Importamos las librerías necesarias"
   ]
  },
  {
   "cell_type": "code",
   "execution_count": 2,
   "metadata": {},
   "outputs": [],
   "source": [
    "import pandas as pd\n",
    "import numpy as np\n",
    "import glob, os, sys\n",
    "# Añadimos la ruta del directorio raíz para tener acceso a los arvhivos y módulos\n",
    "sys.path.append(r'..')"
   ]
  },
  {
   "cell_type": "markdown",
   "metadata": {},
   "source": [
    "## Cargamos los datos de la tabla principal\n",
    "Nombre de laproteína:"
   ]
  },
  {
   "cell_type": "code",
   "execution_count": null,
   "metadata": {},
   "outputs": [],
   "source": [
    "# nombre de la proteína\n",
    "prot_name = 'erk2'"
   ]
  },
  {
   "cell_type": "code",
   "execution_count": null,
   "metadata": {},
   "outputs": [],
   "source": [
    "# Cargamos el dataframe principal de la proteína\n",
    "path_string = ('../data/TABLA_MTDATA_ERK2_166_crys.csv')\n",
    "path_to_json_file = glob.glob()"
   ]
  }
 ],
 "metadata": {
  "kernelspec": {
   "display_name": "Python 3",
   "language": "python",
   "name": "python3"
  },
  "language_info": {
   "codemirror_mode": {
    "name": "ipython",
    "version": 3
   },
   "file_extension": ".py",
   "mimetype": "text/x-python",
   "name": "python",
   "nbconvert_exporter": "python",
   "pygments_lexer": "ipython3",
   "version": "3.7.4"
  }
 },
 "nbformat": 4,
 "nbformat_minor": 2
}
