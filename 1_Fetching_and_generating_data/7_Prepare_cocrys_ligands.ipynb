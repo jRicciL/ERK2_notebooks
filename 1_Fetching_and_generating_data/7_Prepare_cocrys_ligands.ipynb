{
 "cells": [
  {
   "cell_type": "code",
   "execution_count": 3,
   "metadata": {},
   "outputs": [],
   "source": [
    "prot_name = 'erk2'"
   ]
  },
  {
   "cell_type": "code",
   "execution_count": 12,
   "metadata": {},
   "outputs": [],
   "source": [
    "DIR_LIGS = F'../../ARCHIVOS/CRISTALES/LIGS_{prot_name.upper()}'\n",
    "dir_inputs = F'{DIR_LIGS}/POCKET_LIGS/'\n",
    "dir_outputs_sdf = F'{DIR_LIGS}/POCKET_LIGS_PREP_SDF/'\n",
    "dir_outputs_mol2 = F'{DIR_LIGS}/POCKET_LIGS_PREP_MOL2/'"
   ]
  },
  {
   "cell_type": "markdown",
   "metadata": {},
   "source": [
    "### Primer paso: creamos los directorios de salida"
   ]
  },
  {
   "cell_type": "code",
   "execution_count": 13,
   "metadata": {},
   "outputs": [
    {
     "name": "stdout",
     "output_type": "stream",
     "text": [
      "../../ARCHIVOS/CRISTALES/LIGS_ERK2/POCKET_LIGS_PREP_MOL2/\n",
      "../../ARCHIVOS/CRISTALES/LIGS_ERK2/POCKET_LIGS_PREP_SDF/\n"
     ]
    }
   ],
   "source": [
    "import os\n",
    "for i in [dir_outputs_mol2, dir_outputs_sdf]:\n",
    "    print(i)\n",
    "    if not os.path.exists(i):\n",
    "        os.makedirs(i)"
   ]
  },
  {
   "cell_type": "markdown",
   "metadata": {},
   "source": [
    "### Segundo paso:\n",
    "\n",
    "### Formato de las moléculas\n",
    "\n",
    "<div style='background-color: #F5A566; padding: 5px 12px;'>Antes de cargar las moléculas, debemos convertirlas a un formato que sea correctamente leído con rdkit.</div>\n",
    "\n",
    "**Para ello en necesario considerar lo siguiente:**\n",
    "\n",
    "Los archivos pueden ser leídos a partir de dos fuentes:\n",
    "1. **`sdf` desde un pdb:** Desde un archivo pdb sin Hs, usando: `obabel -ipdb file.pdb -osdf file.sdf -p 7.4`\n",
    "2. **`sdf` desde uel mol2:** Desde el archivo mol2 generado con `Chimera` que ya ha sido protonado con este mismo programa, usando: `obabel -imol2 file.mol2 -osdf file.sdf`. Es importante no usar el parámetro `-p`.\n",
    "\n",
    "### Generamos los archivos .mol2 de las moléculas empleando UCSF Chimera\n",
    "\n",
    "En algunas ocasiones ha resultado más conveniente generar las moléculas con hidrógenos utilizando UCSF Chimera (al menos cuando se espera que sea a pH neutro). Para ello usar el siguiente script llamado `chim_addh.py``:\n",
    "\n",
    "```python\n",
    "from chimera import runCommand as rc\n",
    "\n",
    "from os import chdir, listdir\n",
    "chdir(\"path/to/the/pdb_molecules/dir\") \n",
    "\n",
    "for m in listdir('.'):\n",
    "\trc('open ' + m)\n",
    "\trc(\"addh\")\n",
    "\trc('write format mol2 0 ' + m[:-4] + '.mol2')\n",
    "\trc('close all')\n",
    "```\n",
    "\n",
    "Y se ejecuta con el siguiente comando desde la terminal:\n",
    "\n",
    "`chimera --nogui chim_addh.py`"
   ]
  },
  {
   "cell_type": "markdown",
   "metadata": {},
   "source": [
    "### Creamos el script en el directorio actual:"
   ]
  },
  {
   "cell_type": "code",
   "execution_count": 14,
   "metadata": {},
   "outputs": [],
   "source": [
    "with open('chim_addh.py', 'w') as f:\n",
    "    f.write(F'''\n",
    "from chimera import runCommand as rc\n",
    "\n",
    "from os import chdir, listdir\n",
    "chdir(\"{dir_inputs}\") \n",
    "\n",
    "for m in listdir('.'):\n",
    "    rc('open ' + m)\n",
    "    rc(\"addh\")\n",
    "    rc('write format mol2 0 ' + m[:-4] + '.mol2')\n",
    "    rc('close all')    \n",
    "    ''')"
   ]
  },
  {
   "cell_type": "markdown",
   "metadata": {},
   "source": [
    "### Ejecutamos el script con UCSF Chimera"
   ]
  },
  {
   "cell_type": "code",
   "execution_count": 32,
   "metadata": {},
   "outputs": [
    {
     "name": "stdout",
     "output_type": "stream",
     "text": [
      "Executing chim_addh.py...\n",
      "Opening 1gol_ATP_LIG.pdb...\n",
      "The following problems occurred while reading PDB file for 1gol_ATP_LIG.pdb\n",
      "warning:  Ignored bad PDB record found on line 1\n",
      "\n",
      "1gol_ATP_LIG.pdb opened\n",
      "Chain-initial residues that are actual N terminii: \n",
      "\n",
      "Chain-initial residues that are not actual N terminii: \n",
      "\n",
      "Chain-final residues that are actual C terminii: \n",
      "\n",
      "Chain-final residues that are not actual C terminii: \n",
      "\n",
      "Categorizing heavy atoms\n",
      "Building search tree of atom positions\n",
      "Adding simple fixed hydrogens\n",
      "Adding co-planar hydrogens\n",
      "Finding hydrogen bonds\n",
      "Finding acceptors in model '1gol_ATP_LIG.pdb'\n",
      "Building search tree of acceptor atoms\n",
      "Finding donors in model '1gol_ATP_LIG.pdb'\n",
      "Matching donors in model '1gol_ATP_LIG.pdb' to acceptors\n",
      "0 hydrogen bonds\n",
      "\n",
      "Sorting hydrogen bonds by distance\n",
      "Organizing h-bond info\n",
      "Adding hydrogens by h-bond strength\n",
      "Adding hydrogens to primary aromatic amines\n",
      "Using steric criteria to resolve partial h-bonders\n",
      "Adding hydrogens to non-h-bonding atoms\n",
      "Deciding aromatic nitrogen protonation\n",
      "Hydrogens added\n",
      "Hydrogens added\n",
      "\n",
      "Wrote 1gol_ATP_LIG.mol2 into /home/joel/Documentos/Doctorado/DOCTO_TESIS/Proteinas_Modelo/CDK2/ERK2/ARCHIVOS/CRISTALES/LIGS_ERK2/POCKET_LIGS\n",
      "Executed chim_addh.py\n"
     ]
    },
    {
     "name": "stderr",
     "output_type": "stream",
     "text": [
      "You have used an unregistered copy of Chimera for 24 days.\n",
      "You can either register now by visiting:\n",
      "   http://www.cgl.ucsf.edu/cgi-bin/chimera_registration.py\n",
      "or by choosing 'Registration...' from the 'Help' menu next\n",
      "time you start Chimera with the gui enabled.\n",
      "\n",
      "Registration is free.  By providing the information requested\n",
      "you will be helping us document the impact this software is\n",
      "having in the scientific community. The information you supply\n",
      "will only be used for reporting summary statistics to NIH.\n"
     ]
    }
   ],
   "source": [
    "%%bash -s $dir_inputs $dir_outputs_mol2\n",
    "# Ruta al aejecutable de chimera\n",
    "chimera='/home/joel/.local/UCSF-Chimera64-1.14rc/bin/chimera'\n",
    "\n",
    "$chimera --nogui chim_addh.py\n",
    "wait\n",
    "## Ahora movemos los archivos mol2 a la carpeta correspondiente\n",
    "mv $1/*.mol2 $2"
   ]
  },
  {
   "cell_type": "markdown",
   "metadata": {},
   "source": [
    "### Nota\n",
    "> <div style='background-color: #E42E2E; padding: 5px 12px;color: white'>La molécula <b>1gol_ATP</b> fue manualmente corregida pues el anillo de la pentosa tenía un error que provenía desde el archivo pdb original.</div>"
   ]
  },
  {
   "cell_type": "markdown",
   "metadata": {},
   "source": [
    "### Usamos OpenBabel para generar los archivos sdf (para usar con rdkit)\n",
    "\n",
    "\n",
    "Los archivos pueden ser leídos a partir de dos fuentes:\n",
    "1. **`sdf` desde un pdb:** Desde un archivo pdb sin Hs, usando: `obabel -ipdb file.pdb -osdf file.sdf -p 7.4`\n",
    "2. **`sdf` desde uel mol2:** Desde el archivo mol2 generado con `Chimera` que ya ha sido protonado con este mismo programa, usando: `obabel -imol2 file.mol2 -osdf file.sdf`. Es importante no usar el parámetro `-p`\n",
    "\n",
    "```bash\n",
    "# Usamos obabel \n",
    "cd \"../ARCHIVOS/CRISTALES/LIGS_CDK2/IN_POCKET_NON_PREP\"\n",
    "for mol in `ls *pdb`\n",
    "do \n",
    "    name=${mol%.*}\n",
    "    # Directamente desde el archivo pdb sin Hs\n",
    "    obabel -ipdb $mol -osdf -O ${name}_from_pdb.sdf -p 7.4 # Añade Hs a ph fisiológico\n",
    "done\n",
    "\n",
    "mv *sdf ../LIGS_POSES_SDF/\n",
    "\n",
    "cd \"../LIGS_PREP_IN_POCKET\"\n",
    "for mol in `ls *mol2`\n",
    "do \n",
    "    name=${mol%.*}\n",
    "    # directamente desde el archivo mol2 generado con chimera y sin el parámetro -p\n",
    "    obabel -imol2 $mol -osdf -O ${name}_from_mol2.sdf\n",
    "done\n",
    "\n",
    "mv *sdf ../LIGS_POSES_SDF/\n",
    "```"
   ]
  },
  {
   "cell_type": "markdown",
   "metadata": {},
   "source": [
    "### Ejecutamos obabel"
   ]
  },
  {
   "cell_type": "code",
   "execution_count": 37,
   "metadata": {},
   "outputs": [],
   "source": [
    "mol2_dir = dir_outputs_mol2.split('/')[-2]\n",
    "sdf_dir = dir_outputs_sdf.split('/')[-2]"
   ]
  },
  {
   "cell_type": "code",
   "execution_count": null,
   "metadata": {},
   "outputs": [],
   "source": [
    "%%bash -s $dir_inputs $sdf_dir $mol2_dir\n",
    "cd $1\n",
    "for mol in `ls *pdb`\n",
    "do \n",
    "    name=${mol%.*}\n",
    "    # Directamente desde el archivo pdb sin Hs\n",
    "    obabel -ipdb $mol -osdf -O ${name}_from_pdb.sdf -p 7.4 # Añade Hs a ph fisiológico\n",
    "done\n",
    "# Mueve los archivos al directorio de sdfs\n",
    "mv *.sdf ../$2\n",
    "\n",
    "# Nos movemos al directorio con archivos mol2\n",
    "cd ../$3\n",
    "for mol in `ls *mol2`\n",
    "do \n",
    "    name=${mol%.*}\n",
    "    # directamente desde el archivo mol2 generado con chimera y sin el parámetro -p\n",
    "    obabel -imol2 $mol -osdf -O ${name}_from_mol2.sdf\n",
    "done\n",
    "# Mueve los archivos al directorio de sdfs\n",
    "mv *.sdf ../$2"
   ]
  },
  {
   "cell_type": "markdown",
   "metadata": {},
   "source": [
    "Cuando la molécula provenga desde un archivo *pdbqt* o *pdb* de docking, el proceso para obtener los archivos superiores es primero remover los hidrógenos de la molécula y luego añadirlos con `Chimera` o `babel` (en teoría, antes del docking se habría hecho el mismo proceso para tener el estado de protonación correcto). Finalemente se guardará la molécula en un archivo **`mol2`** que correspoonde al solicitado en el punto #1 de la lista anterior."
   ]
  },
  {
   "cell_type": "markdown",
   "metadata": {},
   "source": [
    "## ¡Terminado!\n",
    "El análisis continúa en el notbooks de cálculo de descriptores con *rdkit*."
   ]
  }
 ],
 "metadata": {
  "kernelspec": {
   "display_name": "Python 3",
   "language": "python",
   "name": "python3"
  },
  "language_info": {
   "codemirror_mode": {
    "name": "ipython",
    "version": 3
   },
   "file_extension": ".py",
   "mimetype": "text/x-python",
   "name": "python",
   "nbconvert_exporter": "python",
   "pygments_lexer": "ipython3",
   "version": "3.7.4"
  }
 },
 "nbformat": 4,
 "nbformat_minor": 2
}
