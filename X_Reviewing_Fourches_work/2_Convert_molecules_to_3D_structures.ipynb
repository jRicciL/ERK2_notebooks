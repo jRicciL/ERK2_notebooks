{
 "cells": [
  {
   "cell_type": "code",
   "execution_count": 9,
   "metadata": {},
   "outputs": [],
   "source": [
    "import pandas as pd\n",
    "import numpy as np\n",
    "import os"
   ]
  },
  {
   "cell_type": "code",
   "execution_count": 5,
   "metadata": {},
   "outputs": [],
   "source": [
    "# Read the molecules:\n",
    "df_erk2_mols = pd.read_json('./ERK2_molecules_used_by_Fourches_SMILES.json')"
   ]
  },
  {
   "cell_type": "code",
   "execution_count": 6,
   "metadata": {},
   "outputs": [],
   "source": [
    "# Set the output directory\n",
    "OUTPUT_DIR = '../../ARCHIVOS/CRISTALES/LIGS_ERK2/FOURCHES_LIGS/3d_minimized/'"
   ]
  },
  {
   "cell_type": "code",
   "execution_count": 7,
   "metadata": {},
   "outputs": [],
   "source": [
    "# Create two list, one for smiles, and one for names\n",
    "names_ = df_erk2_mols.Name\n",
    "smiles_ = df_erk2_mols.smiles"
   ]
  },
  {
   "cell_type": "code",
   "execution_count": null,
   "metadata": {},
   "outputs": [],
   "source": []
  },
  {
   "cell_type": "code",
   "execution_count": 10,
   "metadata": {},
   "outputs": [
    {
     "name": "stdout",
     "output_type": "stream",
     "text": [
      "erk2_54\n",
      "1 molecule converted\n",
      "1 molecule converted\n",
      "done\n"
     ]
    }
   ],
   "source": [
    "# Let's create the molecules. We are going to do that inside the notebook because there are not to many files\n",
    "# but it's better to do it inside a shell terminal\n",
    "for name, smi in zip(names_, smiles_):\n",
    "    \n",
    "    # If file exist ommit\n",
    "    output_name_sdf = OUTPUT_DIR + '/sdf/' + name + '.sdf'\n",
    "    output_name_mol2 = OUTPUT_DIR + '/mol2/' + name + '.mol2'\n",
    "    ommit_if_exist = True\n",
    "    if ommit_if_exist and (os.path.isfile(output_name_sdf) or os.path.isfile(output_name_mol2)):\n",
    "        continue\n",
    "    else:\n",
    "        ! echo $name\n",
    "        # Convert from smiles to sdf\n",
    "        ! obabel -:\"$smi\" -osdf -O \"$output_name_sdf\" --gen3d  -p 7.0 --ff 'GAFF'\n",
    "\n",
    "        # Convert to mol2\n",
    "        ! obabel -isdf \"$output_name_sdf\" -omol2 -O \"$output_name_mol2\"\n",
    "\n",
    "        ! echo \"done\""
   ]
  }
 ],
 "metadata": {
  "kernelspec": {
   "display_name": "Python 3.7.6 64-bit ('mds': conda)",
   "language": "python",
   "name": "python37664bitmdsconda8fcfe9b6c3484566880235af88776fef"
  },
  "language_info": {
   "codemirror_mode": {
    "name": "ipython",
    "version": 3
   },
   "file_extension": ".py",
   "mimetype": "text/x-python",
   "name": "python",
   "nbconvert_exporter": "python",
   "pygments_lexer": "ipython3",
   "version": "3.7.6"
  }
 },
 "nbformat": 4,
 "nbformat_minor": 4
}
