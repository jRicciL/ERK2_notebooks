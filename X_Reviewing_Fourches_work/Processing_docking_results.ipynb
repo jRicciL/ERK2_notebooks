{
 "cells": [
  {
   "cell_type": "markdown",
   "metadata": {},
   "source": [
    "# Process docking results\n",
    "These results come from docking analysis, with Vina and Vinardo, using 166 ERK2 protein crystals and the 86 molecules selected by Fourches. "
   ]
  },
  {
   "cell_type": "code",
   "execution_count": 2,
   "metadata": {},
   "outputs": [],
   "source": [
    "import pandas as pd\n",
    "import numpy as np\n",
    "from glob import glob"
   ]
  },
  {
   "cell_type": "code",
   "execution_count": 8,
   "metadata": {},
   "outputs": [],
   "source": [
    "DOCK_RESULTS_DIR = '../../ARCHIVOS/CRISTALES/LIGS_ERK2/FOURCHES_LIGS/3d_minimized/docking_results_CRYS_ENS/'\n",
    "\n",
    "# List of results from Vina\n",
    "vina_results_csv = glob(DOCK_RESULTS_DIR + 'VINA/*csv')\n",
    "# sort by pdbid\n",
    "vina_results_csv.sort(key = lambda x: x.split('/')[-1].split('_')[0])\n",
    "\n",
    "# List of results from Vina\n",
    "vinardo_results_csv = glob(DOCK_RESULTS_DIR + 'VINARDO/*csv')\n",
    "# sort by pdbid\n",
    "vinardo_results_csv.sort(key = lambda x: x.split('/')[-1].split('_')[0])"
   ]
  },
  {
   "cell_type": "code",
   "execution_count": 20,
   "metadata": {},
   "outputs": [],
   "source": [
    "def get_docking_results(file_list):\n",
    "    ''' Función para leer datos de Vinardo'''\n",
    "    df_final = pd.DataFrame()\n",
    "    for file in file_list:\n",
    "        c = pd.read_csv(file)\n",
    "        # Concat the results \n",
    "        # Set an index\n",
    "        c.set_index(\"Ligando\", inplace=True)\n",
    "        # Sort the index by value\n",
    "        i = c.index.to_series().str.rsplit('_').str[-1].astype(int).sort_values()\n",
    "        # Reasing the index\n",
    "        c = c.reindex(index= i.index)\n",
    "        # Rename the column to match the pdbid name\n",
    "        colname = c.columns[0].rsplit(\"_\")[1]\n",
    "        c.columns = [ colname ]\n",
    "        # Add to the final dataframe\n",
    "        df_final[ colname ] = c[ colname ]\n",
    "    return df_final"
   ]
  },
  {
   "cell_type": "code",
   "execution_count": 26,
   "metadata": {},
   "outputs": [],
   "source": [
    "df_vina = get_docking_results(vina_results_csv)\n",
    "df_vina.to_csv('./docking_results/vina_erk2_86mols_vs_166prots.csv')"
   ]
  },
  {
   "cell_type": "code",
   "execution_count": 25,
   "metadata": {},
   "outputs": [],
   "source": [
    "df_vinardo = get_docking_results(vinardo_results_csv)\n",
    "df_vinardo.to_csv('./docking_results/vinardo_erk2_86mols_vs_166prots.csv')"
   ]
  }
 ],
 "metadata": {
  "kernelspec": {
   "display_name": "Python 3.7.6 64-bit ('mds': conda)",
   "language": "python",
   "name": "python37664bitmdsconda8fcfe9b6c3484566880235af88776fef"
  },
  "language_info": {
   "codemirror_mode": {
    "name": "ipython",
    "version": 3
   },
   "file_extension": ".py",
   "mimetype": "text/x-python",
   "name": "python",
   "nbconvert_exporter": "python",
   "pygments_lexer": "ipython3",
   "version": "3.7.6"
  }
 },
 "nbformat": 4,
 "nbformat_minor": 4
}
