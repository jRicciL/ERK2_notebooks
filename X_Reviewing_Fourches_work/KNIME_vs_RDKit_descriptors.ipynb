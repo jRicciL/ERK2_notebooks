{
 "cells": [
  {
   "cell_type": "markdown",
   "metadata": {},
   "source": [
    "# Identifying  KNIME RDKit descriptors"
   ]
  },
  {
   "cell_type": "code",
   "execution_count": 1,
   "metadata": {},
   "outputs": [],
   "source": [
    "# In order to match descriptors directly computed from RDKit and from KNIME we are going to compare results from both procedures using two molecules"
   ]
  },
  {
   "cell_type": "code",
   "execution_count": 5,
   "metadata": {},
   "outputs": [],
   "source": [
    "import pandas as pd\n",
    "import numpy as np"
   ]
  },
  {
   "cell_type": "code",
   "execution_count": 2,
   "metadata": {},
   "outputs": [
    {
     "name": "stderr",
     "output_type": "stream",
     "text": [
      "RDKit WARNING: [12:16:17] Enabling RDKit 2019.09.1 jupyter extensions\n"
     ]
    }
   ],
   "source": [
    "from rdkit import Chem\n",
    "from rdkit.Chem import rdMolDescriptors"
   ]
  },
  {
   "cell_type": "code",
   "execution_count": 50,
   "metadata": {},
   "outputs": [],
   "source": [
    "# Read the molecules to use rdkit\n",
    "SDF_MIN_DIR = '../../ARCHIVOS/CRISTALES/LIGS_ERK2/FOURCHES_LIGS/3d_minimized/sdf/'\n",
    "\n",
    "# Read the molecules using rdkit\n",
    "csar_1 = Chem.SDMolSupplier(SDF_MIN_DIR + 'CSAR_erk2_1.sdf')[0]\n",
    "model_53 = Chem.SDMolSupplier(SDF_MIN_DIR + 'erk2_53.sdf')[0]"
   ]
  },
  {
   "cell_type": "markdown",
   "metadata": {},
   "source": [
    "## WHIM Descriptors"
   ]
  },
  {
   "cell_type": "code",
   "execution_count": 52,
   "metadata": {},
   "outputs": [],
   "source": [
    "# List of RDKit descriptors\n",
    "\n",
    "whim_axial = [ \"L1u\", \"L2u\", \"L3u\", \"P1u\", \"P2u\", \"G1u\", \"G2u\", \"G3u\", \"E1u\", \"E2u\", \"E3u\", \n",
    "               \"L1m\", \"L2m\", \"L3m\", \"P1m\", \"P2m\", \"G1m\", \"G2m\", \"G3m\", \"E1m\", \"E2m\", \"E3m\", \n",
    "               \"L1v\", \"L2v\", \"L3v\", \"P1v\", \"P2v\", \"G1v\", \"G2v\", \"G3v\", \"E1v\", \"E2v\", \"E3v\", \n",
    "               \"L1e\", \"L2e\", \"L3e\", \"P1e\", \"P2e\", \"G1e\", \"G2e\", \"G3e\", \"E1e\", \"E2e\", \"E3e\", \n",
    "               \"L1p\", \"L2p\", \"L3p\", \"P1p\", \"P2p\", \"G1p\", \"G2p\", \"G3p\", \"E1p\", \"E2p\", \"E3p\", \n",
    "               \"L1i\", \"L2i\", \"L3i\", \"P1i\", \"P2i\", \"G1i\", \"G2i\", \"G3i\", \"E1i\", \"E2i\", \"E3i\", \n",
    "               \"L1s\", \"L2s\", \"L3s\", \"P1s\", \"P2s\", \"G1s\", \"G2s\", \"G3s\", \"E1s\", \"E2s\", \"E3s\"]\n",
    "whim_global = [\"Tu\", \"Tm\", \"Tv\", \"Te\", \"Tp\", \"Ti\", \"Ts\", \n",
    "               \"Au\", \"Am\", \"Av\", \"Ae\", \"Ap\", \"Ai\", \"As\", \n",
    "               \"Gu\", \"Gm\", \n",
    "               \"Ku\", \"Km\", \"Kv\", \"Ke\", \"Kp\", \"Ki\", \"Ks\", \n",
    "               \"Du\", \"Dm\", \"Dv\", \"De\", \"Dp\", \"Di\", \"Ds\", \n",
    "               \"Vu\", \"Vm\", \"Vv\", \"Ve\", \"Vp\", \"Vi\", \"Vs\"]\n",
    "\n",
    "rdkit_whim_names = whim_axial + whim_global"
   ]
  },
  {
   "cell_type": "code",
   "execution_count": 55,
   "metadata": {},
   "outputs": [],
   "source": [
    "# Compute the Whim descriptors using rdkit\n",
    "# \n",
    "df_rdk_csar_1 = pd.DataFrame(rdMolDescriptors.CalcWHIM(csar_1), rdkit_whim_names, columns=['csar_1'])"
   ]
  },
  {
   "cell_type": "code",
   "execution_count": null,
   "metadata": {},
   "outputs": [],
   "source": []
  },
  {
   "cell_type": "markdown",
   "metadata": {},
   "source": [
    "### Comparing KNIME Whim Descriptors against RDKit WHIM"
   ]
  },
  {
   "cell_type": "code",
   "execution_count": 175,
   "metadata": {},
   "outputs": [],
   "source": [
    "# Load the results generated using KNIME and the node WHIM 3D\n",
    "whim_knime_all = pd.read_csv('./knime/whim_rdki_knime.csv')\n",
    "# For comparation purposes we'll only keep one molecule\n",
    "# Descriptors start from the eigth colum\n",
    "whim_knime = whim_knime_all.iloc[[0, 1], 7:]\n",
    "whim_knime.index = ['csar_1', 'csar_10']"
   ]
  },
  {
   "cell_type": "code",
   "execution_count": 176,
   "metadata": {
    "scrolled": true
   },
   "outputs": [
    {
     "data": {
      "text/plain": [
       "Index(['Unit Weights.Wlambda1', 'Unit Weights.Wlambda2',\n",
       "       'Unit Weights.wlambda3', 'Unit Weights.Wnu1', 'Unit Weights.Wnu2',\n",
       "       'Unit Weights.Wgamma1', 'Unit Weights.Wgamma2', 'Unit Weights.Wgamma3',\n",
       "       'Unit Weights.Weta1', 'Unit Weights.Weta2', 'Unit Weights.Weta3',\n",
       "       'Unit Weights.WT', 'Unit Weights.WA', 'Unit Weights.WV',\n",
       "       'Unit Weights.WK', 'Unit Weights.WG', 'Unit Weights.WD',\n",
       "       'Atomic Masses.Wlambda1', 'Atomic Masses.Wlambda2',\n",
       "       'Atomic Masses.wlambda3', 'Atomic Masses.Wnu1', 'Atomic Masses.Wnu2',\n",
       "       'Atomic Masses.Wgamma1', 'Atomic Masses.Wgamma2',\n",
       "       'Atomic Masses.Wgamma3', 'Atomic Masses.Weta1', 'Atomic Masses.Weta2',\n",
       "       'Atomic Masses.Weta3', 'Atomic Masses.WT', 'Atomic Masses.WA',\n",
       "       'Atomic Masses.WV', 'Atomic Masses.WK', 'Atomic Masses.WG',\n",
       "       'Atomic Masses.WD', 'Atomic Polarizabilities.Wlambda1',\n",
       "       'Atomic Polarizabilities.Wlambda2', 'Atomic Polarizabilities.wlambda3',\n",
       "       'Atomic Polarizabilities.Wnu1', 'Atomic Polarizabilities.Wnu2',\n",
       "       'Atomic Polarizabilities.Wgamma1', 'Atomic Polarizabilities.Wgamma2',\n",
       "       'Atomic Polarizabilities.Wgamma3', 'Atomic Polarizabilities.Weta1',\n",
       "       'Atomic Polarizabilities.Weta2', 'Atomic Polarizabilities.Weta3',\n",
       "       'Atomic Polarizabilities.WT', 'Atomic Polarizabilities.WA',\n",
       "       'Atomic Polarizabilities.WV', 'Atomic Polarizabilities.WK',\n",
       "       'Atomic Polarizabilities.WG', 'Atomic Polarizabilities.WD',\n",
       "       'VdW Volumes.Wlambda1', 'VdW Volumes.Wlambda2', 'VdW Volumes.wlambda3',\n",
       "       'VdW Volumes.Wnu1', 'VdW Volumes.Wnu2', 'VdW Volumes.Wgamma1',\n",
       "       'VdW Volumes.Wgamma2', 'VdW Volumes.Wgamma3', 'VdW Volumes.Weta1',\n",
       "       'VdW Volumes.Weta2', 'VdW Volumes.Weta3', 'VdW Volumes.WT',\n",
       "       'VdW Volumes.WA', 'VdW Volumes.WV', 'VdW Volumes.WK', 'VdW Volumes.WG',\n",
       "       'VdW Volumes.WD', 'Atomic Electronegativities.Wlambda1',\n",
       "       'Atomic Electronegativities.Wlambda2',\n",
       "       'Atomic Electronegativities.wlambda3',\n",
       "       'Atomic Electronegativities.Wnu1', 'Atomic Electronegativities.Wnu2',\n",
       "       'Atomic Electronegativities.Wgamma1',\n",
       "       'Atomic Electronegativities.Wgamma2',\n",
       "       'Atomic Electronegativities.Wgamma3',\n",
       "       'Atomic Electronegativities.Weta1', 'Atomic Electronegativities.Weta2',\n",
       "       'Atomic Electronegativities.Weta3', 'Atomic Electronegativities.WT',\n",
       "       'Atomic Electronegativities.WA', 'Atomic Electronegativities.WV',\n",
       "       'Atomic Electronegativities.WK', 'Atomic Electronegativities.WG',\n",
       "       'Atomic Electronegativities.WD'],\n",
       "      dtype='object')"
      ]
     },
     "execution_count": 176,
     "metadata": {},
     "output_type": "execute_result"
    }
   ],
   "source": [
    "# Name of the whim descriptors in Knime\n",
    "whim_knime.columns"
   ]
  },
  {
   "cell_type": "markdown",
   "metadata": {},
   "source": [
    "#### WHIM KNIME has the following:\n",
    "- **Weight schemes:**\n",
    "    1. Unit Weights = unweighted (u)\n",
    "    - Atomic Masses = m\n",
    "    - Van der Waals volumes = v\n",
    "    - Atomic electronegativites = e\n",
    "    - Atomic polarizabilities = p\n",
    "\n",
    "It doesn't have *Electropological state indices* and *Topological I-state*\n",
    "\n",
    "**Descriptors:**\n",
    "Note: The order here is inverse to the reported by rdkit, i.e., lambda1 = L3)\n",
    "    \n",
    "> - **Axial:**\n",
    "    1. Lambda: 3, 2, 1 => **L**\n",
    "    2. Nu: 2, 1        => **P**\n",
    "    3. Gamma: 3, 2, 1  => **G**\n",
    "    4. Eta: 3, 2, 1    => **E**\n",
    "    \n",
    "> - **Global:** Are the same as RDKit\n",
    "    - T, A, V, K, G, D\n",
    "    \n",
    "Descriptors are sorted first by the weighted schema and the by the kind of descriptor."
   ]
  },
  {
   "cell_type": "code",
   "execution_count": 177,
   "metadata": {},
   "outputs": [],
   "source": [
    "# Let's convert the Knime names to the RDKit names\n",
    "whim_knime_names = whim_knime.columns\n",
    "weight_schemes_whim = {\n",
    "    'Unit Weights': 'u',\n",
    "    'Atomic Masses': 'm',\n",
    "    'VdW Volumes': 'v',\n",
    "    'Atomic Polarizabilities': 'p',\n",
    "    'Atomic Electronegativities': 'e'\n",
    "}\n",
    "descriptors_whim = {\n",
    "    'lambda1': 'L3', 'lambda2': 'L2', 'lambda3': 'L1',\n",
    "    'nu1': 'P1', 'nu2': 'P2',\n",
    "    'eta1': 'E3', 'eta2': 'E2', 'eta3': 'E1',\n",
    "    'gamma1': 'G3', 'gamma2': 'G2', 'gamma3': 'G1',\n",
    "    'T': 'T', 'A': 'A', 'V': 'V', 'K': 'K', 'G': 'G', 'D': 'D'\n",
    "}\n",
    "# funtion to convert names\n",
    "convert_name = lambda s, d: descriptors_whim[d[1:]] + weight_schemes_whim[s]\n",
    "\n",
    "# Use the dictionaries to create a new list of names\n",
    "whim_knime_names_converted = [convert_name(*i.split('.')) for i in whim_knime_names]"
   ]
  },
  {
   "cell_type": "code",
   "execution_count": 178,
   "metadata": {},
   "outputs": [],
   "source": [
    "# list(zip(whim_knime_names_converted, whim_knime_names))"
   ]
  },
  {
   "cell_type": "code",
   "execution_count": 165,
   "metadata": {},
   "outputs": [],
   "source": [
    "# Let's create a dataframe with the values of the csar_1 molecule\n",
    "df_knime_csar_1 = pd.DataFrame(list(zip(whim_knime_names, whim_knime.loc['csar_1'])), \n",
    "                             whim_knime_names_converted, columns=['knime_name', 'csar_1'])\n",
    "# identify null values\n",
    "df_knime_csar_1['csar_1'] = pd.to_numeric(df_knime_csar_1['csar_1'], errors='coerce')"
   ]
  },
  {
   "cell_type": "markdown",
   "metadata": {},
   "source": [
    "#### The following list shows which WHIM descriptors have diferente values when computed with KNIME and RDKit"
   ]
  },
  {
   "cell_type": "code",
   "execution_count": 173,
   "metadata": {},
   "outputs": [
    {
     "name": "stdout",
     "output_type": "stream",
     "text": [
      "Desc \t Knime \t\t rdkit \t\t Diff\n",
      "--------------------------------------------------\n",
      "P1u \t 0.05 \t\t 0.61 \t\t 0.561\n",
      "Ku \t 0.21 \t\t 0.42 \t\t 0.212\n",
      "Du \t 1.3 \t\t 0.43 \t\t 0.865\n",
      "P1m \t 0.05 \t\t 0.63 \t\t 0.573\n",
      "Km \t 0.22 \t\t 0.44 \t\t 0.219\n",
      "Dm \t 1.28 \t\t 0.42 \t\t 0.851\n",
      "P1p \t 0.05 \t\t 0.58 \t\t 0.535\n",
      "Kp \t 0.19 \t\t 0.42 \t\t 0.236\n",
      "Dp \t 1.34 \t\t 0.45 \t\t 0.893\n",
      "L3v \t 0.63 \t\t 0.64 \t\t 0.015\n",
      "L2v \t 4.5 \t\t 4.39 \t\t 0.103\n",
      "L1v \t 7.36 \t\t 7.48 \t\t 0.125\n",
      "P1v \t 0.05 \t\t 0.6 \t\t 0.548\n",
      "E2v \t 0.51 \t\t 0.48 \t\t 0.022\n",
      "E1v \t 0.46 \t\t 0.48 \t\t 0.018\n",
      "Tv \t 12.48 \t\t 12.52 \t\t 0.037\n",
      "Av \t 40.54 \t\t 40.52 \t\t 0.02\n",
      "Vv \t 73.85 \t\t 74.22 \t\t 0.371\n",
      "Kv \t 0.19 \t\t 0.42 \t\t 0.231\n",
      "Dv \t 1.33 \t\t 0.44 \t\t 0.885\n",
      "P1e \t 0.05 \t\t 0.63 \t\t 0.573\n",
      "Ae \t 38.92 \t\t 38.94 \t\t 0.013\n",
      "Ve \t 71.87 \t\t 71.9 \t\t 0.022\n",
      "Ke \t 0.22 \t\t 0.44 \t\t 0.22\n",
      "De \t 1.28 \t\t 0.43 \t\t 0.851\n"
     ]
    }
   ],
   "source": [
    "# ommit null values\n",
    "names_ = df_knime_csar_1.dropna().index\n",
    "# Iterate over the index and compare KNIME and RDKIT\n",
    "print('Desc', '\\t', 'Knime', '\\t\\t', 'rdkit', '\\t\\t', 'Diff')\n",
    "print('-'*50)\n",
    "for i in names_:\n",
    "    # compare\n",
    "    a = df_knime_csar_1.loc[i, 'csar_1']\n",
    "    b =  df_rdk_csar_1.loc[i, 'csar_1']\n",
    "    if abs(a - b) >= 0.01: # Rdkit returns values with 3 decimal positions\n",
    "        print(i, '\\t', round(a, 2), '\\t\\t', round(b, 2), '\\t\\t', round(abs(a - b), 3))"
   ]
  },
  {
   "cell_type": "markdown",
   "metadata": {},
   "source": [
    "### D-MOMENTS \n",
    "\n",
    "#### KNIME\n",
    "Descriptors computed using [3D D-Moments](https://hub.knime.com/egonw/extensions/org.openscience.cdk.knime.feature/latest/org.openscience.cdk.knime.nodes.descriptors.distance3d.Distance3dNodeFactory). These descriptors are known as *'Ultra-fast shape recognition'* (**USR**), and were initially purposed by [Ballester and Graham (2007)](https://royalsocietypublishing.org/doi/10.1098/rspa.2007.1823). The intuition is the following:\n",
    "> - USR is based on the idea that the shape of a molecule is determined by the relative position of its atoms.\n",
    "- Therefore, molecular alignment (superposition) is not needed.\n",
    "- The molecule is considered as a bound of particles (*atoms*) instead of a solid body.\n",
    "- A dimensionality reduction is applied: The three dimensional shape information is retain by a set of one-dimensional distributions.\n",
    "- These distributions are taken from all the atomic distances (euclidean distances) to the four different locations:\n",
    "    - **Ctd**: *Molecular centroid.*\n",
    "    - **Cst**: *Closest atom to Ctd*\n",
    "    - **Fct**: *Farthest atom to Ctd*\n",
    "    - **Ftf**: *Farthest atom to Fct*\n",
    "- These locations are independent of molecular orientation and position.\n",
    "- Mean, standard deviation and skewness are used over the atom distances from these locations to let to compare molecules with different number of atoms."
   ]
  },
  {
   "cell_type": "code",
   "execution_count": 198,
   "metadata": {},
   "outputs": [],
   "source": [
    "# Load the results generated using KNIME and the node WHIM 3D\n",
    "moments_knime_all = pd.read_csv('./knime/3dmoments_rdki_knime.csv')\n",
    "# For comparation purposes we'll only keep one molecule\n",
    "# Descriptors start from the eigth colum\n",
    "moments_knime = moments_knime_all.iloc[[0, 1], 7:]\n",
    "moments_knime.index = ['csar_1', 'csar_10']"
   ]
  },
  {
   "cell_type": "markdown",
   "metadata": {},
   "source": [
    "These descriptors are the following:"
   ]
  },
  {
   "cell_type": "code",
   "execution_count": 213,
   "metadata": {},
   "outputs": [
    {
     "data": {
      "text/html": [
       "<div>\n",
       "<style scoped>\n",
       "    .dataframe tbody tr th:only-of-type {\n",
       "        vertical-align: middle;\n",
       "    }\n",
       "\n",
       "    .dataframe tbody tr th {\n",
       "        vertical-align: top;\n",
       "    }\n",
       "\n",
       "    .dataframe thead th {\n",
       "        text-align: right;\n",
       "    }\n",
       "</style>\n",
       "<table border=\"1\" class=\"dataframe\">\n",
       "  <thead>\n",
       "    <tr style=\"text-align: right;\">\n",
       "      <th></th>\n",
       "      <th>csar_1</th>\n",
       "    </tr>\n",
       "  </thead>\n",
       "  <tbody>\n",
       "    <tr>\n",
       "      <th>Ctd-Mean</th>\n",
       "      <td>3.350091</td>\n",
       "    </tr>\n",
       "    <tr>\n",
       "      <th>Ctd-Sigma</th>\n",
       "      <td>1.272858</td>\n",
       "    </tr>\n",
       "    <tr>\n",
       "      <th>Ctd-Skewness</th>\n",
       "      <td>-0.008724</td>\n",
       "    </tr>\n",
       "    <tr>\n",
       "      <th>Cst-Mean</th>\n",
       "      <td>3.446493</td>\n",
       "    </tr>\n",
       "    <tr>\n",
       "      <th>Cst-Sigma</th>\n",
       "      <td>1.989122</td>\n",
       "    </tr>\n",
       "    <tr>\n",
       "      <th>Cst-Skewness</th>\n",
       "      <td>-0.585295</td>\n",
       "    </tr>\n",
       "    <tr>\n",
       "      <th>Fct-Mean</th>\n",
       "      <td>6.098801</td>\n",
       "    </tr>\n",
       "    <tr>\n",
       "      <th>Fct-Sigma</th>\n",
       "      <td>7.086076</td>\n",
       "    </tr>\n",
       "    <tr>\n",
       "      <th>Fct-Skewness</th>\n",
       "      <td>-0.673957</td>\n",
       "    </tr>\n",
       "    <tr>\n",
       "      <th>Ftf-Mean</th>\n",
       "      <td>4.936628</td>\n",
       "    </tr>\n",
       "    <tr>\n",
       "      <th>Ftf-Sigma</th>\n",
       "      <td>6.880456</td>\n",
       "    </tr>\n",
       "    <tr>\n",
       "      <th>Ftf-Skewness</th>\n",
       "      <td>-0.006238</td>\n",
       "    </tr>\n",
       "  </tbody>\n",
       "</table>\n",
       "</div>"
      ],
      "text/plain": [
       "                csar_1\n",
       "Ctd-Mean      3.350091\n",
       "Ctd-Sigma     1.272858\n",
       "Ctd-Skewness -0.008724\n",
       "Cst-Mean      3.446493\n",
       "Cst-Sigma     1.989122\n",
       "Cst-Skewness -0.585295\n",
       "Fct-Mean      6.098801\n",
       "Fct-Sigma     7.086076\n",
       "Fct-Skewness -0.673957\n",
       "Ftf-Mean      4.936628\n",
       "Ftf-Sigma     6.880456\n",
       "Ftf-Skewness -0.006238"
      ]
     },
     "execution_count": 213,
     "metadata": {},
     "output_type": "execute_result"
    }
   ],
   "source": [
    "moments_knime.loc[['csar_1']].T"
   ]
  },
  {
   "cell_type": "markdown",
   "metadata": {},
   "source": [
    "#### RDKIT\n",
    "RDKit computes the USR descriptors through `rdMolDescriptors.GetUSR()` class."
   ]
  },
  {
   "cell_type": "code",
   "execution_count": 211,
   "metadata": {},
   "outputs": [
    {
     "data": {
      "text/html": [
       "<div>\n",
       "<style scoped>\n",
       "    .dataframe tbody tr th:only-of-type {\n",
       "        vertical-align: middle;\n",
       "    }\n",
       "\n",
       "    .dataframe tbody tr th {\n",
       "        vertical-align: top;\n",
       "    }\n",
       "\n",
       "    .dataframe thead th {\n",
       "        text-align: right;\n",
       "    }\n",
       "</style>\n",
       "<table border=\"1\" class=\"dataframe\">\n",
       "  <thead>\n",
       "    <tr style=\"text-align: right;\">\n",
       "      <th></th>\n",
       "      <th>csar_1</th>\n",
       "    </tr>\n",
       "  </thead>\n",
       "  <tbody>\n",
       "    <tr>\n",
       "      <th>Ctd-Mean</th>\n",
       "      <td>3.350091</td>\n",
       "    </tr>\n",
       "    <tr>\n",
       "      <th>Ctd-Sigma</th>\n",
       "      <td>1.103411</td>\n",
       "    </tr>\n",
       "    <tr>\n",
       "      <th>Ctd-Skewness</th>\n",
       "      <td>-0.210489</td>\n",
       "    </tr>\n",
       "    <tr>\n",
       "      <th>Cst-Mean</th>\n",
       "      <td>3.446493</td>\n",
       "    </tr>\n",
       "    <tr>\n",
       "      <th>Cst-Sigma</th>\n",
       "      <td>1.379362</td>\n",
       "    </tr>\n",
       "    <tr>\n",
       "      <th>Cst-Skewness</th>\n",
       "      <td>-0.855285</td>\n",
       "    </tr>\n",
       "    <tr>\n",
       "      <th>Fct-Mean</th>\n",
       "      <td>6.098801</td>\n",
       "    </tr>\n",
       "    <tr>\n",
       "      <th>Fct-Sigma</th>\n",
       "      <td>2.603456</td>\n",
       "    </tr>\n",
       "    <tr>\n",
       "      <th>Fct-Skewness</th>\n",
       "      <td>-0.896458</td>\n",
       "    </tr>\n",
       "    <tr>\n",
       "      <th>Ftf-Mean</th>\n",
       "      <td>4.936629</td>\n",
       "    </tr>\n",
       "    <tr>\n",
       "      <th>Ftf-Sigma</th>\n",
       "      <td>2.565406</td>\n",
       "    </tr>\n",
       "    <tr>\n",
       "      <th>Ftf-Skewness</th>\n",
       "      <td>-0.188228</td>\n",
       "    </tr>\n",
       "  </tbody>\n",
       "</table>\n",
       "</div>"
      ],
      "text/plain": [
       "                csar_1\n",
       "Ctd-Mean      3.350091\n",
       "Ctd-Sigma     1.103411\n",
       "Ctd-Skewness -0.210489\n",
       "Cst-Mean      3.446493\n",
       "Cst-Sigma     1.379362\n",
       "Cst-Skewness -0.855285\n",
       "Fct-Mean      6.098801\n",
       "Fct-Sigma     2.603456\n",
       "Fct-Skewness -0.896458\n",
       "Ftf-Mean      4.936629\n",
       "Ftf-Sigma     2.565406\n",
       "Ftf-Skewness -0.188228"
      ]
     },
     "execution_count": 211,
     "metadata": {},
     "output_type": "execute_result"
    }
   ],
   "source": [
    "rdkit_usr = pd.DataFrame(rdMolDescriptors.GetUSR(csar_1),columns=['csar_1'], index=moments_knime.T.index)\n",
    "rdkit_usr"
   ]
  },
  {
   "cell_type": "markdown",
   "metadata": {},
   "source": [
    "As we can see, the means between KNIME and RDKit implementations are the same, but the sigmas are not, this is because rdkit reports standard deviations instead variances:"
   ]
  },
  {
   "cell_type": "code",
   "execution_count": 217,
   "metadata": {},
   "outputs": [
    {
     "data": {
      "text/html": [
       "<div>\n",
       "<style scoped>\n",
       "    .dataframe tbody tr th:only-of-type {\n",
       "        vertical-align: middle;\n",
       "    }\n",
       "\n",
       "    .dataframe tbody tr th {\n",
       "        vertical-align: top;\n",
       "    }\n",
       "\n",
       "    .dataframe thead th {\n",
       "        text-align: right;\n",
       "    }\n",
       "</style>\n",
       "<table border=\"1\" class=\"dataframe\">\n",
       "  <thead>\n",
       "    <tr style=\"text-align: right;\">\n",
       "      <th></th>\n",
       "      <th>csar_1</th>\n",
       "    </tr>\n",
       "  </thead>\n",
       "  <tbody>\n",
       "    <tr>\n",
       "      <th>Ctd-Sigma</th>\n",
       "      <td>1.217516</td>\n",
       "    </tr>\n",
       "    <tr>\n",
       "      <th>Cst-Sigma</th>\n",
       "      <td>1.902638</td>\n",
       "    </tr>\n",
       "    <tr>\n",
       "      <th>Fct-Sigma</th>\n",
       "      <td>6.777985</td>\n",
       "    </tr>\n",
       "    <tr>\n",
       "      <th>Ftf-Sigma</th>\n",
       "      <td>6.581306</td>\n",
       "    </tr>\n",
       "  </tbody>\n",
       "</table>\n",
       "</div>"
      ],
      "text/plain": [
       "             csar_1\n",
       "Ctd-Sigma  1.217516\n",
       "Cst-Sigma  1.902638\n",
       "Fct-Sigma  6.777985\n",
       "Ftf-Sigma  6.581306"
      ]
     },
     "execution_count": 217,
     "metadata": {},
     "output_type": "execute_result"
    }
   ],
   "source": [
    "# Let's get the square of these values:\n",
    "rdkit_usr.loc[rdkit_usr.index.str.contains('Sigma')] ** 2"
   ]
  }
 ],
 "metadata": {
  "kernelspec": {
   "display_name": "Python 3.7.6 64-bit ('mds': conda)",
   "language": "python",
   "name": "python37664bitmdsconda8fcfe9b6c3484566880235af88776fef"
  },
  "language_info": {
   "codemirror_mode": {
    "name": "ipython",
    "version": 3
   },
   "file_extension": ".py",
   "mimetype": "text/x-python",
   "name": "python",
   "nbconvert_exporter": "python",
   "pygments_lexer": "ipython3",
   "version": "3.7.6"
  }
 },
 "nbformat": 4,
 "nbformat_minor": 4
}
