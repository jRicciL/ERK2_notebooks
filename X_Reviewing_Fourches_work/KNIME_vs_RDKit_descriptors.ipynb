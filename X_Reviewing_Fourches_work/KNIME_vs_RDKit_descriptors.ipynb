{
 "cells": [
  {
   "cell_type": "markdown",
   "metadata": {},
   "source": [
    "# Identifying  KNIME RDKit descriptors"
   ]
  },
  {
   "cell_type": "code",
   "execution_count": 1,
   "metadata": {},
   "outputs": [],
   "source": [
    "# In order to match descriptors directly computed from RDKit and from KNIME we are going to compare results from both procedures using two molecules"
   ]
  },
  {
   "cell_type": "code",
   "execution_count": 5,
   "metadata": {},
   "outputs": [],
   "source": [
    "import pandas as pd\n",
    "import numpy as np"
   ]
  },
  {
   "cell_type": "code",
   "execution_count": 2,
   "metadata": {},
   "outputs": [
    {
     "name": "stderr",
     "output_type": "stream",
     "text": [
      "RDKit WARNING: [12:16:17] Enabling RDKit 2019.09.1 jupyter extensions\n"
     ]
    }
   ],
   "source": [
    "from rdkit import Chem\n",
    "from rdkit.Chem import rdMolDescriptors"
   ]
  },
  {
   "cell_type": "code",
   "execution_count": 287,
   "metadata": {},
   "outputs": [],
   "source": [
    "# Read the molecules to use rdkit\n",
    "SDF_MIN_DIR = '../../ARCHIVOS/CRISTALES/LIGS_ERK2/FOURCHES_LIGS/3d_minimized/sdf/'\n",
    "\n",
    "# Read the molecules using rdkit\n",
    "csar_1 = Chem.SDMolSupplier(SDF_MIN_DIR + 'CSAR_erk2_1.sdf')[0]\n",
    "csar_10 = Chem.SDMolSupplier(SDF_MIN_DIR + 'CSAR_erk2_10.sdf')[0]\n",
    "model_53 = Chem.SDMolSupplier(SDF_MIN_DIR + 'erk2_53.sdf')[0]"
   ]
  },
  {
   "cell_type": "markdown",
   "metadata": {},
   "source": [
    "## WHIM Descriptors\n",
    "\n",
    "[RDKit source code](https://github.com/rdkit/rdkit/blob/master/Code/GraphMol/Descriptors/WHIM.cpp)"
   ]
  },
  {
   "cell_type": "code",
   "execution_count": 52,
   "metadata": {},
   "outputs": [],
   "source": [
    "# List of RDKit descriptors\n",
    "\n",
    "whim_axial = [ \"L1u\", \"L2u\", \"L3u\", \"P1u\", \"P2u\", \"G1u\", \"G2u\", \"G3u\", \"E1u\", \"E2u\", \"E3u\", \n",
    "               \"L1m\", \"L2m\", \"L3m\", \"P1m\", \"P2m\", \"G1m\", \"G2m\", \"G3m\", \"E1m\", \"E2m\", \"E3m\", \n",
    "               \"L1v\", \"L2v\", \"L3v\", \"P1v\", \"P2v\", \"G1v\", \"G2v\", \"G3v\", \"E1v\", \"E2v\", \"E3v\", \n",
    "               \"L1e\", \"L2e\", \"L3e\", \"P1e\", \"P2e\", \"G1e\", \"G2e\", \"G3e\", \"E1e\", \"E2e\", \"E3e\", \n",
    "               \"L1p\", \"L2p\", \"L3p\", \"P1p\", \"P2p\", \"G1p\", \"G2p\", \"G3p\", \"E1p\", \"E2p\", \"E3p\", \n",
    "               \"L1i\", \"L2i\", \"L3i\", \"P1i\", \"P2i\", \"G1i\", \"G2i\", \"G3i\", \"E1i\", \"E2i\", \"E3i\", \n",
    "               \"L1s\", \"L2s\", \"L3s\", \"P1s\", \"P2s\", \"G1s\", \"G2s\", \"G3s\", \"E1s\", \"E2s\", \"E3s\"]\n",
    "whim_global = [\"Tu\", \"Tm\", \"Tv\", \"Te\", \"Tp\", \"Ti\", \"Ts\", \n",
    "               \"Au\", \"Am\", \"Av\", \"Ae\", \"Ap\", \"Ai\", \"As\", \n",
    "               \"Gu\", \"Gm\", \n",
    "               \"Ku\", \"Km\", \"Kv\", \"Ke\", \"Kp\", \"Ki\", \"Ks\", \n",
    "               \"Du\", \"Dm\", \"Dv\", \"De\", \"Dp\", \"Di\", \"Ds\", \n",
    "               \"Vu\", \"Vm\", \"Vv\", \"Ve\", \"Vp\", \"Vi\", \"Vs\"]\n",
    "\n",
    "rdkit_whim_names = whim_axial + whim_global"
   ]
  },
  {
   "cell_type": "code",
   "execution_count": 307,
   "metadata": {},
   "outputs": [
    {
     "data": {
      "text/html": [
       "<div>\n",
       "<style scoped>\n",
       "    .dataframe tbody tr th:only-of-type {\n",
       "        vertical-align: middle;\n",
       "    }\n",
       "\n",
       "    .dataframe tbody tr th {\n",
       "        vertical-align: top;\n",
       "    }\n",
       "\n",
       "    .dataframe thead th {\n",
       "        text-align: right;\n",
       "    }\n",
       "</style>\n",
       "<table border=\"1\" class=\"dataframe\">\n",
       "  <thead>\n",
       "    <tr style=\"text-align: right;\">\n",
       "      <th></th>\n",
       "      <th>csar_1_RDK</th>\n",
       "      <th>csar_10_RDK</th>\n",
       "    </tr>\n",
       "  </thead>\n",
       "  <tbody>\n",
       "    <tr>\n",
       "      <th>L1u</th>\n",
       "      <td>7.625</td>\n",
       "      <td>29.166</td>\n",
       "    </tr>\n",
       "    <tr>\n",
       "      <th>L2u</th>\n",
       "      <td>4.167</td>\n",
       "      <td>1.991</td>\n",
       "    </tr>\n",
       "    <tr>\n",
       "      <th>L3u</th>\n",
       "      <td>0.649</td>\n",
       "      <td>0.695</td>\n",
       "    </tr>\n",
       "    <tr>\n",
       "      <th>P1u</th>\n",
       "      <td>0.613</td>\n",
       "      <td>0.916</td>\n",
       "    </tr>\n",
       "    <tr>\n",
       "      <th>P2u</th>\n",
       "      <td>0.335</td>\n",
       "      <td>0.062</td>\n",
       "    </tr>\n",
       "    <tr>\n",
       "      <th>...</th>\n",
       "      <td>...</td>\n",
       "      <td>...</td>\n",
       "    </tr>\n",
       "    <tr>\n",
       "      <th>Vv</th>\n",
       "      <td>74.223</td>\n",
       "      <td>148.297</td>\n",
       "    </tr>\n",
       "    <tr>\n",
       "      <th>Ve</th>\n",
       "      <td>71.895</td>\n",
       "      <td>157.005</td>\n",
       "    </tr>\n",
       "    <tr>\n",
       "      <th>Vp</th>\n",
       "      <td>74.450</td>\n",
       "      <td>142.584</td>\n",
       "    </tr>\n",
       "    <tr>\n",
       "      <th>Vi</th>\n",
       "      <td>69.902</td>\n",
       "      <td>152.210</td>\n",
       "    </tr>\n",
       "    <tr>\n",
       "      <th>Vs</th>\n",
       "      <td>70.435</td>\n",
       "      <td>167.859</td>\n",
       "    </tr>\n",
       "  </tbody>\n",
       "</table>\n",
       "<p>114 rows × 2 columns</p>\n",
       "</div>"
      ],
      "text/plain": [
       "     csar_1_RDK  csar_10_RDK\n",
       "L1u       7.625       29.166\n",
       "L2u       4.167        1.991\n",
       "L3u       0.649        0.695\n",
       "P1u       0.613        0.916\n",
       "P2u       0.335        0.062\n",
       "..          ...          ...\n",
       "Vv       74.223      148.297\n",
       "Ve       71.895      157.005\n",
       "Vp       74.450      142.584\n",
       "Vi       69.902      152.210\n",
       "Vs       70.435      167.859\n",
       "\n",
       "[114 rows x 2 columns]"
      ]
     },
     "execution_count": 307,
     "metadata": {},
     "output_type": "execute_result"
    }
   ],
   "source": [
    "# Compute the Whim descriptors using rdkit\n",
    "# \n",
    "df_rdk_whim = pd.DataFrame(rdMolDescriptors.CalcWHIM(csar_1), rdkit_whim_names, columns=['csar_1_RDK'])\n",
    "df_rdk_whim['csar_10_RDK'] = rdMolDescriptors.CalcWHIM(csar_10)\n",
    "\n",
    "# Merge both dataframes\n",
    "df_rdk_whim"
   ]
  },
  {
   "cell_type": "markdown",
   "metadata": {},
   "source": [
    "### Comparing KNIME Whim Descriptors against RDKit WHIM"
   ]
  },
  {
   "cell_type": "code",
   "execution_count": 308,
   "metadata": {},
   "outputs": [],
   "source": [
    "# Load the results generated using KNIME and the node WHIM 3D\n",
    "whim_knime_all = pd.read_csv('./knime/whim_rdki_knime.csv')\n",
    "# For comparation purposes we'll only keep one molecule\n",
    "# Descriptors start from the eigth colum\n",
    "whim_knime = whim_knime_all.iloc[[0, 1], 7:]\n",
    "whim_knime.index = ['csar_1_KNM', 'csar_10_KNM']"
   ]
  },
  {
   "cell_type": "code",
   "execution_count": 309,
   "metadata": {
    "scrolled": true
   },
   "outputs": [
    {
     "data": {
      "text/plain": [
       "Index(['Unit Weights.Wlambda1', 'Unit Weights.Wlambda2',\n",
       "       'Unit Weights.wlambda3', 'Unit Weights.Wnu1', 'Unit Weights.Wnu2',\n",
       "       'Unit Weights.Wgamma1', 'Unit Weights.Wgamma2', 'Unit Weights.Wgamma3',\n",
       "       'Unit Weights.Weta1', 'Unit Weights.Weta2', 'Unit Weights.Weta3',\n",
       "       'Unit Weights.WT', 'Unit Weights.WA', 'Unit Weights.WV',\n",
       "       'Unit Weights.WK', 'Unit Weights.WG', 'Unit Weights.WD',\n",
       "       'Atomic Masses.Wlambda1', 'Atomic Masses.Wlambda2',\n",
       "       'Atomic Masses.wlambda3', 'Atomic Masses.Wnu1', 'Atomic Masses.Wnu2',\n",
       "       'Atomic Masses.Wgamma1', 'Atomic Masses.Wgamma2',\n",
       "       'Atomic Masses.Wgamma3', 'Atomic Masses.Weta1', 'Atomic Masses.Weta2',\n",
       "       'Atomic Masses.Weta3', 'Atomic Masses.WT', 'Atomic Masses.WA',\n",
       "       'Atomic Masses.WV', 'Atomic Masses.WK', 'Atomic Masses.WG',\n",
       "       'Atomic Masses.WD', 'Atomic Polarizabilities.Wlambda1',\n",
       "       'Atomic Polarizabilities.Wlambda2', 'Atomic Polarizabilities.wlambda3',\n",
       "       'Atomic Polarizabilities.Wnu1', 'Atomic Polarizabilities.Wnu2',\n",
       "       'Atomic Polarizabilities.Wgamma1', 'Atomic Polarizabilities.Wgamma2',\n",
       "       'Atomic Polarizabilities.Wgamma3', 'Atomic Polarizabilities.Weta1',\n",
       "       'Atomic Polarizabilities.Weta2', 'Atomic Polarizabilities.Weta3',\n",
       "       'Atomic Polarizabilities.WT', 'Atomic Polarizabilities.WA',\n",
       "       'Atomic Polarizabilities.WV', 'Atomic Polarizabilities.WK',\n",
       "       'Atomic Polarizabilities.WG', 'Atomic Polarizabilities.WD',\n",
       "       'VdW Volumes.Wlambda1', 'VdW Volumes.Wlambda2', 'VdW Volumes.wlambda3',\n",
       "       'VdW Volumes.Wnu1', 'VdW Volumes.Wnu2', 'VdW Volumes.Wgamma1',\n",
       "       'VdW Volumes.Wgamma2', 'VdW Volumes.Wgamma3', 'VdW Volumes.Weta1',\n",
       "       'VdW Volumes.Weta2', 'VdW Volumes.Weta3', 'VdW Volumes.WT',\n",
       "       'VdW Volumes.WA', 'VdW Volumes.WV', 'VdW Volumes.WK', 'VdW Volumes.WG',\n",
       "       'VdW Volumes.WD', 'Atomic Electronegativities.Wlambda1',\n",
       "       'Atomic Electronegativities.Wlambda2',\n",
       "       'Atomic Electronegativities.wlambda3',\n",
       "       'Atomic Electronegativities.Wnu1', 'Atomic Electronegativities.Wnu2',\n",
       "       'Atomic Electronegativities.Wgamma1',\n",
       "       'Atomic Electronegativities.Wgamma2',\n",
       "       'Atomic Electronegativities.Wgamma3',\n",
       "       'Atomic Electronegativities.Weta1', 'Atomic Electronegativities.Weta2',\n",
       "       'Atomic Electronegativities.Weta3', 'Atomic Electronegativities.WT',\n",
       "       'Atomic Electronegativities.WA', 'Atomic Electronegativities.WV',\n",
       "       'Atomic Electronegativities.WK', 'Atomic Electronegativities.WG',\n",
       "       'Atomic Electronegativities.WD'],\n",
       "      dtype='object')"
      ]
     },
     "execution_count": 309,
     "metadata": {},
     "output_type": "execute_result"
    }
   ],
   "source": [
    "# Name of the whim descriptors in Knime\n",
    "whim_knime.columns"
   ]
  },
  {
   "cell_type": "markdown",
   "metadata": {},
   "source": [
    "#### WHIM KNIME has the following:\n",
    "- **Weight schemes:**\n",
    "    1. Unit Weights = unweighted (u)\n",
    "    - Atomic Masses = m\n",
    "    - Van der Waals volumes = v\n",
    "    - Atomic electronegativites = e\n",
    "    - Atomic polarizabilities = p\n",
    "\n",
    "It doesn't have *Electropological state indices* and *Topological I-state*\n",
    "\n",
    "**Descriptors:**\n",
    "Note: The order here is inverse to the reported by rdkit, i.e., lambda1 = L3)\n",
    "    \n",
    "> - **Axial:**\n",
    "    1. Lambda: 3, 2, 1 => **L**\n",
    "    2. Nu: 2, 1        => **P**\n",
    "    3. Gamma: 3, 2, 1  => **G**\n",
    "    4. Eta: 3, 2, 1    => **E**\n",
    "    \n",
    "> - **Global:** Are the same as RDKit\n",
    "    - T, A, V, K, G, D\n",
    "    \n",
    "Descriptors are sorted first by the weighted schema and the by the kind of descriptor."
   ]
  },
  {
   "cell_type": "code",
   "execution_count": 310,
   "metadata": {},
   "outputs": [],
   "source": [
    "# Let's convert the Knime names to the RDKit names\n",
    "whim_knime_names = whim_knime.columns\n",
    "weight_schemes_whim = {\n",
    "    'Unit Weights': 'u',\n",
    "    'Atomic Masses': 'm',\n",
    "    'VdW Volumes': 'v',\n",
    "    'Atomic Polarizabilities': 'p',\n",
    "    'Atomic Electronegativities': 'e'\n",
    "}\n",
    "descriptors_whim = {\n",
    "    'lambda1': 'L3', 'lambda2': 'L2', 'lambda3': 'L1',\n",
    "    'nu1': 'P1', 'nu2': 'P2',\n",
    "    'eta1': 'E3', 'eta2': 'E2', 'eta3': 'E1',\n",
    "    'gamma1': 'G3', 'gamma2': 'G2', 'gamma3': 'G1',\n",
    "    'T': 'T', 'A': 'A', 'V': 'V', 'K': 'K', 'G': 'G', 'D': 'D'\n",
    "}\n",
    "# funtion to convert names\n",
    "convert_name = lambda s, d: descriptors_whim[d[1:]] + weight_schemes_whim[s]\n",
    "\n",
    "# Use the dictionaries to create a new list of names\n",
    "whim_knime_names_converted = [convert_name(*i.split('.')) for i in whim_knime_names]"
   ]
  },
  {
   "cell_type": "code",
   "execution_count": 178,
   "metadata": {},
   "outputs": [],
   "source": [
    "# list(zip(whim_knime_names_converted, whim_knime_names))"
   ]
  },
  {
   "cell_type": "code",
   "execution_count": 317,
   "metadata": {},
   "outputs": [],
   "source": [
    "# Let's create a dataframe with the values of the csar_1 molecule\n",
    "df_knime_csar_1 = pd.DataFrame(list(zip(whim_knime_names, whim_knime.loc['csar_1_KNM'])), \n",
    "                             whim_knime_names_converted, columns=['knime_name', 'csar_1_KNM'])\n",
    "# identify null values\n",
    "df_knime_csar_1['csar_1_KNM'] = pd.to_numeric(df_knime_csar_1['csar_1_KNM'], errors='coerce')"
   ]
  },
  {
   "cell_type": "markdown",
   "metadata": {},
   "source": [
    "#### The following list shows which WHIM descriptors have diferente values when computed with KNIME and RDKit"
   ]
  },
  {
   "cell_type": "code",
   "execution_count": 323,
   "metadata": {},
   "outputs": [
    {
     "name": "stdout",
     "output_type": "stream",
     "text": [
      "Desc \t Knime \t\t rdkit \t\t Diff\n",
      "--------------------------------------------------\n",
      "P1u \t 0.05 \t\t 0.61 \t\t 0.561\n",
      "Ku \t 0.21 \t\t 0.42 \t\t 0.212\n",
      "Du \t 1.3 \t\t 0.43 \t\t 0.865\n",
      "P1m \t 0.05 \t\t 0.63 \t\t 0.573\n",
      "Km \t 0.22 \t\t 0.44 \t\t 0.219\n",
      "Dm \t 1.28 \t\t 0.42 \t\t 0.851\n",
      "P1p \t 0.05 \t\t 0.58 \t\t 0.535\n",
      "Kp \t 0.19 \t\t 0.42 \t\t 0.236\n",
      "Dp \t 1.34 \t\t 0.45 \t\t 0.893\n",
      "P1v \t 0.05 \t\t 0.6 \t\t 0.548\n",
      "Vv \t 73.85 \t\t 74.22 \t\t 0.371\n",
      "Kv \t 0.19 \t\t 0.42 \t\t 0.231\n",
      "Dv \t 1.33 \t\t 0.44 \t\t 0.885\n",
      "P1e \t 0.05 \t\t 0.63 \t\t 0.573\n",
      "Ke \t 0.22 \t\t 0.44 \t\t 0.22\n",
      "De \t 1.28 \t\t 0.43 \t\t 0.851\n"
     ]
    }
   ],
   "source": [
    "# ommit null values\n",
    "names_ = df_knime_csar_1.dropna().index\n",
    "# Iterate over the index and compare KNIME and RDKIT\n",
    "print('Desc', '\\t', 'Knime', '\\t\\t', 'rdkit', '\\t\\t', 'Diff')\n",
    "print('-'*50)\n",
    "for i in names_:\n",
    "    # compare\n",
    "    a = df_knime_csar_1.loc[i, 'csar_1_KNM']\n",
    "    b = df_rdk_whim.loc[i, 'csar_1_RDK']\n",
    "    if abs(a - b) >= 0.2: # Rdkit returns values with 3 decimal positions\n",
    "        print(i, '\\t', round(a, 2), '\\t\\t', round(b, 2), '\\t\\t', round(abs(a - b), 3))"
   ]
  },
  {
   "cell_type": "markdown",
   "metadata": {},
   "source": [
    "## Compute WHIM descriptors (unweighted) using numpy"
   ]
  },
  {
   "cell_type": "code",
   "execution_count": 549,
   "metadata": {},
   "outputs": [],
   "source": [
    "def get_mol_coords(mol, centered = True):\n",
    "    num_atoms = len(mol.GetAtoms())\n",
    "    coords = pd.DataFrame({\n",
    "       'x': [mol.GetConformer().GetAtomPosition(i).x for i in range(num_atoms)],\n",
    "       'y': [mol.GetConformer().GetAtomPosition(i).y for i in range(num_atoms)],\n",
    "       'z': [mol.GetConformer().GetAtomPosition(i).z for i in range(num_atoms)]})\n",
    "    if centered:\n",
    "        coords = coords - coords.mean(axis =  0)\n",
    "    return coords\n",
    "\n",
    "def calc_cov(mol):\n",
    "    coords = get_mol_coords(mol)\n",
    "    n, m = coords.shape\n",
    "    cov = np.dot(coords.T, coords) / (n)\n",
    "    return cov\n",
    "\n",
    "def calc_eigen(mol):\n",
    "    eigen_values, eigen_vectors = np.linalg.eig(calc_cov(mol))\n",
    "    return eigen_values, eigen_vectors"
   ]
  },
  {
   "cell_type": "markdown",
   "metadata": {},
   "source": [
    "### Let's view which are the RDKit and KNIME results for the unweighted descriptors:\n",
    "- Differences, RDK rounds to until the third decimal position. "
   ]
  },
  {
   "cell_type": "code",
   "execution_count": 558,
   "metadata": {},
   "outputs": [
    {
     "name": "stdout",
     "output_type": "stream",
     "text": [
      "WHIM descriptor values of \"csar_1\" molecules using KNIME and RDKit\n"
     ]
    },
    {
     "data": {
      "text/html": [
       "<div>\n",
       "<style scoped>\n",
       "    .dataframe tbody tr th:only-of-type {\n",
       "        vertical-align: middle;\n",
       "    }\n",
       "\n",
       "    .dataframe tbody tr th {\n",
       "        vertical-align: top;\n",
       "    }\n",
       "\n",
       "    .dataframe thead th {\n",
       "        text-align: right;\n",
       "    }\n",
       "</style>\n",
       "<table border=\"1\" class=\"dataframe\">\n",
       "  <thead>\n",
       "    <tr style=\"text-align: right;\">\n",
       "      <th></th>\n",
       "      <th>L1u</th>\n",
       "      <th>L2u</th>\n",
       "      <th>L3u</th>\n",
       "      <th>P1u</th>\n",
       "      <th>P2u</th>\n",
       "      <th>G1u</th>\n",
       "      <th>G2u</th>\n",
       "      <th>G3u</th>\n",
       "      <th>E1u</th>\n",
       "      <th>E2u</th>\n",
       "      <th>E3u</th>\n",
       "      <th>Tu</th>\n",
       "      <th>Au</th>\n",
       "      <th>Gu</th>\n",
       "      <th>Ku</th>\n",
       "      <th>Du</th>\n",
       "      <th>Vu</th>\n",
       "    </tr>\n",
       "  </thead>\n",
       "  <tbody>\n",
       "    <tr>\n",
       "      <th>csar_1_RDK</th>\n",
       "      <td>7.625000</td>\n",
       "      <td>4.167000</td>\n",
       "      <td>0.649000</td>\n",
       "      <td>0.613000</td>\n",
       "      <td>0.33500</td>\n",
       "      <td>0.181</td>\n",
       "      <td>0.181</td>\n",
       "      <td>0.181</td>\n",
       "      <td>0.50500</td>\n",
       "      <td>0.43800</td>\n",
       "      <td>0.355000</td>\n",
       "      <td>12.441000</td>\n",
       "      <td>39.425000</td>\n",
       "      <td>0.181</td>\n",
       "      <td>0.422000</td>\n",
       "      <td>0.433000</td>\n",
       "      <td>72.494000</td>\n",
       "    </tr>\n",
       "    <tr>\n",
       "      <th>csar_1_KNM</th>\n",
       "      <td>7.624702</td>\n",
       "      <td>4.166611</td>\n",
       "      <td>0.649312</td>\n",
       "      <td>0.052193</td>\n",
       "      <td>0.33492</td>\n",
       "      <td>NaN</td>\n",
       "      <td>NaN</td>\n",
       "      <td>NaN</td>\n",
       "      <td>0.50461</td>\n",
       "      <td>0.43817</td>\n",
       "      <td>0.355002</td>\n",
       "      <td>12.440624</td>\n",
       "      <td>39.425401</td>\n",
       "      <td>NaN</td>\n",
       "      <td>0.209666</td>\n",
       "      <td>1.297782</td>\n",
       "      <td>72.494112</td>\n",
       "    </tr>\n",
       "  </tbody>\n",
       "</table>\n",
       "</div>"
      ],
      "text/plain": [
       "                 L1u       L2u       L3u       P1u      P2u    G1u    G2u  \\\n",
       "csar_1_RDK  7.625000  4.167000  0.649000  0.613000  0.33500  0.181  0.181   \n",
       "csar_1_KNM  7.624702  4.166611  0.649312  0.052193  0.33492    NaN    NaN   \n",
       "\n",
       "              G3u      E1u      E2u       E3u         Tu         Au     Gu  \\\n",
       "csar_1_RDK  0.181  0.50500  0.43800  0.355000  12.441000  39.425000  0.181   \n",
       "csar_1_KNM    NaN  0.50461  0.43817  0.355002  12.440624  39.425401    NaN   \n",
       "\n",
       "                  Ku        Du         Vu  \n",
       "csar_1_RDK  0.422000  0.433000  72.494000  \n",
       "csar_1_KNM  0.209666  1.297782  72.494112  "
      ]
     },
     "execution_count": 558,
     "metadata": {},
     "output_type": "execute_result"
    }
   ],
   "source": [
    "csar_1_KNM_whim = df_knime_csar_1[df_knime_csar_1.index.str.contains('u')]['csar_1_KNM']\n",
    "csar_1_RDK_whim = df_rdk_whim[df_rdk_whim.index.str.contains('u')]['csar_1_RDK']\n",
    "df_whim = pd.DataFrame([csar_1_RDK_whim, csar_1_KNM_whim])\n",
    "print('WHIM descriptor values of \"csar_1\" molecules using KNIME and RDKit')\n",
    "df_whim"
   ]
  },
  {
   "cell_type": "markdown",
   "metadata": {},
   "source": [
    "### Compute L1u, L2u and L3u (Axial dimensions)\n",
    ">> $ L_k = \\lambda_k$\n",
    "\n",
    "Where $k_1 = 1, 2, 3$. *L1, L2* and *L3* are the eigen values of the weighted covariance matrix."
   ]
  },
  {
   "cell_type": "code",
   "execution_count": 554,
   "metadata": {},
   "outputs": [],
   "source": [
    "def calc_Lu(mol):\n",
    "    eigen_values, _ = calc_eigen(mol)\n",
    "    L1, L2, L3 = eigen_values\n",
    "    return np.array([L1, L2, L3])"
   ]
  },
  {
   "cell_type": "code",
   "execution_count": 555,
   "metadata": {},
   "outputs": [
    {
     "data": {
      "text/plain": [
       "array([7.624702, 4.166611, 0.649312])"
      ]
     },
     "execution_count": 555,
     "metadata": {},
     "output_type": "execute_result"
    }
   ],
   "source": [
    "mol = csar_1\n",
    "calc_Lu(mol).round(6)\n",
    "# The values are the same to RDKit and KNIME"
   ]
  },
  {
   "cell_type": "code",
   "execution_count": 559,
   "metadata": {},
   "outputs": [
    {
     "data": {
      "text/html": [
       "<div>\n",
       "<style scoped>\n",
       "    .dataframe tbody tr th:only-of-type {\n",
       "        vertical-align: middle;\n",
       "    }\n",
       "\n",
       "    .dataframe tbody tr th {\n",
       "        vertical-align: top;\n",
       "    }\n",
       "\n",
       "    .dataframe thead th {\n",
       "        text-align: right;\n",
       "    }\n",
       "</style>\n",
       "<table border=\"1\" class=\"dataframe\">\n",
       "  <thead>\n",
       "    <tr style=\"text-align: right;\">\n",
       "      <th></th>\n",
       "      <th>L1u</th>\n",
       "      <th>L2u</th>\n",
       "      <th>L3u</th>\n",
       "    </tr>\n",
       "  </thead>\n",
       "  <tbody>\n",
       "    <tr>\n",
       "      <th>csar_1_RDK</th>\n",
       "      <td>7.625000</td>\n",
       "      <td>4.167000</td>\n",
       "      <td>0.649000</td>\n",
       "    </tr>\n",
       "    <tr>\n",
       "      <th>csar_1_KNM</th>\n",
       "      <td>7.624702</td>\n",
       "      <td>4.166611</td>\n",
       "      <td>0.649312</td>\n",
       "    </tr>\n",
       "  </tbody>\n",
       "</table>\n",
       "</div>"
      ],
      "text/plain": [
       "                 L1u       L2u       L3u\n",
       "csar_1_RDK  7.625000  4.167000  0.649000\n",
       "csar_1_KNM  7.624702  4.166611  0.649312"
      ]
     },
     "execution_count": 559,
     "metadata": {},
     "output_type": "execute_result"
    }
   ],
   "source": [
    "df_whim[['L1u', 'L2u', 'L3u']]"
   ]
  },
  {
   "cell_type": "markdown",
   "metadata": {},
   "source": [
    "### Compute T (global dimension)\n",
    ">> $T = \\lambda_1 + \\lambda_2 + \\lambda_3$"
   ]
  },
  {
   "cell_type": "code",
   "execution_count": 564,
   "metadata": {},
   "outputs": [],
   "source": [
    "def calc_Tu(mol):\n",
    "    L1, L2, L3 =calc_Lu(mol)\n",
    "    return np.sum([L1, L2, L3])"
   ]
  },
  {
   "cell_type": "code",
   "execution_count": 561,
   "metadata": {},
   "outputs": [
    {
     "data": {
      "text/plain": [
       "12.440624"
      ]
     },
     "execution_count": 561,
     "metadata": {},
     "output_type": "execute_result"
    }
   ],
   "source": [
    "calc_Tu(mol).round(6)"
   ]
  },
  {
   "cell_type": "code",
   "execution_count": 563,
   "metadata": {},
   "outputs": [
    {
     "data": {
      "text/html": [
       "<div>\n",
       "<style scoped>\n",
       "    .dataframe tbody tr th:only-of-type {\n",
       "        vertical-align: middle;\n",
       "    }\n",
       "\n",
       "    .dataframe tbody tr th {\n",
       "        vertical-align: top;\n",
       "    }\n",
       "\n",
       "    .dataframe thead th {\n",
       "        text-align: right;\n",
       "    }\n",
       "</style>\n",
       "<table border=\"1\" class=\"dataframe\">\n",
       "  <thead>\n",
       "    <tr style=\"text-align: right;\">\n",
       "      <th></th>\n",
       "      <th>Tu</th>\n",
       "    </tr>\n",
       "  </thead>\n",
       "  <tbody>\n",
       "    <tr>\n",
       "      <th>csar_1_RDK</th>\n",
       "      <td>12.441000</td>\n",
       "    </tr>\n",
       "    <tr>\n",
       "      <th>csar_1_KNM</th>\n",
       "      <td>12.440624</td>\n",
       "    </tr>\n",
       "  </tbody>\n",
       "</table>\n",
       "</div>"
      ],
      "text/plain": [
       "                   Tu\n",
       "csar_1_RDK  12.441000\n",
       "csar_1_KNM  12.440624"
      ]
     },
     "execution_count": 563,
     "metadata": {},
     "output_type": "execute_result"
    }
   ],
   "source": [
    "df_whim[['Tu']]\n",
    "# The values are the same to RDKit and KNIME"
   ]
  },
  {
   "cell_type": "markdown",
   "metadata": {},
   "source": [
    "### Compute A (global dimension)\n",
    ">> $A = \\lambda_1\\lambda_2  + \\lambda_1\\lambda_3 + \\lambda_2\\lambda_3$"
   ]
  },
  {
   "cell_type": "code",
   "execution_count": 565,
   "metadata": {},
   "outputs": [],
   "source": [
    "def calc_Au(mol):\n",
    "    L1, L2, L3 = calc_Lu(mol)\n",
    "    return np.sum([L1*L2, L1*L3, L2*L3])"
   ]
  },
  {
   "cell_type": "code",
   "execution_count": 567,
   "metadata": {},
   "outputs": [
    {
     "data": {
      "text/plain": [
       "39.425401"
      ]
     },
     "execution_count": 567,
     "metadata": {},
     "output_type": "execute_result"
    }
   ],
   "source": [
    "calc_Au(mol).round(6)"
   ]
  },
  {
   "cell_type": "code",
   "execution_count": 566,
   "metadata": {},
   "outputs": [
    {
     "data": {
      "text/html": [
       "<div>\n",
       "<style scoped>\n",
       "    .dataframe tbody tr th:only-of-type {\n",
       "        vertical-align: middle;\n",
       "    }\n",
       "\n",
       "    .dataframe tbody tr th {\n",
       "        vertical-align: top;\n",
       "    }\n",
       "\n",
       "    .dataframe thead th {\n",
       "        text-align: right;\n",
       "    }\n",
       "</style>\n",
       "<table border=\"1\" class=\"dataframe\">\n",
       "  <thead>\n",
       "    <tr style=\"text-align: right;\">\n",
       "      <th></th>\n",
       "      <th>Au</th>\n",
       "    </tr>\n",
       "  </thead>\n",
       "  <tbody>\n",
       "    <tr>\n",
       "      <th>csar_1_RDK</th>\n",
       "      <td>39.425000</td>\n",
       "    </tr>\n",
       "    <tr>\n",
       "      <th>csar_1_KNM</th>\n",
       "      <td>39.425401</td>\n",
       "    </tr>\n",
       "  </tbody>\n",
       "</table>\n",
       "</div>"
      ],
      "text/plain": [
       "                   Au\n",
       "csar_1_RDK  39.425000\n",
       "csar_1_KNM  39.425401"
      ]
     },
     "execution_count": 566,
     "metadata": {},
     "output_type": "execute_result"
    }
   ],
   "source": [
    "df_whim[['Au']]\n",
    "# The values are the same to RDKit and KNIME"
   ]
  },
  {
   "cell_type": "markdown",
   "metadata": {},
   "source": [
    "### Compute V (global dimension)\n",
    ">> $V = \\prod^3_{k=1} (1 + \\lambda_k) -1 = T + A + \\lambda_1*\\lambda_2*\\lambda_3$"
   ]
  },
  {
   "cell_type": "code",
   "execution_count": 788,
   "metadata": {},
   "outputs": [],
   "source": [
    "def calc_Vu(mol):\n",
    "    Lk = calc_Lu(mol)\n",
    "    # Vu = np.array([(1 + k) for k in [Lk]]).prod() - 1\n",
    "    Vu = (1 + Lk).prod() - 1\n",
    "    return Vu"
   ]
  },
  {
   "cell_type": "code",
   "execution_count": 789,
   "metadata": {},
   "outputs": [
    {
     "data": {
      "text/plain": [
       "72.494112"
      ]
     },
     "execution_count": 789,
     "metadata": {},
     "output_type": "execute_result"
    }
   ],
   "source": [
    "calc_Vu(mol).round(6)"
   ]
  },
  {
   "cell_type": "code",
   "execution_count": 581,
   "metadata": {},
   "outputs": [
    {
     "data": {
      "text/html": [
       "<div>\n",
       "<style scoped>\n",
       "    .dataframe tbody tr th:only-of-type {\n",
       "        vertical-align: middle;\n",
       "    }\n",
       "\n",
       "    .dataframe tbody tr th {\n",
       "        vertical-align: top;\n",
       "    }\n",
       "\n",
       "    .dataframe thead th {\n",
       "        text-align: right;\n",
       "    }\n",
       "</style>\n",
       "<table border=\"1\" class=\"dataframe\">\n",
       "  <thead>\n",
       "    <tr style=\"text-align: right;\">\n",
       "      <th></th>\n",
       "      <th>Vu</th>\n",
       "    </tr>\n",
       "  </thead>\n",
       "  <tbody>\n",
       "    <tr>\n",
       "      <th>csar_1_RDK</th>\n",
       "      <td>72.494000</td>\n",
       "    </tr>\n",
       "    <tr>\n",
       "      <th>csar_1_KNM</th>\n",
       "      <td>72.494112</td>\n",
       "    </tr>\n",
       "  </tbody>\n",
       "</table>\n",
       "</div>"
      ],
      "text/plain": [
       "                   Vu\n",
       "csar_1_RDK  72.494000\n",
       "csar_1_KNM  72.494112"
      ]
     },
     "execution_count": 581,
     "metadata": {},
     "output_type": "execute_result"
    }
   ],
   "source": [
    "df_whim[['Vu']]\n",
    "# The values are the same to RDKit and KNIME"
   ]
  },
  {
   "cell_type": "markdown",
   "metadata": {},
   "source": [
    "### Compute P (Axial shape)\n",
    ">> $P_k = \\nu_k = \\frac{\\lambda_k}{\\sum_k \\lambda_k}$,  with $k$ = 1, 2, 3\n",
    "\n",
    "These descriptors are *directional WHIM shape* and represent the eigenvalue ratios. Accordingly to , only P1 and P2 are taking into account due to P1 + P2 + P3 = 1, which means that only two of these parameters are independent."
   ]
  },
  {
   "cell_type": "code",
   "execution_count": 786,
   "metadata": {},
   "outputs": [],
   "source": [
    "def calc_Pu(mol):\n",
    "    Lk = calc_Lu(mol)\n",
    "    # Pu = [k / np.sum(Lk) for k in [Lk]][0]\n",
    "    Pu = Lk / Lk.sum()\n",
    "    return Pu"
   ]
  },
  {
   "cell_type": "code",
   "execution_count": 787,
   "metadata": {},
   "outputs": [
    {
     "data": {
      "text/plain": [
       "array([0.6128874 , 0.33491976, 0.05219284])"
      ]
     },
     "execution_count": 787,
     "metadata": {},
     "output_type": "execute_result"
    }
   ],
   "source": [
    "calc_Pu(mol)"
   ]
  },
  {
   "cell_type": "code",
   "execution_count": 629,
   "metadata": {},
   "outputs": [
    {
     "data": {
      "text/html": [
       "<div>\n",
       "<style scoped>\n",
       "    .dataframe tbody tr th:only-of-type {\n",
       "        vertical-align: middle;\n",
       "    }\n",
       "\n",
       "    .dataframe tbody tr th {\n",
       "        vertical-align: top;\n",
       "    }\n",
       "\n",
       "    .dataframe thead th {\n",
       "        text-align: right;\n",
       "    }\n",
       "</style>\n",
       "<table border=\"1\" class=\"dataframe\">\n",
       "  <thead>\n",
       "    <tr style=\"text-align: right;\">\n",
       "      <th></th>\n",
       "      <th>P1u</th>\n",
       "      <th>P2u</th>\n",
       "    </tr>\n",
       "  </thead>\n",
       "  <tbody>\n",
       "    <tr>\n",
       "      <th>csar_1_RDK</th>\n",
       "      <td>0.613000</td>\n",
       "      <td>0.33500</td>\n",
       "    </tr>\n",
       "    <tr>\n",
       "      <th>csar_1_KNM</th>\n",
       "      <td>0.052193</td>\n",
       "      <td>0.33492</td>\n",
       "    </tr>\n",
       "  </tbody>\n",
       "</table>\n",
       "</div>"
      ],
      "text/plain": [
       "                 P1u      P2u\n",
       "csar_1_RDK  0.613000  0.33500\n",
       "csar_1_KNM  0.052193  0.33492"
      ]
     },
     "execution_count": 629,
     "metadata": {},
     "output_type": "execute_result"
    }
   ],
   "source": [
    "df_whim[['P1u', 'P2u']]\n",
    "# The values are NOT the same, RDKit reports only P for the first and second eigenvecors,\n",
    "# but KNIME seems to repor P for the second and third eigenvalues "
   ]
  },
  {
   "cell_type": "markdown",
   "metadata": {},
   "source": [
    "### Compute K (global shape)\n",
    ">> $K = \\frac{3}{4} \\dot \\sum^3_{k=1} | \\frac{\\lambda_k}{\\sum_k \\lambda_k} - \\frac{1}{3}|$\n",
    "\n",
    "This descriptor is related to the sphericity  of the molecule. For an ideal spherical molecule K = 0, and each $\\lambda$ has the same value (with a ratio of $\\frac{1}{3}$). A planar molecule will have a $\\lambda = 0$ and K will range between 0.5 and 1. Finally, a ideal straight molecule will have $\\lambda_2$ and $\\lambda_3$ equal to 0, and K = 1."
   ]
  },
  {
   "cell_type": "code",
   "execution_count": 782,
   "metadata": {},
   "outputs": [],
   "source": [
    "def calc_Ku(mol):\n",
    "    Pu = calc_Pu(mol)\n",
    "    # Ku = (3/4) * np.sum([np.abs(k - 1/3) for k in Pu])\n",
    "    Ku = (3/4) * np.abs(Pu - 1/3).sum()\n",
    "    return Ku"
   ]
  },
  {
   "cell_type": "code",
   "execution_count": 781,
   "metadata": {},
   "outputs": [
    {
     "data": {
      "text/plain": [
       "0.42171073372202184"
      ]
     },
     "execution_count": 781,
     "metadata": {},
     "output_type": "execute_result"
    }
   ],
   "source": [
    "calc_Ku(mol)"
   ]
  },
  {
   "cell_type": "code",
   "execution_count": 640,
   "metadata": {},
   "outputs": [
    {
     "data": {
      "text/html": [
       "<div>\n",
       "<style scoped>\n",
       "    .dataframe tbody tr th:only-of-type {\n",
       "        vertical-align: middle;\n",
       "    }\n",
       "\n",
       "    .dataframe tbody tr th {\n",
       "        vertical-align: top;\n",
       "    }\n",
       "\n",
       "    .dataframe thead th {\n",
       "        text-align: right;\n",
       "    }\n",
       "</style>\n",
       "<table border=\"1\" class=\"dataframe\">\n",
       "  <thead>\n",
       "    <tr style=\"text-align: right;\">\n",
       "      <th></th>\n",
       "      <th>Ku</th>\n",
       "    </tr>\n",
       "  </thead>\n",
       "  <tbody>\n",
       "    <tr>\n",
       "      <th>csar_1_RDK</th>\n",
       "      <td>0.422000</td>\n",
       "    </tr>\n",
       "    <tr>\n",
       "      <th>csar_1_KNM</th>\n",
       "      <td>0.209666</td>\n",
       "    </tr>\n",
       "  </tbody>\n",
       "</table>\n",
       "</div>"
      ],
      "text/plain": [
       "                  Ku\n",
       "csar_1_RDK  0.422000\n",
       "csar_1_KNM  0.209666"
      ]
     },
     "execution_count": 640,
     "metadata": {},
     "output_type": "execute_result"
    }
   ],
   "source": [
    "df_whim[['Ku']]\n",
    "# KNIME differs from the result"
   ]
  },
  {
   "cell_type": "code",
   "execution_count": 662,
   "metadata": {},
   "outputs": [
    {
     "data": {
      "text/plain": [
       "0.21204518510869136"
      ]
     },
     "execution_count": 662,
     "metadata": {},
     "output_type": "execute_result"
    }
   ],
   "source": [
    "# Problably it is because the KNIME implementation ommits P1u\n",
    "P1u, P2u, P3u = calc_Pu(mol)\n",
    "(3/4) * np.sum([np.abs(k - 1/3) for k in [P2u, P3u]])"
   ]
  },
  {
   "cell_type": "markdown",
   "metadata": {},
   "source": [
    "### Compute E (Axial density)\n",
    ">> $E_k = \\eta_k =  \\frac{\\lambda_k^2 * N}{\\sum{t^4}}$,\n",
    "\n",
    "where $N$ in the number of atoms, and $t$ refers to the atomic coordinates with respect to the principal axes.\n",
    "\n",
    "This descriptor is related to the kurtosis calculated from the $t_k$ scores (projected coordinates onto the $k$ eigenvector). And represents the quantity of unfilled space per projected atom. Low values of kurtosis are obtained when the data points (atom coordinates projections) assume opposite values with respect to the centre of the scores. When there are more extreme values in $t$ the kurtosis ($\\kappa$) value increases. When $\\kappa$ tends to infinity $E$ tends to 0."
   ]
  },
  {
   "cell_type": "code",
   "execution_count": 790,
   "metadata": {},
   "outputs": [],
   "source": [
    "def calc_Eu(mol):\n",
    "    coords = get_mol_coords(mol).values\n",
    "    eigen_vects = calc_eigen(mol)[1]\n",
    "    t =  np.dot(coords, eigen_vects)\n",
    "    L = calc_Lu(mol)\n",
    "    N = len(coords)\n",
    "    E = (L**2 * N) / (t**4).sum(axis = 0)\n",
    "    return E"
   ]
  },
  {
   "cell_type": "code",
   "execution_count": 791,
   "metadata": {},
   "outputs": [
    {
     "data": {
      "text/plain": [
       "array([0.50460956, 0.43817022, 0.3550019 ])"
      ]
     },
     "execution_count": 791,
     "metadata": {},
     "output_type": "execute_result"
    }
   ],
   "source": [
    "calc_Eu(mol)\n",
    "# The values are the same in KNIME and RDKit implementations"
   ]
  },
  {
   "cell_type": "code",
   "execution_count": 740,
   "metadata": {},
   "outputs": [
    {
     "data": {
      "text/html": [
       "<div>\n",
       "<style scoped>\n",
       "    .dataframe tbody tr th:only-of-type {\n",
       "        vertical-align: middle;\n",
       "    }\n",
       "\n",
       "    .dataframe tbody tr th {\n",
       "        vertical-align: top;\n",
       "    }\n",
       "\n",
       "    .dataframe thead th {\n",
       "        text-align: right;\n",
       "    }\n",
       "</style>\n",
       "<table border=\"1\" class=\"dataframe\">\n",
       "  <thead>\n",
       "    <tr style=\"text-align: right;\">\n",
       "      <th></th>\n",
       "      <th>E1u</th>\n",
       "      <th>E2u</th>\n",
       "      <th>E3u</th>\n",
       "    </tr>\n",
       "  </thead>\n",
       "  <tbody>\n",
       "    <tr>\n",
       "      <th>csar_1_RDK</th>\n",
       "      <td>0.50500</td>\n",
       "      <td>0.43800</td>\n",
       "      <td>0.355000</td>\n",
       "    </tr>\n",
       "    <tr>\n",
       "      <th>csar_1_KNM</th>\n",
       "      <td>0.50461</td>\n",
       "      <td>0.43817</td>\n",
       "      <td>0.355002</td>\n",
       "    </tr>\n",
       "  </tbody>\n",
       "</table>\n",
       "</div>"
      ],
      "text/plain": [
       "                E1u      E2u       E3u\n",
       "csar_1_RDK  0.50500  0.43800  0.355000\n",
       "csar_1_KNM  0.50461  0.43817  0.355002"
      ]
     },
     "execution_count": 740,
     "metadata": {},
     "output_type": "execute_result"
    }
   ],
   "source": [
    "df_whim[['E1u', 'E2u', 'E3u']]"
   ]
  },
  {
   "cell_type": "markdown",
   "metadata": {},
   "source": [
    "### Compute D (Global density)\n",
    "As compute by KNIME:\n",
    ">> $D = E_1 + E_2 + E_3 = \\eta_1 + \\eta_2 + \\eta_3$\n",
    "\n",
    "As compute by RDKit ([Source code](https://github.com/rdkit/rdkit/blob/master/Code/GraphMol/Descriptors/WHIM.cpp)):\n",
    ">> $D = (E_1 + E_2 + E_3) / 3 = (\\eta_1 + \\eta_2 + \\eta_3) / 3$\n",
    "\n",
    "**D** is the total density of atoms within a molecule. However, RDKit computes the average of that density. Apparently this is what the software DRAGON 6 does."
   ]
  },
  {
   "cell_type": "code",
   "execution_count": 800,
   "metadata": {},
   "outputs": [],
   "source": [
    "def calc_Du(mol, mean = False):\n",
    "    E = calc_Eu(mol)\n",
    "    if mean:\n",
    "        return E.mean()\n",
    "    else:\n",
    "        return E.sum()"
   ]
  },
  {
   "cell_type": "code",
   "execution_count": 803,
   "metadata": {},
   "outputs": [
    {
     "data": {
      "text/plain": [
       "1.2977816747150561"
      ]
     },
     "execution_count": 803,
     "metadata": {},
     "output_type": "execute_result"
    }
   ],
   "source": [
    "# KNIME Result\n",
    "calc_Du(mol, mean = False)"
   ]
  },
  {
   "cell_type": "code",
   "execution_count": 802,
   "metadata": {},
   "outputs": [
    {
     "data": {
      "text/plain": [
       "0.4325938915716854"
      ]
     },
     "execution_count": 802,
     "metadata": {},
     "output_type": "execute_result"
    }
   ],
   "source": [
    "# RDKit result\n",
    "calc_Du(mol, mean = True)"
   ]
  },
  {
   "cell_type": "code",
   "execution_count": 795,
   "metadata": {},
   "outputs": [
    {
     "data": {
      "text/html": [
       "<div>\n",
       "<style scoped>\n",
       "    .dataframe tbody tr th:only-of-type {\n",
       "        vertical-align: middle;\n",
       "    }\n",
       "\n",
       "    .dataframe tbody tr th {\n",
       "        vertical-align: top;\n",
       "    }\n",
       "\n",
       "    .dataframe thead th {\n",
       "        text-align: right;\n",
       "    }\n",
       "</style>\n",
       "<table border=\"1\" class=\"dataframe\">\n",
       "  <thead>\n",
       "    <tr style=\"text-align: right;\">\n",
       "      <th></th>\n",
       "      <th>Du</th>\n",
       "    </tr>\n",
       "  </thead>\n",
       "  <tbody>\n",
       "    <tr>\n",
       "      <th>csar_1_RDK</th>\n",
       "      <td>0.433000</td>\n",
       "    </tr>\n",
       "    <tr>\n",
       "      <th>csar_1_KNM</th>\n",
       "      <td>1.297782</td>\n",
       "    </tr>\n",
       "  </tbody>\n",
       "</table>\n",
       "</div>"
      ],
      "text/plain": [
       "                  Du\n",
       "csar_1_RDK  0.433000\n",
       "csar_1_KNM  1.297782"
      ]
     },
     "execution_count": 795,
     "metadata": {},
     "output_type": "execute_result"
    }
   ],
   "source": [
    "df_whim[['Du']]"
   ]
  },
  {
   "cell_type": "code",
   "execution_count": 804,
   "metadata": {},
   "outputs": [],
   "source": [
    "#### G"
   ]
  },
  {
   "cell_type": "code",
   "execution_count": 807,
   "metadata": {},
   "outputs": [
    {
     "data": {
      "text/plain": [
       "array([[ 4.091,  3.728,  2.416,  1.908,  0.542, -0.573, -1.561, -1.099,\n",
       "         0.25 , -2.854, -3.515, -3.231, -4.522, -5.272, -4.326,  3.014,\n",
       "         3.319,  1.797,  0.784,  0.263,  0.766,  1.784,  2.29 ],\n",
       "       [-1.142,  0.172,  0.197, -1.15 , -1.577, -0.949, -1.514, -2.613,\n",
       "        -2.688, -0.955, -1.156, -0.27 ,  0.397, -0.   ,  1.905, -1.937,\n",
       "        -3.379,  1.496,  1.639,  2.9  ,  4.041,  3.923,  2.661],\n",
       "       [-0.684, -0.567, -0.262, -0.234,  0.078, -0.332,  0.435,  1.123,\n",
       "         0.898,  0.542,  1.551, -0.588, -0.666, -1.933, -0.584, -0.467,\n",
       "        -0.523,  0.041,  0.997,  1.312,  0.69 , -0.251, -0.577]])"
      ]
     },
     "execution_count": 807,
     "metadata": {},
     "output_type": "execute_result"
    }
   ],
   "source": [
    "N = len(coords)\n",
    "eigen_vects = calc_eigen(mol)[1]\n",
    "t =  np.dot(coords, eigen_vects)\n",
    "t.round(3).T # Round to three as a tolerance value"
   ]
  },
  {
   "cell_type": "code",
   "execution_count": 808,
   "metadata": {},
   "outputs": [
    {
     "data": {
      "text/html": [
       "<div>\n",
       "<style scoped>\n",
       "    .dataframe tbody tr th:only-of-type {\n",
       "        vertical-align: middle;\n",
       "    }\n",
       "\n",
       "    .dataframe tbody tr th {\n",
       "        vertical-align: top;\n",
       "    }\n",
       "\n",
       "    .dataframe thead th {\n",
       "        text-align: right;\n",
       "    }\n",
       "</style>\n",
       "<table border=\"1\" class=\"dataframe\">\n",
       "  <thead>\n",
       "    <tr style=\"text-align: right;\">\n",
       "      <th></th>\n",
       "      <th>G1u</th>\n",
       "      <th>G2u</th>\n",
       "      <th>G3u</th>\n",
       "    </tr>\n",
       "  </thead>\n",
       "  <tbody>\n",
       "    <tr>\n",
       "      <th>csar_1_RDK</th>\n",
       "      <td>0.181</td>\n",
       "      <td>0.181</td>\n",
       "      <td>0.181</td>\n",
       "    </tr>\n",
       "    <tr>\n",
       "      <th>csar_1_KNM</th>\n",
       "      <td>NaN</td>\n",
       "      <td>NaN</td>\n",
       "      <td>NaN</td>\n",
       "    </tr>\n",
       "  </tbody>\n",
       "</table>\n",
       "</div>"
      ],
      "text/plain": [
       "              G1u    G2u    G3u\n",
       "csar_1_RDK  0.181  0.181  0.181\n",
       "csar_1_KNM    NaN    NaN    NaN"
      ]
     },
     "execution_count": 808,
     "metadata": {},
     "output_type": "execute_result"
    }
   ],
   "source": [
    "df_whim[['G1u', 'G2u', 'G3u']]"
   ]
  },
  {
   "cell_type": "markdown",
   "metadata": {},
   "source": [
    "***\n",
    "### USR or 3D D-MOMENTS \n",
    "\n",
    "Descriptors computed using [3D D-Moments](https://hub.knime.com/egonw/extensions/org.openscience.cdk.knime.feature/latest/org.openscience.cdk.knime.nodes.descriptors.distance3d.Distance3dNodeFactory). These descriptors are known as *'Ultra-fast shape recognition'* (**USR**), and were initially purposed by [Ballester and Graham (2007)](https://royalsocietypublishing.org/doi/10.1098/rspa.2007.1823). The intuition is the following:\n",
    "> - USR is based on the idea that the shape of a molecule is determined by the relative position of its atoms.\n",
    "- Therefore, molecular alignment (superposition) is not needed.\n",
    "- The molecule is considered as a bound of particles (*atoms*) instead of a solid body.\n",
    "- A dimensionality reduction is applied: The three dimensional shape information is retain by a set of one-dimensional distributions.\n",
    "- These distributions are taken from all the atomic distances (euclidean distances) to the four different locations:\n",
    "    - **Ctd**: *Molecular centroid.*\n",
    "    - **Cst**: *Closest atom to Ctd*\n",
    "    - **Fct**: *Farthest atom to Ctd*\n",
    "    - **Ftf**: *Farthest atom to Fct*\n",
    "- These locations are independent of molecular orientation and position.\n",
    "- Mean, standard deviation and skewness are used over the atom distances from these locations to let to compare molecules with different number of atoms.\n",
    "\n",
    "#### KNIME"
   ]
  },
  {
   "cell_type": "code",
   "execution_count": 477,
   "metadata": {},
   "outputs": [],
   "source": [
    "# Load the results generated using KNIME and the node WHIM 3D\n",
    "moments_knime_all = pd.read_csv('./knime/3dmoments_rdki_knime.csv')\n",
    "# For comparation purposes we'll only keep one molecule\n",
    "# Descriptors start from the eigth colum\n",
    "moments_knime = moments_knime_all.iloc[[0, 1], 7:]\n",
    "moments_knime.index = ['csar_1', 'csar_10']\n",
    "moments_knime = moments_knime.T"
   ]
  },
  {
   "cell_type": "markdown",
   "metadata": {},
   "source": [
    "These descriptors are the following:"
   ]
  },
  {
   "cell_type": "code",
   "execution_count": 499,
   "metadata": {},
   "outputs": [
    {
     "data": {
      "text/html": [
       "<div>\n",
       "<style scoped>\n",
       "    .dataframe tbody tr th:only-of-type {\n",
       "        vertical-align: middle;\n",
       "    }\n",
       "\n",
       "    .dataframe tbody tr th {\n",
       "        vertical-align: top;\n",
       "    }\n",
       "\n",
       "    .dataframe thead th {\n",
       "        text-align: right;\n",
       "    }\n",
       "</style>\n",
       "<table border=\"1\" class=\"dataframe\">\n",
       "  <thead>\n",
       "    <tr style=\"text-align: right;\">\n",
       "      <th></th>\n",
       "      <th>csar_1</th>\n",
       "    </tr>\n",
       "  </thead>\n",
       "  <tbody>\n",
       "    <tr>\n",
       "      <th>Ctd-Mean</th>\n",
       "      <td>3.350091</td>\n",
       "    </tr>\n",
       "    <tr>\n",
       "      <th>Ctd-Sigma</th>\n",
       "      <td>1.272858</td>\n",
       "    </tr>\n",
       "    <tr>\n",
       "      <th>Ctd-Skewness</th>\n",
       "      <td>-0.008724</td>\n",
       "    </tr>\n",
       "    <tr>\n",
       "      <th>Cst-Mean</th>\n",
       "      <td>3.446493</td>\n",
       "    </tr>\n",
       "    <tr>\n",
       "      <th>Cst-Sigma</th>\n",
       "      <td>1.989122</td>\n",
       "    </tr>\n",
       "    <tr>\n",
       "      <th>Cst-Skewness</th>\n",
       "      <td>-0.585295</td>\n",
       "    </tr>\n",
       "    <tr>\n",
       "      <th>Fct-Mean</th>\n",
       "      <td>6.098801</td>\n",
       "    </tr>\n",
       "    <tr>\n",
       "      <th>Fct-Sigma</th>\n",
       "      <td>7.086076</td>\n",
       "    </tr>\n",
       "    <tr>\n",
       "      <th>Fct-Skewness</th>\n",
       "      <td>-0.673957</td>\n",
       "    </tr>\n",
       "    <tr>\n",
       "      <th>Ftf-Mean</th>\n",
       "      <td>4.936628</td>\n",
       "    </tr>\n",
       "    <tr>\n",
       "      <th>Ftf-Sigma</th>\n",
       "      <td>6.880456</td>\n",
       "    </tr>\n",
       "    <tr>\n",
       "      <th>Ftf-Skewness</th>\n",
       "      <td>-0.006238</td>\n",
       "    </tr>\n",
       "  </tbody>\n",
       "</table>\n",
       "</div>"
      ],
      "text/plain": [
       "                csar_1\n",
       "Ctd-Mean      3.350091\n",
       "Ctd-Sigma     1.272858\n",
       "Ctd-Skewness -0.008724\n",
       "Cst-Mean      3.446493\n",
       "Cst-Sigma     1.989122\n",
       "Cst-Skewness -0.585295\n",
       "Fct-Mean      6.098801\n",
       "Fct-Sigma     7.086076\n",
       "Fct-Skewness -0.673957\n",
       "Ftf-Mean      4.936628\n",
       "Ftf-Sigma     6.880456\n",
       "Ftf-Skewness -0.006238"
      ]
     },
     "execution_count": 499,
     "metadata": {},
     "output_type": "execute_result"
    }
   ],
   "source": [
    "moments_knime.loc[:, ['csar_1']]"
   ]
  },
  {
   "cell_type": "markdown",
   "metadata": {},
   "source": [
    "### RDKIT\n",
    "RDKit computes the USR descriptors through `rdMolDescriptors.GetUSR()` class. Nevertheless, rdkit reports standard deviation and cubic root of skewness instead of variance and skewness. Apparently because this way the 'moments' (descriptors) will have the same units (Angstroms) ([Source](https://github.com/rdkit/rdkit/pull/1417/files)).\n",
    "\n",
    "Moreover, **variance and skewness are calculated using the sample variance formula which uses the Bessel's correction (n - 1), while RDKit implementation computes the variance without that correction.**"
   ]
  },
  {
   "cell_type": "code",
   "execution_count": 509,
   "metadata": {},
   "outputs": [],
   "source": [
    "rdkit_usr = pd.DataFrame(rdMolDescriptors.GetUSR(csar_1),\n",
    "                         columns=['csar_1'], index=moments_knime.index)"
   ]
  },
  {
   "cell_type": "code",
   "execution_count": 493,
   "metadata": {},
   "outputs": [],
   "source": [
    "# Join two dataframes to compare\n",
    "df_usr_csar_1 = pd.concat([rdkit_usr, moments_knime['csar_1']], axis=1)\n",
    "df_usr_csar_1.columns = ['csar_1_RDK', 'csar_1_KNIME']"
   ]
  },
  {
   "cell_type": "markdown",
   "metadata": {},
   "source": [
    "#### Comparing means"
   ]
  },
  {
   "cell_type": "code",
   "execution_count": 494,
   "metadata": {},
   "outputs": [
    {
     "data": {
      "text/html": [
       "<div>\n",
       "<style scoped>\n",
       "    .dataframe tbody tr th:only-of-type {\n",
       "        vertical-align: middle;\n",
       "    }\n",
       "\n",
       "    .dataframe tbody tr th {\n",
       "        vertical-align: top;\n",
       "    }\n",
       "\n",
       "    .dataframe thead th {\n",
       "        text-align: right;\n",
       "    }\n",
       "</style>\n",
       "<table border=\"1\" class=\"dataframe\">\n",
       "  <thead>\n",
       "    <tr style=\"text-align: right;\">\n",
       "      <th></th>\n",
       "      <th>csar_1_RDK</th>\n",
       "      <th>csar_1_KNIME</th>\n",
       "    </tr>\n",
       "  </thead>\n",
       "  <tbody>\n",
       "    <tr>\n",
       "      <th>Ctd-Mean</th>\n",
       "      <td>3.350091</td>\n",
       "      <td>3.350091</td>\n",
       "    </tr>\n",
       "    <tr>\n",
       "      <th>Cst-Mean</th>\n",
       "      <td>3.446493</td>\n",
       "      <td>3.446493</td>\n",
       "    </tr>\n",
       "    <tr>\n",
       "      <th>Fct-Mean</th>\n",
       "      <td>6.098801</td>\n",
       "      <td>6.098801</td>\n",
       "    </tr>\n",
       "    <tr>\n",
       "      <th>Ftf-Mean</th>\n",
       "      <td>4.936629</td>\n",
       "      <td>4.936628</td>\n",
       "    </tr>\n",
       "  </tbody>\n",
       "</table>\n",
       "</div>"
      ],
      "text/plain": [
       "          csar_1_RDK  csar_1_KNIME\n",
       "Ctd-Mean    3.350091      3.350091\n",
       "Cst-Mean    3.446493      3.446493\n",
       "Fct-Mean    6.098801      6.098801\n",
       "Ftf-Mean    4.936629      4.936628"
      ]
     },
     "execution_count": 494,
     "metadata": {},
     "output_type": "execute_result"
    }
   ],
   "source": [
    "df_usr_csar_1.loc[df_usr_csar_1.index.str.contains('Mean')]"
   ]
  },
  {
   "cell_type": "markdown",
   "metadata": {},
   "source": [
    "#### Comparing Sigmas"
   ]
  },
  {
   "cell_type": "code",
   "execution_count": 502,
   "metadata": {},
   "outputs": [
    {
     "data": {
      "text/html": [
       "<div>\n",
       "<style scoped>\n",
       "    .dataframe tbody tr th:only-of-type {\n",
       "        vertical-align: middle;\n",
       "    }\n",
       "\n",
       "    .dataframe tbody tr th {\n",
       "        vertical-align: top;\n",
       "    }\n",
       "\n",
       "    .dataframe thead th {\n",
       "        text-align: right;\n",
       "    }\n",
       "</style>\n",
       "<table border=\"1\" class=\"dataframe\">\n",
       "  <thead>\n",
       "    <tr style=\"text-align: right;\">\n",
       "      <th></th>\n",
       "      <th>csar_1_RDK</th>\n",
       "      <th>csar_1_KNIME</th>\n",
       "    </tr>\n",
       "  </thead>\n",
       "  <tbody>\n",
       "    <tr>\n",
       "      <th>Ctd-Sigma</th>\n",
       "      <td>1.103411</td>\n",
       "      <td>1.272858</td>\n",
       "    </tr>\n",
       "    <tr>\n",
       "      <th>Cst-Sigma</th>\n",
       "      <td>1.379362</td>\n",
       "      <td>1.989122</td>\n",
       "    </tr>\n",
       "    <tr>\n",
       "      <th>Fct-Sigma</th>\n",
       "      <td>2.603456</td>\n",
       "      <td>7.086076</td>\n",
       "    </tr>\n",
       "    <tr>\n",
       "      <th>Ftf-Sigma</th>\n",
       "      <td>2.565406</td>\n",
       "      <td>6.880456</td>\n",
       "    </tr>\n",
       "  </tbody>\n",
       "</table>\n",
       "</div>"
      ],
      "text/plain": [
       "           csar_1_RDK  csar_1_KNIME\n",
       "Ctd-Sigma    1.103411      1.272858\n",
       "Cst-Sigma    1.379362      1.989122\n",
       "Fct-Sigma    2.603456      7.086076\n",
       "Ftf-Sigma    2.565406      6.880456"
      ]
     },
     "execution_count": 502,
     "metadata": {},
     "output_type": "execute_result"
    }
   ],
   "source": [
    "# Let's get the square of these values:\n",
    "df_usr_csar_1.loc[df_usr_csar_1.index.str.contains('Sigma')]"
   ]
  },
  {
   "cell_type": "markdown",
   "metadata": {},
   "source": [
    "RDKit reports standard deviation instead of variances. Let's convert stds from RDKit to variance:"
   ]
  },
  {
   "cell_type": "code",
   "execution_count": 506,
   "metadata": {},
   "outputs": [
    {
     "data": {
      "text/html": [
       "<div>\n",
       "<style scoped>\n",
       "    .dataframe tbody tr th:only-of-type {\n",
       "        vertical-align: middle;\n",
       "    }\n",
       "\n",
       "    .dataframe tbody tr th {\n",
       "        vertical-align: top;\n",
       "    }\n",
       "\n",
       "    .dataframe thead th {\n",
       "        text-align: right;\n",
       "    }\n",
       "</style>\n",
       "<table border=\"1\" class=\"dataframe\">\n",
       "  <thead>\n",
       "    <tr style=\"text-align: right;\">\n",
       "      <th></th>\n",
       "      <th>csar_1_RDK</th>\n",
       "    </tr>\n",
       "  </thead>\n",
       "  <tbody>\n",
       "    <tr>\n",
       "      <th>Ctd-Sigma</th>\n",
       "      <td>1.217516</td>\n",
       "    </tr>\n",
       "    <tr>\n",
       "      <th>Cst-Sigma</th>\n",
       "      <td>1.902638</td>\n",
       "    </tr>\n",
       "    <tr>\n",
       "      <th>Fct-Sigma</th>\n",
       "      <td>6.777985</td>\n",
       "    </tr>\n",
       "    <tr>\n",
       "      <th>Ftf-Sigma</th>\n",
       "      <td>6.581306</td>\n",
       "    </tr>\n",
       "  </tbody>\n",
       "</table>\n",
       "</div>"
      ],
      "text/plain": [
       "           csar_1_RDK\n",
       "Ctd-Sigma    1.217516\n",
       "Cst-Sigma    1.902638\n",
       "Fct-Sigma    6.777985\n",
       "Ftf-Sigma    6.581306"
      ]
     },
     "execution_count": 506,
     "metadata": {},
     "output_type": "execute_result"
    }
   ],
   "source": [
    "df_usr_csar_1.loc[df_usr_csar_1.index.str.contains('Sigma')][['csar_1_RDK']] ** 2"
   ]
  },
  {
   "cell_type": "markdown",
   "metadata": {},
   "source": [
    "However, these still are not the same values. This is due to KNIME computes variance using the sample variance formula:\n",
    "$$\\sigma^2_{KNIME} = \\sum_{i=1}^N \\frac{(x - \\bar{x})^2}{N -1}$$"
   ]
  },
  {
   "cell_type": "markdown",
   "metadata": {},
   "source": [
    "#### Comparing Skewness\n",
    "\n",
    "First of all, RDKit computes the cubic root of skewness."
   ]
  },
  {
   "cell_type": "code",
   "execution_count": 507,
   "metadata": {},
   "outputs": [
    {
     "data": {
      "text/html": [
       "<div>\n",
       "<style scoped>\n",
       "    .dataframe tbody tr th:only-of-type {\n",
       "        vertical-align: middle;\n",
       "    }\n",
       "\n",
       "    .dataframe tbody tr th {\n",
       "        vertical-align: top;\n",
       "    }\n",
       "\n",
       "    .dataframe thead th {\n",
       "        text-align: right;\n",
       "    }\n",
       "</style>\n",
       "<table border=\"1\" class=\"dataframe\">\n",
       "  <thead>\n",
       "    <tr style=\"text-align: right;\">\n",
       "      <th></th>\n",
       "      <th>csar_1_RDK</th>\n",
       "      <th>csar_1_KNIME</th>\n",
       "    </tr>\n",
       "  </thead>\n",
       "  <tbody>\n",
       "    <tr>\n",
       "      <th>Ctd-Skewness</th>\n",
       "      <td>-0.210489</td>\n",
       "      <td>-0.008724</td>\n",
       "    </tr>\n",
       "    <tr>\n",
       "      <th>Cst-Skewness</th>\n",
       "      <td>-0.855285</td>\n",
       "      <td>-0.585295</td>\n",
       "    </tr>\n",
       "    <tr>\n",
       "      <th>Fct-Skewness</th>\n",
       "      <td>-0.896458</td>\n",
       "      <td>-0.673957</td>\n",
       "    </tr>\n",
       "    <tr>\n",
       "      <th>Ftf-Skewness</th>\n",
       "      <td>-0.188228</td>\n",
       "      <td>-0.006238</td>\n",
       "    </tr>\n",
       "  </tbody>\n",
       "</table>\n",
       "</div>"
      ],
      "text/plain": [
       "              csar_1_RDK  csar_1_KNIME\n",
       "Ctd-Skewness   -0.210489     -0.008724\n",
       "Cst-Skewness   -0.855285     -0.585295\n",
       "Fct-Skewness   -0.896458     -0.673957\n",
       "Ftf-Skewness   -0.188228     -0.006238"
      ]
     },
     "execution_count": 507,
     "metadata": {},
     "output_type": "execute_result"
    }
   ],
   "source": [
    "# Let's get the square of these values:\n",
    "df_usr_csar_1.loc[df_usr_csar_1.index.str.contains('Skewness')]"
   ]
  },
  {
   "cell_type": "code",
   "execution_count": 513,
   "metadata": {},
   "outputs": [
    {
     "data": {
      "text/html": [
       "<div>\n",
       "<style scoped>\n",
       "    .dataframe tbody tr th:only-of-type {\n",
       "        vertical-align: middle;\n",
       "    }\n",
       "\n",
       "    .dataframe tbody tr th {\n",
       "        vertical-align: top;\n",
       "    }\n",
       "\n",
       "    .dataframe thead th {\n",
       "        text-align: right;\n",
       "    }\n",
       "</style>\n",
       "<table border=\"1\" class=\"dataframe\">\n",
       "  <thead>\n",
       "    <tr style=\"text-align: right;\">\n",
       "      <th></th>\n",
       "      <th>csar_1_RDK</th>\n",
       "    </tr>\n",
       "  </thead>\n",
       "  <tbody>\n",
       "    <tr>\n",
       "      <th>Ctd-Skewness</th>\n",
       "      <td>-0.009326</td>\n",
       "    </tr>\n",
       "    <tr>\n",
       "      <th>Cst-Skewness</th>\n",
       "      <td>-0.625653</td>\n",
       "    </tr>\n",
       "    <tr>\n",
       "      <th>Fct-Skewness</th>\n",
       "      <td>-0.720427</td>\n",
       "    </tr>\n",
       "    <tr>\n",
       "      <th>Ftf-Skewness</th>\n",
       "      <td>-0.006669</td>\n",
       "    </tr>\n",
       "  </tbody>\n",
       "</table>\n",
       "</div>"
      ],
      "text/plain": [
       "              csar_1_RDK\n",
       "Ctd-Skewness   -0.009326\n",
       "Cst-Skewness   -0.625653\n",
       "Fct-Skewness   -0.720427\n",
       "Ftf-Skewness   -0.006669"
      ]
     },
     "execution_count": 513,
     "metadata": {},
     "output_type": "execute_result"
    }
   ],
   "source": [
    "# Let's convert cubic root of skewness to skewness fot the RDKit values\n",
    "df_usr_csar_1.loc[df_usr_csar_1.index.str.contains('Skewness')][['csar_1_RDK']] ** 3\n",
    "# values are now in the same order of magnitude, but are not the same:"
   ]
  },
  {
   "cell_type": "markdown",
   "metadata": {},
   "source": [
    "For some reason KNIME computes skewness using the following formula:\n",
    "\n",
    "$$ Skewness_{knime} = \\frac{\\sum^N_{i=1} (x - \\bar{x})^3} {N * \\sigma^3_{n-1 dof}} $$"
   ]
  },
  {
   "cell_type": "markdown",
   "metadata": {},
   "source": [
    "### Directly compute the CDT descriptors\n",
    "#### I was able to find these results by directly computing *Molecular centroid* (Ctd) using numpy:"
   ]
  },
  {
   "cell_type": "code",
   "execution_count": 470,
   "metadata": {},
   "outputs": [],
   "source": [
    "from scipy.stats import skew, kurtosis\n",
    "\n",
    "def get_mol_coords(mol, centered = True):\n",
    "    num_atoms = len(mol.GetAtoms())\n",
    "    coords = pd.DataFrame({\n",
    "       'x': [mol.GetConformer().GetAtomPosition(i).x for i in range(num_atoms)],\n",
    "       'y': [mol.GetConformer().GetAtomPosition(i).y for i in range(num_atoms)],\n",
    "       'z': [mol.GetConformer().GetAtomPosition(i).z for i in range(num_atoms)]},\n",
    "            index = [mol.GetAtomWithIdx(i).GetSymbol() for i in range(num_atoms)])\n",
    "    if centered:\n",
    "        coords = coords - coords.mean(axis =  0)\n",
    "    return coords\n",
    "\n",
    "def get_molecular_centroid(mol):\n",
    "    coords = get_mol_coords(mol)\n",
    "    return coords.mean(axis=0)\n",
    "\n",
    "def get_distances_from_centroid(mol):\n",
    "    coords = get_mol_coords(mol)\n",
    "    centroid = get_molecular_centroid(mol)\n",
    "    distances = np.linalg.norm(coords - centroid, axis = 1)\n",
    "    return distances\n",
    "\n",
    "def get_ctd_mean(mol):\n",
    "    distances = get_distances_from_centroid(mol)\n",
    "    return distances.mean()\n",
    "\n",
    "def get_ctd_var(mol, ddof = 0):\n",
    "    distances = get_distances_from_centroid(mol)\n",
    "    return distances.var(ddof = ddof)\n",
    "\n",
    "def get_ctd_skew(mol, ddof_N = 0, ddof_std = 1):\n",
    "    distances = get_distances_from_centroid(mol)\n",
    "    N = len(distances)\n",
    "    u = distances.mean()\n",
    "    #skew_ = skew(distances, bias = False)\n",
    "    skew_ = ( np.sum( (distances - u) ** 3 )  ) / ( (N - ddof_N) * (distances.std(ddof = ddof_std) ** 3 ))\n",
    "    return skew_"
   ]
  },
  {
   "cell_type": "code",
   "execution_count": 533,
   "metadata": {},
   "outputs": [
    {
     "name": "stdout",
     "output_type": "stream",
     "text": [
      "Rdkit descriptors:\n",
      "**************************************************\n",
      "Cdt-mean:\t 3.350091\n",
      "Cdt-sigma:\t 1.12821\n",
      "Cdt-skewness:\t -0.210489\n",
      "\n",
      "\n",
      "KNIME descriptors:\n",
      "**************************************************\n",
      "Cdt-mean:\t 3.350091\n",
      "Cdt-sigma:\t 1.272858\n",
      "Cdt-skewness:\t -0.008724\n"
     ]
    }
   ],
   "source": [
    "# Calculate 'Manually' molecular centroid moments:\n",
    "# Define the molecule (and rdkit instance)\n",
    "mol = csar_1\n",
    "\n",
    "# Compute cdt - mean (like RDKit)\n",
    "print('Rdkit descriptors:')\n",
    "print('*'*50)\n",
    "print('Cdt-mean:\\t', get_ctd_mean(mol).round(6))\n",
    "print('Cdt-sigma:\\t', (get_ctd_var(mol, ddof = 1)**0.5).round(6))\n",
    "print('Cdt-skewness:\\t', np.cbrt(get_ctd_skew(mol, ddof_N = 0, ddof_std = 0)).round(6))\n",
    "\n",
    "print('\\n')\n",
    "\n",
    "# Compute cdt - mean (Like KNIME)\n",
    "print('KNIME descriptors:')\n",
    "print('*'*50)\n",
    "print('Cdt-mean:\\t', get_ctd_mean(mol).round(6))\n",
    "print('Cdt-sigma:\\t', (get_ctd_var(mol, ddof = 1)).round(6))\n",
    "print('Cdt-skewness:\\t', get_ctd_skew(mol, ddof_N = 0, ddof_std = 1).round(6))"
   ]
  }
 ],
 "metadata": {
  "kernelspec": {
   "display_name": "Python 3.7.6 64-bit ('mds': conda)",
   "language": "python",
   "name": "python37664bitmdsconda8fcfe9b6c3484566880235af88776fef"
  },
  "language_info": {
   "codemirror_mode": {
    "name": "ipython",
    "version": 3
   },
   "file_extension": ".py",
   "mimetype": "text/x-python",
   "name": "python",
   "nbconvert_exporter": "python",
   "pygments_lexer": "ipython3",
   "version": "3.7.6"
  }
 },
 "nbformat": 4,
 "nbformat_minor": 4
}
