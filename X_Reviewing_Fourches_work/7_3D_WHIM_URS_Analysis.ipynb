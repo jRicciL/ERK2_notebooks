{
 "cells": [
  {
   "cell_type": "code",
   "execution_count": 1,
   "metadata": {},
   "outputs": [],
   "source": [
    "import pandas as pd\n",
    "import numpy as np\n",
    "import pickle\n",
    "import matplotlib.pyplot as plt\n",
    "import seaborn as sns\n",
    "sns.set(context='talk', style='white', palette='Dark2', font_scale=0.8)"
   ]
  },
  {
   "cell_type": "code",
   "execution_count": null,
   "metadata": {},
   "outputs": [],
   "source": [
    "# Loading the data"
   ]
  },
  {
   "cell_type": "code",
   "execution_count": 2,
   "metadata": {},
   "outputs": [
    {
     "name": "stderr",
     "output_type": "stream",
     "text": [
      "RDKit WARNING: [23:09:43] Enabling RDKit 2019.09.1 jupyter extensions\n"
     ]
    }
   ],
   "source": [
    "file_ = './main_table_of_Fourches_ligs_ERK2.pkl'\n",
    "with open(file_, 'rb') as f:\n",
    "    df_erk2_mols = pickle.load(f)\n",
    "df_erk2_mols = df_erk2_mols.set_index('Name')\n",
    "df_erk2_mols = df_erk2_mols.sort_values('pKi', ascending = False)"
   ]
  },
  {
   "cell_type": "code",
   "execution_count": null,
   "metadata": {},
   "outputs": [],
   "source": []
  },
  {
   "cell_type": "code",
   "execution_count": null,
   "metadata": {},
   "outputs": [],
   "source": [
    "# Get the names of each one of the precomputed descriptors"
   ]
  },
  {
   "cell_type": "code",
   "execution_count": null,
   "metadata": {},
   "outputs": [],
   "source": [
    "# WHIM"
   ]
  },
  {
   "cell_type": "code",
   "execution_count": 12,
   "metadata": {},
   "outputs": [],
   "source": [
    "# List of RDKit descriptors\n",
    "\n",
    "whim_axial = [ \"L1u\", \"L2u\", \"L3u\", \"P1u\", \"P2u\", \"G1u\", \"G2u\", \"G3u\", \"E1u\", \"E2u\", \"E3u\", \n",
    "               \"L1m\", \"L2m\", \"L3m\", \"P1m\", \"P2m\", \"G1m\", \"G2m\", \"G3m\", \"E1m\", \"E2m\", \"E3m\", \n",
    "               \"L1v\", \"L2v\", \"L3v\", \"P1v\", \"P2v\", \"G1v\", \"G2v\", \"G3v\", \"E1v\", \"E2v\", \"E3v\", \n",
    "               \"L1e\", \"L2e\", \"L3e\", \"P1e\", \"P2e\", \"G1e\", \"G2e\", \"G3e\", \"E1e\", \"E2e\", \"E3e\", \n",
    "               \"L1p\", \"L2p\", \"L3p\", \"P1p\", \"P2p\", \"G1p\", \"G2p\", \"G3p\", \"E1p\", \"E2p\", \"E3p\", \n",
    "               \"L1i\", \"L2i\", \"L3i\", \"P1i\", \"P2i\", \"G1i\", \"G2i\", \"G3i\", \"E1i\", \"E2i\", \"E3i\", \n",
    "               \"L1s\", \"L2s\", \"L3s\", \"P1s\", \"P2s\", \"G1s\", \"G2s\", \"G3s\", \"E1s\", \"E2s\", \"E3s\"]\n",
    "whim_global = [\"Tu\", \"Tm\", \"Tv\", \"Te\", \"Tp\", \"Ti\", \"Ts\", \n",
    "               \"Au\", \"Am\", \"Av\", \"Ae\", \"Ap\", \"Ai\", \"As\", \n",
    "               \"Gu\", \"Gm\", \n",
    "               \"Ku\", \"Km\", \"Kv\", \"Ke\", \"Kp\", \"Ki\", \"Ks\", \n",
    "               \"Du\", \"Dm\", \"Dv\", \"De\", \"Dp\", \"Di\", \"Ds\", \n",
    "               \"Vu\", \"Vm\", \"Vv\", \"Ve\", \"Vp\", \"Vi\", \"Vs\"]\n",
    "\n",
    "rdkit_whim_names = whim_axial + whim_global"
   ]
  },
  {
   "cell_type": "code",
   "execution_count": null,
   "metadata": {},
   "outputs": [],
   "source": [
    "# USR - 3dMOMENTS"
   ]
  },
  {
   "cell_type": "code",
   "execution_count": 20,
   "metadata": {},
   "outputs": [],
   "source": [
    "rdkit_USR_names = ['Ctd-Mean', 'Ctd-Sigma', 'Ctd-Skewness', 'Cst-Mean', 'Cst-Sigma',\n",
    "                   'Cst-Skewness', 'Fct-Mean', 'Fct-Sigma', 'Fct-Skewness', 'Ftf-Mean',\n",
    "                   'Ftf-Sigma', 'Ftf-Skewness']"
   ]
  },
  {
   "cell_type": "code",
   "execution_count": 13,
   "metadata": {},
   "outputs": [],
   "source": [
    "# Extract the set of descriptors from the main data table"
   ]
  },
  {
   "cell_type": "code",
   "execution_count": null,
   "metadata": {},
   "outputs": [],
   "source": [
    "# First extract WHIM"
   ]
  },
  {
   "cell_type": "code",
   "execution_count": 25,
   "metadata": {},
   "outputs": [
    {
     "data": {
      "text/html": [
       "<div>\n",
       "<style scoped>\n",
       "    .dataframe tbody tr th:only-of-type {\n",
       "        vertical-align: middle;\n",
       "    }\n",
       "\n",
       "    .dataframe tbody tr th {\n",
       "        vertical-align: top;\n",
       "    }\n",
       "\n",
       "    .dataframe thead th {\n",
       "        text-align: right;\n",
       "    }\n",
       "</style>\n",
       "<table border=\"1\" class=\"dataframe\">\n",
       "  <thead>\n",
       "    <tr style=\"text-align: right;\">\n",
       "      <th></th>\n",
       "      <th>L1u</th>\n",
       "      <th>L2u</th>\n",
       "      <th>L3u</th>\n",
       "      <th>P1u</th>\n",
       "      <th>P2u</th>\n",
       "      <th>G1u</th>\n",
       "      <th>G2u</th>\n",
       "      <th>G3u</th>\n",
       "      <th>E1u</th>\n",
       "      <th>E2u</th>\n",
       "      <th>...</th>\n",
       "      <th>Dp</th>\n",
       "      <th>Di</th>\n",
       "      <th>Ds</th>\n",
       "      <th>Vu</th>\n",
       "      <th>Vm</th>\n",
       "      <th>Vv</th>\n",
       "      <th>Ve</th>\n",
       "      <th>Vp</th>\n",
       "      <th>Vi</th>\n",
       "      <th>Vs</th>\n",
       "    </tr>\n",
       "  </thead>\n",
       "  <tbody>\n",
       "    <tr>\n",
       "      <th>CSAR_erk2_18</th>\n",
       "      <td>23.080</td>\n",
       "      <td>1.846</td>\n",
       "      <td>1.444</td>\n",
       "      <td>0.875</td>\n",
       "      <td>0.070</td>\n",
       "      <td>0.171</td>\n",
       "      <td>0.171</td>\n",
       "      <td>0.171</td>\n",
       "      <td>0.584</td>\n",
       "      <td>0.373</td>\n",
       "      <td>...</td>\n",
       "      <td>0.435</td>\n",
       "      <td>0.434</td>\n",
       "      <td>0.305</td>\n",
       "      <td>166.499</td>\n",
       "      <td>167.953</td>\n",
       "      <td>167.412</td>\n",
       "      <td>168.045</td>\n",
       "      <td>164.932</td>\n",
       "      <td>162.648</td>\n",
       "      <td>127.958</td>\n",
       "    </tr>\n",
       "    <tr>\n",
       "      <th>erk2_54</th>\n",
       "      <td>23.540</td>\n",
       "      <td>2.145</td>\n",
       "      <td>1.256</td>\n",
       "      <td>0.874</td>\n",
       "      <td>0.080</td>\n",
       "      <td>0.168</td>\n",
       "      <td>0.168</td>\n",
       "      <td>0.168</td>\n",
       "      <td>0.577</td>\n",
       "      <td>0.401</td>\n",
       "      <td>...</td>\n",
       "      <td>0.353</td>\n",
       "      <td>0.427</td>\n",
       "      <td>0.416</td>\n",
       "      <td>173.111</td>\n",
       "      <td>221.057</td>\n",
       "      <td>162.315</td>\n",
       "      <td>191.668</td>\n",
       "      <td>152.837</td>\n",
       "      <td>187.818</td>\n",
       "      <td>177.247</td>\n",
       "    </tr>\n",
       "    <tr>\n",
       "      <th>CSAR_erk2_20</th>\n",
       "      <td>18.375</td>\n",
       "      <td>4.232</td>\n",
       "      <td>1.178</td>\n",
       "      <td>0.773</td>\n",
       "      <td>0.178</td>\n",
       "      <td>0.168</td>\n",
       "      <td>0.168</td>\n",
       "      <td>0.170</td>\n",
       "      <td>0.560</td>\n",
       "      <td>0.450</td>\n",
       "      <td>...</td>\n",
       "      <td>0.399</td>\n",
       "      <td>0.428</td>\n",
       "      <td>0.360</td>\n",
       "      <td>219.781</td>\n",
       "      <td>249.099</td>\n",
       "      <td>214.805</td>\n",
       "      <td>231.843</td>\n",
       "      <td>206.766</td>\n",
       "      <td>221.765</td>\n",
       "      <td>186.677</td>\n",
       "    </tr>\n",
       "    <tr>\n",
       "      <th>CSAR_erk2_17</th>\n",
       "      <td>20.911</td>\n",
       "      <td>4.467</td>\n",
       "      <td>1.201</td>\n",
       "      <td>0.787</td>\n",
       "      <td>0.168</td>\n",
       "      <td>0.168</td>\n",
       "      <td>0.168</td>\n",
       "      <td>0.168</td>\n",
       "      <td>0.576</td>\n",
       "      <td>0.450</td>\n",
       "      <td>...</td>\n",
       "      <td>0.401</td>\n",
       "      <td>0.426</td>\n",
       "      <td>0.475</td>\n",
       "      <td>262.711</td>\n",
       "      <td>311.979</td>\n",
       "      <td>256.090</td>\n",
       "      <td>281.234</td>\n",
       "      <td>247.611</td>\n",
       "      <td>263.777</td>\n",
       "      <td>291.716</td>\n",
       "    </tr>\n",
       "    <tr>\n",
       "      <th>erk2_52</th>\n",
       "      <td>24.683</td>\n",
       "      <td>2.894</td>\n",
       "      <td>1.686</td>\n",
       "      <td>0.843</td>\n",
       "      <td>0.099</td>\n",
       "      <td>0.165</td>\n",
       "      <td>0.165</td>\n",
       "      <td>0.165</td>\n",
       "      <td>0.597</td>\n",
       "      <td>0.311</td>\n",
       "      <td>...</td>\n",
       "      <td>0.414</td>\n",
       "      <td>0.395</td>\n",
       "      <td>0.381</td>\n",
       "      <td>267.638</td>\n",
       "      <td>267.398</td>\n",
       "      <td>272.372</td>\n",
       "      <td>267.606</td>\n",
       "      <td>271.237</td>\n",
       "      <td>258.657</td>\n",
       "      <td>255.032</td>\n",
       "    </tr>\n",
       "  </tbody>\n",
       "</table>\n",
       "<p>5 rows × 114 columns</p>\n",
       "</div>"
      ],
      "text/plain": [
       "                 L1u    L2u    L3u    P1u    P2u    G1u    G2u    G3u    E1u  \\\n",
       "CSAR_erk2_18  23.080  1.846  1.444  0.875  0.070  0.171  0.171  0.171  0.584   \n",
       "erk2_54       23.540  2.145  1.256  0.874  0.080  0.168  0.168  0.168  0.577   \n",
       "CSAR_erk2_20  18.375  4.232  1.178  0.773  0.178  0.168  0.168  0.170  0.560   \n",
       "CSAR_erk2_17  20.911  4.467  1.201  0.787  0.168  0.168  0.168  0.168  0.576   \n",
       "erk2_52       24.683  2.894  1.686  0.843  0.099  0.165  0.165  0.165  0.597   \n",
       "\n",
       "                E2u  ...     Dp     Di     Ds       Vu       Vm       Vv  \\\n",
       "CSAR_erk2_18  0.373  ...  0.435  0.434  0.305  166.499  167.953  167.412   \n",
       "erk2_54       0.401  ...  0.353  0.427  0.416  173.111  221.057  162.315   \n",
       "CSAR_erk2_20  0.450  ...  0.399  0.428  0.360  219.781  249.099  214.805   \n",
       "CSAR_erk2_17  0.450  ...  0.401  0.426  0.475  262.711  311.979  256.090   \n",
       "erk2_52       0.311  ...  0.414  0.395  0.381  267.638  267.398  272.372   \n",
       "\n",
       "                   Ve       Vp       Vi       Vs  \n",
       "CSAR_erk2_18  168.045  164.932  162.648  127.958  \n",
       "erk2_54       191.668  152.837  187.818  177.247  \n",
       "CSAR_erk2_20  231.843  206.766  221.765  186.677  \n",
       "CSAR_erk2_17  281.234  247.611  263.777  291.716  \n",
       "erk2_52       267.606  271.237  258.657  255.032  \n",
       "\n",
       "[5 rows x 114 columns]"
      ]
     },
     "execution_count": 25,
     "metadata": {},
     "output_type": "execute_result"
    }
   ],
   "source": [
    "d = df_erk2_mols['whim_3i60_dk_pose'].map(lambda x: list(map(np.float, x)))\n",
    "df_whim_all = pd.DataFrame.from_dict(dict(zip(d.index, d.values))).T\n",
    "df_whim_all.columns = rdkit_whim_names\n",
    "df_whim_all.head()"
   ]
  },
  {
   "cell_type": "code",
   "execution_count": null,
   "metadata": {},
   "outputs": [],
   "source": [
    "# Then, extract USR"
   ]
  },
  {
   "cell_type": "code",
   "execution_count": 23,
   "metadata": {},
   "outputs": [
    {
     "data": {
      "text/html": [
       "<div>\n",
       "<style scoped>\n",
       "    .dataframe tbody tr th:only-of-type {\n",
       "        vertical-align: middle;\n",
       "    }\n",
       "\n",
       "    .dataframe tbody tr th {\n",
       "        vertical-align: top;\n",
       "    }\n",
       "\n",
       "    .dataframe thead th {\n",
       "        text-align: right;\n",
       "    }\n",
       "</style>\n",
       "<table border=\"1\" class=\"dataframe\">\n",
       "  <thead>\n",
       "    <tr style=\"text-align: right;\">\n",
       "      <th></th>\n",
       "      <th>Ctd-Mean</th>\n",
       "      <th>Ctd-Sigma</th>\n",
       "      <th>Ctd-Skewness</th>\n",
       "      <th>Cst-Mean</th>\n",
       "      <th>Cst-Sigma</th>\n",
       "      <th>Cst-Skewness</th>\n",
       "      <th>Fct-Mean</th>\n",
       "      <th>Fct-Sigma</th>\n",
       "      <th>Fct-Skewness</th>\n",
       "      <th>Ftf-Mean</th>\n",
       "      <th>Ftf-Sigma</th>\n",
       "      <th>Ftf-Skewness</th>\n",
       "    </tr>\n",
       "  </thead>\n",
       "  <tbody>\n",
       "    <tr>\n",
       "      <th>CSAR_erk2_18</th>\n",
       "      <td>4.684591</td>\n",
       "      <td>2.103468</td>\n",
       "      <td>-0.428104</td>\n",
       "      <td>4.708730</td>\n",
       "      <td>2.277275</td>\n",
       "      <td>-0.563049</td>\n",
       "      <td>8.893849</td>\n",
       "      <td>4.706634</td>\n",
       "      <td>-0.467899</td>\n",
       "      <td>8.604924</td>\n",
       "      <td>4.506718</td>\n",
       "      <td>-0.416431</td>\n",
       "    </tr>\n",
       "    <tr>\n",
       "      <th>erk2_54</th>\n",
       "      <td>4.728452</td>\n",
       "      <td>2.140652</td>\n",
       "      <td>-0.514716</td>\n",
       "      <td>4.750274</td>\n",
       "      <td>2.178588</td>\n",
       "      <td>-0.655408</td>\n",
       "      <td>9.181661</td>\n",
       "      <td>4.764043</td>\n",
       "      <td>-0.383713</td>\n",
       "      <td>8.410299</td>\n",
       "      <td>4.456988</td>\n",
       "      <td>-0.304848</td>\n",
       "    </tr>\n",
       "    <tr>\n",
       "      <th>CSAR_erk2_20</th>\n",
       "      <td>4.589756</td>\n",
       "      <td>1.648911</td>\n",
       "      <td>0.680528</td>\n",
       "      <td>4.607076</td>\n",
       "      <td>2.102226</td>\n",
       "      <td>0.246126</td>\n",
       "      <td>8.896938</td>\n",
       "      <td>4.276254</td>\n",
       "      <td>-0.691483</td>\n",
       "      <td>8.121057</td>\n",
       "      <td>3.751523</td>\n",
       "      <td>-0.634732</td>\n",
       "    </tr>\n",
       "    <tr>\n",
       "      <th>CSAR_erk2_17</th>\n",
       "      <td>4.828073</td>\n",
       "      <td>1.808073</td>\n",
       "      <td>0.605705</td>\n",
       "      <td>4.817795</td>\n",
       "      <td>2.277550</td>\n",
       "      <td>-0.319468</td>\n",
       "      <td>9.131340</td>\n",
       "      <td>4.552497</td>\n",
       "      <td>-0.617527</td>\n",
       "      <td>8.114420</td>\n",
       "      <td>4.178000</td>\n",
       "      <td>-0.511704</td>\n",
       "    </tr>\n",
       "    <tr>\n",
       "      <th>erk2_52</th>\n",
       "      <td>4.958588</td>\n",
       "      <td>2.162263</td>\n",
       "      <td>-0.668553</td>\n",
       "      <td>4.995313</td>\n",
       "      <td>2.140282</td>\n",
       "      <td>-0.654129</td>\n",
       "      <td>8.984859</td>\n",
       "      <td>4.704024</td>\n",
       "      <td>0.284603</td>\n",
       "      <td>8.913863</td>\n",
       "      <td>4.778408</td>\n",
       "      <td>-0.598844</td>\n",
       "    </tr>\n",
       "  </tbody>\n",
       "</table>\n",
       "</div>"
      ],
      "text/plain": [
       "              Ctd-Mean  Ctd-Sigma  Ctd-Skewness  Cst-Mean  Cst-Sigma  \\\n",
       "CSAR_erk2_18  4.684591   2.103468     -0.428104  4.708730   2.277275   \n",
       "erk2_54       4.728452   2.140652     -0.514716  4.750274   2.178588   \n",
       "CSAR_erk2_20  4.589756   1.648911      0.680528  4.607076   2.102226   \n",
       "CSAR_erk2_17  4.828073   1.808073      0.605705  4.817795   2.277550   \n",
       "erk2_52       4.958588   2.162263     -0.668553  4.995313   2.140282   \n",
       "\n",
       "              Cst-Skewness  Fct-Mean  Fct-Sigma  Fct-Skewness  Ftf-Mean  \\\n",
       "CSAR_erk2_18     -0.563049  8.893849   4.706634     -0.467899  8.604924   \n",
       "erk2_54          -0.655408  9.181661   4.764043     -0.383713  8.410299   \n",
       "CSAR_erk2_20      0.246126  8.896938   4.276254     -0.691483  8.121057   \n",
       "CSAR_erk2_17     -0.319468  9.131340   4.552497     -0.617527  8.114420   \n",
       "erk2_52          -0.654129  8.984859   4.704024      0.284603  8.913863   \n",
       "\n",
       "              Ftf-Sigma  Ftf-Skewness  \n",
       "CSAR_erk2_18   4.506718     -0.416431  \n",
       "erk2_54        4.456988     -0.304848  \n",
       "CSAR_erk2_20   3.751523     -0.634732  \n",
       "CSAR_erk2_17   4.178000     -0.511704  \n",
       "erk2_52        4.778408     -0.598844  "
      ]
     },
     "execution_count": 23,
     "metadata": {},
     "output_type": "execute_result"
    }
   ],
   "source": [
    "d = df_erk2_mols['dMoments_3i60_dk_pose'].map(lambda x: list(map(np.float, x)))\n",
    "df_usr_all = pd.DataFrame.from_dict(dict(zip(d.index, d.values))).T\n",
    "df_usr_all.columns = rdkit_USR_names\n",
    "df_usr_all.head()"
   ]
  },
  {
   "cell_type": "code",
   "execution_count": 29,
   "metadata": {},
   "outputs": [],
   "source": [
    "# Concat the columns of both datafames\n",
    "df_3d_all = pd.concat([df_whim_all, df_usr_all], axis=1)"
   ]
  },
  {
   "cell_type": "code",
   "execution_count": null,
   "metadata": {},
   "outputs": [],
   "source": []
  },
  {
   "cell_type": "code",
   "execution_count": 15,
   "metadata": {},
   "outputs": [
    {
     "name": "stdout",
     "output_type": "stream",
     "text": [
      "<class 'pandas.core.frame.DataFrame'>\n",
      "Index: 87 entries, CSAR_erk2_18 to erk2_01\n",
      "Columns: 114 entries, L1u to Vs\n",
      "dtypes: float64(114)\n",
      "memory usage: 78.2+ KB\n"
     ]
    }
   ],
   "source": [
    "df_whim_all.info()"
   ]
  },
  {
   "cell_type": "code",
   "execution_count": 16,
   "metadata": {},
   "outputs": [],
   "source": [
    "### PCA"
   ]
  },
  {
   "cell_type": "code",
   "execution_count": 18,
   "metadata": {},
   "outputs": [],
   "source": [
    "from sklearn.pipeline import Pipeline\n",
    "from sklearn.preprocessing import StandardScaler\n",
    "from sklearn.decomposition import PCA"
   ]
  },
  {
   "cell_type": "code",
   "execution_count": 19,
   "metadata": {},
   "outputs": [
    {
     "data": {
      "image/png": "[encoded data removed]",
      "text/plain": [
       "<Figure size 432x432 with 1 Axes>"
      ]
     },
     "metadata": {},
     "output_type": "display_data"
    }
   ],
   "source": [
    "# Pipeline\n",
    "scaler = StandardScaler()\n",
    "pca = PCA(n_components=2)\n",
    "pca_pipe = Pipeline(steps = [('scaler', scaler), ('pca', pca)])\n",
    "\n",
    "X_3dwhim = df_3dwhim_all\n",
    "pca_pipe.fit(X_3dwhim)\n",
    "# Components\n",
    "components = pca_pipe.transform(X_3dwhim).T\n",
    "# Variance ratio\n",
    "var_ = (pca_pipe['pca'].explained_variance_ratio_ * 100).round(2)\n",
    "\n",
    "df_pca = df_erk2_mols[['activity', 'pKi']].copy()\n",
    "df_pca['activity'] = ['active' if i else 'inactive' for i in df_pca.activity]\n",
    "df_pca['pc1'] = components[0]\n",
    "df_pca['pc2'] = components[1]\n",
    "\n",
    "# Plot the PCS\n",
    "fig, ax = plt.subplots(figsize=(6, 6))\n",
    "ax.axvline(linestyle='--', color='k')\n",
    "ax.axhline(linestyle='--', color='k')\n",
    "sns.scatterplot(x='pc1', y='pc2', hue='activity', size='pKi', data=df_pca, \n",
    "                ax=ax, palette=['#df4834', '#fda200'], edgecolor='k', alpha=0.8)\n",
    "ax.set(title='PCA: 160 RDKit 2D descriptors',\n",
    "      xlabel=f'PC 1 ({var_[0]}%)', ylabel=f'PC2 ({var_[1]}%)')\n",
    "plt.legend(bbox_to_anchor=(1.05, 1), loc=2, borderaxespad=0.)\n",
    "plt.grid(linestyle='--')\n",
    "plt.show()"
   ]
  },
  {
   "cell_type": "code",
   "execution_count": null,
   "metadata": {},
   "outputs": [],
   "source": []
  }
 ],
 "metadata": {
  "kernelspec": {
   "display_name": "Python 3.7.6 64-bit ('mds': conda)",
   "language": "python",
   "name": "python37664bitmdsconda8fcfe9b6c3484566880235af88776fef"
  },
  "language_info": {
   "codemirror_mode": {
    "name": "ipython",
    "version": 3
   },
   "file_extension": ".py",
   "mimetype": "text/x-python",
   "name": "python",
   "nbconvert_exporter": "python",
   "pygments_lexer": "ipython3",
   "version": "3.7.6"
  }
 },
 "nbformat": 4,
 "nbformat_minor": 4
}
