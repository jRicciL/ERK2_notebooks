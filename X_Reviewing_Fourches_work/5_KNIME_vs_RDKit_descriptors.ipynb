{
 "cells": [
  {
   "cell_type": "markdown",
   "metadata": {},
   "source": [
    "# Identifying  KNIME RDKit descriptors"
   ]
  },
  {
   "cell_type": "code",
   "execution_count": 2,
   "metadata": {},
   "outputs": [],
   "source": [
    "# In order to match descriptors directly computed from RDKit and from KNIME we are going to compare results from both procedures using two molecules"
   ]
  },
  {
   "cell_type": "code",
   "execution_count": 3,
   "metadata": {},
   "outputs": [],
   "source": [
    "import pandas as pd\n",
    "import numpy as np"
   ]
  },
  {
   "cell_type": "code",
   "execution_count": 4,
   "metadata": {},
   "outputs": [
    {
     "name": "stderr",
     "output_type": "stream",
     "text": [
      "RDKit WARNING: [15:35:08] Enabling RDKit 2019.09.1 jupyter extensions\n"
     ]
    }
   ],
   "source": [
    "from rdkit import Chem\n",
    "from rdkit.Chem import rdMolDescriptors"
   ]
  },
  {
   "cell_type": "code",
   "execution_count": 5,
   "metadata": {},
   "outputs": [],
   "source": [
    "# Read the molecules to use rdkit\n",
    "SDF_MIN_DIR = '../../ARCHIVOS/CRISTALES/LIGS_ERK2/FOURCHES_LIGS/3d_minimized/sdf/'\n",
    "\n",
    "# Read the molecules using rdkit\n",
    "csar_1 = Chem.SDMolSupplier(SDF_MIN_DIR + 'CSAR_erk2_1.sdf')[0]\n",
    "csar_10 = Chem.SDMolSupplier(SDF_MIN_DIR + 'CSAR_erk2_10.sdf')[0]\n",
    "model_53 = Chem.SDMolSupplier(SDF_MIN_DIR + 'erk2_53.sdf')[0]"
   ]
  },
  {
   "cell_type": "markdown",
   "metadata": {},
   "source": [
    "<div style='background-color: #F9E5AB; padding: 1px 2px 5px 10px; font-size: 1em;'>\n",
    "    <h1 class='text-danger'>1) RDKit 2D Descriptors</h1>\n",
    "</div>\n",
    "\n",
    "**1. KNIME RDKit Descriptor Calculation node return 119 properties instead the 117 that Ash & Fourches indicate.**\n",
    "\n",
    "The source code of the KNIME Node is [here](https://github.com/rdkit/knime-rdkit/blob/2616f9fa3c56107825ae26f3435a7733b1658251/org.rdkit.knime.nodes/src/org/rdkit/knime/nodes/descriptorcalculation/Descriptor.java)."
   ]
  },
  {
   "cell_type": "code",
   "execution_count": 6,
   "metadata": {},
   "outputs": [
    {
     "name": "stdout",
     "output_type": "stream",
     "text": [
      "(86, 118)\n"
     ]
    },
    {
     "data": {
      "text/plain": [
       "array(['SMR', 'LabuteASA', 'TPSA', 'AMW', 'ExactMW', 'NumLipinskiHBA',\n",
       "       'NumLipinskiHBD', 'NumRotatableBonds', 'NumHBD', 'NumHBA',\n",
       "       'NumAmideBonds', 'NumHeteroAtoms', 'NumHeavyAtoms', 'NumAtoms',\n",
       "       'NumStereocenters', 'NumUnspecifiedStereocenters', 'NumRings',\n",
       "       'NumAromaticRings', 'NumSaturatedRings', 'NumAliphaticRings',\n",
       "       'NumAromaticHeterocycles', 'NumSaturatedHeterocycles',\n",
       "       'NumAliphaticHeterocycles', 'NumAromaticCarbocycles',\n",
       "       'NumSaturatedCarbocycles', 'NumAliphaticCarbocycles',\n",
       "       'FractionCSP3', 'Chi0v', 'Chi1v', 'Chi2v', 'Chi3v', 'Chi4v',\n",
       "       'Chi1n', 'Chi2n', 'Chi3n', 'Chi4n', 'HallKierAlpha', 'kappa1',\n",
       "       'kappa2', 'kappa3', 'slogp_VSA1', 'slogp_VSA2', 'slogp_VSA3',\n",
       "       'slogp_VSA4', 'slogp_VSA5', 'slogp_VSA6', 'slogp_VSA7',\n",
       "       'slogp_VSA8', 'slogp_VSA9', 'slogp_VSA10', 'slogp_VSA11',\n",
       "       'slogp_VSA12', 'smr_VSA1', 'smr_VSA2', 'smr_VSA3', 'smr_VSA4',\n",
       "       'smr_VSA5', 'smr_VSA6', 'smr_VSA7', 'smr_VSA8', 'smr_VSA9',\n",
       "       'smr_VSA10', 'peoe_VSA1', 'peoe_VSA2', 'peoe_VSA3', 'peoe_VSA4',\n",
       "       'peoe_VSA5', 'peoe_VSA6', 'peoe_VSA7', 'peoe_VSA8', 'peoe_VSA9',\n",
       "       'peoe_VSA10', 'peoe_VSA11', 'peoe_VSA12', 'peoe_VSA13',\n",
       "       'peoe_VSA14', 'MQN1', 'MQN2', 'MQN3', 'MQN4', 'MQN5', 'MQN6',\n",
       "       'MQN7', 'MQN8', 'MQN9', 'MQN10', 'MQN11', 'MQN12', 'MQN13',\n",
       "       'MQN14', 'MQN15', 'MQN16', 'MQN17', 'MQN18', 'MQN19', 'MQN20',\n",
       "       'MQN21', 'MQN22', 'MQN23', 'MQN24', 'MQN25', 'MQN26', 'MQN27',\n",
       "       'MQN28', 'MQN29', 'MQN30', 'MQN31', 'MQN32', 'MQN33', 'MQN34',\n",
       "       'MQN35', 'MQN36', 'MQN37', 'MQN38', 'MQN39', 'MQN40', 'MQN41',\n",
       "       'MQN42'], dtype=object)"
      ]
     },
     "execution_count": 6,
     "metadata": {},
     "output_type": "execute_result"
    }
   ],
   "source": [
    "rdk2d_knime = pd.read_csv('knime/2d_rdki_knime.csv')\n",
    "rdk2d_knime['Filename'] = rdk2d_knime['Filename'].apply(lambda x: x.lower().split('.')[0])\n",
    "rdk2d_knime = rdk2d_knime.set_index('Filename')\n",
    "rdk2d_knime = rdk2d_knime.iloc[:, 6:]\n",
    "\n",
    "print(rdk2d_knime.shape)\n",
    "rdk2d_knime.columns.values"
   ]
  },
  {
   "cell_type": "markdown",
   "metadata": {},
   "source": [
    "2. RDKit has a list of the main descriptors included in the 'Descriptors' Module; but not all are the same as those reported by KNIME."
   ]
  },
  {
   "cell_type": "code",
   "execution_count": 17,
   "metadata": {},
   "outputs": [
    {
     "data": {
      "text/plain": [
       "42"
      ]
     },
     "execution_count": 17,
     "metadata": {},
     "output_type": "execute_result"
    }
   ],
   "source": [
    "len(rdMolDescriptors.MQNs_(csar_1))"
   ]
  },
  {
   "cell_type": "code",
   "execution_count": 61,
   "metadata": {},
   "outputs": [
    {
     "data": {
      "text/plain": [
       "array(['MaxEStateIndex', 'MinEStateIndex', 'MaxAbsEStateIndex',\n",
       "       'MinAbsEStateIndex', 'qed', 'MolWt', 'HeavyAtomMolWt',\n",
       "       'ExactMolWt', 'NumValenceElectrons', 'NumRadicalElectrons',\n",
       "       'MaxPartialCharge', 'MinPartialCharge', 'MaxAbsPartialCharge',\n",
       "       'MinAbsPartialCharge', 'FpDensityMorgan1', 'FpDensityMorgan2',\n",
       "       'FpDensityMorgan3', 'BalabanJ', 'BertzCT', 'Chi0', 'Chi0n',\n",
       "       'Chi0v', 'Chi1', 'Chi1n', 'Chi1v', 'Chi2n', 'Chi2v', 'Chi3n',\n",
       "       'Chi3v', 'Chi4n', 'Chi4v', 'HallKierAlpha', 'Ipc', 'Kappa1',\n",
       "       'Kappa2', 'Kappa3', 'LabuteASA', 'PEOE_VSA1', 'PEOE_VSA10',\n",
       "       'PEOE_VSA11', 'PEOE_VSA12', 'PEOE_VSA13', 'PEOE_VSA14',\n",
       "       'PEOE_VSA2', 'PEOE_VSA3', 'PEOE_VSA4', 'PEOE_VSA5', 'PEOE_VSA6',\n",
       "       'PEOE_VSA7', 'PEOE_VSA8', 'PEOE_VSA9', 'SMR_VSA1', 'SMR_VSA10',\n",
       "       'SMR_VSA2', 'SMR_VSA3', 'SMR_VSA4', 'SMR_VSA5', 'SMR_VSA6',\n",
       "       'SMR_VSA7', 'SMR_VSA8', 'SMR_VSA9', 'SlogP_VSA1', 'SlogP_VSA10',\n",
       "       'SlogP_VSA11', 'SlogP_VSA12', 'SlogP_VSA2', 'SlogP_VSA3',\n",
       "       'SlogP_VSA4', 'SlogP_VSA5', 'SlogP_VSA6', 'SlogP_VSA7',\n",
       "       'SlogP_VSA8', 'SlogP_VSA9', 'TPSA', 'EState_VSA1', 'EState_VSA10',\n",
       "       'EState_VSA11', 'EState_VSA2', 'EState_VSA3', 'EState_VSA4',\n",
       "       'EState_VSA5', 'EState_VSA6', 'EState_VSA7', 'EState_VSA8',\n",
       "       'EState_VSA9', 'VSA_EState1', 'VSA_EState10', 'VSA_EState2',\n",
       "       'VSA_EState3', 'VSA_EState4', 'VSA_EState5', 'VSA_EState6',\n",
       "       'VSA_EState7', 'VSA_EState8', 'VSA_EState9', 'FractionCSP3',\n",
       "       'HeavyAtomCount', 'NHOHCount', 'NOCount',\n",
       "       'NumAliphaticCarbocycles', 'NumAliphaticHeterocycles',\n",
       "       'NumAliphaticRings', 'NumAromaticCarbocycles',\n",
       "       'NumAromaticHeterocycles', 'NumAromaticRings', 'NumHAcceptors',\n",
       "       'NumHDonors', 'NumHeteroatoms', 'NumRotatableBonds',\n",
       "       'NumSaturatedCarbocycles', 'NumSaturatedHeterocycles',\n",
       "       'NumSaturatedRings', 'RingCount', 'MolLogP', 'MolMR'], dtype='<U24')"
      ]
     },
     "execution_count": 61,
     "metadata": {},
     "output_type": "execute_result"
    }
   ],
   "source": [
    "from rdkit.Chem import Descriptors\n",
    "names_of_all_rdkit_descriptors = [x[0] for x in Descriptors._descList if x[0][:3] != 'fr_']\n",
    "# Number of descriptor available:\n",
    "np.array(names_of_all_rdkit_descriptors)"
   ]
  },
  {
   "cell_type": "markdown",
   "metadata": {},
   "source": [
    "3. Which descriptors do RDKit and KNIME have in common?"
   ]
  },
  {
   "cell_type": "code",
   "execution_count": 8,
   "metadata": {},
   "outputs": [
    {
     "name": "stdout",
     "output_type": "stream",
     "text": [
      "KNIME and RDKIT have AT LEAST 63 descriptors in common.\n"
     ]
    },
    {
     "data": {
      "text/plain": [
       "array(['peoe_vsa5', 'slogp_vsa6', 'chi0v', 'slogp_vsa11', 'slogp_vsa9',\n",
       "       'kappa3', 'smr_vsa10', 'slogp_vsa7', 'slogp_vsa4', 'chi1v',\n",
       "       'fractioncsp3', 'peoe_vsa6', 'peoe_vsa14', 'hallkieralpha',\n",
       "       'numaromaticheterocycles', 'numsaturatedheterocycles', 'smr_vsa9',\n",
       "       'peoe_vsa3', 'labuteasa', 'smr_vsa3', 'kappa1', 'slogp_vsa5',\n",
       "       'chi3v', 'kappa2', 'peoe_vsa12', 'slogp_vsa1', 'chi1n',\n",
       "       'peoe_vsa10', 'chi2v', 'smr_vsa2', 'chi4v', 'peoe_vsa8',\n",
       "       'numaliphaticcarbocycles', 'chi4n', 'smr_vsa5', 'chi2n',\n",
       "       'smr_vsa4', 'peoe_vsa2', 'peoe_vsa7', 'slogp_vsa12',\n",
       "       'numrotatablebonds', 'numheteroatoms', 'numaliphaticrings',\n",
       "       'slogp_vsa2', 'smr_vsa6', 'peoe_vsa11', 'slogp_vsa8',\n",
       "       'numsaturatedcarbocycles', 'peoe_vsa1', 'slogp_vsa3',\n",
       "       'numsaturatedrings', 'tpsa', 'numaromaticcarbocycles',\n",
       "       'slogp_vsa10', 'smr_vsa7', 'peoe_vsa4', 'smr_vsa8', 'peoe_vsa13',\n",
       "       'numaliphaticheterocycles', 'smr_vsa1', 'numaromaticrings',\n",
       "       'chi3n', 'peoe_vsa9'], dtype='<U24')"
      ]
     },
     "execution_count": 8,
     "metadata": {},
     "output_type": "execute_result"
    }
   ],
   "source": [
    "knime_ = [i.lower() for i in rdk2d_knime.columns.values]\n",
    "rdkit_= [i.lower() for i in names_of_all_rdkit_descriptors]\n",
    "descriptors_in_common = np.array(list(set(rdkit_) & set(knime_)))\n",
    "print('KNIME and RDKIT have AT LEAST', len(descriptors_in_common), 'descriptors in common.')\n",
    "descriptors_in_common"
   ]
  },
  {
   "cell_type": "markdown",
   "metadata": {},
   "source": [
    "But, for the same descriptors, are the values from KNIME and rdkit the same?"
   ]
  },
  {
   "cell_type": "code",
   "execution_count": 9,
   "metadata": {},
   "outputs": [],
   "source": [
    "# Let's compare the csar_1 ligand\n",
    "rdk2d_KNIME_csar_1  = rdk2d_knime.loc['csar_erk2_1']"
   ]
  },
  {
   "cell_type": "code",
   "execution_count": 10,
   "metadata": {},
   "outputs": [],
   "source": [
    "# Compute 2d descriptors using rdkit\n",
    "from rdkit.ML.Descriptors import MoleculeDescriptors\n",
    "# rdkit descriptor calculator\n",
    "rdk_calculator = MoleculeDescriptors.MolecularDescriptorCalculator(names_of_all_rdkit_descriptors)\n",
    "\n",
    "# Compute the descriptors for the csar_1 molecule\n",
    "rdk2d_RDKIT_csar_1 = pd.Series(dict(zip(names_of_all_rdkit_descriptors, rdk_calculator.CalcDescriptors(mol = csar_1))))"
   ]
  },
  {
   "cell_type": "markdown",
   "metadata": {},
   "source": [
    "### Some examples:\n",
    "\n",
    "#### Molecular weight"
   ]
  },
  {
   "cell_type": "code",
   "execution_count": 11,
   "metadata": {},
   "outputs": [
    {
     "data": {
      "text/plain": [
       "310.142975816"
      ]
     },
     "execution_count": 11,
     "metadata": {},
     "output_type": "execute_result"
    }
   ],
   "source": [
    "rdk2d_KNIME_csar_1.ExactMW"
   ]
  },
  {
   "cell_type": "code",
   "execution_count": 12,
   "metadata": {},
   "outputs": [
    {
     "data": {
      "text/plain": [
       "310.142975816"
      ]
     },
     "execution_count": 12,
     "metadata": {},
     "output_type": "execute_result"
    }
   ],
   "source": [
    "rdk2d_RDKIT_csar_1.ExactMolWt"
   ]
  },
  {
   "cell_type": "markdown",
   "metadata": {},
   "source": [
    "#### slogp_VSA4"
   ]
  },
  {
   "cell_type": "code",
   "execution_count": 13,
   "metadata": {},
   "outputs": [
    {
     "data": {
      "text/plain": [
       "6.923737199690624"
      ]
     },
     "execution_count": 13,
     "metadata": {},
     "output_type": "execute_result"
    }
   ],
   "source": [
    "rdk2d_KNIME_csar_1.slogp_VSA4"
   ]
  },
  {
   "cell_type": "code",
   "execution_count": 14,
   "metadata": {},
   "outputs": [
    {
     "data": {
      "text/plain": [
       "6.923737199690624"
      ]
     },
     "execution_count": 14,
     "metadata": {},
     "output_type": "execute_result"
    }
   ],
   "source": [
    "rdk2d_RDKIT_csar_1.SlogP_VSA4"
   ]
  },
  {
   "cell_type": "markdown",
   "metadata": {},
   "source": [
    "### List the RDKit Descriptors used in KNIME to be used latter"
   ]
  },
  {
   "cell_type": "code",
   "execution_count": 24,
   "metadata": {},
   "outputs": [
    {
     "data": {
      "text/plain": [
       "array(['smr', 'amw', 'exactmw', 'numlipinskihba', 'numlipinskihbd',\n",
       "       'numhbd', 'numhba', 'numamidebonds', 'numheavyatoms', 'numatoms',\n",
       "       'numstereocenters', 'numunspecifiedstereocenters', 'numrings',\n",
       "       'mqn1', 'mqn2', 'mqn3', 'mqn4', 'mqn5', 'mqn6', 'mqn7', 'mqn8',\n",
       "       'mqn9', 'mqn10', 'mqn11', 'mqn12', 'mqn13', 'mqn14', 'mqn15',\n",
       "       'mqn16', 'mqn17', 'mqn18', 'mqn19', 'mqn20', 'mqn21', 'mqn22',\n",
       "       'mqn23', 'mqn24', 'mqn25', 'mqn26', 'mqn27', 'mqn28', 'mqn29',\n",
       "       'mqn30', 'mqn31', 'mqn32', 'mqn33', 'mqn34', 'mqn35', 'mqn36',\n",
       "       'mqn37', 'mqn38', 'mqn39', 'mqn40', 'mqn41', 'mqn42'], dtype='<U27')"
      ]
     },
     "execution_count": 24,
     "metadata": {},
     "output_type": "execute_result"
    }
   ],
   "source": [
    "knime_ = [i.lower() for i in rdk2d_knime.columns.values]\n",
    "rdkit_= [i.lower() for i in names_of_all_rdkit_descriptors]\n",
    "\n",
    "unique_knime = [i for i in knime_ if i not in rdkit_]\n",
    "np.array(unique_knime)"
   ]
  },
  {
   "cell_type": "code",
   "execution_count": 33,
   "metadata": {},
   "outputs": [],
   "source": [
    "import math"
   ]
  },
  {
   "cell_type": "code",
   "execution_count": null,
   "metadata": {},
   "outputs": [],
   "source": [
    "# Thus, we are going to include these descriptors in our RDKit evaluation\n"
   ]
  },
  {
   "cell_type": "code",
   "execution_count": 25,
   "metadata": {},
   "outputs": [
    {
     "data": {
      "text/plain": [
       "True"
      ]
     },
     "execution_count": 25,
     "metadata": {},
     "output_type": "execute_result"
    }
   ],
   "source": [
    "# Exact Molecualr weight\n",
    "rdk2d_KNIME_csar_1.ExactMW == rdk2d_RDKIT_csar_1.ExactMolWt"
   ]
  },
  {
   "cell_type": "code",
   "execution_count": 35,
   "metadata": {},
   "outputs": [
    {
     "data": {
      "text/plain": [
       "True"
      ]
     },
     "execution_count": 35,
     "metadata": {},
     "output_type": "execute_result"
    }
   ],
   "source": [
    "# Molecular weight\n",
    "math.isclose(rdk2d_KNIME_csar_1.AMW, rdk2d_RDKIT_csar_1.MolWt)"
   ]
  },
  {
   "cell_type": "code",
   "execution_count": 37,
   "metadata": {},
   "outputs": [
    {
     "data": {
      "text/plain": [
       "True"
      ]
     },
     "execution_count": 37,
     "metadata": {},
     "output_type": "execute_result"
    }
   ],
   "source": [
    "# Number of HBD\n",
    "rdk2d_KNIME_csar_1.NumLipinskiHBD == rdk2d_RDKIT_csar_1.NumHDonors"
   ]
  },
  {
   "cell_type": "code",
   "execution_count": 38,
   "metadata": {},
   "outputs": [
    {
     "data": {
      "text/plain": [
       "True"
      ]
     },
     "execution_count": 38,
     "metadata": {},
     "output_type": "execute_result"
    }
   ],
   "source": [
    "# Number of Num heavy atoms, num atoms, num hetero atoms\n",
    "print(rdk2d_KNIME_csar_1.NumHeavyAtoms == rdk2d_RDKIT_csar_1.HeavyAtomCount)\n",
    "print(rdk2d_KNIME_csar_1.NumHeteroAtoms == rdk2d_RDKIT_csar_1.NumHeteroatoms)\n"
   ]
  },
  {
   "cell_type": "markdown",
   "metadata": {},
   "source": [
    "#### Missing descriptors not considered by the RDKit initial list\n",
    "- smr\n",
    "- numAtoms\n",
    "- numstereocenters\n",
    "- numunspecifiedstereocenters\n",
    "- mqn\n",
    "\n",
    "#### But they can be calculated using the following descriptors:\n",
    "- CalcNumAtomStereoCenters\n",
    "- CalcNumUnspecifiedAtomStereoCenters\n",
    "- GetNumAtoms\n",
    "- MQNs"
   ]
  },
  {
   "cell_type": "code",
   "execution_count": 58,
   "metadata": {},
   "outputs": [
    {
     "data": {
      "text/plain": [
       "26.813052428219837"
      ]
     },
     "execution_count": 58,
     "metadata": {},
     "output_type": "execute_result"
    }
   ],
   "source": [
    "rdk2d_KNIME_csar_1.smr_VSA5"
   ]
  },
  {
   "cell_type": "code",
   "execution_count": 85,
   "metadata": {},
   "outputs": [
    {
     "data": {
      "text/plain": [
       "MaxEStateIndex        12.028149\n",
       "MinEStateIndex        -0.262391\n",
       "MaxAbsEStateIndex     12.028149\n",
       "MinAbsEStateIndex      0.048479\n",
       "qed                    0.803526\n",
       "                        ...    \n",
       "NumSaturatedRings      0.000000\n",
       "RingCount              3.000000\n",
       "MolLogP                3.479620\n",
       "MolMR                 86.962700\n",
       "MQNs                 777.000000\n",
       "Length: 116, dtype: float64"
      ]
     },
     "execution_count": 85,
     "metadata": {},
     "output_type": "execute_result"
    }
   ],
   "source": [
    "from rdkit.Chem import Descriptors\n",
    "names_of_all_rdkit_descriptors = [x[0] for x in Descriptors._descList if x[0][:3] != 'fr_']\n",
    "# Number of descriptor available:\n",
    "names_of_all_rdkit_descriptors = names_of_all_rdkit_descriptors + ['MQNs']\n",
    "\n",
    "from rdkit.ML.Descriptors import MoleculeDescriptors\n",
    "# rdkit descriptor calculator\n",
    "rdk_calculator = MoleculeDescriptors.MolecularDescriptorCalculator(names_of_all_rdkit_descriptors)\n",
    "\n",
    "# Compute the descriptors for the csar_1 molecule\n",
    "rdk2d_RDKIT_csar_1 = pd.Series(dict(zip(names_of_all_rdkit_descriptors, rdk_calculator.CalcDescriptors(mol = csar_1))))\n",
    "\n",
    "rdk2d_RDKIT_csar_1"
   ]
  },
  {
   "cell_type": "markdown",
   "metadata": {},
   "source": [
    "<div style='background-color: #F9E5AB; padding: 1px 2px 5px 10px; font-size: 1em;'>\n",
    "    <h1 class='text-danger'>2) WHIM Descriptors</h1>\n",
    "</div>\n",
    "\n",
    "\n",
    "[RDKit source code](https://github.com/rdkit/rdkit/blob/master/Code/GraphMol/Descriptors/WHIM.cpp)"
   ]
  },
  {
   "cell_type": "code",
   "execution_count": 14,
   "metadata": {},
   "outputs": [],
   "source": [
    "# List of RDKit descriptors\n",
    "\n",
    "whim_axial = [ \"L1u\", \"L2u\", \"L3u\", \"P1u\", \"P2u\", \"G1u\", \"G2u\", \"G3u\", \"E1u\", \"E2u\", \"E3u\", \n",
    "               \"L1m\", \"L2m\", \"L3m\", \"P1m\", \"P2m\", \"G1m\", \"G2m\", \"G3m\", \"E1m\", \"E2m\", \"E3m\", \n",
    "               \"L1v\", \"L2v\", \"L3v\", \"P1v\", \"P2v\", \"G1v\", \"G2v\", \"G3v\", \"E1v\", \"E2v\", \"E3v\", \n",
    "               \"L1e\", \"L2e\", \"L3e\", \"P1e\", \"P2e\", \"G1e\", \"G2e\", \"G3e\", \"E1e\", \"E2e\", \"E3e\", \n",
    "               \"L1p\", \"L2p\", \"L3p\", \"P1p\", \"P2p\", \"G1p\", \"G2p\", \"G3p\", \"E1p\", \"E2p\", \"E3p\", \n",
    "               \"L1i\", \"L2i\", \"L3i\", \"P1i\", \"P2i\", \"G1i\", \"G2i\", \"G3i\", \"E1i\", \"E2i\", \"E3i\", \n",
    "               \"L1s\", \"L2s\", \"L3s\", \"P1s\", \"P2s\", \"G1s\", \"G2s\", \"G3s\", \"E1s\", \"E2s\", \"E3s\"]\n",
    "whim_global = [\"Tu\", \"Tm\", \"Tv\", \"Te\", \"Tp\", \"Ti\", \"Ts\", \n",
    "               \"Au\", \"Am\", \"Av\", \"Ae\", \"Ap\", \"Ai\", \"As\", \n",
    "               \"Gu\", \"Gm\", \n",
    "               \"Ku\", \"Km\", \"Kv\", \"Ke\", \"Kp\", \"Ki\", \"Ks\", \n",
    "               \"Du\", \"Dm\", \"Dv\", \"De\", \"Dp\", \"Di\", \"Ds\", \n",
    "               \"Vu\", \"Vm\", \"Vv\", \"Ve\", \"Vp\", \"Vi\", \"Vs\"]\n",
    "\n",
    "rdkit_whim_names = whim_axial + whim_global"
   ]
  },
  {
   "cell_type": "code",
   "execution_count": 15,
   "metadata": {},
   "outputs": [
    {
     "data": {
      "text/html": [
       "<div>\n",
       "<style scoped>\n",
       "    .dataframe tbody tr th:only-of-type {\n",
       "        vertical-align: middle;\n",
       "    }\n",
       "\n",
       "    .dataframe tbody tr th {\n",
       "        vertical-align: top;\n",
       "    }\n",
       "\n",
       "    .dataframe thead th {\n",
       "        text-align: right;\n",
       "    }\n",
       "</style>\n",
       "<table border=\"1\" class=\"dataframe\">\n",
       "  <thead>\n",
       "    <tr style=\"text-align: right;\">\n",
       "      <th></th>\n",
       "      <th>csar_1_RDK</th>\n",
       "      <th>csar_10_RDK</th>\n",
       "    </tr>\n",
       "  </thead>\n",
       "  <tbody>\n",
       "    <tr>\n",
       "      <th>L1u</th>\n",
       "      <td>7.625</td>\n",
       "      <td>29.166</td>\n",
       "    </tr>\n",
       "    <tr>\n",
       "      <th>L2u</th>\n",
       "      <td>4.167</td>\n",
       "      <td>1.991</td>\n",
       "    </tr>\n",
       "    <tr>\n",
       "      <th>L3u</th>\n",
       "      <td>0.649</td>\n",
       "      <td>0.695</td>\n",
       "    </tr>\n",
       "    <tr>\n",
       "      <th>P1u</th>\n",
       "      <td>0.613</td>\n",
       "      <td>0.916</td>\n",
       "    </tr>\n",
       "    <tr>\n",
       "      <th>P2u</th>\n",
       "      <td>0.335</td>\n",
       "      <td>0.062</td>\n",
       "    </tr>\n",
       "  </tbody>\n",
       "</table>\n",
       "</div>"
      ],
      "text/plain": [
       "     csar_1_RDK  csar_10_RDK\n",
       "L1u       7.625       29.166\n",
       "L2u       4.167        1.991\n",
       "L3u       0.649        0.695\n",
       "P1u       0.613        0.916\n",
       "P2u       0.335        0.062"
      ]
     },
     "execution_count": 15,
     "metadata": {},
     "output_type": "execute_result"
    }
   ],
   "source": [
    "# Compute the Whim descriptors using rdkit\n",
    "# \n",
    "df_rdk_whim = pd.DataFrame(rdMolDescriptors.CalcWHIM(csar_1), rdkit_whim_names, columns=['csar_1_RDK'])\n",
    "df_rdk_whim['csar_10_RDK'] = rdMolDescriptors.CalcWHIM(csar_10)\n",
    "\n",
    "# Merge both dataframes\n",
    "df_rdk_whim.head(5)"
   ]
  },
  {
   "cell_type": "markdown",
   "metadata": {},
   "source": [
    "### Comparing KNIME Whim Descriptors against RDKit WHIM"
   ]
  },
  {
   "cell_type": "code",
   "execution_count": 16,
   "metadata": {},
   "outputs": [],
   "source": [
    "# Load the results generated using KNIME and the node WHIM 3D\n",
    "whim_knime_all = pd.read_csv('./knime/whim_rdki_knime.csv', index_col=0)\n",
    "# Replace ? string by Nan values\n",
    "whim_knime_all = whim_knime_all.replace('�', np.nan)\n",
    "# whim_knime_all.iloc[:, 6:].dropna(how='all', axis=1)"
   ]
  },
  {
   "cell_type": "markdown",
   "metadata": {},
   "source": [
    "#### WHIM KNIME has the following:\n",
    "- **Weight schemes:**\n",
    "    1. Unit Weights = unweighted (u)\n",
    "    - Atomic Masses = m\n",
    "    - Van der Waals volumes = v\n",
    "    - Atomic electronegativites = e\n",
    "    - Atomic polarizabilities = p\n",
    "\n",
    "It doesn't have *Electropological state indices* and *Topological I-state*\n",
    "\n",
    "**Descriptors:**\n",
    "Note: The order here is inverse to the reported by rdkit, i.e., lambda1 = L3)\n",
    "    \n",
    "> - **Axial:**\n",
    "    1. Lambda: 3, 2, 1 => **L**\n",
    "    2. Nu: 2, 1        => **P**\n",
    "    3. Gamma: 3, 2, 1  => **G**\n",
    "    4. Eta: 3, 2, 1    => **E**\n",
    "    \n",
    "> - **Global:** Are the same as RDKit\n",
    "    - T, A, V, K, G, D"
   ]
  },
  {
   "cell_type": "code",
   "execution_count": 17,
   "metadata": {
    "scrolled": true
   },
   "outputs": [
    {
     "data": {
      "text/plain": [
       "Index(['Unit Weights.Wlambda1', 'Unit Weights.Wlambda2',\n",
       "       'Unit Weights.wlambda3', 'Unit Weights.Wnu1', 'Unit Weights.Wnu2',\n",
       "       'Unit Weights.Wgamma1', 'Unit Weights.Wgamma2', 'Unit Weights.Wgamma3',\n",
       "       'Unit Weights.Weta1', 'Unit Weights.Weta2', 'Unit Weights.Weta3',\n",
       "       'Unit Weights.WT', 'Unit Weights.WA', 'Unit Weights.WV',\n",
       "       'Unit Weights.WK', 'Unit Weights.WG', 'Unit Weights.WD',\n",
       "       'Atomic Masses.Wlambda1', 'Atomic Masses.Wlambda2',\n",
       "       'Atomic Masses.wlambda3', 'Atomic Masses.Wnu1', 'Atomic Masses.Wnu2',\n",
       "       'Atomic Masses.Wgamma1', 'Atomic Masses.Wgamma2',\n",
       "       'Atomic Masses.Wgamma3', 'Atomic Masses.Weta1', 'Atomic Masses.Weta2',\n",
       "       'Atomic Masses.Weta3', 'Atomic Masses.WT', 'Atomic Masses.WA',\n",
       "       'Atomic Masses.WV', 'Atomic Masses.WK', 'Atomic Masses.WG',\n",
       "       'Atomic Masses.WD', 'Atomic Polarizabilities.Wlambda1',\n",
       "       'Atomic Polarizabilities.Wlambda2', 'Atomic Polarizabilities.wlambda3',\n",
       "       'Atomic Polarizabilities.Wnu1', 'Atomic Polarizabilities.Wnu2',\n",
       "       'Atomic Polarizabilities.Wgamma1', 'Atomic Polarizabilities.Wgamma2',\n",
       "       'Atomic Polarizabilities.Wgamma3', 'Atomic Polarizabilities.Weta1',\n",
       "       'Atomic Polarizabilities.Weta2', 'Atomic Polarizabilities.Weta3',\n",
       "       'Atomic Polarizabilities.WT', 'Atomic Polarizabilities.WA',\n",
       "       'Atomic Polarizabilities.WV', 'Atomic Polarizabilities.WK',\n",
       "       'Atomic Polarizabilities.WG', 'Atomic Polarizabilities.WD',\n",
       "       'VdW Volumes.Wlambda1', 'VdW Volumes.Wlambda2', 'VdW Volumes.wlambda3',\n",
       "       'VdW Volumes.Wnu1', 'VdW Volumes.Wnu2', 'VdW Volumes.Wgamma1',\n",
       "       'VdW Volumes.Wgamma2', 'VdW Volumes.Wgamma3', 'VdW Volumes.Weta1',\n",
       "       'VdW Volumes.Weta2', 'VdW Volumes.Weta3', 'VdW Volumes.WT',\n",
       "       'VdW Volumes.WA', 'VdW Volumes.WV', 'VdW Volumes.WK', 'VdW Volumes.WG',\n",
       "       'VdW Volumes.WD', 'Atomic Electronegativities.Wlambda1',\n",
       "       'Atomic Electronegativities.Wlambda2',\n",
       "       'Atomic Electronegativities.wlambda3',\n",
       "       'Atomic Electronegativities.Wnu1', 'Atomic Electronegativities.Wnu2',\n",
       "       'Atomic Electronegativities.Wgamma1',\n",
       "       'Atomic Electronegativities.Wgamma2',\n",
       "       'Atomic Electronegativities.Wgamma3',\n",
       "       'Atomic Electronegativities.Weta1', 'Atomic Electronegativities.Weta2',\n",
       "       'Atomic Electronegativities.Weta3', 'Atomic Electronegativities.WT',\n",
       "       'Atomic Electronegativities.WA', 'Atomic Electronegativities.WV',\n",
       "       'Atomic Electronegativities.WK', 'Atomic Electronegativities.WG',\n",
       "       'Atomic Electronegativities.WD'],\n",
       "      dtype='object')"
      ]
     },
     "execution_count": 17,
     "metadata": {},
     "output_type": "execute_result"
    }
   ],
   "source": [
    "# For comparation purposes we'll only keep one molecule\n",
    "# Descriptors start from the eigth colum\n",
    "whim_knime = whim_knime_all.iloc[[0, 1], 6:]\n",
    "whim_knime.index = ['csar_1_KNM', 'csar_10_KNM']\n",
    "# Name of the whim descriptors in Knime\n",
    "whim_knime.columns"
   ]
  },
  {
   "cell_type": "markdown",
   "metadata": {},
   "source": [
    "Descriptors are sorted by the weighted schema and then by the property.\n",
    "\n",
    "#### Let's rename KNIME descriptors to match the RDKit's names"
   ]
  },
  {
   "cell_type": "code",
   "execution_count": 18,
   "metadata": {},
   "outputs": [],
   "source": [
    "# Let's convert the Knime names to the RDKit names\n",
    "whim_knime_names = whim_knime.columns\n",
    "weight_schemes_whim = {\n",
    "    'Unit Weights': 'u',\n",
    "    'Atomic Masses': 'm',\n",
    "    'VdW Volumes': 'v',\n",
    "    'Atomic Polarizabilities': 'p',\n",
    "    'Atomic Electronegativities': 'e'\n",
    "}\n",
    "descriptors_whim = {\n",
    "    'lambda1': 'L3', 'lambda2': 'L2', 'lambda3': 'L1',\n",
    "    'nu1': 'P1', 'nu2': 'P2',\n",
    "    'eta1': 'E3', 'eta2': 'E2', 'eta3': 'E1',\n",
    "    'gamma1': 'G3', 'gamma2': 'G2', 'gamma3': 'G1',\n",
    "    'T': 'T', 'A': 'A', 'V': 'V', 'K': 'K', 'G': 'G', 'D': 'D'\n",
    "}\n",
    "# funtion to convert names\n",
    "convert_name = lambda s, d: descriptors_whim[d[1:]] + weight_schemes_whim[s]\n",
    "\n",
    "# Use the dictionaries to create a new list of names\n",
    "whim_knime_names_converted = [convert_name(*i.split('.')) for i in whim_knime_names]"
   ]
  },
  {
   "cell_type": "code",
   "execution_count": 19,
   "metadata": {},
   "outputs": [
    {
     "data": {
      "text/html": [
       "<div>\n",
       "<style scoped>\n",
       "    .dataframe tbody tr th:only-of-type {\n",
       "        vertical-align: middle;\n",
       "    }\n",
       "\n",
       "    .dataframe tbody tr th {\n",
       "        vertical-align: top;\n",
       "    }\n",
       "\n",
       "    .dataframe thead th {\n",
       "        text-align: right;\n",
       "    }\n",
       "</style>\n",
       "<table border=\"1\" class=\"dataframe\">\n",
       "  <thead>\n",
       "    <tr style=\"text-align: right;\">\n",
       "      <th></th>\n",
       "      <th>L3u</th>\n",
       "      <th>L2u</th>\n",
       "      <th>L1u</th>\n",
       "      <th>P1u</th>\n",
       "      <th>P2u</th>\n",
       "      <th>G3u</th>\n",
       "      <th>G2u</th>\n",
       "      <th>G1u</th>\n",
       "      <th>E3u</th>\n",
       "      <th>E2u</th>\n",
       "      <th>...</th>\n",
       "      <th>G1e</th>\n",
       "      <th>E3e</th>\n",
       "      <th>E2e</th>\n",
       "      <th>E1e</th>\n",
       "      <th>Te</th>\n",
       "      <th>Ae</th>\n",
       "      <th>Ve</th>\n",
       "      <th>Ke</th>\n",
       "      <th>Ge</th>\n",
       "      <th>De</th>\n",
       "    </tr>\n",
       "    <tr>\n",
       "      <th>row ID</th>\n",
       "      <th></th>\n",
       "      <th></th>\n",
       "      <th></th>\n",
       "      <th></th>\n",
       "      <th></th>\n",
       "      <th></th>\n",
       "      <th></th>\n",
       "      <th></th>\n",
       "      <th></th>\n",
       "      <th></th>\n",
       "      <th></th>\n",
       "      <th></th>\n",
       "      <th></th>\n",
       "      <th></th>\n",
       "      <th></th>\n",
       "      <th></th>\n",
       "      <th></th>\n",
       "      <th></th>\n",
       "      <th></th>\n",
       "      <th></th>\n",
       "      <th></th>\n",
       "    </tr>\n",
       "  </thead>\n",
       "  <tbody>\n",
       "    <tr>\n",
       "      <th>CSAR_erk2_1.sdf_0</th>\n",
       "      <td>0.649312</td>\n",
       "      <td>4.166611</td>\n",
       "      <td>7.624702</td>\n",
       "      <td>0.052193</td>\n",
       "      <td>0.334920</td>\n",
       "      <td>NaN</td>\n",
       "      <td>NaN</td>\n",
       "      <td>NaN</td>\n",
       "      <td>0.355002</td>\n",
       "      <td>0.438170</td>\n",
       "      <td>...</td>\n",
       "      <td>NaN</td>\n",
       "      <td>0.341077</td>\n",
       "      <td>0.404555</td>\n",
       "      <td>0.531348</td>\n",
       "      <td>12.449704</td>\n",
       "      <td>38.922198</td>\n",
       "      <td>71.873101</td>\n",
       "      <td>0.219438</td>\n",
       "      <td>NaN</td>\n",
       "      <td>1.276980</td>\n",
       "    </tr>\n",
       "    <tr>\n",
       "      <th>CSAR_erk2_10.sdf_0</th>\n",
       "      <td>0.695295</td>\n",
       "      <td>1.990591</td>\n",
       "      <td>29.165676</td>\n",
       "      <td>0.021829</td>\n",
       "      <td>0.062496</td>\n",
       "      <td>NaN</td>\n",
       "      <td>NaN</td>\n",
       "      <td>NaN</td>\n",
       "      <td>0.448164</td>\n",
       "      <td>0.345724</td>\n",
       "      <td>...</td>\n",
       "      <td>NaN</td>\n",
       "      <td>0.482772</td>\n",
       "      <td>0.365570</td>\n",
       "      <td>0.530974</td>\n",
       "      <td>31.917413</td>\n",
       "      <td>82.125733</td>\n",
       "      <td>157.037010</td>\n",
       "      <td>0.434988</td>\n",
       "      <td>NaN</td>\n",
       "      <td>1.379316</td>\n",
       "    </tr>\n",
       "    <tr>\n",
       "      <th>CSAR_erk2_11.sdf_0</th>\n",
       "      <td>1.053375</td>\n",
       "      <td>9.341147</td>\n",
       "      <td>14.018063</td>\n",
       "      <td>0.043149</td>\n",
       "      <td>0.382637</td>\n",
       "      <td>NaN</td>\n",
       "      <td>NaN</td>\n",
       "      <td>NaN</td>\n",
       "      <td>0.411234</td>\n",
       "      <td>0.504538</td>\n",
       "      <td>...</td>\n",
       "      <td>NaN</td>\n",
       "      <td>0.394032</td>\n",
       "      <td>0.480759</td>\n",
       "      <td>0.502392</td>\n",
       "      <td>24.779772</td>\n",
       "      <td>158.737015</td>\n",
       "      <td>323.538116</td>\n",
       "      <td>0.188719</td>\n",
       "      <td>NaN</td>\n",
       "      <td>1.377183</td>\n",
       "    </tr>\n",
       "    <tr>\n",
       "      <th>CSAR_erk2_12.sdf_0</th>\n",
       "      <td>0.622338</td>\n",
       "      <td>8.886581</td>\n",
       "      <td>15.080268</td>\n",
       "      <td>0.025309</td>\n",
       "      <td>0.361402</td>\n",
       "      <td>NaN</td>\n",
       "      <td>NaN</td>\n",
       "      <td>NaN</td>\n",
       "      <td>0.276218</td>\n",
       "      <td>0.414167</td>\n",
       "      <td>...</td>\n",
       "      <td>NaN</td>\n",
       "      <td>0.532128</td>\n",
       "      <td>0.383874</td>\n",
       "      <td>0.258040</td>\n",
       "      <td>24.773837</td>\n",
       "      <td>148.625847</td>\n",
       "      <td>254.919301</td>\n",
       "      <td>-0.231571</td>\n",
       "      <td>NaN</td>\n",
       "      <td>1.174041</td>\n",
       "    </tr>\n",
       "    <tr>\n",
       "      <th>CSAR_erk2_13.sdf_0</th>\n",
       "      <td>1.104212</td>\n",
       "      <td>3.347871</td>\n",
       "      <td>23.261613</td>\n",
       "      <td>0.039844</td>\n",
       "      <td>0.120802</td>\n",
       "      <td>NaN</td>\n",
       "      <td>NaN</td>\n",
       "      <td>NaN</td>\n",
       "      <td>0.339050</td>\n",
       "      <td>0.502982</td>\n",
       "      <td>...</td>\n",
       "      <td>NaN</td>\n",
       "      <td>0.421407</td>\n",
       "      <td>0.531022</td>\n",
       "      <td>0.555252</td>\n",
       "      <td>27.530715</td>\n",
       "      <td>110.286169</td>\n",
       "      <td>232.312999</td>\n",
       "      <td>0.373677</td>\n",
       "      <td>NaN</td>\n",
       "      <td>1.507681</td>\n",
       "    </tr>\n",
       "  </tbody>\n",
       "</table>\n",
       "<p>5 rows × 85 columns</p>\n",
       "</div>"
      ],
      "text/plain": [
       "                         L3u       L2u        L1u       P1u       P2u  G3u  \\\n",
       "row ID                                                                       \n",
       "CSAR_erk2_1.sdf_0   0.649312  4.166611   7.624702  0.052193  0.334920  NaN   \n",
       "CSAR_erk2_10.sdf_0  0.695295  1.990591  29.165676  0.021829  0.062496  NaN   \n",
       "CSAR_erk2_11.sdf_0  1.053375  9.341147  14.018063  0.043149  0.382637  NaN   \n",
       "CSAR_erk2_12.sdf_0  0.622338  8.886581  15.080268  0.025309  0.361402  NaN   \n",
       "CSAR_erk2_13.sdf_0  1.104212  3.347871  23.261613  0.039844  0.120802  NaN   \n",
       "\n",
       "                    G2u  G1u       E3u       E2u  ...  G1e       E3e  \\\n",
       "row ID                                            ...                  \n",
       "CSAR_erk2_1.sdf_0   NaN  NaN  0.355002  0.438170  ...  NaN  0.341077   \n",
       "CSAR_erk2_10.sdf_0  NaN  NaN  0.448164  0.345724  ...  NaN  0.482772   \n",
       "CSAR_erk2_11.sdf_0  NaN  NaN  0.411234  0.504538  ...  NaN  0.394032   \n",
       "CSAR_erk2_12.sdf_0  NaN  NaN  0.276218  0.414167  ...  NaN  0.532128   \n",
       "CSAR_erk2_13.sdf_0  NaN  NaN  0.339050  0.502982  ...  NaN  0.421407   \n",
       "\n",
       "                         E2e       E1e         Te          Ae          Ve  \\\n",
       "row ID                                                                      \n",
       "CSAR_erk2_1.sdf_0   0.404555  0.531348  12.449704   38.922198   71.873101   \n",
       "CSAR_erk2_10.sdf_0  0.365570  0.530974  31.917413   82.125733  157.037010   \n",
       "CSAR_erk2_11.sdf_0  0.480759  0.502392  24.779772  158.737015  323.538116   \n",
       "CSAR_erk2_12.sdf_0  0.383874  0.258040  24.773837  148.625847  254.919301   \n",
       "CSAR_erk2_13.sdf_0  0.531022  0.555252  27.530715  110.286169  232.312999   \n",
       "\n",
       "                          Ke  Ge        De  \n",
       "row ID                                      \n",
       "CSAR_erk2_1.sdf_0   0.219438 NaN  1.276980  \n",
       "CSAR_erk2_10.sdf_0  0.434988 NaN  1.379316  \n",
       "CSAR_erk2_11.sdf_0  0.188719 NaN  1.377183  \n",
       "CSAR_erk2_12.sdf_0 -0.231571 NaN  1.174041  \n",
       "CSAR_erk2_13.sdf_0  0.373677 NaN  1.507681  \n",
       "\n",
       "[5 rows x 85 columns]"
      ]
     },
     "execution_count": 19,
     "metadata": {},
     "output_type": "execute_result"
    }
   ],
   "source": [
    "#Update the table of knime descriptors\n",
    "whim_knime_all_names_updated = whim_knime_all.iloc[:, 6:]\n",
    "whim_knime_all_names_updated.columns = whim_knime_names_converted\n",
    "# A slice of the dataframe of KNIME descriptors with the new names\n",
    "whim_knime_all_names_updated.head()"
   ]
  },
  {
   "cell_type": "markdown",
   "metadata": {},
   "source": [
    "#### fFr now on we going to use only the first molecule to compare these descriptors"
   ]
  },
  {
   "cell_type": "code",
   "execution_count": 20,
   "metadata": {},
   "outputs": [],
   "source": [
    "# Let's create a dataframe with the values of the csar_1 molecule\n",
    "df_knime_csar_1 = pd.DataFrame(list(zip(whim_knime_names, whim_knime.loc['csar_1_KNM'])), \n",
    "                             whim_knime_names_converted, columns=['knime_name', 'csar_1_KNM'])\n",
    "# identify null values\n",
    "df_knime_csar_1['csar_1_KNM'] = pd.to_numeric(df_knime_csar_1['csar_1_KNM'], errors='coerce')"
   ]
  },
  {
   "cell_type": "markdown",
   "metadata": {},
   "source": [
    "#### The following list shows which WHIM descriptors have diferente values when computed with KNIME and RDKit"
   ]
  },
  {
   "cell_type": "code",
   "execution_count": 21,
   "metadata": {},
   "outputs": [
    {
     "name": "stdout",
     "output_type": "stream",
     "text": [
      "Desc \t Knime \t\t rdkit \t\t Diff\n",
      "--------------------------------------------------\n",
      "P1u \t 0.05 \t\t 0.61 \t\t 0.561\n",
      "Ku \t 0.21 \t\t 0.42 \t\t 0.212\n",
      "Du \t 1.3 \t\t 0.43 \t\t 0.865\n",
      "P1m \t 0.05 \t\t 0.63 \t\t 0.573\n",
      "Km \t 0.22 \t\t 0.44 \t\t 0.219\n",
      "Dm \t 1.28 \t\t 0.42 \t\t 0.851\n",
      "P1p \t 0.05 \t\t 0.58 \t\t 0.535\n",
      "Kp \t 0.19 \t\t 0.42 \t\t 0.236\n",
      "Dp \t 1.34 \t\t 0.45 \t\t 0.893\n",
      "P1v \t 0.05 \t\t 0.6 \t\t 0.548\n",
      "Vv \t 73.85 \t\t 74.22 \t\t 0.371\n",
      "Kv \t 0.19 \t\t 0.42 \t\t 0.231\n",
      "Dv \t 1.33 \t\t 0.44 \t\t 0.885\n",
      "P1e \t 0.05 \t\t 0.63 \t\t 0.573\n",
      "Ke \t 0.22 \t\t 0.44 \t\t 0.22\n",
      "De \t 1.28 \t\t 0.43 \t\t 0.851\n"
     ]
    }
   ],
   "source": [
    "# ommit null values\n",
    "names_ = df_knime_csar_1.dropna().index\n",
    "# Iterate over the index and compare KNIME and RDKIT\n",
    "print('Desc', '\\t', 'Knime', '\\t\\t', 'rdkit', '\\t\\t', 'Diff')\n",
    "print('-'*50)\n",
    "for i in names_:\n",
    "    # compare\n",
    "    a = df_knime_csar_1.loc[i, 'csar_1_KNM']\n",
    "    b = df_rdk_whim.loc[i, 'csar_1_RDK']\n",
    "    if abs(a - b) >= 0.2: # Rdkit returns values with 3 decimal positions\n",
    "        print(i, '\\t', round(a, 2), '\\t\\t', round(b, 2), '\\t\\t', round(abs(a - b), 3))"
   ]
  },
  {
   "cell_type": "markdown",
   "metadata": {},
   "source": [
    "#### The results are the following:\n",
    "- All $Px1$ descriptors are different between RDKit and KNIME.\n",
    "- All $K$ and $D$ descriptors are different.\n",
    "- All $Xv$ descriptors (descriptors with van der Waals as weight scheme) are slightly different.\n",
    "- KNIME always computed $G$ and $gamma$ descriptors as null values.\n",
    "\n",
    "#### The following cells compute the WHIM descriptors (Ref: [Todeschini & Gramatica (1998)](https://link.springer.com/chapter/10.1007/0-306-46857-3_19))"
   ]
  },
  {
   "cell_type": "markdown",
   "metadata": {},
   "source": [
    "## Compute WHIM descriptors (unweighted) using numpy\n",
    "\n",
    "First get molecular coordinates and compute covariance matrix and perform eigen decomposition:"
   ]
  },
  {
   "cell_type": "code",
   "execution_count": 22,
   "metadata": {},
   "outputs": [],
   "source": [
    "def get_mol_coords(mol, centered = True):\n",
    "    num_atoms = len(mol.GetAtoms())\n",
    "    coords = pd.DataFrame({\n",
    "       'x': [mol.GetConformer().GetAtomPosition(i).x for i in range(num_atoms)],\n",
    "       'y': [mol.GetConformer().GetAtomPosition(i).y for i in range(num_atoms)],\n",
    "       'z': [mol.GetConformer().GetAtomPosition(i).z for i in range(num_atoms)]})\n",
    "    if centered:\n",
    "        coords = coords - coords.mean(axis =  0)\n",
    "    return coords\n",
    "\n",
    "def calc_cov(mol):\n",
    "    coords = get_mol_coords(mol)\n",
    "    n, m = coords.shape\n",
    "    cov = np.dot(coords.T, coords) / (n)\n",
    "    return cov\n",
    "\n",
    "def calc_eigen(mol):\n",
    "    eigen_values, eigen_vectors = np.linalg.eig(calc_cov(mol))\n",
    "    return eigen_values, eigen_vectors"
   ]
  },
  {
   "cell_type": "markdown",
   "metadata": {},
   "source": [
    "### Let's view which are the RDKit and KNIME results for the unweighted descriptors:\n",
    "- Differences, RDK rounds to until the third decimal position. "
   ]
  },
  {
   "cell_type": "code",
   "execution_count": 23,
   "metadata": {},
   "outputs": [
    {
     "name": "stdout",
     "output_type": "stream",
     "text": [
      "WHIM descriptor values of \"csar_1\" molecules using KNIME and RDKit\n"
     ]
    },
    {
     "data": {
      "text/html": [
       "<div>\n",
       "<style scoped>\n",
       "    .dataframe tbody tr th:only-of-type {\n",
       "        vertical-align: middle;\n",
       "    }\n",
       "\n",
       "    .dataframe tbody tr th {\n",
       "        vertical-align: top;\n",
       "    }\n",
       "\n",
       "    .dataframe thead th {\n",
       "        text-align: right;\n",
       "    }\n",
       "</style>\n",
       "<table border=\"1\" class=\"dataframe\">\n",
       "  <thead>\n",
       "    <tr style=\"text-align: right;\">\n",
       "      <th></th>\n",
       "      <th>L1u</th>\n",
       "      <th>L2u</th>\n",
       "      <th>L3u</th>\n",
       "      <th>P1u</th>\n",
       "      <th>P2u</th>\n",
       "      <th>G1u</th>\n",
       "      <th>G2u</th>\n",
       "      <th>G3u</th>\n",
       "      <th>E1u</th>\n",
       "      <th>E2u</th>\n",
       "      <th>E3u</th>\n",
       "      <th>Tu</th>\n",
       "      <th>Au</th>\n",
       "      <th>Gu</th>\n",
       "      <th>Ku</th>\n",
       "      <th>Du</th>\n",
       "      <th>Vu</th>\n",
       "    </tr>\n",
       "  </thead>\n",
       "  <tbody>\n",
       "    <tr>\n",
       "      <th>csar_1_RDK</th>\n",
       "      <td>7.625000</td>\n",
       "      <td>4.167000</td>\n",
       "      <td>0.649000</td>\n",
       "      <td>0.613000</td>\n",
       "      <td>0.33500</td>\n",
       "      <td>0.181</td>\n",
       "      <td>0.181</td>\n",
       "      <td>0.181</td>\n",
       "      <td>0.50500</td>\n",
       "      <td>0.43800</td>\n",
       "      <td>0.355000</td>\n",
       "      <td>12.441000</td>\n",
       "      <td>39.425000</td>\n",
       "      <td>0.181</td>\n",
       "      <td>0.422000</td>\n",
       "      <td>0.433000</td>\n",
       "      <td>72.494000</td>\n",
       "    </tr>\n",
       "    <tr>\n",
       "      <th>csar_1_KNM</th>\n",
       "      <td>7.624702</td>\n",
       "      <td>4.166611</td>\n",
       "      <td>0.649312</td>\n",
       "      <td>0.052193</td>\n",
       "      <td>0.33492</td>\n",
       "      <td>NaN</td>\n",
       "      <td>NaN</td>\n",
       "      <td>NaN</td>\n",
       "      <td>0.50461</td>\n",
       "      <td>0.43817</td>\n",
       "      <td>0.355002</td>\n",
       "      <td>12.440624</td>\n",
       "      <td>39.425401</td>\n",
       "      <td>NaN</td>\n",
       "      <td>0.209666</td>\n",
       "      <td>1.297782</td>\n",
       "      <td>72.494112</td>\n",
       "    </tr>\n",
       "  </tbody>\n",
       "</table>\n",
       "</div>"
      ],
      "text/plain": [
       "                 L1u       L2u       L3u       P1u      P2u    G1u    G2u  \\\n",
       "csar_1_RDK  7.625000  4.167000  0.649000  0.613000  0.33500  0.181  0.181   \n",
       "csar_1_KNM  7.624702  4.166611  0.649312  0.052193  0.33492    NaN    NaN   \n",
       "\n",
       "              G3u      E1u      E2u       E3u         Tu         Au     Gu  \\\n",
       "csar_1_RDK  0.181  0.50500  0.43800  0.355000  12.441000  39.425000  0.181   \n",
       "csar_1_KNM    NaN  0.50461  0.43817  0.355002  12.440624  39.425401    NaN   \n",
       "\n",
       "                  Ku        Du         Vu  \n",
       "csar_1_RDK  0.422000  0.433000  72.494000  \n",
       "csar_1_KNM  0.209666  1.297782  72.494112  "
      ]
     },
     "execution_count": 23,
     "metadata": {},
     "output_type": "execute_result"
    }
   ],
   "source": [
    "csar_1_KNM_whim = df_knime_csar_1[df_knime_csar_1.index.str.contains('u')]['csar_1_KNM']\n",
    "csar_1_RDK_whim = df_rdk_whim[df_rdk_whim.index.str.contains('u')]['csar_1_RDK']\n",
    "df_whim = pd.DataFrame([csar_1_RDK_whim, csar_1_KNM_whim])\n",
    "print('WHIM descriptor values of \"csar_1\" molecules using KNIME and RDKit')\n",
    "df_whim"
   ]
  },
  {
   "cell_type": "markdown",
   "metadata": {},
   "source": [
    "### Compute $L_1u$, $L_2u$ and $L_3u$ (Axial dimensions)\n",
    ">> $ L_k = \\lambda_k$\n",
    "\n",
    "Where $k_1 = 1, 2, 3$. *L1, L2* and *L3* are the eigen values of the weighted covariance matrix."
   ]
  },
  {
   "cell_type": "code",
   "execution_count": 24,
   "metadata": {},
   "outputs": [],
   "source": [
    "def calc_Lu(mol):\n",
    "    eigen_values, _ = calc_eigen(mol)\n",
    "    L1, L2, L3 = eigen_values\n",
    "    return np.array([L1, L2, L3])"
   ]
  },
  {
   "cell_type": "code",
   "execution_count": 25,
   "metadata": {},
   "outputs": [
    {
     "data": {
      "text/plain": [
       "array([7.624702, 4.166611, 0.649312])"
      ]
     },
     "execution_count": 25,
     "metadata": {},
     "output_type": "execute_result"
    }
   ],
   "source": [
    "mol = csar_1\n",
    "calc_Lu(mol).round(6)\n",
    "# The values are the same to RDKit and KNIME"
   ]
  },
  {
   "cell_type": "code",
   "execution_count": 26,
   "metadata": {},
   "outputs": [
    {
     "data": {
      "text/html": [
       "<div>\n",
       "<style scoped>\n",
       "    .dataframe tbody tr th:only-of-type {\n",
       "        vertical-align: middle;\n",
       "    }\n",
       "\n",
       "    .dataframe tbody tr th {\n",
       "        vertical-align: top;\n",
       "    }\n",
       "\n",
       "    .dataframe thead th {\n",
       "        text-align: right;\n",
       "    }\n",
       "</style>\n",
       "<table border=\"1\" class=\"dataframe\">\n",
       "  <thead>\n",
       "    <tr style=\"text-align: right;\">\n",
       "      <th></th>\n",
       "      <th>L1u</th>\n",
       "      <th>L2u</th>\n",
       "      <th>L3u</th>\n",
       "    </tr>\n",
       "  </thead>\n",
       "  <tbody>\n",
       "    <tr>\n",
       "      <th>csar_1_RDK</th>\n",
       "      <td>7.625000</td>\n",
       "      <td>4.167000</td>\n",
       "      <td>0.649000</td>\n",
       "    </tr>\n",
       "    <tr>\n",
       "      <th>csar_1_KNM</th>\n",
       "      <td>7.624702</td>\n",
       "      <td>4.166611</td>\n",
       "      <td>0.649312</td>\n",
       "    </tr>\n",
       "  </tbody>\n",
       "</table>\n",
       "</div>"
      ],
      "text/plain": [
       "                 L1u       L2u       L3u\n",
       "csar_1_RDK  7.625000  4.167000  0.649000\n",
       "csar_1_KNM  7.624702  4.166611  0.649312"
      ]
     },
     "execution_count": 26,
     "metadata": {},
     "output_type": "execute_result"
    }
   ],
   "source": [
    "df_whim[['L1u', 'L2u', 'L3u']]"
   ]
  },
  {
   "cell_type": "markdown",
   "metadata": {},
   "source": [
    "### Compute $T_u$ (global dimension)\n",
    ">> $T = \\lambda_1 + \\lambda_2 + \\lambda_3$"
   ]
  },
  {
   "cell_type": "code",
   "execution_count": 27,
   "metadata": {},
   "outputs": [],
   "source": [
    "def calc_Tu(mol):\n",
    "    L1, L2, L3 = calc_Lu(mol)\n",
    "    return np.sum([L1, L2, L3])"
   ]
  },
  {
   "cell_type": "code",
   "execution_count": 28,
   "metadata": {},
   "outputs": [
    {
     "data": {
      "text/plain": [
       "12.440624"
      ]
     },
     "execution_count": 28,
     "metadata": {},
     "output_type": "execute_result"
    }
   ],
   "source": [
    "calc_Tu(mol).round(6)"
   ]
  },
  {
   "cell_type": "code",
   "execution_count": 29,
   "metadata": {},
   "outputs": [
    {
     "data": {
      "text/html": [
       "<div>\n",
       "<style scoped>\n",
       "    .dataframe tbody tr th:only-of-type {\n",
       "        vertical-align: middle;\n",
       "    }\n",
       "\n",
       "    .dataframe tbody tr th {\n",
       "        vertical-align: top;\n",
       "    }\n",
       "\n",
       "    .dataframe thead th {\n",
       "        text-align: right;\n",
       "    }\n",
       "</style>\n",
       "<table border=\"1\" class=\"dataframe\">\n",
       "  <thead>\n",
       "    <tr style=\"text-align: right;\">\n",
       "      <th></th>\n",
       "      <th>Tu</th>\n",
       "    </tr>\n",
       "  </thead>\n",
       "  <tbody>\n",
       "    <tr>\n",
       "      <th>csar_1_RDK</th>\n",
       "      <td>12.441000</td>\n",
       "    </tr>\n",
       "    <tr>\n",
       "      <th>csar_1_KNM</th>\n",
       "      <td>12.440624</td>\n",
       "    </tr>\n",
       "  </tbody>\n",
       "</table>\n",
       "</div>"
      ],
      "text/plain": [
       "                   Tu\n",
       "csar_1_RDK  12.441000\n",
       "csar_1_KNM  12.440624"
      ]
     },
     "execution_count": 29,
     "metadata": {},
     "output_type": "execute_result"
    }
   ],
   "source": [
    "df_whim[['Tu']]\n",
    "# The values are the same to RDKit and KNIME"
   ]
  },
  {
   "cell_type": "markdown",
   "metadata": {},
   "source": [
    "### Compute A (global dimension)\n",
    ">> $A = \\lambda_1\\lambda_2  + \\lambda_1\\lambda_3 + \\lambda_2\\lambda_3$"
   ]
  },
  {
   "cell_type": "code",
   "execution_count": 30,
   "metadata": {},
   "outputs": [],
   "source": [
    "def calc_Au(mol):\n",
    "    L1, L2, L3 = calc_Lu(mol)\n",
    "    return np.sum([L1*L2, L1*L3, L2*L3])"
   ]
  },
  {
   "cell_type": "code",
   "execution_count": 31,
   "metadata": {},
   "outputs": [
    {
     "data": {
      "text/plain": [
       "39.425401"
      ]
     },
     "execution_count": 31,
     "metadata": {},
     "output_type": "execute_result"
    }
   ],
   "source": [
    "calc_Au(mol).round(6)"
   ]
  },
  {
   "cell_type": "code",
   "execution_count": 32,
   "metadata": {},
   "outputs": [
    {
     "data": {
      "text/html": [
       "<div>\n",
       "<style scoped>\n",
       "    .dataframe tbody tr th:only-of-type {\n",
       "        vertical-align: middle;\n",
       "    }\n",
       "\n",
       "    .dataframe tbody tr th {\n",
       "        vertical-align: top;\n",
       "    }\n",
       "\n",
       "    .dataframe thead th {\n",
       "        text-align: right;\n",
       "    }\n",
       "</style>\n",
       "<table border=\"1\" class=\"dataframe\">\n",
       "  <thead>\n",
       "    <tr style=\"text-align: right;\">\n",
       "      <th></th>\n",
       "      <th>Au</th>\n",
       "    </tr>\n",
       "  </thead>\n",
       "  <tbody>\n",
       "    <tr>\n",
       "      <th>csar_1_RDK</th>\n",
       "      <td>39.425000</td>\n",
       "    </tr>\n",
       "    <tr>\n",
       "      <th>csar_1_KNM</th>\n",
       "      <td>39.425401</td>\n",
       "    </tr>\n",
       "  </tbody>\n",
       "</table>\n",
       "</div>"
      ],
      "text/plain": [
       "                   Au\n",
       "csar_1_RDK  39.425000\n",
       "csar_1_KNM  39.425401"
      ]
     },
     "execution_count": 32,
     "metadata": {},
     "output_type": "execute_result"
    }
   ],
   "source": [
    "df_whim[['Au']]\n",
    "# The values are the same to RDKit and KNIME"
   ]
  },
  {
   "cell_type": "markdown",
   "metadata": {},
   "source": [
    "### Compute V (global dimension)\n",
    ">> $V = \\prod^3_{k=1} (1 + \\lambda_k) -1 = T + A + \\lambda_1*\\lambda_2*\\lambda_3$"
   ]
  },
  {
   "cell_type": "code",
   "execution_count": 33,
   "metadata": {},
   "outputs": [],
   "source": [
    "def calc_Vu(mol):\n",
    "    Lk = calc_Lu(mol)\n",
    "    # Vu = np.array([(1 + k) for k in [Lk]]).prod() - 1\n",
    "    Vu = (1 + Lk).prod() - 1\n",
    "    return Vu"
   ]
  },
  {
   "cell_type": "code",
   "execution_count": 34,
   "metadata": {},
   "outputs": [
    {
     "data": {
      "text/plain": [
       "72.494112"
      ]
     },
     "execution_count": 34,
     "metadata": {},
     "output_type": "execute_result"
    }
   ],
   "source": [
    "calc_Vu(mol).round(6)"
   ]
  },
  {
   "cell_type": "code",
   "execution_count": 35,
   "metadata": {},
   "outputs": [
    {
     "data": {
      "text/html": [
       "<div>\n",
       "<style scoped>\n",
       "    .dataframe tbody tr th:only-of-type {\n",
       "        vertical-align: middle;\n",
       "    }\n",
       "\n",
       "    .dataframe tbody tr th {\n",
       "        vertical-align: top;\n",
       "    }\n",
       "\n",
       "    .dataframe thead th {\n",
       "        text-align: right;\n",
       "    }\n",
       "</style>\n",
       "<table border=\"1\" class=\"dataframe\">\n",
       "  <thead>\n",
       "    <tr style=\"text-align: right;\">\n",
       "      <th></th>\n",
       "      <th>Vu</th>\n",
       "    </tr>\n",
       "  </thead>\n",
       "  <tbody>\n",
       "    <tr>\n",
       "      <th>csar_1_RDK</th>\n",
       "      <td>72.494000</td>\n",
       "    </tr>\n",
       "    <tr>\n",
       "      <th>csar_1_KNM</th>\n",
       "      <td>72.494112</td>\n",
       "    </tr>\n",
       "  </tbody>\n",
       "</table>\n",
       "</div>"
      ],
      "text/plain": [
       "                   Vu\n",
       "csar_1_RDK  72.494000\n",
       "csar_1_KNM  72.494112"
      ]
     },
     "execution_count": 35,
     "metadata": {},
     "output_type": "execute_result"
    }
   ],
   "source": [
    "df_whim[['Vu']]\n",
    "# The values are the same to RDKit and KNIME"
   ]
  },
  {
   "cell_type": "markdown",
   "metadata": {},
   "source": [
    "### Compute P (Axial shape)\n",
    ">> $P_k = \\nu_k = \\frac{\\lambda_k}{\\sum_k \\lambda_k}$,  with $k$ = 1, 2, 3\n",
    "\n",
    "These descriptors are *directional WHIM shape* and represent the eigenvalue ratios. Accordingly to , only P1 and P2 are taking into account due to P1 + P2 + P3 = 1, which means that only two of these parameters are independent."
   ]
  },
  {
   "cell_type": "code",
   "execution_count": 36,
   "metadata": {},
   "outputs": [],
   "source": [
    "def calc_Pu(mol):\n",
    "    Lk = calc_Lu(mol)\n",
    "    # Pu = [k / np.sum(Lk) for k in [Lk]][0]\n",
    "    Pu = Lk / Lk.sum()\n",
    "    return Pu"
   ]
  },
  {
   "cell_type": "code",
   "execution_count": 37,
   "metadata": {},
   "outputs": [
    {
     "data": {
      "text/plain": [
       "array([0.6128874 , 0.33491976, 0.05219284])"
      ]
     },
     "execution_count": 37,
     "metadata": {},
     "output_type": "execute_result"
    }
   ],
   "source": [
    "calc_Pu(mol)"
   ]
  },
  {
   "cell_type": "code",
   "execution_count": 38,
   "metadata": {},
   "outputs": [
    {
     "data": {
      "text/html": [
       "<div>\n",
       "<style scoped>\n",
       "    .dataframe tbody tr th:only-of-type {\n",
       "        vertical-align: middle;\n",
       "    }\n",
       "\n",
       "    .dataframe tbody tr th {\n",
       "        vertical-align: top;\n",
       "    }\n",
       "\n",
       "    .dataframe thead th {\n",
       "        text-align: right;\n",
       "    }\n",
       "</style>\n",
       "<table border=\"1\" class=\"dataframe\">\n",
       "  <thead>\n",
       "    <tr style=\"text-align: right;\">\n",
       "      <th></th>\n",
       "      <th>P1u</th>\n",
       "      <th>P2u</th>\n",
       "    </tr>\n",
       "  </thead>\n",
       "  <tbody>\n",
       "    <tr>\n",
       "      <th>csar_1_RDK</th>\n",
       "      <td>0.613000</td>\n",
       "      <td>0.33500</td>\n",
       "    </tr>\n",
       "    <tr>\n",
       "      <th>csar_1_KNM</th>\n",
       "      <td>0.052193</td>\n",
       "      <td>0.33492</td>\n",
       "    </tr>\n",
       "  </tbody>\n",
       "</table>\n",
       "</div>"
      ],
      "text/plain": [
       "                 P1u      P2u\n",
       "csar_1_RDK  0.613000  0.33500\n",
       "csar_1_KNM  0.052193  0.33492"
      ]
     },
     "execution_count": 38,
     "metadata": {},
     "output_type": "execute_result"
    }
   ],
   "source": [
    "df_whim[['P1u', 'P2u']]\n",
    "# The values are NOT the same, RDKit reports only P for the first and second eigenvecors,\n",
    "# but KNIME seems to repor P for the second and third eigenvalues "
   ]
  },
  {
   "cell_type": "markdown",
   "metadata": {},
   "source": [
    "### Compute K (global shape)\n",
    ">> $K = \\frac{3}{4} \\dot \\sum^3_{k=1} | \\frac{\\lambda_k}{\\sum_k \\lambda_k} - \\frac{1}{3}|$\n",
    "\n",
    "This descriptor is related to the sphericity  of the molecule. For an ideal spherical molecule K = 0, and each $\\lambda$ has the same value (with a ratio of $\\frac{1}{3}$). A planar molecule will have a $\\lambda = 0$ and K will range between 0.5 and 1. Finally, a ideal straight molecule will have $\\lambda_2$ and $\\lambda_3$ equal to 0, and K = 1."
   ]
  },
  {
   "cell_type": "code",
   "execution_count": 39,
   "metadata": {},
   "outputs": [],
   "source": [
    "def calc_Ku(mol):\n",
    "    Pu = calc_Pu(mol)\n",
    "    # Ku = (3/4) * np.sum([np.abs(k - 1/3) for k in Pu])\n",
    "    Ku = (3/4) * np.abs(Pu - 1/3).sum()\n",
    "    return Ku"
   ]
  },
  {
   "cell_type": "code",
   "execution_count": 40,
   "metadata": {},
   "outputs": [
    {
     "data": {
      "text/plain": [
       "0.42171073372202184"
      ]
     },
     "execution_count": 40,
     "metadata": {},
     "output_type": "execute_result"
    }
   ],
   "source": [
    "calc_Ku(mol)"
   ]
  },
  {
   "cell_type": "code",
   "execution_count": 41,
   "metadata": {},
   "outputs": [
    {
     "data": {
      "text/html": [
       "<div>\n",
       "<style scoped>\n",
       "    .dataframe tbody tr th:only-of-type {\n",
       "        vertical-align: middle;\n",
       "    }\n",
       "\n",
       "    .dataframe tbody tr th {\n",
       "        vertical-align: top;\n",
       "    }\n",
       "\n",
       "    .dataframe thead th {\n",
       "        text-align: right;\n",
       "    }\n",
       "</style>\n",
       "<table border=\"1\" class=\"dataframe\">\n",
       "  <thead>\n",
       "    <tr style=\"text-align: right;\">\n",
       "      <th></th>\n",
       "      <th>Ku</th>\n",
       "    </tr>\n",
       "  </thead>\n",
       "  <tbody>\n",
       "    <tr>\n",
       "      <th>csar_1_RDK</th>\n",
       "      <td>0.422000</td>\n",
       "    </tr>\n",
       "    <tr>\n",
       "      <th>csar_1_KNM</th>\n",
       "      <td>0.209666</td>\n",
       "    </tr>\n",
       "  </tbody>\n",
       "</table>\n",
       "</div>"
      ],
      "text/plain": [
       "                  Ku\n",
       "csar_1_RDK  0.422000\n",
       "csar_1_KNM  0.209666"
      ]
     },
     "execution_count": 41,
     "metadata": {},
     "output_type": "execute_result"
    }
   ],
   "source": [
    "df_whim[['Ku']]\n",
    "# KNIME differs from the result"
   ]
  },
  {
   "cell_type": "code",
   "execution_count": 42,
   "metadata": {},
   "outputs": [
    {
     "data": {
      "text/plain": [
       "0.21204518510869136"
      ]
     },
     "execution_count": 42,
     "metadata": {},
     "output_type": "execute_result"
    }
   ],
   "source": [
    "# Problably it is because the KNIME implementation ommits P1u\n",
    "P1u, P2u, P3u = calc_Pu(mol)\n",
    "(3/4) * np.sum([np.abs(k - 1/3) for k in [P2u, P3u]])"
   ]
  },
  {
   "cell_type": "markdown",
   "metadata": {},
   "source": [
    "### Compute E (Axial density)\n",
    ">> $E_k = \\eta_k =  \\frac{\\lambda_k^2 * N}{\\sum{t^4}}$,\n",
    "\n",
    "where $N$ in the number of atoms, and $t$ refers to the atomic coordinates with respect to the principal axes.\n",
    "\n",
    "This descriptor is related to the kurtosis calculated from the $t_k$ scores (projected coordinates onto the $k$ eigenvector). And represents the quantity of unfilled space per projected atom. Low values of kurtosis are obtained when the data points (atom coordinates projections) assume opposite values with respect to the centre of the scores. When there are more extreme values in $t$ the kurtosis ($\\kappa$) value increases. When $\\kappa$ tends to infinity $E$ tends to 0."
   ]
  },
  {
   "cell_type": "code",
   "execution_count": 43,
   "metadata": {},
   "outputs": [],
   "source": [
    "def calc_Eu(mol):\n",
    "    coords = get_mol_coords(mol).values\n",
    "    eigen_vects = calc_eigen(mol)[1]\n",
    "    t =  np.dot(coords, eigen_vects)\n",
    "    L = calc_Lu(mol)\n",
    "    N = len(coords)\n",
    "    E = (L**2 * N) / (t**4).sum(axis = 0)\n",
    "    return E"
   ]
  },
  {
   "cell_type": "code",
   "execution_count": 44,
   "metadata": {},
   "outputs": [
    {
     "data": {
      "text/plain": [
       "array([0.50460956, 0.43817022, 0.3550019 ])"
      ]
     },
     "execution_count": 44,
     "metadata": {},
     "output_type": "execute_result"
    }
   ],
   "source": [
    "calc_Eu(mol)\n",
    "# The values are the same in KNIME and RDKit implementations"
   ]
  },
  {
   "cell_type": "code",
   "execution_count": 45,
   "metadata": {},
   "outputs": [
    {
     "data": {
      "text/html": [
       "<div>\n",
       "<style scoped>\n",
       "    .dataframe tbody tr th:only-of-type {\n",
       "        vertical-align: middle;\n",
       "    }\n",
       "\n",
       "    .dataframe tbody tr th {\n",
       "        vertical-align: top;\n",
       "    }\n",
       "\n",
       "    .dataframe thead th {\n",
       "        text-align: right;\n",
       "    }\n",
       "</style>\n",
       "<table border=\"1\" class=\"dataframe\">\n",
       "  <thead>\n",
       "    <tr style=\"text-align: right;\">\n",
       "      <th></th>\n",
       "      <th>E1u</th>\n",
       "      <th>E2u</th>\n",
       "      <th>E3u</th>\n",
       "    </tr>\n",
       "  </thead>\n",
       "  <tbody>\n",
       "    <tr>\n",
       "      <th>csar_1_RDK</th>\n",
       "      <td>0.50500</td>\n",
       "      <td>0.43800</td>\n",
       "      <td>0.355000</td>\n",
       "    </tr>\n",
       "    <tr>\n",
       "      <th>csar_1_KNM</th>\n",
       "      <td>0.50461</td>\n",
       "      <td>0.43817</td>\n",
       "      <td>0.355002</td>\n",
       "    </tr>\n",
       "  </tbody>\n",
       "</table>\n",
       "</div>"
      ],
      "text/plain": [
       "                E1u      E2u       E3u\n",
       "csar_1_RDK  0.50500  0.43800  0.355000\n",
       "csar_1_KNM  0.50461  0.43817  0.355002"
      ]
     },
     "execution_count": 45,
     "metadata": {},
     "output_type": "execute_result"
    }
   ],
   "source": [
    "df_whim[['E1u', 'E2u', 'E3u']]"
   ]
  },
  {
   "cell_type": "markdown",
   "metadata": {},
   "source": [
    "### Compute D (Global density)\n",
    "As compute by KNIME:\n",
    ">> $D = E_1 + E_2 + E_3 = \\eta_1 + \\eta_2 + \\eta_3$\n",
    "\n",
    "As compute by RDKit ([Source code](https://github.com/rdkit/rdkit/blob/master/Code/GraphMol/Descriptors/WHIM.cpp)):\n",
    ">> $D = (E_1 + E_2 + E_3) / 3 = (\\eta_1 + \\eta_2 + \\eta_3) / 3$\n",
    "\n",
    "**D** is the total density of atoms within a molecule. However, RDKit computes the average of that density. Apparently this is what the software DRAGON 6 does."
   ]
  },
  {
   "cell_type": "code",
   "execution_count": 46,
   "metadata": {},
   "outputs": [],
   "source": [
    "def calc_Du(mol, mean = False):\n",
    "    E = calc_Eu(mol)\n",
    "    if mean:\n",
    "        return E.mean()\n",
    "    else:\n",
    "        return E.sum()"
   ]
  },
  {
   "cell_type": "code",
   "execution_count": 47,
   "metadata": {},
   "outputs": [
    {
     "data": {
      "text/plain": [
       "1.2977816747150561"
      ]
     },
     "execution_count": 47,
     "metadata": {},
     "output_type": "execute_result"
    }
   ],
   "source": [
    "# KNIME Result\n",
    "calc_Du(mol, mean = False)"
   ]
  },
  {
   "cell_type": "code",
   "execution_count": 48,
   "metadata": {},
   "outputs": [
    {
     "data": {
      "text/plain": [
       "0.4325938915716854"
      ]
     },
     "execution_count": 48,
     "metadata": {},
     "output_type": "execute_result"
    }
   ],
   "source": [
    "# RDKit result\n",
    "calc_Du(mol, mean = True)"
   ]
  },
  {
   "cell_type": "code",
   "execution_count": 49,
   "metadata": {},
   "outputs": [
    {
     "data": {
      "text/html": [
       "<div>\n",
       "<style scoped>\n",
       "    .dataframe tbody tr th:only-of-type {\n",
       "        vertical-align: middle;\n",
       "    }\n",
       "\n",
       "    .dataframe tbody tr th {\n",
       "        vertical-align: top;\n",
       "    }\n",
       "\n",
       "    .dataframe thead th {\n",
       "        text-align: right;\n",
       "    }\n",
       "</style>\n",
       "<table border=\"1\" class=\"dataframe\">\n",
       "  <thead>\n",
       "    <tr style=\"text-align: right;\">\n",
       "      <th></th>\n",
       "      <th>Du</th>\n",
       "    </tr>\n",
       "  </thead>\n",
       "  <tbody>\n",
       "    <tr>\n",
       "      <th>csar_1_RDK</th>\n",
       "      <td>0.433000</td>\n",
       "    </tr>\n",
       "    <tr>\n",
       "      <th>csar_1_KNM</th>\n",
       "      <td>1.297782</td>\n",
       "    </tr>\n",
       "  </tbody>\n",
       "</table>\n",
       "</div>"
      ],
      "text/plain": [
       "                  Du\n",
       "csar_1_RDK  0.433000\n",
       "csar_1_KNM  1.297782"
      ]
     },
     "execution_count": 49,
     "metadata": {},
     "output_type": "execute_result"
    }
   ],
   "source": [
    "df_whim[['Du']]"
   ]
  },
  {
   "cell_type": "markdown",
   "metadata": {},
   "source": [
    "### Compute G_k or $\\gamma_k$ (Axial symmetry)\n",
    "\n",
    ">> $G_k = \\gamma_k = \\left[ 1 - [\\frac{n_s}{N}log_2 \\frac{n_s}{N} + n_a \\cdot (\\frac{1}{N}log_2\\frac{1}{N})] \\right]^{-1}$, with $k=$ 1, 2, 3\n",
    "\n",
    "where $n_s$ is the number of symmetric atoms along the principal axis $k$ and $n_a$ is the number of asymmetric atoms.\n",
    "\n",
    "These descriptors account for directional symmetry of the molecule. If the molecule has not symmetrical atoms ($n_s = 0$) the equation is undetermined and KNIME returns *NaN*. On the other hand, if $n_s = 0$, RDKit equals the term $(n_s / N) * np.log2(n_s/N)$ to zero, and $\\gamma_k$ will directly depend on $N$."
   ]
  },
  {
   "cell_type": "code",
   "execution_count": 50,
   "metadata": {},
   "outputs": [],
   "source": [
    "def calc_gamma():\n",
    "    N = len(coords)\n",
    "    eigen_vects = calc_eigen(mol)[1]\n",
    "    t =  np.dot(coords, eigen_vects)\n",
    "    t.round(3).T # Round to three as a tolerance value\n",
    "    n_s = 0\n",
    "    n_a = 20\n",
    "\n",
    "    if n_s >= 0:\n",
    "        # This is how RDKit computes gamma_k if there are no symmetrical atoms\n",
    "        gamma = (1 - N * ((1 / n_a) * np.log2(1 / N)) )  ** -1\n",
    "    elif n_s == 0:\n",
    "        gamma = (1 - ( ((n_s / N) * np.log2(n_s/N)) + n_a * ((1 / N) * np.log2(1 / N)) ) ) ** -1\n",
    "    gamma"
   ]
  },
  {
   "cell_type": "code",
   "execution_count": 51,
   "metadata": {},
   "outputs": [
    {
     "data": {
      "text/html": [
       "<div>\n",
       "<style scoped>\n",
       "    .dataframe tbody tr th:only-of-type {\n",
       "        vertical-align: middle;\n",
       "    }\n",
       "\n",
       "    .dataframe tbody tr th {\n",
       "        vertical-align: top;\n",
       "    }\n",
       "\n",
       "    .dataframe thead th {\n",
       "        text-align: right;\n",
       "    }\n",
       "</style>\n",
       "<table border=\"1\" class=\"dataframe\">\n",
       "  <thead>\n",
       "    <tr style=\"text-align: right;\">\n",
       "      <th></th>\n",
       "      <th>G1u</th>\n",
       "      <th>G2u</th>\n",
       "      <th>G3u</th>\n",
       "    </tr>\n",
       "  </thead>\n",
       "  <tbody>\n",
       "    <tr>\n",
       "      <th>csar_1_RDK</th>\n",
       "      <td>0.181</td>\n",
       "      <td>0.181</td>\n",
       "      <td>0.181</td>\n",
       "    </tr>\n",
       "    <tr>\n",
       "      <th>csar_1_KNM</th>\n",
       "      <td>NaN</td>\n",
       "      <td>NaN</td>\n",
       "      <td>NaN</td>\n",
       "    </tr>\n",
       "  </tbody>\n",
       "</table>\n",
       "</div>"
      ],
      "text/plain": [
       "              G1u    G2u    G3u\n",
       "csar_1_RDK  0.181  0.181  0.181\n",
       "csar_1_KNM    NaN    NaN    NaN"
      ]
     },
     "execution_count": 51,
     "metadata": {},
     "output_type": "execute_result"
    }
   ],
   "source": [
    "df_whim[['G1u', 'G2u', 'G3u']]"
   ]
  },
  {
   "cell_type": "code",
   "execution_count": 52,
   "metadata": {},
   "outputs": [
    {
     "data": {
      "text/html": [
       "<div>\n",
       "<style scoped>\n",
       "    .dataframe tbody tr th:only-of-type {\n",
       "        vertical-align: middle;\n",
       "    }\n",
       "\n",
       "    .dataframe tbody tr th {\n",
       "        vertical-align: top;\n",
       "    }\n",
       "\n",
       "    .dataframe thead th {\n",
       "        text-align: right;\n",
       "    }\n",
       "</style>\n",
       "<table border=\"1\" class=\"dataframe\">\n",
       "  <thead>\n",
       "    <tr style=\"text-align: right;\">\n",
       "      <th></th>\n",
       "      <th>Unit Weights.Wgamma1</th>\n",
       "      <th>Unit Weights.Wgamma2</th>\n",
       "      <th>Unit Weights.Wgamma3</th>\n",
       "      <th>Unit Weights.WG</th>\n",
       "      <th>Atomic Masses.Wgamma1</th>\n",
       "      <th>Atomic Masses.Wgamma2</th>\n",
       "      <th>Atomic Masses.Wgamma3</th>\n",
       "      <th>Atomic Masses.WG</th>\n",
       "      <th>Atomic Polarizabilities.Wgamma1</th>\n",
       "      <th>Atomic Polarizabilities.Wgamma2</th>\n",
       "      <th>Atomic Polarizabilities.Wgamma3</th>\n",
       "      <th>Atomic Polarizabilities.WG</th>\n",
       "      <th>VdW Volumes.Wgamma1</th>\n",
       "      <th>VdW Volumes.Wgamma2</th>\n",
       "      <th>VdW Volumes.Wgamma3</th>\n",
       "      <th>VdW Volumes.WG</th>\n",
       "      <th>Atomic Electronegativities.Wgamma1</th>\n",
       "      <th>Atomic Electronegativities.Wgamma2</th>\n",
       "      <th>Atomic Electronegativities.Wgamma3</th>\n",
       "      <th>Atomic Electronegativities.WG</th>\n",
       "    </tr>\n",
       "    <tr>\n",
       "      <th>row ID</th>\n",
       "      <th></th>\n",
       "      <th></th>\n",
       "      <th></th>\n",
       "      <th></th>\n",
       "      <th></th>\n",
       "      <th></th>\n",
       "      <th></th>\n",
       "      <th></th>\n",
       "      <th></th>\n",
       "      <th></th>\n",
       "      <th></th>\n",
       "      <th></th>\n",
       "      <th></th>\n",
       "      <th></th>\n",
       "      <th></th>\n",
       "      <th></th>\n",
       "      <th></th>\n",
       "      <th></th>\n",
       "      <th></th>\n",
       "      <th></th>\n",
       "    </tr>\n",
       "  </thead>\n",
       "  <tbody>\n",
       "    <tr>\n",
       "      <th>CSAR_erk2_1.sdf_0</th>\n",
       "      <td>NaN</td>\n",
       "      <td>NaN</td>\n",
       "      <td>NaN</td>\n",
       "      <td>NaN</td>\n",
       "      <td>NaN</td>\n",
       "      <td>NaN</td>\n",
       "      <td>NaN</td>\n",
       "      <td>NaN</td>\n",
       "      <td>NaN</td>\n",
       "      <td>NaN</td>\n",
       "      <td>NaN</td>\n",
       "      <td>NaN</td>\n",
       "      <td>NaN</td>\n",
       "      <td>NaN</td>\n",
       "      <td>NaN</td>\n",
       "      <td>NaN</td>\n",
       "      <td>NaN</td>\n",
       "      <td>NaN</td>\n",
       "      <td>NaN</td>\n",
       "      <td>NaN</td>\n",
       "    </tr>\n",
       "    <tr>\n",
       "      <th>CSAR_erk2_10.sdf_0</th>\n",
       "      <td>NaN</td>\n",
       "      <td>NaN</td>\n",
       "      <td>NaN</td>\n",
       "      <td>NaN</td>\n",
       "      <td>NaN</td>\n",
       "      <td>NaN</td>\n",
       "      <td>NaN</td>\n",
       "      <td>NaN</td>\n",
       "      <td>NaN</td>\n",
       "      <td>NaN</td>\n",
       "      <td>NaN</td>\n",
       "      <td>NaN</td>\n",
       "      <td>NaN</td>\n",
       "      <td>NaN</td>\n",
       "      <td>NaN</td>\n",
       "      <td>NaN</td>\n",
       "      <td>NaN</td>\n",
       "      <td>NaN</td>\n",
       "      <td>NaN</td>\n",
       "      <td>NaN</td>\n",
       "    </tr>\n",
       "    <tr>\n",
       "      <th>CSAR_erk2_11.sdf_0</th>\n",
       "      <td>NaN</td>\n",
       "      <td>NaN</td>\n",
       "      <td>NaN</td>\n",
       "      <td>NaN</td>\n",
       "      <td>NaN</td>\n",
       "      <td>NaN</td>\n",
       "      <td>NaN</td>\n",
       "      <td>NaN</td>\n",
       "      <td>NaN</td>\n",
       "      <td>NaN</td>\n",
       "      <td>NaN</td>\n",
       "      <td>NaN</td>\n",
       "      <td>NaN</td>\n",
       "      <td>NaN</td>\n",
       "      <td>NaN</td>\n",
       "      <td>NaN</td>\n",
       "      <td>NaN</td>\n",
       "      <td>NaN</td>\n",
       "      <td>NaN</td>\n",
       "      <td>NaN</td>\n",
       "    </tr>\n",
       "    <tr>\n",
       "      <th>CSAR_erk2_12.sdf_0</th>\n",
       "      <td>NaN</td>\n",
       "      <td>NaN</td>\n",
       "      <td>NaN</td>\n",
       "      <td>NaN</td>\n",
       "      <td>NaN</td>\n",
       "      <td>NaN</td>\n",
       "      <td>NaN</td>\n",
       "      <td>NaN</td>\n",
       "      <td>NaN</td>\n",
       "      <td>NaN</td>\n",
       "      <td>NaN</td>\n",
       "      <td>NaN</td>\n",
       "      <td>NaN</td>\n",
       "      <td>NaN</td>\n",
       "      <td>NaN</td>\n",
       "      <td>NaN</td>\n",
       "      <td>NaN</td>\n",
       "      <td>NaN</td>\n",
       "      <td>NaN</td>\n",
       "      <td>NaN</td>\n",
       "    </tr>\n",
       "    <tr>\n",
       "      <th>CSAR_erk2_13.sdf_0</th>\n",
       "      <td>NaN</td>\n",
       "      <td>NaN</td>\n",
       "      <td>NaN</td>\n",
       "      <td>NaN</td>\n",
       "      <td>NaN</td>\n",
       "      <td>NaN</td>\n",
       "      <td>NaN</td>\n",
       "      <td>NaN</td>\n",
       "      <td>NaN</td>\n",
       "      <td>NaN</td>\n",
       "      <td>NaN</td>\n",
       "      <td>NaN</td>\n",
       "      <td>NaN</td>\n",
       "      <td>NaN</td>\n",
       "      <td>NaN</td>\n",
       "      <td>NaN</td>\n",
       "      <td>NaN</td>\n",
       "      <td>NaN</td>\n",
       "      <td>NaN</td>\n",
       "      <td>NaN</td>\n",
       "    </tr>\n",
       "    <tr>\n",
       "      <th>...</th>\n",
       "      <td>...</td>\n",
       "      <td>...</td>\n",
       "      <td>...</td>\n",
       "      <td>...</td>\n",
       "      <td>...</td>\n",
       "      <td>...</td>\n",
       "      <td>...</td>\n",
       "      <td>...</td>\n",
       "      <td>...</td>\n",
       "      <td>...</td>\n",
       "      <td>...</td>\n",
       "      <td>...</td>\n",
       "      <td>...</td>\n",
       "      <td>...</td>\n",
       "      <td>...</td>\n",
       "      <td>...</td>\n",
       "      <td>...</td>\n",
       "      <td>...</td>\n",
       "      <td>...</td>\n",
       "      <td>...</td>\n",
       "    </tr>\n",
       "    <tr>\n",
       "      <th>erk2_49.sdf_0</th>\n",
       "      <td>NaN</td>\n",
       "      <td>NaN</td>\n",
       "      <td>NaN</td>\n",
       "      <td>NaN</td>\n",
       "      <td>NaN</td>\n",
       "      <td>NaN</td>\n",
       "      <td>NaN</td>\n",
       "      <td>NaN</td>\n",
       "      <td>NaN</td>\n",
       "      <td>NaN</td>\n",
       "      <td>NaN</td>\n",
       "      <td>NaN</td>\n",
       "      <td>NaN</td>\n",
       "      <td>NaN</td>\n",
       "      <td>NaN</td>\n",
       "      <td>NaN</td>\n",
       "      <td>NaN</td>\n",
       "      <td>NaN</td>\n",
       "      <td>NaN</td>\n",
       "      <td>NaN</td>\n",
       "    </tr>\n",
       "    <tr>\n",
       "      <th>erk2_50.sdf_0</th>\n",
       "      <td>NaN</td>\n",
       "      <td>NaN</td>\n",
       "      <td>NaN</td>\n",
       "      <td>NaN</td>\n",
       "      <td>NaN</td>\n",
       "      <td>NaN</td>\n",
       "      <td>NaN</td>\n",
       "      <td>NaN</td>\n",
       "      <td>NaN</td>\n",
       "      <td>NaN</td>\n",
       "      <td>NaN</td>\n",
       "      <td>NaN</td>\n",
       "      <td>NaN</td>\n",
       "      <td>NaN</td>\n",
       "      <td>NaN</td>\n",
       "      <td>NaN</td>\n",
       "      <td>NaN</td>\n",
       "      <td>NaN</td>\n",
       "      <td>NaN</td>\n",
       "      <td>NaN</td>\n",
       "    </tr>\n",
       "    <tr>\n",
       "      <th>erk2_51.sdf_0</th>\n",
       "      <td>NaN</td>\n",
       "      <td>NaN</td>\n",
       "      <td>NaN</td>\n",
       "      <td>NaN</td>\n",
       "      <td>NaN</td>\n",
       "      <td>NaN</td>\n",
       "      <td>NaN</td>\n",
       "      <td>NaN</td>\n",
       "      <td>NaN</td>\n",
       "      <td>NaN</td>\n",
       "      <td>NaN</td>\n",
       "      <td>NaN</td>\n",
       "      <td>NaN</td>\n",
       "      <td>NaN</td>\n",
       "      <td>NaN</td>\n",
       "      <td>NaN</td>\n",
       "      <td>NaN</td>\n",
       "      <td>NaN</td>\n",
       "      <td>NaN</td>\n",
       "      <td>NaN</td>\n",
       "    </tr>\n",
       "    <tr>\n",
       "      <th>erk2_52.sdf_0</th>\n",
       "      <td>NaN</td>\n",
       "      <td>NaN</td>\n",
       "      <td>NaN</td>\n",
       "      <td>NaN</td>\n",
       "      <td>NaN</td>\n",
       "      <td>NaN</td>\n",
       "      <td>NaN</td>\n",
       "      <td>NaN</td>\n",
       "      <td>NaN</td>\n",
       "      <td>NaN</td>\n",
       "      <td>NaN</td>\n",
       "      <td>NaN</td>\n",
       "      <td>NaN</td>\n",
       "      <td>NaN</td>\n",
       "      <td>NaN</td>\n",
       "      <td>NaN</td>\n",
       "      <td>NaN</td>\n",
       "      <td>NaN</td>\n",
       "      <td>NaN</td>\n",
       "      <td>NaN</td>\n",
       "    </tr>\n",
       "    <tr>\n",
       "      <th>erk2_53.sdf_0</th>\n",
       "      <td>NaN</td>\n",
       "      <td>NaN</td>\n",
       "      <td>NaN</td>\n",
       "      <td>NaN</td>\n",
       "      <td>NaN</td>\n",
       "      <td>NaN</td>\n",
       "      <td>NaN</td>\n",
       "      <td>NaN</td>\n",
       "      <td>NaN</td>\n",
       "      <td>NaN</td>\n",
       "      <td>NaN</td>\n",
       "      <td>NaN</td>\n",
       "      <td>NaN</td>\n",
       "      <td>NaN</td>\n",
       "      <td>NaN</td>\n",
       "      <td>NaN</td>\n",
       "      <td>NaN</td>\n",
       "      <td>NaN</td>\n",
       "      <td>NaN</td>\n",
       "      <td>NaN</td>\n",
       "    </tr>\n",
       "  </tbody>\n",
       "</table>\n",
       "<p>86 rows × 20 columns</p>\n",
       "</div>"
      ],
      "text/plain": [
       "                    Unit Weights.Wgamma1  Unit Weights.Wgamma2  \\\n",
       "row ID                                                           \n",
       "CSAR_erk2_1.sdf_0                    NaN                   NaN   \n",
       "CSAR_erk2_10.sdf_0                   NaN                   NaN   \n",
       "CSAR_erk2_11.sdf_0                   NaN                   NaN   \n",
       "CSAR_erk2_12.sdf_0                   NaN                   NaN   \n",
       "CSAR_erk2_13.sdf_0                   NaN                   NaN   \n",
       "...                                  ...                   ...   \n",
       "erk2_49.sdf_0                        NaN                   NaN   \n",
       "erk2_50.sdf_0                        NaN                   NaN   \n",
       "erk2_51.sdf_0                        NaN                   NaN   \n",
       "erk2_52.sdf_0                        NaN                   NaN   \n",
       "erk2_53.sdf_0                        NaN                   NaN   \n",
       "\n",
       "                    Unit Weights.Wgamma3  Unit Weights.WG  \\\n",
       "row ID                                                      \n",
       "CSAR_erk2_1.sdf_0                    NaN              NaN   \n",
       "CSAR_erk2_10.sdf_0                   NaN              NaN   \n",
       "CSAR_erk2_11.sdf_0                   NaN              NaN   \n",
       "CSAR_erk2_12.sdf_0                   NaN              NaN   \n",
       "CSAR_erk2_13.sdf_0                   NaN              NaN   \n",
       "...                                  ...              ...   \n",
       "erk2_49.sdf_0                        NaN              NaN   \n",
       "erk2_50.sdf_0                        NaN              NaN   \n",
       "erk2_51.sdf_0                        NaN              NaN   \n",
       "erk2_52.sdf_0                        NaN              NaN   \n",
       "erk2_53.sdf_0                        NaN              NaN   \n",
       "\n",
       "                    Atomic Masses.Wgamma1  Atomic Masses.Wgamma2  \\\n",
       "row ID                                                             \n",
       "CSAR_erk2_1.sdf_0                     NaN                    NaN   \n",
       "CSAR_erk2_10.sdf_0                    NaN                    NaN   \n",
       "CSAR_erk2_11.sdf_0                    NaN                    NaN   \n",
       "CSAR_erk2_12.sdf_0                    NaN                    NaN   \n",
       "CSAR_erk2_13.sdf_0                    NaN                    NaN   \n",
       "...                                   ...                    ...   \n",
       "erk2_49.sdf_0                         NaN                    NaN   \n",
       "erk2_50.sdf_0                         NaN                    NaN   \n",
       "erk2_51.sdf_0                         NaN                    NaN   \n",
       "erk2_52.sdf_0                         NaN                    NaN   \n",
       "erk2_53.sdf_0                         NaN                    NaN   \n",
       "\n",
       "                    Atomic Masses.Wgamma3  Atomic Masses.WG  \\\n",
       "row ID                                                        \n",
       "CSAR_erk2_1.sdf_0                     NaN               NaN   \n",
       "CSAR_erk2_10.sdf_0                    NaN               NaN   \n",
       "CSAR_erk2_11.sdf_0                    NaN               NaN   \n",
       "CSAR_erk2_12.sdf_0                    NaN               NaN   \n",
       "CSAR_erk2_13.sdf_0                    NaN               NaN   \n",
       "...                                   ...               ...   \n",
       "erk2_49.sdf_0                         NaN               NaN   \n",
       "erk2_50.sdf_0                         NaN               NaN   \n",
       "erk2_51.sdf_0                         NaN               NaN   \n",
       "erk2_52.sdf_0                         NaN               NaN   \n",
       "erk2_53.sdf_0                         NaN               NaN   \n",
       "\n",
       "                    Atomic Polarizabilities.Wgamma1  \\\n",
       "row ID                                                \n",
       "CSAR_erk2_1.sdf_0                               NaN   \n",
       "CSAR_erk2_10.sdf_0                              NaN   \n",
       "CSAR_erk2_11.sdf_0                              NaN   \n",
       "CSAR_erk2_12.sdf_0                              NaN   \n",
       "CSAR_erk2_13.sdf_0                              NaN   \n",
       "...                                             ...   \n",
       "erk2_49.sdf_0                                   NaN   \n",
       "erk2_50.sdf_0                                   NaN   \n",
       "erk2_51.sdf_0                                   NaN   \n",
       "erk2_52.sdf_0                                   NaN   \n",
       "erk2_53.sdf_0                                   NaN   \n",
       "\n",
       "                    Atomic Polarizabilities.Wgamma2  \\\n",
       "row ID                                                \n",
       "CSAR_erk2_1.sdf_0                               NaN   \n",
       "CSAR_erk2_10.sdf_0                              NaN   \n",
       "CSAR_erk2_11.sdf_0                              NaN   \n",
       "CSAR_erk2_12.sdf_0                              NaN   \n",
       "CSAR_erk2_13.sdf_0                              NaN   \n",
       "...                                             ...   \n",
       "erk2_49.sdf_0                                   NaN   \n",
       "erk2_50.sdf_0                                   NaN   \n",
       "erk2_51.sdf_0                                   NaN   \n",
       "erk2_52.sdf_0                                   NaN   \n",
       "erk2_53.sdf_0                                   NaN   \n",
       "\n",
       "                    Atomic Polarizabilities.Wgamma3  \\\n",
       "row ID                                                \n",
       "CSAR_erk2_1.sdf_0                               NaN   \n",
       "CSAR_erk2_10.sdf_0                              NaN   \n",
       "CSAR_erk2_11.sdf_0                              NaN   \n",
       "CSAR_erk2_12.sdf_0                              NaN   \n",
       "CSAR_erk2_13.sdf_0                              NaN   \n",
       "...                                             ...   \n",
       "erk2_49.sdf_0                                   NaN   \n",
       "erk2_50.sdf_0                                   NaN   \n",
       "erk2_51.sdf_0                                   NaN   \n",
       "erk2_52.sdf_0                                   NaN   \n",
       "erk2_53.sdf_0                                   NaN   \n",
       "\n",
       "                    Atomic Polarizabilities.WG  VdW Volumes.Wgamma1  \\\n",
       "row ID                                                                \n",
       "CSAR_erk2_1.sdf_0                          NaN                  NaN   \n",
       "CSAR_erk2_10.sdf_0                         NaN                  NaN   \n",
       "CSAR_erk2_11.sdf_0                         NaN                  NaN   \n",
       "CSAR_erk2_12.sdf_0                         NaN                  NaN   \n",
       "CSAR_erk2_13.sdf_0                         NaN                  NaN   \n",
       "...                                        ...                  ...   \n",
       "erk2_49.sdf_0                              NaN                  NaN   \n",
       "erk2_50.sdf_0                              NaN                  NaN   \n",
       "erk2_51.sdf_0                              NaN                  NaN   \n",
       "erk2_52.sdf_0                              NaN                  NaN   \n",
       "erk2_53.sdf_0                              NaN                  NaN   \n",
       "\n",
       "                    VdW Volumes.Wgamma2  VdW Volumes.Wgamma3  VdW Volumes.WG  \\\n",
       "row ID                                                                         \n",
       "CSAR_erk2_1.sdf_0                   NaN                  NaN             NaN   \n",
       "CSAR_erk2_10.sdf_0                  NaN                  NaN             NaN   \n",
       "CSAR_erk2_11.sdf_0                  NaN                  NaN             NaN   \n",
       "CSAR_erk2_12.sdf_0                  NaN                  NaN             NaN   \n",
       "CSAR_erk2_13.sdf_0                  NaN                  NaN             NaN   \n",
       "...                                 ...                  ...             ...   \n",
       "erk2_49.sdf_0                       NaN                  NaN             NaN   \n",
       "erk2_50.sdf_0                       NaN                  NaN             NaN   \n",
       "erk2_51.sdf_0                       NaN                  NaN             NaN   \n",
       "erk2_52.sdf_0                       NaN                  NaN             NaN   \n",
       "erk2_53.sdf_0                       NaN                  NaN             NaN   \n",
       "\n",
       "                    Atomic Electronegativities.Wgamma1  \\\n",
       "row ID                                                   \n",
       "CSAR_erk2_1.sdf_0                                  NaN   \n",
       "CSAR_erk2_10.sdf_0                                 NaN   \n",
       "CSAR_erk2_11.sdf_0                                 NaN   \n",
       "CSAR_erk2_12.sdf_0                                 NaN   \n",
       "CSAR_erk2_13.sdf_0                                 NaN   \n",
       "...                                                ...   \n",
       "erk2_49.sdf_0                                      NaN   \n",
       "erk2_50.sdf_0                                      NaN   \n",
       "erk2_51.sdf_0                                      NaN   \n",
       "erk2_52.sdf_0                                      NaN   \n",
       "erk2_53.sdf_0                                      NaN   \n",
       "\n",
       "                    Atomic Electronegativities.Wgamma2  \\\n",
       "row ID                                                   \n",
       "CSAR_erk2_1.sdf_0                                  NaN   \n",
       "CSAR_erk2_10.sdf_0                                 NaN   \n",
       "CSAR_erk2_11.sdf_0                                 NaN   \n",
       "CSAR_erk2_12.sdf_0                                 NaN   \n",
       "CSAR_erk2_13.sdf_0                                 NaN   \n",
       "...                                                ...   \n",
       "erk2_49.sdf_0                                      NaN   \n",
       "erk2_50.sdf_0                                      NaN   \n",
       "erk2_51.sdf_0                                      NaN   \n",
       "erk2_52.sdf_0                                      NaN   \n",
       "erk2_53.sdf_0                                      NaN   \n",
       "\n",
       "                    Atomic Electronegativities.Wgamma3  \\\n",
       "row ID                                                   \n",
       "CSAR_erk2_1.sdf_0                                  NaN   \n",
       "CSAR_erk2_10.sdf_0                                 NaN   \n",
       "CSAR_erk2_11.sdf_0                                 NaN   \n",
       "CSAR_erk2_12.sdf_0                                 NaN   \n",
       "CSAR_erk2_13.sdf_0                                 NaN   \n",
       "...                                                ...   \n",
       "erk2_49.sdf_0                                      NaN   \n",
       "erk2_50.sdf_0                                      NaN   \n",
       "erk2_51.sdf_0                                      NaN   \n",
       "erk2_52.sdf_0                                      NaN   \n",
       "erk2_53.sdf_0                                      NaN   \n",
       "\n",
       "                    Atomic Electronegativities.WG  \n",
       "row ID                                             \n",
       "CSAR_erk2_1.sdf_0                             NaN  \n",
       "CSAR_erk2_10.sdf_0                            NaN  \n",
       "CSAR_erk2_11.sdf_0                            NaN  \n",
       "CSAR_erk2_12.sdf_0                            NaN  \n",
       "CSAR_erk2_13.sdf_0                            NaN  \n",
       "...                                           ...  \n",
       "erk2_49.sdf_0                                 NaN  \n",
       "erk2_50.sdf_0                                 NaN  \n",
       "erk2_51.sdf_0                                 NaN  \n",
       "erk2_52.sdf_0                                 NaN  \n",
       "erk2_53.sdf_0                                 NaN  \n",
       "\n",
       "[86 rows x 20 columns]"
      ]
     },
     "execution_count": 52,
     "metadata": {},
     "output_type": "execute_result"
    }
   ],
   "source": [
    "whim_knime_all.loc[:, whim_knime_all.columns.str.contains('gamma|G')]"
   ]
  },
  {
   "cell_type": "code",
   "execution_count": 53,
   "metadata": {},
   "outputs": [
    {
     "data": {
      "text/html": [
       "<div>\n",
       "<style scoped>\n",
       "    .dataframe tbody tr th:only-of-type {\n",
       "        vertical-align: middle;\n",
       "    }\n",
       "\n",
       "    .dataframe tbody tr th {\n",
       "        vertical-align: top;\n",
       "    }\n",
       "\n",
       "    .dataframe thead th {\n",
       "        text-align: right;\n",
       "    }\n",
       "</style>\n",
       "<table border=\"1\" class=\"dataframe\">\n",
       "  <thead>\n",
       "    <tr style=\"text-align: right;\">\n",
       "      <th></th>\n",
       "      <th>G3u</th>\n",
       "      <th>G2u</th>\n",
       "      <th>G1u</th>\n",
       "      <th>Gu</th>\n",
       "      <th>G3m</th>\n",
       "      <th>G2m</th>\n",
       "      <th>G1m</th>\n",
       "      <th>Gm</th>\n",
       "      <th>G3p</th>\n",
       "      <th>G2p</th>\n",
       "      <th>G1p</th>\n",
       "      <th>Gp</th>\n",
       "      <th>G3v</th>\n",
       "      <th>G2v</th>\n",
       "      <th>G1v</th>\n",
       "      <th>Gv</th>\n",
       "      <th>G3e</th>\n",
       "      <th>G2e</th>\n",
       "      <th>G1e</th>\n",
       "      <th>Ge</th>\n",
       "    </tr>\n",
       "    <tr>\n",
       "      <th>row ID</th>\n",
       "      <th></th>\n",
       "      <th></th>\n",
       "      <th></th>\n",
       "      <th></th>\n",
       "      <th></th>\n",
       "      <th></th>\n",
       "      <th></th>\n",
       "      <th></th>\n",
       "      <th></th>\n",
       "      <th></th>\n",
       "      <th></th>\n",
       "      <th></th>\n",
       "      <th></th>\n",
       "      <th></th>\n",
       "      <th></th>\n",
       "      <th></th>\n",
       "      <th></th>\n",
       "      <th></th>\n",
       "      <th></th>\n",
       "      <th></th>\n",
       "    </tr>\n",
       "  </thead>\n",
       "  <tbody>\n",
       "    <tr>\n",
       "      <th>CSAR_erk2_1.sdf_0</th>\n",
       "      <td>NaN</td>\n",
       "      <td>NaN</td>\n",
       "      <td>NaN</td>\n",
       "      <td>NaN</td>\n",
       "      <td>NaN</td>\n",
       "      <td>NaN</td>\n",
       "      <td>NaN</td>\n",
       "      <td>NaN</td>\n",
       "      <td>NaN</td>\n",
       "      <td>NaN</td>\n",
       "      <td>NaN</td>\n",
       "      <td>NaN</td>\n",
       "      <td>NaN</td>\n",
       "      <td>NaN</td>\n",
       "      <td>NaN</td>\n",
       "      <td>NaN</td>\n",
       "      <td>NaN</td>\n",
       "      <td>NaN</td>\n",
       "      <td>NaN</td>\n",
       "      <td>NaN</td>\n",
       "    </tr>\n",
       "    <tr>\n",
       "      <th>CSAR_erk2_10.sdf_0</th>\n",
       "      <td>NaN</td>\n",
       "      <td>NaN</td>\n",
       "      <td>NaN</td>\n",
       "      <td>NaN</td>\n",
       "      <td>NaN</td>\n",
       "      <td>NaN</td>\n",
       "      <td>NaN</td>\n",
       "      <td>NaN</td>\n",
       "      <td>NaN</td>\n",
       "      <td>NaN</td>\n",
       "      <td>NaN</td>\n",
       "      <td>NaN</td>\n",
       "      <td>NaN</td>\n",
       "      <td>NaN</td>\n",
       "      <td>NaN</td>\n",
       "      <td>NaN</td>\n",
       "      <td>NaN</td>\n",
       "      <td>NaN</td>\n",
       "      <td>NaN</td>\n",
       "      <td>NaN</td>\n",
       "    </tr>\n",
       "    <tr>\n",
       "      <th>CSAR_erk2_11.sdf_0</th>\n",
       "      <td>NaN</td>\n",
       "      <td>NaN</td>\n",
       "      <td>NaN</td>\n",
       "      <td>NaN</td>\n",
       "      <td>NaN</td>\n",
       "      <td>NaN</td>\n",
       "      <td>NaN</td>\n",
       "      <td>NaN</td>\n",
       "      <td>NaN</td>\n",
       "      <td>NaN</td>\n",
       "      <td>NaN</td>\n",
       "      <td>NaN</td>\n",
       "      <td>NaN</td>\n",
       "      <td>NaN</td>\n",
       "      <td>NaN</td>\n",
       "      <td>NaN</td>\n",
       "      <td>NaN</td>\n",
       "      <td>NaN</td>\n",
       "      <td>NaN</td>\n",
       "      <td>NaN</td>\n",
       "    </tr>\n",
       "    <tr>\n",
       "      <th>CSAR_erk2_12.sdf_0</th>\n",
       "      <td>NaN</td>\n",
       "      <td>NaN</td>\n",
       "      <td>NaN</td>\n",
       "      <td>NaN</td>\n",
       "      <td>NaN</td>\n",
       "      <td>NaN</td>\n",
       "      <td>NaN</td>\n",
       "      <td>NaN</td>\n",
       "      <td>NaN</td>\n",
       "      <td>NaN</td>\n",
       "      <td>NaN</td>\n",
       "      <td>NaN</td>\n",
       "      <td>NaN</td>\n",
       "      <td>NaN</td>\n",
       "      <td>NaN</td>\n",
       "      <td>NaN</td>\n",
       "      <td>NaN</td>\n",
       "      <td>NaN</td>\n",
       "      <td>NaN</td>\n",
       "      <td>NaN</td>\n",
       "    </tr>\n",
       "    <tr>\n",
       "      <th>CSAR_erk2_13.sdf_0</th>\n",
       "      <td>NaN</td>\n",
       "      <td>NaN</td>\n",
       "      <td>NaN</td>\n",
       "      <td>NaN</td>\n",
       "      <td>NaN</td>\n",
       "      <td>NaN</td>\n",
       "      <td>NaN</td>\n",
       "      <td>NaN</td>\n",
       "      <td>NaN</td>\n",
       "      <td>NaN</td>\n",
       "      <td>NaN</td>\n",
       "      <td>NaN</td>\n",
       "      <td>NaN</td>\n",
       "      <td>NaN</td>\n",
       "      <td>NaN</td>\n",
       "      <td>NaN</td>\n",
       "      <td>NaN</td>\n",
       "      <td>NaN</td>\n",
       "      <td>NaN</td>\n",
       "      <td>NaN</td>\n",
       "    </tr>\n",
       "    <tr>\n",
       "      <th>...</th>\n",
       "      <td>...</td>\n",
       "      <td>...</td>\n",
       "      <td>...</td>\n",
       "      <td>...</td>\n",
       "      <td>...</td>\n",
       "      <td>...</td>\n",
       "      <td>...</td>\n",
       "      <td>...</td>\n",
       "      <td>...</td>\n",
       "      <td>...</td>\n",
       "      <td>...</td>\n",
       "      <td>...</td>\n",
       "      <td>...</td>\n",
       "      <td>...</td>\n",
       "      <td>...</td>\n",
       "      <td>...</td>\n",
       "      <td>...</td>\n",
       "      <td>...</td>\n",
       "      <td>...</td>\n",
       "      <td>...</td>\n",
       "    </tr>\n",
       "    <tr>\n",
       "      <th>erk2_49.sdf_0</th>\n",
       "      <td>NaN</td>\n",
       "      <td>NaN</td>\n",
       "      <td>NaN</td>\n",
       "      <td>NaN</td>\n",
       "      <td>NaN</td>\n",
       "      <td>NaN</td>\n",
       "      <td>NaN</td>\n",
       "      <td>NaN</td>\n",
       "      <td>NaN</td>\n",
       "      <td>NaN</td>\n",
       "      <td>NaN</td>\n",
       "      <td>NaN</td>\n",
       "      <td>NaN</td>\n",
       "      <td>NaN</td>\n",
       "      <td>NaN</td>\n",
       "      <td>NaN</td>\n",
       "      <td>NaN</td>\n",
       "      <td>NaN</td>\n",
       "      <td>NaN</td>\n",
       "      <td>NaN</td>\n",
       "    </tr>\n",
       "    <tr>\n",
       "      <th>erk2_50.sdf_0</th>\n",
       "      <td>NaN</td>\n",
       "      <td>NaN</td>\n",
       "      <td>NaN</td>\n",
       "      <td>NaN</td>\n",
       "      <td>NaN</td>\n",
       "      <td>NaN</td>\n",
       "      <td>NaN</td>\n",
       "      <td>NaN</td>\n",
       "      <td>NaN</td>\n",
       "      <td>NaN</td>\n",
       "      <td>NaN</td>\n",
       "      <td>NaN</td>\n",
       "      <td>NaN</td>\n",
       "      <td>NaN</td>\n",
       "      <td>NaN</td>\n",
       "      <td>NaN</td>\n",
       "      <td>NaN</td>\n",
       "      <td>NaN</td>\n",
       "      <td>NaN</td>\n",
       "      <td>NaN</td>\n",
       "    </tr>\n",
       "    <tr>\n",
       "      <th>erk2_51.sdf_0</th>\n",
       "      <td>NaN</td>\n",
       "      <td>NaN</td>\n",
       "      <td>NaN</td>\n",
       "      <td>NaN</td>\n",
       "      <td>NaN</td>\n",
       "      <td>NaN</td>\n",
       "      <td>NaN</td>\n",
       "      <td>NaN</td>\n",
       "      <td>NaN</td>\n",
       "      <td>NaN</td>\n",
       "      <td>NaN</td>\n",
       "      <td>NaN</td>\n",
       "      <td>NaN</td>\n",
       "      <td>NaN</td>\n",
       "      <td>NaN</td>\n",
       "      <td>NaN</td>\n",
       "      <td>NaN</td>\n",
       "      <td>NaN</td>\n",
       "      <td>NaN</td>\n",
       "      <td>NaN</td>\n",
       "    </tr>\n",
       "    <tr>\n",
       "      <th>erk2_52.sdf_0</th>\n",
       "      <td>NaN</td>\n",
       "      <td>NaN</td>\n",
       "      <td>NaN</td>\n",
       "      <td>NaN</td>\n",
       "      <td>NaN</td>\n",
       "      <td>NaN</td>\n",
       "      <td>NaN</td>\n",
       "      <td>NaN</td>\n",
       "      <td>NaN</td>\n",
       "      <td>NaN</td>\n",
       "      <td>NaN</td>\n",
       "      <td>NaN</td>\n",
       "      <td>NaN</td>\n",
       "      <td>NaN</td>\n",
       "      <td>NaN</td>\n",
       "      <td>NaN</td>\n",
       "      <td>NaN</td>\n",
       "      <td>NaN</td>\n",
       "      <td>NaN</td>\n",
       "      <td>NaN</td>\n",
       "    </tr>\n",
       "    <tr>\n",
       "      <th>erk2_53.sdf_0</th>\n",
       "      <td>NaN</td>\n",
       "      <td>NaN</td>\n",
       "      <td>NaN</td>\n",
       "      <td>NaN</td>\n",
       "      <td>NaN</td>\n",
       "      <td>NaN</td>\n",
       "      <td>NaN</td>\n",
       "      <td>NaN</td>\n",
       "      <td>NaN</td>\n",
       "      <td>NaN</td>\n",
       "      <td>NaN</td>\n",
       "      <td>NaN</td>\n",
       "      <td>NaN</td>\n",
       "      <td>NaN</td>\n",
       "      <td>NaN</td>\n",
       "      <td>NaN</td>\n",
       "      <td>NaN</td>\n",
       "      <td>NaN</td>\n",
       "      <td>NaN</td>\n",
       "      <td>NaN</td>\n",
       "    </tr>\n",
       "  </tbody>\n",
       "</table>\n",
       "<p>86 rows × 20 columns</p>\n",
       "</div>"
      ],
      "text/plain": [
       "                    G3u  G2u  G1u  Gu  G3m  G2m  G1m  Gm  G3p  G2p  G1p  Gp  \\\n",
       "row ID                                                                        \n",
       "CSAR_erk2_1.sdf_0   NaN  NaN  NaN NaN  NaN  NaN  NaN NaN  NaN  NaN  NaN NaN   \n",
       "CSAR_erk2_10.sdf_0  NaN  NaN  NaN NaN  NaN  NaN  NaN NaN  NaN  NaN  NaN NaN   \n",
       "CSAR_erk2_11.sdf_0  NaN  NaN  NaN NaN  NaN  NaN  NaN NaN  NaN  NaN  NaN NaN   \n",
       "CSAR_erk2_12.sdf_0  NaN  NaN  NaN NaN  NaN  NaN  NaN NaN  NaN  NaN  NaN NaN   \n",
       "CSAR_erk2_13.sdf_0  NaN  NaN  NaN NaN  NaN  NaN  NaN NaN  NaN  NaN  NaN NaN   \n",
       "...                 ...  ...  ...  ..  ...  ...  ...  ..  ...  ...  ...  ..   \n",
       "erk2_49.sdf_0       NaN  NaN  NaN NaN  NaN  NaN  NaN NaN  NaN  NaN  NaN NaN   \n",
       "erk2_50.sdf_0       NaN  NaN  NaN NaN  NaN  NaN  NaN NaN  NaN  NaN  NaN NaN   \n",
       "erk2_51.sdf_0       NaN  NaN  NaN NaN  NaN  NaN  NaN NaN  NaN  NaN  NaN NaN   \n",
       "erk2_52.sdf_0       NaN  NaN  NaN NaN  NaN  NaN  NaN NaN  NaN  NaN  NaN NaN   \n",
       "erk2_53.sdf_0       NaN  NaN  NaN NaN  NaN  NaN  NaN NaN  NaN  NaN  NaN NaN   \n",
       "\n",
       "                    G3v  G2v  G1v  Gv  G3e  G2e  G1e  Ge  \n",
       "row ID                                                    \n",
       "CSAR_erk2_1.sdf_0   NaN  NaN  NaN NaN  NaN  NaN  NaN NaN  \n",
       "CSAR_erk2_10.sdf_0  NaN  NaN  NaN NaN  NaN  NaN  NaN NaN  \n",
       "CSAR_erk2_11.sdf_0  NaN  NaN  NaN NaN  NaN  NaN  NaN NaN  \n",
       "CSAR_erk2_12.sdf_0  NaN  NaN  NaN NaN  NaN  NaN  NaN NaN  \n",
       "CSAR_erk2_13.sdf_0  NaN  NaN  NaN NaN  NaN  NaN  NaN NaN  \n",
       "...                 ...  ...  ...  ..  ...  ...  ...  ..  \n",
       "erk2_49.sdf_0       NaN  NaN  NaN NaN  NaN  NaN  NaN NaN  \n",
       "erk2_50.sdf_0       NaN  NaN  NaN NaN  NaN  NaN  NaN NaN  \n",
       "erk2_51.sdf_0       NaN  NaN  NaN NaN  NaN  NaN  NaN NaN  \n",
       "erk2_52.sdf_0       NaN  NaN  NaN NaN  NaN  NaN  NaN NaN  \n",
       "erk2_53.sdf_0       NaN  NaN  NaN NaN  NaN  NaN  NaN NaN  \n",
       "\n",
       "[86 rows x 20 columns]"
      ]
     },
     "execution_count": 53,
     "metadata": {},
     "output_type": "execute_result"
    }
   ],
   "source": [
    "whim_knime_all_names_updated.loc[:, whim_knime_all_names_updated.columns.str.contains('G')]"
   ]
  },
  {
   "cell_type": "markdown",
   "metadata": {},
   "source": [
    "***\n",
    "<div style='background-color: #F9E5AB; padding: 1px 2px 5px 10px; font-size: 1em;'>\n",
    "    <h1 class='text-danger'>USR or 3D D-MOMENTS </h1>\n",
    "</div>\n",
    "\n",
    "\n",
    "Descriptors computed using [3D D-Moments](https://hub.knime.com/egonw/extensions/org.openscience.cdk.knime.feature/latest/org.openscience.cdk.knime.nodes.descriptors.distance3d.Distance3dNodeFactory). These descriptors are known as *'Ultra-fast shape recognition'* (**USR**), and were initially purposed by [Ballester and Graham (2007)](https://royalsocietypublishing.org/doi/10.1098/rspa.2007.1823). The intuition is the following:\n",
    "> - USR is based on the idea that the shape of a molecule is determined by the relative position of its atoms.\n",
    "- Therefore, molecular alignment (superposition) is not needed.\n",
    "- The molecule is considered as a bound of particles (*atoms*) instead of a solid body.\n",
    "- A dimensionality reduction is applied: The three dimensional shape information is retain by a set of one-dimensional distributions.\n",
    "- These distributions are taken from all the atomic distances (euclidean distances) to the four different locations:\n",
    "    - **Ctd**: *Molecular centroid.*\n",
    "    - **Cst**: *Closest atom to Ctd*\n",
    "    - **Fct**: *Farthest atom to Ctd*\n",
    "    - **Ftf**: *Farthest atom to Fct*\n",
    "- These locations are independent of molecular orientation and position.\n",
    "- Mean, standard deviation and skewness are used over the atom distances from these locations to let to compare molecules with different number of atoms.\n",
    "\n",
    "#### KNIME"
   ]
  },
  {
   "cell_type": "code",
   "execution_count": 54,
   "metadata": {},
   "outputs": [],
   "source": [
    "# Load the results generated using KNIME and the node WHIM 3D\n",
    "moments_knime_all = pd.read_csv('./knime/3dmoments_rdki_knime.csv')\n",
    "# For comparation purposes we'll only keep one molecule\n",
    "# Descriptors start from the eigth colum\n",
    "moments_knime = moments_knime_all.iloc[[0, 1], 7:]\n",
    "moments_knime.index = ['csar_1', 'csar_10']\n",
    "moments_knime = moments_knime.T"
   ]
  },
  {
   "cell_type": "markdown",
   "metadata": {},
   "source": [
    "These descriptors are the following:"
   ]
  },
  {
   "cell_type": "code",
   "execution_count": 55,
   "metadata": {},
   "outputs": [
    {
     "data": {
      "text/html": [
       "<div>\n",
       "<style scoped>\n",
       "    .dataframe tbody tr th:only-of-type {\n",
       "        vertical-align: middle;\n",
       "    }\n",
       "\n",
       "    .dataframe tbody tr th {\n",
       "        vertical-align: top;\n",
       "    }\n",
       "\n",
       "    .dataframe thead th {\n",
       "        text-align: right;\n",
       "    }\n",
       "</style>\n",
       "<table border=\"1\" class=\"dataframe\">\n",
       "  <thead>\n",
       "    <tr style=\"text-align: right;\">\n",
       "      <th></th>\n",
       "      <th>csar_1</th>\n",
       "    </tr>\n",
       "  </thead>\n",
       "  <tbody>\n",
       "    <tr>\n",
       "      <th>Ctd-Mean</th>\n",
       "      <td>3.350091</td>\n",
       "    </tr>\n",
       "    <tr>\n",
       "      <th>Ctd-Sigma</th>\n",
       "      <td>1.272858</td>\n",
       "    </tr>\n",
       "    <tr>\n",
       "      <th>Ctd-Skewness</th>\n",
       "      <td>-0.008724</td>\n",
       "    </tr>\n",
       "    <tr>\n",
       "      <th>Cst-Mean</th>\n",
       "      <td>3.446493</td>\n",
       "    </tr>\n",
       "    <tr>\n",
       "      <th>Cst-Sigma</th>\n",
       "      <td>1.989122</td>\n",
       "    </tr>\n",
       "    <tr>\n",
       "      <th>Cst-Skewness</th>\n",
       "      <td>-0.585295</td>\n",
       "    </tr>\n",
       "    <tr>\n",
       "      <th>Fct-Mean</th>\n",
       "      <td>6.098801</td>\n",
       "    </tr>\n",
       "    <tr>\n",
       "      <th>Fct-Sigma</th>\n",
       "      <td>7.086076</td>\n",
       "    </tr>\n",
       "    <tr>\n",
       "      <th>Fct-Skewness</th>\n",
       "      <td>-0.673957</td>\n",
       "    </tr>\n",
       "    <tr>\n",
       "      <th>Ftf-Mean</th>\n",
       "      <td>4.936628</td>\n",
       "    </tr>\n",
       "    <tr>\n",
       "      <th>Ftf-Sigma</th>\n",
       "      <td>6.880456</td>\n",
       "    </tr>\n",
       "    <tr>\n",
       "      <th>Ftf-Skewness</th>\n",
       "      <td>-0.006238</td>\n",
       "    </tr>\n",
       "  </tbody>\n",
       "</table>\n",
       "</div>"
      ],
      "text/plain": [
       "                csar_1\n",
       "Ctd-Mean      3.350091\n",
       "Ctd-Sigma     1.272858\n",
       "Ctd-Skewness -0.008724\n",
       "Cst-Mean      3.446493\n",
       "Cst-Sigma     1.989122\n",
       "Cst-Skewness -0.585295\n",
       "Fct-Mean      6.098801\n",
       "Fct-Sigma     7.086076\n",
       "Fct-Skewness -0.673957\n",
       "Ftf-Mean      4.936628\n",
       "Ftf-Sigma     6.880456\n",
       "Ftf-Skewness -0.006238"
      ]
     },
     "execution_count": 55,
     "metadata": {},
     "output_type": "execute_result"
    }
   ],
   "source": [
    "moments_knime.loc[:, ['csar_1']]"
   ]
  },
  {
   "cell_type": "markdown",
   "metadata": {},
   "source": [
    "### RDKIT\n",
    "RDKit computes the USR descriptors through `rdMolDescriptors.GetUSR()` class. Nevertheless, rdkit reports standard deviation and cubic root of skewness instead of variance and skewness. Apparently because this way the 'moments' (descriptors) will have the same units (Angstroms) ([Source](https://github.com/rdkit/rdkit/pull/1417/files)).\n",
    "\n",
    "Moreover, **variance and skewness are calculated using the sample variance formula which uses the Bessel's correction (n - 1), while RDKit implementation computes the variance without that correction.**"
   ]
  },
  {
   "cell_type": "code",
   "execution_count": 56,
   "metadata": {},
   "outputs": [],
   "source": [
    "rdkit_usr = pd.DataFrame(rdMolDescriptors.GetUSR(csar_1),\n",
    "                         columns=['csar_1'], index=moments_knime.index)"
   ]
  },
  {
   "cell_type": "code",
   "execution_count": 57,
   "metadata": {},
   "outputs": [],
   "source": [
    "# Join two dataframes to compare\n",
    "df_usr_csar_1 = pd.concat([rdkit_usr, moments_knime['csar_1']], axis=1)\n",
    "df_usr_csar_1.columns = ['csar_1_RDK', 'csar_1_KNIME']"
   ]
  },
  {
   "cell_type": "markdown",
   "metadata": {},
   "source": [
    "#### Comparing means"
   ]
  },
  {
   "cell_type": "code",
   "execution_count": 58,
   "metadata": {},
   "outputs": [
    {
     "data": {
      "text/html": [
       "<div>\n",
       "<style scoped>\n",
       "    .dataframe tbody tr th:only-of-type {\n",
       "        vertical-align: middle;\n",
       "    }\n",
       "\n",
       "    .dataframe tbody tr th {\n",
       "        vertical-align: top;\n",
       "    }\n",
       "\n",
       "    .dataframe thead th {\n",
       "        text-align: right;\n",
       "    }\n",
       "</style>\n",
       "<table border=\"1\" class=\"dataframe\">\n",
       "  <thead>\n",
       "    <tr style=\"text-align: right;\">\n",
       "      <th></th>\n",
       "      <th>csar_1_RDK</th>\n",
       "      <th>csar_1_KNIME</th>\n",
       "    </tr>\n",
       "  </thead>\n",
       "  <tbody>\n",
       "    <tr>\n",
       "      <th>Ctd-Mean</th>\n",
       "      <td>3.350091</td>\n",
       "      <td>3.350091</td>\n",
       "    </tr>\n",
       "    <tr>\n",
       "      <th>Cst-Mean</th>\n",
       "      <td>3.446493</td>\n",
       "      <td>3.446493</td>\n",
       "    </tr>\n",
       "    <tr>\n",
       "      <th>Fct-Mean</th>\n",
       "      <td>6.098801</td>\n",
       "      <td>6.098801</td>\n",
       "    </tr>\n",
       "    <tr>\n",
       "      <th>Ftf-Mean</th>\n",
       "      <td>4.936629</td>\n",
       "      <td>4.936628</td>\n",
       "    </tr>\n",
       "  </tbody>\n",
       "</table>\n",
       "</div>"
      ],
      "text/plain": [
       "          csar_1_RDK  csar_1_KNIME\n",
       "Ctd-Mean    3.350091      3.350091\n",
       "Cst-Mean    3.446493      3.446493\n",
       "Fct-Mean    6.098801      6.098801\n",
       "Ftf-Mean    4.936629      4.936628"
      ]
     },
     "execution_count": 58,
     "metadata": {},
     "output_type": "execute_result"
    }
   ],
   "source": [
    "df_usr_csar_1.loc[df_usr_csar_1.index.str.contains('Mean')]"
   ]
  },
  {
   "cell_type": "markdown",
   "metadata": {},
   "source": [
    "#### Comparing Sigmas"
   ]
  },
  {
   "cell_type": "code",
   "execution_count": 59,
   "metadata": {},
   "outputs": [
    {
     "data": {
      "text/html": [
       "<div>\n",
       "<style scoped>\n",
       "    .dataframe tbody tr th:only-of-type {\n",
       "        vertical-align: middle;\n",
       "    }\n",
       "\n",
       "    .dataframe tbody tr th {\n",
       "        vertical-align: top;\n",
       "    }\n",
       "\n",
       "    .dataframe thead th {\n",
       "        text-align: right;\n",
       "    }\n",
       "</style>\n",
       "<table border=\"1\" class=\"dataframe\">\n",
       "  <thead>\n",
       "    <tr style=\"text-align: right;\">\n",
       "      <th></th>\n",
       "      <th>csar_1_RDK</th>\n",
       "      <th>csar_1_KNIME</th>\n",
       "    </tr>\n",
       "  </thead>\n",
       "  <tbody>\n",
       "    <tr>\n",
       "      <th>Ctd-Sigma</th>\n",
       "      <td>1.103411</td>\n",
       "      <td>1.272858</td>\n",
       "    </tr>\n",
       "    <tr>\n",
       "      <th>Cst-Sigma</th>\n",
       "      <td>1.379362</td>\n",
       "      <td>1.989122</td>\n",
       "    </tr>\n",
       "    <tr>\n",
       "      <th>Fct-Sigma</th>\n",
       "      <td>2.603456</td>\n",
       "      <td>7.086076</td>\n",
       "    </tr>\n",
       "    <tr>\n",
       "      <th>Ftf-Sigma</th>\n",
       "      <td>2.565406</td>\n",
       "      <td>6.880456</td>\n",
       "    </tr>\n",
       "  </tbody>\n",
       "</table>\n",
       "</div>"
      ],
      "text/plain": [
       "           csar_1_RDK  csar_1_KNIME\n",
       "Ctd-Sigma    1.103411      1.272858\n",
       "Cst-Sigma    1.379362      1.989122\n",
       "Fct-Sigma    2.603456      7.086076\n",
       "Ftf-Sigma    2.565406      6.880456"
      ]
     },
     "execution_count": 59,
     "metadata": {},
     "output_type": "execute_result"
    }
   ],
   "source": [
    "# Let's get the square of these values:\n",
    "df_usr_csar_1.loc[df_usr_csar_1.index.str.contains('Sigma')]"
   ]
  },
  {
   "cell_type": "markdown",
   "metadata": {},
   "source": [
    "RDKit reports standard deviation instead of variances. Let's convert stds from RDKit to variance:"
   ]
  },
  {
   "cell_type": "code",
   "execution_count": 60,
   "metadata": {},
   "outputs": [
    {
     "data": {
      "text/html": [
       "<div>\n",
       "<style scoped>\n",
       "    .dataframe tbody tr th:only-of-type {\n",
       "        vertical-align: middle;\n",
       "    }\n",
       "\n",
       "    .dataframe tbody tr th {\n",
       "        vertical-align: top;\n",
       "    }\n",
       "\n",
       "    .dataframe thead th {\n",
       "        text-align: right;\n",
       "    }\n",
       "</style>\n",
       "<table border=\"1\" class=\"dataframe\">\n",
       "  <thead>\n",
       "    <tr style=\"text-align: right;\">\n",
       "      <th></th>\n",
       "      <th>csar_1_RDK</th>\n",
       "    </tr>\n",
       "  </thead>\n",
       "  <tbody>\n",
       "    <tr>\n",
       "      <th>Ctd-Sigma</th>\n",
       "      <td>1.217516</td>\n",
       "    </tr>\n",
       "    <tr>\n",
       "      <th>Cst-Sigma</th>\n",
       "      <td>1.902638</td>\n",
       "    </tr>\n",
       "    <tr>\n",
       "      <th>Fct-Sigma</th>\n",
       "      <td>6.777985</td>\n",
       "    </tr>\n",
       "    <tr>\n",
       "      <th>Ftf-Sigma</th>\n",
       "      <td>6.581306</td>\n",
       "    </tr>\n",
       "  </tbody>\n",
       "</table>\n",
       "</div>"
      ],
      "text/plain": [
       "           csar_1_RDK\n",
       "Ctd-Sigma    1.217516\n",
       "Cst-Sigma    1.902638\n",
       "Fct-Sigma    6.777985\n",
       "Ftf-Sigma    6.581306"
      ]
     },
     "execution_count": 60,
     "metadata": {},
     "output_type": "execute_result"
    }
   ],
   "source": [
    "df_usr_csar_1.loc[df_usr_csar_1.index.str.contains('Sigma')][['csar_1_RDK']] ** 2"
   ]
  },
  {
   "cell_type": "markdown",
   "metadata": {},
   "source": [
    "However, these still are not the same values. This is due to KNIME computes variance using the sample variance formula:\n",
    "$$\\sigma^2_{KNIME} = \\sum_{i=1}^N \\frac{(x - \\bar{x})^2}{N -1}$$"
   ]
  },
  {
   "cell_type": "markdown",
   "metadata": {},
   "source": [
    "#### Comparing Skewness\n",
    "\n",
    "First of all, RDKit computes the cubic root of skewness."
   ]
  },
  {
   "cell_type": "code",
   "execution_count": 61,
   "metadata": {},
   "outputs": [
    {
     "data": {
      "text/html": [
       "<div>\n",
       "<style scoped>\n",
       "    .dataframe tbody tr th:only-of-type {\n",
       "        vertical-align: middle;\n",
       "    }\n",
       "\n",
       "    .dataframe tbody tr th {\n",
       "        vertical-align: top;\n",
       "    }\n",
       "\n",
       "    .dataframe thead th {\n",
       "        text-align: right;\n",
       "    }\n",
       "</style>\n",
       "<table border=\"1\" class=\"dataframe\">\n",
       "  <thead>\n",
       "    <tr style=\"text-align: right;\">\n",
       "      <th></th>\n",
       "      <th>csar_1_RDK</th>\n",
       "      <th>csar_1_KNIME</th>\n",
       "    </tr>\n",
       "  </thead>\n",
       "  <tbody>\n",
       "    <tr>\n",
       "      <th>Ctd-Skewness</th>\n",
       "      <td>-0.210489</td>\n",
       "      <td>-0.008724</td>\n",
       "    </tr>\n",
       "    <tr>\n",
       "      <th>Cst-Skewness</th>\n",
       "      <td>-0.855285</td>\n",
       "      <td>-0.585295</td>\n",
       "    </tr>\n",
       "    <tr>\n",
       "      <th>Fct-Skewness</th>\n",
       "      <td>-0.896458</td>\n",
       "      <td>-0.673957</td>\n",
       "    </tr>\n",
       "    <tr>\n",
       "      <th>Ftf-Skewness</th>\n",
       "      <td>-0.188228</td>\n",
       "      <td>-0.006238</td>\n",
       "    </tr>\n",
       "  </tbody>\n",
       "</table>\n",
       "</div>"
      ],
      "text/plain": [
       "              csar_1_RDK  csar_1_KNIME\n",
       "Ctd-Skewness   -0.210489     -0.008724\n",
       "Cst-Skewness   -0.855285     -0.585295\n",
       "Fct-Skewness   -0.896458     -0.673957\n",
       "Ftf-Skewness   -0.188228     -0.006238"
      ]
     },
     "execution_count": 61,
     "metadata": {},
     "output_type": "execute_result"
    }
   ],
   "source": [
    "# Let's get the square of these values:\n",
    "df_usr_csar_1.loc[df_usr_csar_1.index.str.contains('Skewness')]"
   ]
  },
  {
   "cell_type": "code",
   "execution_count": 62,
   "metadata": {},
   "outputs": [
    {
     "data": {
      "text/html": [
       "<div>\n",
       "<style scoped>\n",
       "    .dataframe tbody tr th:only-of-type {\n",
       "        vertical-align: middle;\n",
       "    }\n",
       "\n",
       "    .dataframe tbody tr th {\n",
       "        vertical-align: top;\n",
       "    }\n",
       "\n",
       "    .dataframe thead th {\n",
       "        text-align: right;\n",
       "    }\n",
       "</style>\n",
       "<table border=\"1\" class=\"dataframe\">\n",
       "  <thead>\n",
       "    <tr style=\"text-align: right;\">\n",
       "      <th></th>\n",
       "      <th>csar_1_RDK</th>\n",
       "    </tr>\n",
       "  </thead>\n",
       "  <tbody>\n",
       "    <tr>\n",
       "      <th>Ctd-Skewness</th>\n",
       "      <td>-0.009326</td>\n",
       "    </tr>\n",
       "    <tr>\n",
       "      <th>Cst-Skewness</th>\n",
       "      <td>-0.625653</td>\n",
       "    </tr>\n",
       "    <tr>\n",
       "      <th>Fct-Skewness</th>\n",
       "      <td>-0.720427</td>\n",
       "    </tr>\n",
       "    <tr>\n",
       "      <th>Ftf-Skewness</th>\n",
       "      <td>-0.006669</td>\n",
       "    </tr>\n",
       "  </tbody>\n",
       "</table>\n",
       "</div>"
      ],
      "text/plain": [
       "              csar_1_RDK\n",
       "Ctd-Skewness   -0.009326\n",
       "Cst-Skewness   -0.625653\n",
       "Fct-Skewness   -0.720427\n",
       "Ftf-Skewness   -0.006669"
      ]
     },
     "execution_count": 62,
     "metadata": {},
     "output_type": "execute_result"
    }
   ],
   "source": [
    "# Let's convert cubic root of skewness to skewness fot the RDKit values\n",
    "df_usr_csar_1.loc[df_usr_csar_1.index.str.contains('Skewness')][['csar_1_RDK']] ** 3\n",
    "# values are now in the same order of magnitude, but are not the same:"
   ]
  },
  {
   "cell_type": "markdown",
   "metadata": {},
   "source": [
    "For some reason KNIME computes skewness using the following formula:\n",
    "\n",
    "$$ Skewness_{knime} = \\frac{\\sum^N_{i=1} (x - \\bar{x})^3} {N * \\sigma^3_{n-1 dof}} $$"
   ]
  },
  {
   "cell_type": "markdown",
   "metadata": {},
   "source": [
    "### Directly compute the CDT descriptors\n",
    "#### I was able to find these results by directly computing *Molecular centroid* (Ctd) using numpy:"
   ]
  },
  {
   "cell_type": "code",
   "execution_count": 63,
   "metadata": {},
   "outputs": [],
   "source": [
    "from scipy.stats import skew, kurtosis\n",
    "\n",
    "def get_mol_coords(mol, centered = True):\n",
    "    num_atoms = len(mol.GetAtoms())\n",
    "    coords = pd.DataFrame({\n",
    "       'x': [mol.GetConformer().GetAtomPosition(i).x for i in range(num_atoms)],\n",
    "       'y': [mol.GetConformer().GetAtomPosition(i).y for i in range(num_atoms)],\n",
    "       'z': [mol.GetConformer().GetAtomPosition(i).z for i in range(num_atoms)]},\n",
    "            index = [mol.GetAtomWithIdx(i).GetSymbol() for i in range(num_atoms)])\n",
    "    if centered:\n",
    "        coords = coords - coords.mean(axis =  0)\n",
    "    return coords\n",
    "\n",
    "def get_molecular_centroid(mol):\n",
    "    coords = get_mol_coords(mol)\n",
    "    return coords.mean(axis=0)\n",
    "\n",
    "def get_distances_from_centroid(mol):\n",
    "    coords = get_mol_coords(mol)\n",
    "    centroid = get_molecular_centroid(mol)\n",
    "    distances = np.linalg.norm(coords - centroid, axis = 1)\n",
    "    return distances\n",
    "\n",
    "def get_ctd_mean(mol):\n",
    "    distances = get_distances_from_centroid(mol)\n",
    "    return distances.mean()\n",
    "\n",
    "def get_ctd_var(mol, ddof = 0):\n",
    "    distances = get_distances_from_centroid(mol)\n",
    "    return distances.var(ddof = ddof)\n",
    "\n",
    "def get_ctd_skew(mol, ddof_N = 0, ddof_std = 1):\n",
    "    distances = get_distances_from_centroid(mol)\n",
    "    N = len(distances)\n",
    "    u = distances.mean()\n",
    "    #skew_ = skew(distances, bias = False)\n",
    "    skew_ = ( np.sum( (distances - u) ** 3 )  ) / ( (N - ddof_N) * (distances.std(ddof = ddof_std) ** 3 ))\n",
    "    return skew_"
   ]
  },
  {
   "cell_type": "code",
   "execution_count": 64,
   "metadata": {},
   "outputs": [
    {
     "name": "stdout",
     "output_type": "stream",
     "text": [
      "Rdkit descriptors:\n",
      "**************************************************\n",
      "Cdt-mean:\t 3.350091\n",
      "Cdt-sigma:\t 1.12821\n",
      "Cdt-skewness:\t -0.210489\n",
      "\n",
      "\n",
      "KNIME descriptors:\n",
      "**************************************************\n",
      "Cdt-mean:\t 3.350091\n",
      "Cdt-sigma:\t 1.272858\n",
      "Cdt-skewness:\t -0.008724\n"
     ]
    }
   ],
   "source": [
    "# Calculate 'Manually' molecular centroid moments:\n",
    "# Define the molecule (and rdkit instance)\n",
    "mol = csar_1\n",
    "\n",
    "# Compute cdt - mean (like RDKit)\n",
    "print('Rdkit descriptors:')\n",
    "print('*'*50)\n",
    "print('Cdt-mean:\\t', get_ctd_mean(mol).round(6))\n",
    "print('Cdt-sigma:\\t', (get_ctd_var(mol, ddof = 1)**0.5).round(6))\n",
    "print('Cdt-skewness:\\t', np.cbrt(get_ctd_skew(mol, ddof_N = 0, ddof_std = 0)).round(6))\n",
    "\n",
    "print('\\n')\n",
    "\n",
    "# Compute cdt - mean (Like KNIME)\n",
    "print('KNIME descriptors:')\n",
    "print('*'*50)\n",
    "print('Cdt-mean:\\t', get_ctd_mean(mol).round(6))\n",
    "print('Cdt-sigma:\\t', (get_ctd_var(mol, ddof = 1)).round(6))\n",
    "print('Cdt-skewness:\\t', get_ctd_skew(mol, ddof_N = 0, ddof_std = 1).round(6))"
   ]
  }
 ],
 "metadata": {
  "kernelspec": {
   "display_name": "Python 3.7.6 64-bit ('mds': conda)",
   "language": "python",
   "name": "python37664bitmdsconda8fcfe9b6c3484566880235af88776fef"
  },
  "language_info": {
   "codemirror_mode": {
    "name": "ipython",
    "version": 3
   },
   "file_extension": ".py",
   "mimetype": "text/x-python",
   "name": "python",
   "nbconvert_exporter": "python",
   "pygments_lexer": "ipython3",
   "version": "3.7.6"
  }
 },
 "nbformat": 4,
 "nbformat_minor": 4
}
