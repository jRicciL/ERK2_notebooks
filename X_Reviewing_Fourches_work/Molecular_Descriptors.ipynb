{
 "cells": [
  {
   "cell_type": "markdown",
   "metadata": {},
   "source": [
    "# ERK2 Compounds Evaluation"
   ]
  },
  {
   "cell_type": "code",
   "execution_count": 14,
   "metadata": {},
   "outputs": [],
   "source": [
    "import pandas as pd\n",
    "import numpy as np"
   ]
  },
  {
   "cell_type": "code",
   "execution_count": 17,
   "metadata": {},
   "outputs": [],
   "source": [
    "### Load the data and create the molecules dataframe"
   ]
  },
  {
   "cell_type": "code",
   "execution_count": 39,
   "metadata": {},
   "outputs": [],
   "source": [
    "# First lets load the data\n",
    "df_csar = pd.read_json('./CSAR_39_used_by_Fourches.json')\n",
    "df_model = pd.read_json('./CHEMBL4040_47mols_used_by_Fourches_erk2.json')\n",
    "\n",
    "# For now, we are only interested in Names, SMILES (csar have isomeric smiles) and pKi\n",
    "df_csar = df_csar[['Name_fourches', 'pKi', 'mol']]\n",
    "df_model = df_model[['Name_fourches', 'pKi', 'canonical_smiles']]\n",
    "\n",
    "# Rename the columns to simplify the dataframe\n",
    "col_names_ = ['Name', 'pKi', 'smiles']\n",
    "df_csar.columns = col_names_\n",
    "df_model.columns = col_names_\n",
    "\n",
    "# Now, concat the dataframes\n",
    "df_erk2_mols = pd.concat([df_csar, df_model], ignore_index=True)\n",
    "\n",
    "# Now, let's create a two new columns to account for activity according to Fourches\n",
    "# Molecules with a pKi >= 7.5 will be considered as actives\n",
    "df_erk2_mols['activity'] = (df_erk2_mols.pKi >= 7.5).astype(int)\n",
    "df_erk2_mols['activity_label'] = ['active' if i else 'inactive' for i in df_erk2_mols.activity]"
   ]
  },
  {
   "cell_type": "code",
   "execution_count": 41,
   "metadata": {},
   "outputs": [
    {
     "data": {
      "text/html": [
       "<div>\n",
       "<style scoped>\n",
       "    .dataframe tbody tr th:only-of-type {\n",
       "        vertical-align: middle;\n",
       "    }\n",
       "\n",
       "    .dataframe tbody tr th {\n",
       "        vertical-align: top;\n",
       "    }\n",
       "\n",
       "    .dataframe thead th {\n",
       "        text-align: right;\n",
       "    }\n",
       "</style>\n",
       "<table border=\"1\" class=\"dataframe\">\n",
       "  <thead>\n",
       "    <tr style=\"text-align: right;\">\n",
       "      <th></th>\n",
       "      <th>Name</th>\n",
       "      <th>pKi</th>\n",
       "      <th>smiles</th>\n",
       "      <th>activity</th>\n",
       "      <th>activity_label</th>\n",
       "    </tr>\n",
       "  </thead>\n",
       "  <tbody>\n",
       "    <tr>\n",
       "      <th>0</th>\n",
       "      <td>CSAR_erk2_18</td>\n",
       "      <td>9.00</td>\n",
       "      <td>OC[C@@H](NC(=O)c1[nH]cc(c1)-c1nc(ncc1C)NC(C)C)...</td>\n",
       "      <td>1</td>\n",
       "      <td>active</td>\n",
       "    </tr>\n",
       "    <tr>\n",
       "      <th>1</th>\n",
       "      <td>CSAR_erk2_20</td>\n",
       "      <td>8.70</td>\n",
       "      <td>Clc1cc(ccc1)[C@H](NC(=O)c1[nH]cc(c1)-c1nc(ncc1...</td>\n",
       "      <td>1</td>\n",
       "      <td>active</td>\n",
       "    </tr>\n",
       "    <tr>\n",
       "      <th>2</th>\n",
       "      <td>CSAR_erk2_17</td>\n",
       "      <td>8.52</td>\n",
       "      <td>Clc1cc(ccc1)[C@H](NC(=O)c1[nH]cc(c1)-c1nc(ncc1...</td>\n",
       "      <td>1</td>\n",
       "      <td>active</td>\n",
       "    </tr>\n",
       "    <tr>\n",
       "      <th>3</th>\n",
       "      <td>CSAR_erk2_16</td>\n",
       "      <td>8.40</td>\n",
       "      <td>Clc1cc(ccc1)[C@H](NC(=O)c1[nH]cc(c1)-c1nc(ncc1...</td>\n",
       "      <td>1</td>\n",
       "      <td>active</td>\n",
       "    </tr>\n",
       "    <tr>\n",
       "      <th>4</th>\n",
       "      <td>CSAR_erk2_15</td>\n",
       "      <td>8.40</td>\n",
       "      <td>OC[C@@H](NC(=O)c1[nH]cc(c1)-c1nc(ncc1C)NCC)c1c...</td>\n",
       "      <td>1</td>\n",
       "      <td>active</td>\n",
       "    </tr>\n",
       "  </tbody>\n",
       "</table>\n",
       "</div>"
      ],
      "text/plain": [
       "           Name   pKi                                             smiles  \\\n",
       "0  CSAR_erk2_18  9.00  OC[C@@H](NC(=O)c1[nH]cc(c1)-c1nc(ncc1C)NC(C)C)...   \n",
       "1  CSAR_erk2_20  8.70  Clc1cc(ccc1)[C@H](NC(=O)c1[nH]cc(c1)-c1nc(ncc1...   \n",
       "2  CSAR_erk2_17  8.52  Clc1cc(ccc1)[C@H](NC(=O)c1[nH]cc(c1)-c1nc(ncc1...   \n",
       "3  CSAR_erk2_16  8.40  Clc1cc(ccc1)[C@H](NC(=O)c1[nH]cc(c1)-c1nc(ncc1...   \n",
       "4  CSAR_erk2_15  8.40  OC[C@@H](NC(=O)c1[nH]cc(c1)-c1nc(ncc1C)NCC)c1c...   \n",
       "\n",
       "   activity activity_label  \n",
       "0         1         active  \n",
       "1         1         active  \n",
       "2         1         active  \n",
       "3         1         active  \n",
       "4         1         active  "
      ]
     },
     "execution_count": 41,
     "metadata": {},
     "output_type": "execute_result"
    }
   ],
   "source": [
    "df_erk2_mols.head()"
   ]
  },
  {
   "cell_type": "code",
   "execution_count": 84,
   "metadata": {},
   "outputs": [],
   "source": [
    "# Save the dataframe\n",
    "df_erk2_mols.to_json('./ERK2_molecules_used_by_Fourches_SMILES.json')"
   ]
  },
  {
   "cell_type": "code",
   "execution_count": 42,
   "metadata": {},
   "outputs": [],
   "source": [
    "### Use rdkit to compute molecule rdkit objects"
   ]
  },
  {
   "cell_type": "code",
   "execution_count": 43,
   "metadata": {},
   "outputs": [
    {
     "name": "stderr",
     "output_type": "stream",
     "text": [
      "RDKit WARNING: [16:10:49] Enabling RDKit 2019.09.1 jupyter extensions\n"
     ]
    }
   ],
   "source": [
    "from rdkit import Chem"
   ]
  },
  {
   "cell_type": "code",
   "execution_count": 50,
   "metadata": {},
   "outputs": [],
   "source": [
    "# Add the new column with the RDKit molecules\n",
    "df_erk2_mols['rdk_mol'] = [Chem.MolFromSmiles(i, sanitize=True) for i in df_erk2_mols.smiles]"
   ]
  },
  {
   "cell_type": "markdown",
   "metadata": {},
   "source": [
    "## MACCS Keys fingerprints"
   ]
  },
  {
   "cell_type": "code",
   "execution_count": 80,
   "metadata": {},
   "outputs": [],
   "source": [
    "from rdkit.Chem import MACCSkeys\n",
    "\n",
    "# Compute the fingerprints over the whole set of molecules\n",
    "df_erk2_mols['maccs'] = [MACCSkeys.GenMACCSKeys(i) for i in df_erk2_mols.rdk_mol]"
   ]
  },
  {
   "cell_type": "code",
   "execution_count": 81,
   "metadata": {},
   "outputs": [
    {
     "data": {
      "text/plain": [
       "<rdkit.DataStructs.cDataStructs.ExplicitBitVect at 0x7f93e62da2b0>"
      ]
     },
     "execution_count": 81,
     "metadata": {},
     "output_type": "execute_result"
    }
   ],
   "source": [
    "df_erk2_mols.maccs[1]"
   ]
  },
  {
   "cell_type": "markdown",
   "metadata": {},
   "source": [
    "## 2D-RDKit molecular descriptors\n",
    "\n",
    "Apparently this set of 117 descriptors is available through KNIME, specifically by the use of \"[RDKit Descriptor Calculation](https://nodepit.com/node/org.rdkit.knime.nodes.descriptorcalculation.DescriptorCalculationNodeFactory)\" node, which use a java wrapper to execute rdkit inside a KNIME pipeline ([code here](https://github.com/rdkit/knime-rdkit/blob/2616f9fa3c56107825ae26f3435a7733b1658251/org.rdkit.knime.nodes/src/org/rdkit/knime/nodes/descriptorcalculation/Descriptor.java)).\n",
    "\n",
    "Because all these descriptors are directly available in RDKit's python library we are going to use them inside this notebook:"
   ]
  },
  {
   "cell_type": "code",
   "execution_count": 76,
   "metadata": {},
   "outputs": [
    {
     "data": {
      "text/plain": [
       "115"
      ]
     },
     "execution_count": 76,
     "metadata": {},
     "output_type": "execute_result"
    }
   ],
   "source": [
    "# Firts, let's import the available list  of descriptors\n",
    "from rdkit.Chem import Descriptors\n",
    "# Get the descriptor names but ommit all descriptors related to fragments inside molecules (all of them start with 'fr_')\n",
    "names_of_all_rdkit_descriptors = [x[0] for x in Descriptors._descList if x[0][:3] != 'fr_']\n",
    "# Number of descriptor available:\n",
    "len(names_of_all_rdkit_descriptors)"
   ]
  },
  {
   "cell_type": "markdown",
   "metadata": {},
   "source": [
    "Now, let's use the 'MolecularDescriptorCalculator' class, which takes a list of rdkit descriptors names and compute them on a given molecule."
   ]
  },
  {
   "cell_type": "code",
   "execution_count": 82,
   "metadata": {},
   "outputs": [],
   "source": [
    "from rdkit.ML.Descriptors import MoleculeDescriptors\n",
    "# rdkit descriptor calculator\n",
    "rdk_calculator = MoleculeDescriptors.MolecularDescriptorCalculator(names_of_all_rdkit_descriptors)"
   ]
  },
  {
   "cell_type": "code",
   "execution_count": 83,
   "metadata": {},
   "outputs": [],
   "source": [
    "# Now let's compute the fingerprints over the molecules\n",
    "df_erk2_mols['2d_rdkit'] = [rdk_calculator.CalcDescriptors(mol = i) for i in df_erk2_mols.rdk_mol]"
   ]
  }
 ],
 "metadata": {
  "kernelspec": {
   "display_name": "Python 3.7.6 64-bit ('mds': conda)",
   "language": "python",
   "name": "python37664bitmdsconda8fcfe9b6c3484566880235af88776fef"
  },
  "language_info": {
   "codemirror_mode": {
    "name": "ipython",
    "version": 3
   },
   "file_extension": ".py",
   "mimetype": "text/x-python",
   "name": "python",
   "nbconvert_exporter": "python",
   "pygments_lexer": "ipython3",
   "version": "3.7.6"
  }
 },
 "nbformat": 4,
 "nbformat_minor": 4
}
