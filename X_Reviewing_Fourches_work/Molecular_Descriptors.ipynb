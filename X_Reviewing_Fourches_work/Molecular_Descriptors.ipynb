{
 "cells": [
  {
   "cell_type": "markdown",
   "metadata": {},
   "source": [
    "# ERK2 Compounds: Molecular descriptors using RDKit"
   ]
  },
  {
   "cell_type": "code",
   "execution_count": 14,
   "metadata": {},
   "outputs": [],
   "source": [
    "import pandas as pd\n",
    "import numpy as np"
   ]
  },
  {
   "cell_type": "code",
   "execution_count": 17,
   "metadata": {},
   "outputs": [],
   "source": [
    "### Load the data and create the molecules dataframe"
   ]
  },
  {
   "cell_type": "code",
   "execution_count": 39,
   "metadata": {},
   "outputs": [],
   "source": [
    "# First lets load the data\n",
    "df_csar = pd.read_json('./CSAR_39_used_by_Fourches.json')\n",
    "df_model = pd.read_json('./CHEMBL4040_47mols_used_by_Fourches_erk2.json')\n",
    "\n",
    "# For now, we are only interested in Names, SMILES (csar have isomeric smiles) and pKi\n",
    "df_csar = df_csar[['Name_fourches', 'pKi', 'mol']]\n",
    "df_model = df_model[['Name_fourches', 'pKi', 'canonical_smiles']]\n",
    "\n",
    "# Rename the columns to simplify the dataframe\n",
    "col_names_ = ['Name', 'pKi', 'smiles']\n",
    "df_csar.columns = col_names_\n",
    "df_model.columns = col_names_\n",
    "\n",
    "# Now, concat the dataframes\n",
    "df_erk2_mols = pd.concat([df_csar, df_model], ignore_index=True)\n",
    "\n",
    "# Now, let's create a two new columns to account for activity according to Fourches\n",
    "# Molecules with a pKi >= 7.5 will be considered as actives\n",
    "df_erk2_mols['activity'] = (df_erk2_mols.pKi >= 7.5).astype(int)\n",
    "df_erk2_mols['activity_label'] = ['active' if i else 'inactive' for i in df_erk2_mols.activity]"
   ]
  },
  {
   "cell_type": "code",
   "execution_count": 41,
   "metadata": {},
   "outputs": [
    {
     "data": {
      "text/html": [
       "<div>\n",
       "<style scoped>\n",
       "    .dataframe tbody tr th:only-of-type {\n",
       "        vertical-align: middle;\n",
       "    }\n",
       "\n",
       "    .dataframe tbody tr th {\n",
       "        vertical-align: top;\n",
       "    }\n",
       "\n",
       "    .dataframe thead th {\n",
       "        text-align: right;\n",
       "    }\n",
       "</style>\n",
       "<table border=\"1\" class=\"dataframe\">\n",
       "  <thead>\n",
       "    <tr style=\"text-align: right;\">\n",
       "      <th></th>\n",
       "      <th>Name</th>\n",
       "      <th>pKi</th>\n",
       "      <th>smiles</th>\n",
       "      <th>activity</th>\n",
       "      <th>activity_label</th>\n",
       "    </tr>\n",
       "  </thead>\n",
       "  <tbody>\n",
       "    <tr>\n",
       "      <th>0</th>\n",
       "      <td>CSAR_erk2_18</td>\n",
       "      <td>9.00</td>\n",
       "      <td>OC[C@@H](NC(=O)c1[nH]cc(c1)-c1nc(ncc1C)NC(C)C)...</td>\n",
       "      <td>1</td>\n",
       "      <td>active</td>\n",
       "    </tr>\n",
       "    <tr>\n",
       "      <th>1</th>\n",
       "      <td>CSAR_erk2_20</td>\n",
       "      <td>8.70</td>\n",
       "      <td>Clc1cc(ccc1)[C@H](NC(=O)c1[nH]cc(c1)-c1nc(ncc1...</td>\n",
       "      <td>1</td>\n",
       "      <td>active</td>\n",
       "    </tr>\n",
       "    <tr>\n",
       "      <th>2</th>\n",
       "      <td>CSAR_erk2_17</td>\n",
       "      <td>8.52</td>\n",
       "      <td>Clc1cc(ccc1)[C@H](NC(=O)c1[nH]cc(c1)-c1nc(ncc1...</td>\n",
       "      <td>1</td>\n",
       "      <td>active</td>\n",
       "    </tr>\n",
       "    <tr>\n",
       "      <th>3</th>\n",
       "      <td>CSAR_erk2_16</td>\n",
       "      <td>8.40</td>\n",
       "      <td>Clc1cc(ccc1)[C@H](NC(=O)c1[nH]cc(c1)-c1nc(ncc1...</td>\n",
       "      <td>1</td>\n",
       "      <td>active</td>\n",
       "    </tr>\n",
       "    <tr>\n",
       "      <th>4</th>\n",
       "      <td>CSAR_erk2_15</td>\n",
       "      <td>8.40</td>\n",
       "      <td>OC[C@@H](NC(=O)c1[nH]cc(c1)-c1nc(ncc1C)NCC)c1c...</td>\n",
       "      <td>1</td>\n",
       "      <td>active</td>\n",
       "    </tr>\n",
       "  </tbody>\n",
       "</table>\n",
       "</div>"
      ],
      "text/plain": [
       "           Name   pKi                                             smiles  \\\n",
       "0  CSAR_erk2_18  9.00  OC[C@@H](NC(=O)c1[nH]cc(c1)-c1nc(ncc1C)NC(C)C)...   \n",
       "1  CSAR_erk2_20  8.70  Clc1cc(ccc1)[C@H](NC(=O)c1[nH]cc(c1)-c1nc(ncc1...   \n",
       "2  CSAR_erk2_17  8.52  Clc1cc(ccc1)[C@H](NC(=O)c1[nH]cc(c1)-c1nc(ncc1...   \n",
       "3  CSAR_erk2_16  8.40  Clc1cc(ccc1)[C@H](NC(=O)c1[nH]cc(c1)-c1nc(ncc1...   \n",
       "4  CSAR_erk2_15  8.40  OC[C@@H](NC(=O)c1[nH]cc(c1)-c1nc(ncc1C)NCC)c1c...   \n",
       "\n",
       "   activity activity_label  \n",
       "0         1         active  \n",
       "1         1         active  \n",
       "2         1         active  \n",
       "3         1         active  \n",
       "4         1         active  "
      ]
     },
     "execution_count": 41,
     "metadata": {},
     "output_type": "execute_result"
    }
   ],
   "source": [
    "df_erk2_mols.head()"
   ]
  },
  {
   "cell_type": "code",
   "execution_count": 84,
   "metadata": {},
   "outputs": [],
   "source": [
    "# Save the dataframe\n",
    "df_erk2_mols.to_json('./ERK2_molecules_used_by_Fourches_SMILES.json')"
   ]
  },
  {
   "cell_type": "code",
   "execution_count": 42,
   "metadata": {},
   "outputs": [],
   "source": [
    "### Use rdkit to compute molecule rdkit objects"
   ]
  },
  {
   "cell_type": "code",
   "execution_count": 43,
   "metadata": {},
   "outputs": [
    {
     "name": "stderr",
     "output_type": "stream",
     "text": [
      "RDKit WARNING: [16:10:49] Enabling RDKit 2019.09.1 jupyter extensions\n"
     ]
    }
   ],
   "source": [
    "from rdkit import Chem"
   ]
  },
  {
   "cell_type": "code",
   "execution_count": 50,
   "metadata": {},
   "outputs": [],
   "source": [
    "# Add the new column with the RDKit molecules\n",
    "df_erk2_mols['rdk_mol'] = [Chem.MolFromSmiles(i, sanitize=True) for i in df_erk2_mols.smiles]"
   ]
  },
  {
   "cell_type": "markdown",
   "metadata": {},
   "source": [
    "## MACCS Keys fingerprints"
   ]
  },
  {
   "cell_type": "code",
   "execution_count": 80,
   "metadata": {},
   "outputs": [],
   "source": [
    "from rdkit.Chem import MACCSkeys\n",
    "\n",
    "# Compute the fingerprints over the whole set of molecules\n",
    "df_erk2_mols['maccs'] = [MACCSkeys.GenMACCSKeys(i) for i in df_erk2_mols.rdk_mol]"
   ]
  },
  {
   "cell_type": "code",
   "execution_count": 194,
   "metadata": {},
   "outputs": [
    {
     "data": {
      "text/plain": [
       "'00000000000000000000000001000000000000000000000000000010000000100100000000100101101100000000100110100000101001110000010011000100000101010101011011000111011111111111110'"
      ]
     },
     "execution_count": 194,
     "metadata": {},
     "output_type": "execute_result"
    }
   ],
   "source": [
    "# Example of MACC Keys Fingepirnt for molecule 1\n",
    "df_erk2_mols.maccs[0].ToBitString()"
   ]
  },
  {
   "cell_type": "markdown",
   "metadata": {},
   "source": [
    "## 2D-RDKit molecular descriptors\n",
    "\n",
    "Apparently this set of 117 descriptors is available through KNIME, specifically by the use of \"[RDKit Descriptor Calculation](https://nodepit.com/node/org.rdkit.knime.nodes.descriptorcalculation.DescriptorCalculationNodeFactory)\" node, which use a java wrapper to execute rdkit inside a KNIME pipeline ([code here](https://github.com/rdkit/knime-rdkit/blob/2616f9fa3c56107825ae26f3435a7733b1658251/org.rdkit.knime.nodes/src/org/rdkit/knime/nodes/descriptorcalculation/Descriptor.java)).\n",
    "\n",
    "Because all these descriptors are directly available in RDKit's python library, we are going to compute them directly:"
   ]
  },
  {
   "cell_type": "code",
   "execution_count": 76,
   "metadata": {},
   "outputs": [
    {
     "data": {
      "text/plain": [
       "115"
      ]
     },
     "execution_count": 76,
     "metadata": {},
     "output_type": "execute_result"
    }
   ],
   "source": [
    "# Firts, let's import the available list  of descriptors\n",
    "from rdkit.Chem import Descriptors\n",
    "# Get the descriptor names but ommit all descriptors related to fragments inside molecules (all of them start with 'fr_')\n",
    "names_of_all_rdkit_descriptors = [x[0] for x in Descriptors._descList if x[0][:3] != 'fr_']\n",
    "# Number of descriptor available:\n",
    "len(names_of_all_rdkit_descriptors)"
   ]
  },
  {
   "cell_type": "markdown",
   "metadata": {},
   "source": [
    "Now, let's use the 'MolecularDescriptorCalculator' class, which takes a list of rdkit descriptors names and compute them on a given molecule."
   ]
  },
  {
   "cell_type": "code",
   "execution_count": 82,
   "metadata": {},
   "outputs": [],
   "source": [
    "from rdkit.ML.Descriptors import MoleculeDescriptors\n",
    "# rdkit descriptor calculator\n",
    "rdk_calculator = MoleculeDescriptors.MolecularDescriptorCalculator(names_of_all_rdkit_descriptors)"
   ]
  },
  {
   "cell_type": "code",
   "execution_count": 83,
   "metadata": {},
   "outputs": [],
   "source": [
    "# Now let's compute the fingerprints over the molecules\n",
    "df_erk2_mols['2d_rdkit'] = [rdk_calculator.CalcDescriptors(mol = i) for i in df_erk2_mols.rdk_mol]"
   ]
  },
  {
   "cell_type": "markdown",
   "metadata": {},
   "source": [
    "## WHIM descriptors"
   ]
  },
  {
   "cell_type": "code",
   "execution_count": null,
   "metadata": {},
   "outputs": [],
   "source": [
    "from rdkit.Chem import rdMolDescriptors\n",
    "from glob import glob"
   ]
  },
  {
   "cell_type": "markdown",
   "metadata": {},
   "source": [
    "The list of WHIM descriptors computed by RDKit is the following:"
   ]
  },
  {
   "cell_type": "code",
   "execution_count": 111,
   "metadata": {},
   "outputs": [],
   "source": [
    "whim_axial = [ \"L1u\", \"L2u\", \"L3u\", \"P1u\", \"P2u\", \"G1u\", \"G2u\", \"G3u\", \"E1u\", \"E2u\", \"E3u\", \n",
    "               \"L1m\", \"L2m\", \"L3m\", \"P1m\", \"P2m\", \"G1m\", \"G2m\", \"G3m\", \"E1m\", \"E2m\", \"E3m\", \n",
    "               \"L1v\", \"L2v\", \"L3v\", \"P1v\", \"P2v\", \"G1v\", \"G2v\", \"G3v\", \"E1v\", \"E2v\", \"E3v\", \n",
    "               \"L1e\", \"L2e\", \"L3e\", \"P1e\", \"P2e\", \"G1e\", \"G2e\", \"G3e\", \"E1e\", \"E2e\", \"E3e\", \n",
    "               \"L1p\", \"L2p\", \"L3p\", \"P1p\", \"P2p\", \"G1p\", \"G2p\", \"G3p\", \"E1p\", \"E2p\", \"E3p\", \n",
    "               \"L1i\", \"L2i\", \"L3i\", \"P1i\", \"P2i\", \"G1i\", \"G2i\", \"G3i\", \"E1i\", \"E2i\", \"E3i\", \n",
    "               \"L1s\", \"L2s\", \"L3s\", \"P1s\", \"P2s\", \"G1s\", \"G2s\", \"G3s\", \"E1s\", \"E2s\", \"E3s\"]\n",
    "whim_global = [\"Tu\", \"Tm\", \"Tv\", \"Te\", \"Tp\", \"Ti\", \"Ts\", \n",
    "               \"Au\", \"Am\", \"Av\", \"Ae\", \"Ap\", \"Ai\", \"As\", \n",
    "               \"Gu\", \"Gm\", \n",
    "               \"Ku\", \"Km\", \"Kv\", \"Ke\", \"Kp\", \"Ki\", \"Ks\", \n",
    "               \"Du\", \"Dm\", \"Dv\", \"De\", \"Dp\", \"Di\", \"Ds\", \n",
    "               \"Vu\", \"Vm\", \"Vv\", \"Ve\", \"Vp\", \"Vi\", \"Vs\"]\n",
    "\n",
    "whim_descriptors_names = whim_axial + whim_global"
   ]
  },
  {
   "cell_type": "code",
   "execution_count": 113,
   "metadata": {},
   "outputs": [
    {
     "name": "stdout",
     "output_type": "stream",
     "text": [
      "There are 114 WHIM descriptors.\n"
     ]
    },
    {
     "data": {
      "text/plain": [
       "77"
      ]
     },
     "execution_count": 113,
     "metadata": {},
     "output_type": "execute_result"
    }
   ],
   "source": [
    "print('There are', len(whim_descriptors_names), 'WHIM descriptors.')\n",
    "len(whim_axial)"
   ]
  },
  {
   "cell_type": "markdown",
   "metadata": {},
   "source": [
    "### About descriptors computed by KNIME\n",
    "Fourches & Ash indicate that they compute the descriptors using KNIME. We analyze  \n",
    "**Other notebook**"
   ]
  },
  {
   "cell_type": "markdown",
   "metadata": {},
   "source": [
    "### Computed from a minimized conformation"
   ]
  },
  {
   "cell_type": "code",
   "execution_count": 172,
   "metadata": {},
   "outputs": [],
   "source": [
    "# Directory of sdf files: 3D conformations created and minimized using babel\n",
    "SDF_MIN_DIR = '../../ARCHIVOS/CRISTALES/LIGS_ERK2/FOURCHES_LIGS/3d_minimized/sdf/'\n",
    "\n",
    "# List of sdf files\n",
    "sdf_min_files = [SDF_MIN_DIR + i + '.sdf' for i in df_erk2_mols.Name] # keep the same order as the dataframe\n",
    "\n",
    "# Read the files using RDkit\n",
    "min_3d_confs = [Chem.SDMolSupplier(mol_file, sanitize=True)[0] for mol_file in sdf_min_files]\n",
    "\n",
    "# Add minimized confs to the table\n",
    "df_erk2_mols['conf_3d_min'] = min_3d_confs\n",
    "\n",
    "# Compute WHIM descriptors for 3d min conformations\n",
    "df_erk2_mols['whim_3d_min'] = [rdMolDescriptors.CalcWHIM(i) for i in df_erk2_mols.conf_3d_min]"
   ]
  },
  {
   "cell_type": "markdown",
   "metadata": {},
   "source": [
    "### Computed from the best pose using the 3i60 conformation (the one used by Fourches)"
   ]
  },
  {
   "cell_type": "code",
   "execution_count": 188,
   "metadata": {},
   "outputs": [
    {
     "name": "stdout",
     "output_type": "stream",
     "text": [
      "Molecules not sanitized at loading:\n",
      "erk2_29_3i60_dkVin.sdf\n",
      "erk2_12_3i60_dkVin.sdf\n"
     ]
    },
    {
     "name": "stderr",
     "output_type": "stream",
     "text": [
      "RDKit ERROR: [15:21:54] ERROR: Explicit valence for atom # 1 C, 6, is greater than permitted\n",
      "RDKit ERROR: [15:22:24] Explicit valence for atom # 1 C, 6, is greater than permitted\n",
      "RDKit ERROR: [15:22:24] ERROR: Could not sanitize molecule ending on line 97\n",
      "RDKit ERROR: [15:22:24] ERROR: Explicit valence for atom # 1 C, 6, is greater than permitted\n",
      "RDKit ERROR: [15:22:24] Explicit valence for atom # 1 C, 6, is greater than permitted\n",
      "RDKit ERROR: [15:22:24] ERROR: Could not sanitize molecule ending on line 82\n"
     ]
    }
   ],
   "source": [
    "# Directory of sdf files generated from the best docking poses\n",
    "# Folders inside this directory belong to each ligand\n",
    "SDF_DOCKED_DIR = '../../ARCHIVOS/CRISTALES/LIGS_ERK2/FOURCHES_LIGS/3d_minimized/docking_results_CRYS_ENS/VINARDO_POSES/SDF/'\n",
    "pdb_3i60 = '3i60'\n",
    "\n",
    "# List of sdf files (files are sorted as)\n",
    "sdf_3i60_files = [glob(SDF_DOCKED_DIR + i + '/*' + pdb_3i60 + '*.sdf')[0] for i in df_erk2_mols.Name]\n",
    "\n",
    "# Read the files using RDkit\n",
    "# If  sanitization is not possible (ligs erk2_29 and erk2_12), we need to force rdkit\n",
    "dk_3i60_confs = []\n",
    "print('Molecules not sanitized at loading:')\n",
    "for mol_file in sdf_3i60_files:\n",
    "    mol_rdk = Chem.SDMolSupplier(mol_file, sanitize = True)[0]\n",
    "    # If sanitize was not possible, molecule will be == None\n",
    "    if mol_rdk == None:\n",
    "        print(mol_file.split('/')[-1])\n",
    "        mol_rdk  = Chem.SDMolSupplier(mol_file, sanitize = False)[0]\n",
    "        mol_rdk.UpdatePropertyCache(strict = False)\n",
    "    # Append  the molecule\n",
    "    dk_3i60_confs.append(mol_rdk)\n",
    "    \n",
    "# Add docked poses to 3i60 confs to the table\n",
    "df_erk2_mols['conf_3i60_dk_pose'] = dk_3i60_confs\n",
    "\n",
    "# Compute WHIM descriptors for  3i60 poses\n",
    "df_erk2_mols['whim_3i60_dk_pose'] = [rdMolDescriptors.CalcWHIM(i) for i in df_erk2_mols.conf_3i60_dk_pose]"
   ]
  },
  {
   "cell_type": "code",
   "execution_count": 190,
   "metadata": {},
   "outputs": [
    {
     "data": {
      "image/png": "[encoded data removed]",
      "text/plain": [
       "<rdkit.Chem.rdchem.Mol at 0x7f93df1a3a80>"
      ]
     },
     "execution_count": 190,
     "metadata": {},
     "output_type": "execute_result"
    }
   ],
   "source": [
    "df_erk2_mols['conf_3i60_dk_pose'][0]"
   ]
  },
  {
   "cell_type": "markdown",
   "metadata": {},
   "source": [
    "# USR or 3D D-MOMENTS "
   ]
  },
  {
   "cell_type": "code",
   "execution_count": null,
   "metadata": {},
   "outputs": [],
   "source": [
    "usr_descriptor_names =  ['Ctd-Mean', 'Ctd-Sigma', 'Ctd-Skewness',\n",
    "                         'Cst-Mean', 'Cst-Sigma', 'Cst-Skewness', \n",
    "                         'Fct-Mean', 'Fct-Sigma', 'Fct-Skewness',\n",
    "                         'Ftf-Mean', 'Ftf-Sigma', 'Ftf-Skewness']"
   ]
  },
  {
   "cell_type": "markdown",
   "metadata": {},
   "source": [
    "### Computed for a minimized conformation"
   ]
  },
  {
   "cell_type": "code",
   "execution_count": 195,
   "metadata": {},
   "outputs": [],
   "source": [
    "# Use the 'conf_3d_min' column computed above\n",
    "# Compute USR/3-D MOMENTS descriptors for 3d min conformations\n",
    "df_erk2_mols['dMoments_3d_min'] = [rdMolDescriptors.GetUSR(i) for i in df_erk2_mols.conf_3d_min]"
   ]
  },
  {
   "cell_type": "markdown",
   "metadata": {},
   "source": [
    "### Computed from the best pose using the 3i60 conformation (the one used by Fourches)"
   ]
  },
  {
   "cell_type": "code",
   "execution_count": 196,
   "metadata": {},
   "outputs": [],
   "source": [
    "# Compute USR/3-D MOMENTS descriptors for 3i60 poses\n",
    "df_erk2_mols['dMoments_3i60_dk_pose'] = [rdMolDescriptors.GetUSR(i) for i in df_erk2_mols.conf_3i60_dk_pose]"
   ]
  }
 ],
 "metadata": {
  "kernelspec": {
   "display_name": "Python 3.7.6 64-bit ('mds': conda)",
   "language": "python",
   "name": "python37664bitmdsconda8fcfe9b6c3484566880235af88776fef"
  },
  "language_info": {
   "codemirror_mode": {
    "name": "ipython",
    "version": 3
   },
   "file_extension": ".py",
   "mimetype": "text/x-python",
   "name": "python",
   "nbconvert_exporter": "python",
   "pygments_lexer": "ipython3",
   "version": "3.7.6"
  }
 },
 "nbformat": 4,
 "nbformat_minor": 4
}
