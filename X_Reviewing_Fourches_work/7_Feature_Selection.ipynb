{
 "cells": [
  {
   "cell_type": "markdown",
   "metadata": {},
   "source": [
    "# Feature selection:\n",
    "**Selecting molecular descriptors following the Ash & Fourches (2017) procedure** (it is assumed that these steps were made independently for each set of descriptors):\n",
    "1. **Low variance filter:** Features in the lower variance quartile were discarde.\n",
    "    - This means that at least 25% of the features will be removed.\n",
    "    \n",
    "    \n",
    "2. **Correlation filters:** For any pair of descriptors with $|r| > 0.9$ the descriptor with largest mean of $|r|$ was removed.\n",
    "\n",
    "#### Additionaly they did the following analysis (not necessarily to drop features):\n",
    "1. **Pearson correlation between each descriptor and pKi values.**  \n",
    "2. **Paired t-test between active and inactive ligands using each set of descriptors.**"
   ]
  },
  {
   "cell_type": "code",
   "execution_count": 14,
   "metadata": {},
   "outputs": [],
   "source": [
    "import pandas as pd\n",
    "import numpy as np\n",
    "import pickle"
   ]
  },
  {
   "cell_type": "markdown",
   "metadata": {},
   "source": [
    "### Load the data"
   ]
  },
  {
   "cell_type": "code",
   "execution_count": 15,
   "metadata": {},
   "outputs": [],
   "source": [
    "file_ = './main_table_of_Fourches_ligs_ERK2.pkl'\n",
    "with open(file_, 'rb') as f:\n",
    "    df_erk2_mols = pickle.load(f)\n",
    "df_erk2_mols = df_erk2_mols.set_index('Name')"
   ]
  },
  {
   "cell_type": "markdown",
   "metadata": {},
   "source": [
    "# MACC Keys"
   ]
  },
  {
   "cell_type": "code",
   "execution_count": 16,
   "metadata": {},
   "outputs": [
    {
     "data": {
      "text/html": [
       "<div>\n",
       "<style scoped>\n",
       "    .dataframe tbody tr th:only-of-type {\n",
       "        vertical-align: middle;\n",
       "    }\n",
       "\n",
       "    .dataframe tbody tr th {\n",
       "        vertical-align: top;\n",
       "    }\n",
       "\n",
       "    .dataframe thead th {\n",
       "        text-align: right;\n",
       "    }\n",
       "</style>\n",
       "<table border=\"1\" class=\"dataframe\">\n",
       "  <thead>\n",
       "    <tr style=\"text-align: right;\">\n",
       "      <th></th>\n",
       "      <th>1</th>\n",
       "      <th>2</th>\n",
       "      <th>3</th>\n",
       "      <th>4</th>\n",
       "      <th>5</th>\n",
       "      <th>6</th>\n",
       "      <th>7</th>\n",
       "      <th>8</th>\n",
       "      <th>9</th>\n",
       "      <th>10</th>\n",
       "      <th>...</th>\n",
       "      <th>157</th>\n",
       "      <th>158</th>\n",
       "      <th>159</th>\n",
       "      <th>160</th>\n",
       "      <th>161</th>\n",
       "      <th>162</th>\n",
       "      <th>163</th>\n",
       "      <th>164</th>\n",
       "      <th>165</th>\n",
       "      <th>166</th>\n",
       "    </tr>\n",
       "  </thead>\n",
       "  <tbody>\n",
       "    <tr>\n",
       "      <th>CSAR_erk2_18</th>\n",
       "      <td>0.0</td>\n",
       "      <td>0.0</td>\n",
       "      <td>0.0</td>\n",
       "      <td>0.0</td>\n",
       "      <td>0.0</td>\n",
       "      <td>0.0</td>\n",
       "      <td>0.0</td>\n",
       "      <td>0.0</td>\n",
       "      <td>0.0</td>\n",
       "      <td>0.0</td>\n",
       "      <td>...</td>\n",
       "      <td>1.0</td>\n",
       "      <td>1.0</td>\n",
       "      <td>1.0</td>\n",
       "      <td>1.0</td>\n",
       "      <td>1.0</td>\n",
       "      <td>1.0</td>\n",
       "      <td>1.0</td>\n",
       "      <td>1.0</td>\n",
       "      <td>1.0</td>\n",
       "      <td>0.0</td>\n",
       "    </tr>\n",
       "    <tr>\n",
       "      <th>CSAR_erk2_20</th>\n",
       "      <td>0.0</td>\n",
       "      <td>0.0</td>\n",
       "      <td>0.0</td>\n",
       "      <td>0.0</td>\n",
       "      <td>0.0</td>\n",
       "      <td>0.0</td>\n",
       "      <td>0.0</td>\n",
       "      <td>0.0</td>\n",
       "      <td>0.0</td>\n",
       "      <td>0.0</td>\n",
       "      <td>...</td>\n",
       "      <td>1.0</td>\n",
       "      <td>1.0</td>\n",
       "      <td>1.0</td>\n",
       "      <td>1.0</td>\n",
       "      <td>1.0</td>\n",
       "      <td>1.0</td>\n",
       "      <td>1.0</td>\n",
       "      <td>1.0</td>\n",
       "      <td>1.0</td>\n",
       "      <td>0.0</td>\n",
       "    </tr>\n",
       "    <tr>\n",
       "      <th>CSAR_erk2_17</th>\n",
       "      <td>0.0</td>\n",
       "      <td>0.0</td>\n",
       "      <td>0.0</td>\n",
       "      <td>0.0</td>\n",
       "      <td>0.0</td>\n",
       "      <td>0.0</td>\n",
       "      <td>0.0</td>\n",
       "      <td>0.0</td>\n",
       "      <td>0.0</td>\n",
       "      <td>0.0</td>\n",
       "      <td>...</td>\n",
       "      <td>1.0</td>\n",
       "      <td>1.0</td>\n",
       "      <td>1.0</td>\n",
       "      <td>1.0</td>\n",
       "      <td>1.0</td>\n",
       "      <td>1.0</td>\n",
       "      <td>1.0</td>\n",
       "      <td>1.0</td>\n",
       "      <td>1.0</td>\n",
       "      <td>0.0</td>\n",
       "    </tr>\n",
       "    <tr>\n",
       "      <th>CSAR_erk2_16</th>\n",
       "      <td>0.0</td>\n",
       "      <td>0.0</td>\n",
       "      <td>0.0</td>\n",
       "      <td>0.0</td>\n",
       "      <td>0.0</td>\n",
       "      <td>0.0</td>\n",
       "      <td>0.0</td>\n",
       "      <td>0.0</td>\n",
       "      <td>0.0</td>\n",
       "      <td>0.0</td>\n",
       "      <td>...</td>\n",
       "      <td>1.0</td>\n",
       "      <td>1.0</td>\n",
       "      <td>1.0</td>\n",
       "      <td>1.0</td>\n",
       "      <td>1.0</td>\n",
       "      <td>1.0</td>\n",
       "      <td>1.0</td>\n",
       "      <td>1.0</td>\n",
       "      <td>1.0</td>\n",
       "      <td>0.0</td>\n",
       "    </tr>\n",
       "    <tr>\n",
       "      <th>CSAR_erk2_15</th>\n",
       "      <td>0.0</td>\n",
       "      <td>0.0</td>\n",
       "      <td>0.0</td>\n",
       "      <td>0.0</td>\n",
       "      <td>0.0</td>\n",
       "      <td>0.0</td>\n",
       "      <td>0.0</td>\n",
       "      <td>0.0</td>\n",
       "      <td>0.0</td>\n",
       "      <td>0.0</td>\n",
       "      <td>...</td>\n",
       "      <td>1.0</td>\n",
       "      <td>1.0</td>\n",
       "      <td>1.0</td>\n",
       "      <td>1.0</td>\n",
       "      <td>1.0</td>\n",
       "      <td>1.0</td>\n",
       "      <td>1.0</td>\n",
       "      <td>1.0</td>\n",
       "      <td>1.0</td>\n",
       "      <td>0.0</td>\n",
       "    </tr>\n",
       "  </tbody>\n",
       "</table>\n",
       "<p>5 rows × 166 columns</p>\n",
       "</div>"
      ],
      "text/plain": [
       "              1    2    3    4    5    6    7    8    9    10   ...  157  158  \\\n",
       "CSAR_erk2_18  0.0  0.0  0.0  0.0  0.0  0.0  0.0  0.0  0.0  0.0  ...  1.0  1.0   \n",
       "CSAR_erk2_20  0.0  0.0  0.0  0.0  0.0  0.0  0.0  0.0  0.0  0.0  ...  1.0  1.0   \n",
       "CSAR_erk2_17  0.0  0.0  0.0  0.0  0.0  0.0  0.0  0.0  0.0  0.0  ...  1.0  1.0   \n",
       "CSAR_erk2_16  0.0  0.0  0.0  0.0  0.0  0.0  0.0  0.0  0.0  0.0  ...  1.0  1.0   \n",
       "CSAR_erk2_15  0.0  0.0  0.0  0.0  0.0  0.0  0.0  0.0  0.0  0.0  ...  1.0  1.0   \n",
       "\n",
       "              159  160  161  162  163  164  165  166  \n",
       "CSAR_erk2_18  1.0  1.0  1.0  1.0  1.0  1.0  1.0  0.0  \n",
       "CSAR_erk2_20  1.0  1.0  1.0  1.0  1.0  1.0  1.0  0.0  \n",
       "CSAR_erk2_17  1.0  1.0  1.0  1.0  1.0  1.0  1.0  0.0  \n",
       "CSAR_erk2_16  1.0  1.0  1.0  1.0  1.0  1.0  1.0  0.0  \n",
       "CSAR_erk2_15  1.0  1.0  1.0  1.0  1.0  1.0  1.0  0.0  \n",
       "\n",
       "[5 rows x 166 columns]"
      ]
     },
     "execution_count": 16,
     "metadata": {},
     "output_type": "execute_result"
    }
   ],
   "source": [
    "#  Let's extract the MACCS Keys as a Data frame\n",
    "s = df_erk2_mols.maccs.map(lambda x: list(map(np.float, x)))\n",
    "df_maccs_all = pd.DataFrame.from_dict(dict(zip(s.index, s.values))).T\n",
    "# We have to clarify that MACCS Keys from rdkit includes a dummy key at the begining due to the 0 indexing\n",
    "# Let's drop it\n",
    "df_maccs_all = df_maccs_all.drop([0], axis=1)\n",
    "df_maccs_all.head()"
   ]
  },
  {
   "cell_type": "markdown",
   "metadata": {},
   "source": [
    "### Variance Threshold\n",
    "\n",
    "Ash and Fourches dropped all the features/bits inside the lower quartile of the feature variances. This meas they would remove 166/4 ~ 42 variables; however, they actually remove 45 variables (see Table 1). \n",
    "\n",
    "##### In our results, how many bits have only 0 or 1 values?"
   ]
  },
  {
   "cell_type": "code",
   "execution_count": 17,
   "metadata": {},
   "outputs": [
    {
     "data": {
      "text/plain": [
       "5"
      ]
     },
     "execution_count": 17,
     "metadata": {},
     "output_type": "execute_result"
    }
   ],
   "source": [
    "(df_maccs_all.sum().values == 1).sum()"
   ]
  },
  {
   "cell_type": "code",
   "execution_count": 18,
   "metadata": {},
   "outputs": [
    {
     "data": {
      "text/plain": [
       "37"
      ]
     },
     "execution_count": 18,
     "metadata": {},
     "output_type": "execute_result"
    }
   ],
   "source": [
    "# How many bits have only zeros\n",
    "(df_maccs_all.sum().values == 0).sum()"
   ]
  },
  {
   "cell_type": "markdown",
   "metadata": {},
   "source": [
    " We can start by droping these 37 features with only zeros, plus 5 features with only ones, then we'll have 129 remained bits"
   ]
  },
  {
   "cell_type": "markdown",
   "metadata": {},
   "source": [
    "##### Use the VarianceThreshold class from *sklearn*:"
   ]
  },
  {
   "cell_type": "code",
   "execution_count": 19,
   "metadata": {},
   "outputs": [],
   "source": [
    "from sklearn.feature_selection import VarianceThreshold"
   ]
  },
  {
   "cell_type": "code",
   "execution_count": 20,
   "metadata": {},
   "outputs": [
    {
     "data": {
      "text/plain": [
       "(87, 120)"
      ]
     },
     "execution_count": 20,
     "metadata": {},
     "output_type": "execute_result"
    }
   ],
   "source": [
    "sel_var = VarianceThreshold(0)\n",
    "df_maccs_filt1 = sel_var.fit_transform(df_maccs_all)\n",
    "df_maccs_filt1.shape"
   ]
  },
  {
   "cell_type": "code",
   "execution_count": 21,
   "metadata": {
    "scrolled": true
   },
   "outputs": [
    {
     "data": {
      "text/plain": [
       "array([0.        , 0.        , 0.        , 0.        , 0.        ,\n",
       "       0.        , 0.        , 0.        , 0.        , 0.        ,\n",
       "       0.        , 0.        , 0.        , 0.        , 0.        ,\n",
       "       0.        , 0.        , 0.        , 0.        , 0.        ,\n",
       "       0.        , 0.        , 0.        , 0.        , 0.        ,\n",
       "       0.        , 0.        , 0.        , 0.        , 0.        ,\n",
       "       0.        , 0.        , 0.        , 0.        , 0.        ,\n",
       "       0.        , 0.        , 0.        , 0.        , 0.        ,\n",
       "       0.        , 0.        , 0.        , 0.        , 0.        ,\n",
       "       0.        , 0.01136214, 0.01136214, 0.01136214, 0.01136214,\n",
       "       0.01136214, 0.02246003, 0.02246003, 0.02246003, 0.02246003,\n",
       "       0.02246003, 0.02246003, 0.02246003, 0.02246003, 0.0332937 ,\n",
       "       0.0332937 , 0.0332937 , 0.0332937 , 0.0332937 , 0.0332937 ,\n",
       "       0.04386313, 0.04386313, 0.04386313, 0.04386313, 0.04386313,\n",
       "       0.04386313, 0.04386313, 0.04386313, 0.04386313, 0.04386313,\n",
       "       0.05416832, 0.05416832, 0.05416832, 0.05416832, 0.05416832,\n",
       "       0.05416832, 0.05416832, 0.05416832, 0.05416832, 0.05416832,\n",
       "       0.05416832, 0.06420927, 0.06420927, 0.06420927, 0.06420927,\n",
       "       0.06420927, 0.073986  , 0.073986  , 0.073986  , 0.073986  ,\n",
       "       0.08349848, 0.09274673, 0.09274673, 0.09274673, 0.09274673,\n",
       "       0.09274673, 0.09274673, 0.10173074, 0.10173074, 0.10173074,\n",
       "       0.10173074, 0.11045052, 0.11045052, 0.11890606, 0.12709737,\n",
       "       0.12709737, 0.12709737, 0.12709737, 0.12709737, 0.12709737,\n",
       "       0.12709737, 0.13502444, 0.13502444, 0.13502444, 0.14268728,\n",
       "       0.14268728, 0.15008588, 0.15722024, 0.15722024, 0.16409037,\n",
       "       0.17069626, 0.17703792, 0.17703792, 0.17703792, 0.17703792,\n",
       "       0.18311534, 0.18311534, 0.18892852, 0.18892852, 0.18892852,\n",
       "       0.18892852, 0.19447747, 0.19447747, 0.19976219, 0.19976219,\n",
       "       0.20953891, 0.20953891, 0.21403092, 0.22592152, 0.22592152,\n",
       "       0.22935659, 0.22935659, 0.23252741, 0.23543401, 0.24256837,\n",
       "       0.24256837, 0.24256837, 0.24441802, 0.24600344, 0.24732461,\n",
       "       0.24838156, 0.24838156, 0.24838156, 0.24838156, 0.24838156,\n",
       "       0.24970273, 0.24970273, 0.24970273, 0.24996697, 0.24996697,\n",
       "       0.24996697])"
      ]
     },
     "execution_count": 21,
     "metadata": {},
     "output_type": "execute_result"
    }
   ],
   "source": [
    "np.array(sorted(sel_var.variances_))"
   ]
  },
  {
   "cell_type": "markdown",
   "metadata": {},
   "source": [
    "##### Boolean features (Bernoulli rvs)\n",
    "Assuming each descriptor is a Bernoulli random variable with $p = n_a/N$:\n",
    "> $var(x) = p(1 - p)$"
   ]
  },
  {
   "cell_type": "code",
   "execution_count": 22,
   "metadata": {},
   "outputs": [
    {
     "data": {
      "text/plain": [
       "(87, 124)"
      ]
     },
     "execution_count": 22,
     "metadata": {},
     "output_type": "execute_result"
    }
   ],
   "source": [
    "n = 166\n",
    "p = df_maccs_all.sum()/n\n",
    "var = p*(1-p)*n\n",
    "\n",
    "q = np.quantile(var.values, 0.25)\n",
    "df_maccs_filt2 = df_maccs_all.iloc[:, var.values > q]\n",
    "df_maccs_filt2.shape"
   ]
  },
  {
   "cell_type": "code",
   "execution_count": 23,
   "metadata": {},
   "outputs": [
    {
     "data": {
      "text/plain": [
       "array([ 0.        ,  0.        ,  0.        ,  0.        ,  0.        ,\n",
       "        0.        ,  0.        ,  0.        ,  0.        ,  0.        ,\n",
       "        0.        ,  0.        ,  0.        ,  0.        ,  0.        ,\n",
       "        0.        ,  0.        ,  0.        ,  0.        ,  0.        ,\n",
       "        0.        ,  0.        ,  0.        ,  0.        ,  0.        ,\n",
       "        0.        ,  0.        ,  0.        ,  0.        ,  0.        ,\n",
       "        0.        ,  0.        ,  0.        ,  0.        ,  0.        ,\n",
       "        0.        ,  0.        ,  0.9939759 ,  0.9939759 ,  0.9939759 ,\n",
       "        0.9939759 ,  0.9939759 ,  1.97590361,  1.97590361,  1.97590361,\n",
       "        1.97590361,  1.97590361,  1.97590361,  2.94578313,  2.94578313,\n",
       "        2.94578313,  2.94578313,  3.90361446,  3.90361446,  3.90361446,\n",
       "        3.90361446,  3.90361446,  3.90361446,  3.90361446,  4.84939759,\n",
       "        4.84939759,  4.84939759,  4.84939759,  4.84939759,  4.84939759,\n",
       "        4.84939759,  4.84939759,  4.84939759,  4.84939759,  5.78313253,\n",
       "        5.78313253,  5.78313253,  6.70481928,  6.70481928,  8.51204819,\n",
       "        8.51204819,  8.51204819,  8.51204819,  9.39759036,  9.39759036,\n",
       "       10.27108434, 10.27108434, 11.13253012, 11.98192771, 11.98192771,\n",
       "       11.98192771, 11.98192771, 11.98192771, 12.81927711, 12.81927711,\n",
       "       12.81927711, 13.64457831, 13.64457831, 14.45783133, 15.25903614,\n",
       "       16.04819277, 16.8253012 , 17.59036145, 17.59036145, 17.59036145,\n",
       "       18.34337349, 18.34337349, 19.08433735, 19.08433735, 19.08433735,\n",
       "       19.08433735, 19.81325301, 19.81325301, 20.53012048, 20.53012048,\n",
       "       26.43975904, 28.19277108, 28.19277108, 30.36144578, 31.37349398,\n",
       "       31.86144578, 31.86144578, 32.3373494 , 32.80120482, 32.80120482,\n",
       "       33.69277108, 33.69277108, 33.69277108, 33.69277108, 34.12048193,\n",
       "       34.53614458, 34.93975904, 35.3313253 , 36.77710843, 37.10843373,\n",
       "       37.10843373, 37.42771084, 37.42771084, 38.31325301, 38.58433735,\n",
       "       38.58433735, 39.95783133, 40.48192771, 41.01204819, 41.01204819,\n",
       "       41.28313253, 41.28313253, 41.34939759, 41.34939759, 41.40361446,\n",
       "       41.40361446, 41.40361446, 41.40361446, 41.40361446, 41.40361446,\n",
       "       41.40361446, 41.40361446, 41.40361446, 41.40361446, 41.44578313,\n",
       "       41.44578313, 41.47590361, 41.47590361, 41.47590361, 41.47590361,\n",
       "       41.4939759 , 41.4939759 , 41.4939759 , 41.5       , 41.5       ,\n",
       "       41.5       ])"
      ]
     },
     "execution_count": 23,
     "metadata": {},
     "output_type": "execute_result"
    }
   ],
   "source": [
    "var.values.sort()\n",
    "var.values"
   ]
  },
  {
   "cell_type": "markdown",
   "metadata": {},
   "source": [
    "## RDKit 2D Descriptors"
   ]
  },
  {
   "cell_type": "code",
   "execution_count": 11,
   "metadata": {},
   "outputs": [],
   "source": [
    "rdk2d_knime = pd.read_csv('knime/2d_rdki_knime.csv')\n",
    "rdk2d_knime['Filename'] = rdk2d_knime['Filename'].apply(lambda x: x.lower().split('.')[0])\n",
    "rdk2d_knime = rdk2d_knime.set_index('Filename')\n",
    "rdk2d_knime = rdk2d_knime.iloc[:, 6:]"
   ]
  },
  {
   "cell_type": "code",
   "execution_count": 12,
   "metadata": {},
   "outputs": [],
   "source": [
    "from rdkit.Chem import Descriptors\n",
    "# Get the descriptor names but ommit all descriptors related to fragments inside molecules (all of them start with 'fr_')\n",
    "names_of_all_rdkit_descriptors = [x[0] for x in Descriptors._descList if x[0][:3] != 'fr_']\n",
    "#np.array(names_of_all_rdkit_descriptors)"
   ]
  },
  {
   "cell_type": "code",
   "execution_count": 13,
   "metadata": {},
   "outputs": [],
   "source": [
    "s = df_erk2_mols['2d_rdkit'].map(lambda x: x)\n",
    "df_rdkit_all = pd.DataFrame.from_dict(dict(zip(s.index, s.values))).T\n",
    "df_rdkit_all.columns = names_of_all_rdkit_descriptors\n",
    "#df_rdkit_all"
   ]
  }
 ],
 "metadata": {
  "kernelspec": {
   "display_name": "Python 3.7.6 64-bit ('mds': conda)",
   "language": "python",
   "name": "python37664bitmdsconda8fcfe9b6c3484566880235af88776fef"
  },
  "language_info": {
   "codemirror_mode": {
    "name": "ipython",
    "version": 3
   },
   "file_extension": ".py",
   "mimetype": "text/x-python",
   "name": "python",
   "nbconvert_exporter": "python",
   "pygments_lexer": "ipython3",
   "version": "3.7.6"
  }
 },
 "nbformat": 4,
 "nbformat_minor": 4
}
