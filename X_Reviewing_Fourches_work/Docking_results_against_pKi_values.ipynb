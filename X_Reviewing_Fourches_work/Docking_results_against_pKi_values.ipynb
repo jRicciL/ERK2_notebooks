{
 "cells": [
  {
   "cell_type": "markdown",
   "metadata": {},
   "source": [
    "# Docking scores and pKi correlations"
   ]
  },
  {
   "cell_type": "code",
   "execution_count": 1,
   "metadata": {},
   "outputs": [],
   "source": [
    "import pandas as pd\n",
    "import numpy as np"
   ]
  },
  {
   "cell_type": "markdown",
   "metadata": {},
   "source": [
    "#### Loading Experimental data"
   ]
  },
  {
   "cell_type": "code",
   "execution_count": 2,
   "metadata": {},
   "outputs": [],
   "source": [
    "df_erk2_ligs_exp = pd.read_json('ERK2_molecules_used_by_Fourches_SMILES.json')\n",
    "df_erk2_ligs_exp = df_erk2_ligs_exp.set_index('Name')\n",
    "# Create a 'model' or 'csar' label as Fourches & Ash do\n",
    "df_erk2_ligs_exp['dataset'] = ['csar' if 'CSAR' in i else 'model' for i in df_erk2_ligs_exp.index]\n",
    "# df_erk2_ligs_exp.head()"
   ]
  },
  {
   "cell_type": "markdown",
   "metadata": {},
   "source": [
    "#### Loading Docking results"
   ]
  },
  {
   "cell_type": "code",
   "execution_count": 3,
   "metadata": {},
   "outputs": [],
   "source": [
    "# Load docking results with Vinardo\n",
    "vinardo_dk_results = pd.read_csv('./docking_results/vinardo_erk2_86mols_vs_166prots.csv', index_col=0)\n",
    "# Order the row to match the order of the df_erk2_ligs_exp data frame\n",
    "vinardo_dk_results = vinardo_dk_results.reindex(df_erk2_ligs_exp.index)"
   ]
  },
  {
   "cell_type": "code",
   "execution_count": 4,
   "metadata": {},
   "outputs": [],
   "source": [
    "# Load docking results with Vina\n",
    "vina_dk_results = pd.read_csv('./docking_results/vina_erk2_86mols_vs_166prots.csv', index_col=0)\n",
    "# Order the row to match the order of the df_erk2_ligs_exp data frame\n",
    "vina_dk_results = vina_dk_results.reindex(df_erk2_ligs_exp.index)"
   ]
  },
  {
   "cell_type": "markdown",
   "metadata": {},
   "source": [
    "<div style='background-color: #F9E5AB; padding: 1px 2px 5px 10px; font-size: 1em;'>\n",
    "    <h2 class='text-danger'>USR or 3D D-MOMENTS </h2>\n",
    "</div>\n",
    "\n",
    "\n",
    "### First, compare using only the 3i60 conformation\n",
    "- Ash and Fourches used 3i60 ERK2 conformation for docking assays using Glide."
   ]
  },
  {
   "cell_type": "code",
   "execution_count": 5,
   "metadata": {},
   "outputs": [],
   "source": [
    "from scipy.stats import spearmanr"
   ]
  },
  {
   "cell_type": "markdown",
   "metadata": {},
   "source": [
    "##### Results with Vina\n",
    "- Correlation of Vina results and experimental pKi values (using 3i60 conformation)"
   ]
  },
  {
   "cell_type": "code",
   "execution_count": 6,
   "metadata": {},
   "outputs": [
    {
     "name": "stdout",
     "output_type": "stream",
     "text": [
      "Spearman corr. between pKi values and VINA results:\n",
      "Model dataset (47 mols.):\n",
      " \trho: 0.4415 \t p: 0.0019\n",
      "CSAR dataset (39 mols.):\n",
      " \trho: 0.4975 \t p: 0.0013\n",
      "All molecules (86):\n",
      " \trho: 0.4722 \t p: 0.0\n"
     ]
    }
   ],
   "source": [
    "# For model dataset\n",
    "print('Spearman corr. between pKi values and VINA results:')\n",
    "\n",
    "model_mask = df_erk2_ligs_exp.dataset == 'model'\n",
    "rs_ = spearmanr(df_erk2_ligs_exp[model_mask].pKi, - vina_dk_results.loc[model_mask, :]['3i60'])\n",
    "print('Model dataset (47 mols.):\\n',\n",
    "      '\\trho:', round(rs_[0], 4), '\\t', 'p:', round(rs_[1], 4))\n",
    "\n",
    "# For csar dataset\n",
    "csar_mask = df_erk2_ligs_exp.dataset == 'csar'\n",
    "rs_ = spearmanr(df_erk2_ligs_exp[csar_mask].pKi, - vina_dk_results.loc[csar_mask, :]['3i60'])\n",
    "print('CSAR dataset (39 mols.):\\n',\n",
    "      '\\trho:', round(rs_[0], 4), '\\t', 'p:', round(rs_[1], 4))\n",
    "\n",
    "# For csar dataset\n",
    "rs_ = spearmanr(df_erk2_ligs_exp.pKi, - vina_dk_results['3i60'])\n",
    "print('All molecules (86):\\n',\n",
    "      '\\trho:', round(rs_[0], 4), '\\t', 'p:', round(rs_[1], 4))"
   ]
  },
  {
   "cell_type": "markdown",
   "metadata": {},
   "source": [
    "##### Results with Vinardo\n",
    "- Correlation of Vinardo results and experimental pKi values (using 3i60 conformation)"
   ]
  },
  {
   "cell_type": "code",
   "execution_count": 7,
   "metadata": {},
   "outputs": [
    {
     "name": "stdout",
     "output_type": "stream",
     "text": [
      "Spearman corr. between pKi values and VINA results:\n",
      "Model dataset (47 mols.):\n",
      " \trho: 0.6786 \t p: 0.0\n",
      "CSAR dataset (39 mols.):\n",
      " \trho: 0.5752 \t p: 0.0001\n",
      "All molecules (86):\n",
      " \trho: 0.6297 \t p: 0.0\n"
     ]
    }
   ],
   "source": [
    "# For model dataset\n",
    "print('Spearman corr. between pKi values and VINA results:')\n",
    "\n",
    "model_mask = df_erk2_ligs_exp.dataset == 'model'\n",
    "rs_ = spearmanr(df_erk2_ligs_exp[model_mask].pKi, - vinardo_dk_results.loc[model_mask, :]['3i60'])\n",
    "print('Model dataset (47 mols.):\\n',\n",
    "      '\\trho:', round(rs_[0], 4), '\\t', 'p:', round(rs_[1], 4))\n",
    "\n",
    "# For csar dataset\n",
    "csar_mask = df_erk2_ligs_exp.dataset == 'csar'\n",
    "rs_ = spearmanr(df_erk2_ligs_exp[csar_mask].pKi, - vinardo_dk_results.loc[csar_mask, :]['3i60'])\n",
    "print('CSAR dataset (39 mols.):\\n',\n",
    "      '\\trho:', round(rs_[0], 4), '\\t', 'p:', round(rs_[1], 4))\n",
    "\n",
    "# For csar dataset\n",
    "rs_ = spearmanr(df_erk2_ligs_exp.pKi, - vinardo_dk_results['3i60'])\n",
    "print('All molecules (86):\\n',\n",
    "      '\\trho:', round(rs_[0], 4), '\\t', 'p:', round(rs_[1], 4))"
   ]
  },
  {
   "cell_type": "markdown",
   "metadata": {},
   "source": [
    "#### Conclusion:\n",
    "Ash & Fourches used Glide SP (standard precision) and Glide XP (extra precision). Their results were the following:\n",
    "> Model set:\n",
    "- Glide SP: $\\rho=0.74$\n",
    "- Glide XP: $\\rho=0.65$\n",
    "\n",
    "> CSAR set:\n",
    "- Glide SP: $\\rho=0.43$\n",
    "- Glide XP: $\\rho=0.51$\n",
    "\n",
    "1. **In our assays Vina got worse results than Vinardo, and than Glide** (with exception of Glide SP in CSAR dataset).\n",
    "2. **Results with Vinardo outperforms Glide results** (with exception of Glide SP in Model dataset)."
   ]
  },
  {
   "cell_type": "markdown",
   "metadata": {},
   "source": [
    "### Reproducing the Fig. 2  with our results"
   ]
  },
  {
   "cell_type": "code",
   "execution_count": 8,
   "metadata": {},
   "outputs": [],
   "source": [
    "from plotnine import *\n",
    "import plotnine"
   ]
  },
  {
   "cell_type": "code",
   "execution_count": 9,
   "metadata": {},
   "outputs": [],
   "source": [
    "# Create the dataframe\n",
    "df = pd.DataFrame({'pKi': df_erk2_ligs_exp.pKi, 'dataset': df_erk2_ligs_exp.dataset,\n",
    "                   'Vinardo': vinardo_dk_results['3i60'], 'Vina': vina_dk_results['3i60']})\n",
    "\n",
    "melted_df = pd.melt(df, id_vars ='dataset', value_vars=['Vinardo', 'Vina', 'pKi'])\n",
    "melted_df['variable'] = pd.Categorical(melted_df['variable'], categories=['pKi', 'Vina', 'Vinardo'])"
   ]
  },
  {
   "cell_type": "code",
   "execution_count": 10,
   "metadata": {},
   "outputs": [
    {
     "data": {
      "image/png": "[encoded data removed]",
      "text/plain": [
       "<Figure size 1100x500 with 3 Axes>"
      ]
     },
     "metadata": {},
     "output_type": "display_data"
    },
    {
     "name": "stdout",
     "output_type": "stream",
     "text": [
      "<ggplot: (8783203415501)>\n"
     ]
    },
    {
     "data": {
      "image/png": "[encoded data removed]",
      "text/plain": [
       "<Figure size 1100x380 with 3 Axes>"
      ]
     },
     "metadata": {},
     "output_type": "display_data"
    },
    {
     "name": "stdout",
     "output_type": "stream",
     "text": [
      "<ggplot: (8783203291685)>\n"
     ]
    }
   ],
   "source": [
    "plotnine.options.figure_size = (11, 5)\n",
    "melted_df['dataset'] = pd.Categorical(melted_df['dataset'], categories = ['model', 'csar'])\n",
    "print(\n",
    "ggplot(melted_df, aes(x='value', fill='dataset')) + \n",
    "     geom_histogram(bins=19, position=\"stack\", color='black') + \n",
    "     facet_wrap('~variable', scales = \"free_x\") + \n",
    "     scale_fill_manual(values=(\"#cf5656\", \"#68cecf\"))\n",
    ")\n",
    "\n",
    "melted_df['dataset'] = pd.Categorical(melted_df['dataset'], categories = ['csar', 'model'])\n",
    "plotnine.options.figure_size = (11, 3.8)\n",
    "print(\n",
    "ggplot(melted_df, aes(x='dataset', y='value', fill='dataset')) + \n",
    "     geom_boxplot(color='black') + \n",
    "     facet_wrap('~variable', scales = \"free_y\") + \n",
    "     scale_fill_manual(values=(\"#68cecf\", \"#cf5656\"))\n",
    ")"
   ]
  },
  {
   "cell_type": "markdown",
   "metadata": {},
   "source": [
    "### 3D scatterplot"
   ]
  },
  {
   "cell_type": "code",
   "execution_count": 11,
   "metadata": {},
   "outputs": [],
   "source": [
    "from sklearn.preprocessing import StandardScaler\n",
    "columns = ['pKi', 'Vinardo', 'Vina']\n",
    "new_columns = ['pKi_std', 'Vinardo_std', 'Vina_std']\n",
    "df_scaled = pd.DataFrame(StandardScaler().fit_transform(df[columns]), columns = new_columns, index = df.index)\n",
    "df_scaled['Name'] = df.index\n",
    "df_scaled['dataset'] = df.dataset"
   ]
  },
  {
   "cell_type": "code",
   "execution_count": 32,
   "metadata": {},
   "outputs": [
    {
     "data": {
      "application/vnd.plotly.v1+json": {
       "config": {
        "plotlyServerURL": "https://plot.ly"
       },
       "data": [
        {
         "hoverlabel": {
          "namelength": 0
         },
         "hovertemplate": "dataset=csar<br>pKi_std=%{x}<br>Vinardo_std=%{y}<br>Vina_std=%{z}<br>size=%{marker.size}",
         "legendgroup": "dataset=csar",
         "marker": {
          "color": "#636efa",
          "opacity": 0.7,
          "size": [
           9,
           8.7,
           8.52,
           8.4,
           8.4,
           8.3,
           8.15,
           8,
           7.82,
           7.77,
           7.74,
           7.7,
           7.68,
           7.57,
           7.55,
           7.4,
           7.24,
           7.1,
           7.08,
           7.07,
           6.82,
           6.76,
           6.72,
           6.72,
           6.6,
           6.37,
           6.28,
           6.11,
           6.09,
           6,
           5.96,
           5.89,
           5.59,
           5.34,
           5.28,
           4.96,
           4.89,
           4.82,
           4.8
          ],
          "sizemode": "area",
          "sizeref": 0.04,
          "symbol": "circle"
         },
         "mode": "markers",
         "name": "dataset=csar",
         "scene": "scene",
         "showlegend": true,
         "type": "scatter3d",
         "x": [
          1.9741651568596101,
          1.7055145895987942,
          1.5443242492423053,
          1.4368640223379798,
          1.4368640223379798,
          1.3473138332510417,
          1.2129885496206338,
          1.0786632659902258,
          0.917472925633737,
          0.8726978310902671,
          0.8458327743641861,
          0.8100126987294107,
          0.7921026609120226,
          0.6935974529163909,
          0.6756874150990028,
          0.5413621314685957,
          0.39808182892949406,
          0.27271156420777976,
          0.25480152639039244,
          0.24584650748169878,
          0.021971034764352734,
          -0.03175907868781077,
          -0.06757915432258617,
          -0.06757915432258617,
          -0.17503938122691237,
          -0.3810048161268703,
          -0.4615999863051148,
          -0.6138353077529101,
          -0.6317453455702982,
          -0.7123405157485426,
          -0.748160591383318,
          -0.8108457237441752,
          -1.0794962910049903,
          -1.3033717637223363,
          -1.357101877174499,
          -1.6436624822527022,
          -1.7063476146135594,
          -1.7690327469744158,
          -1.7869427847918038
         ],
         "y": [
          -0.4078968221903271,
          -0.9069900883662944,
          -1.0495881644165703,
          -0.9782891263914324,
          -0.47919586021546506,
          -0.6930929742908791,
          -1.2634852784919857,
          -0.051401632064635785,
          -0.7643920123160184,
          -0.051401632064635785,
          -1.0495881644165703,
          -0.9069900883662944,
          -1.3347843165171236,
          0.3050935580610555,
          -1.4060833545422615,
          0.732887786211886,
          -0.4078968221903271,
          -0.1939997081149118,
          -0.9069900883662944,
          -0.3365977841651878,
          -1.548681430592539,
          1.445878166463268,
          0.5902897101616088,
          -0.6217939362657411,
          1.5884762425135446,
          -0.3365977841651878,
          0.3050935580610555,
          -1.0495881644165703,
          0.9467849002873,
          1.5171772044884066,
          -0.4078968221903271,
          0.2337945200359175,
          0.8754858622621621,
          0.16249548201077949,
          1.5884762425135446,
          -0.3365977841651878,
          1.2319810523878534,
          1.5171772044884066,
          -0.3365977841651878
         ],
         "z": [
          -0.20097030023300935,
          -0.09088465806715838,
          -0.3110559423988603,
          -0.7513985110622662,
          -0.20097030023300935,
          -0.20097030023300935,
          -0.8614841532281171,
          0.01920098409869455,
          -0.8614841532281171,
          0.45954355276209846,
          -0.20097030023300935,
          -0.9715697953939681,
          -0.8614841532281171,
          -0.09088465806715838,
          -1.411912364057374,
          0.5696291949279514,
          0.2393722684303965,
          0.01920098409869455,
          -0.7513985110622662,
          -0.4211415845647113,
          -0.9715697953939681,
          2.000742543084018,
          -0.5312272267305623,
          -1.411912364057374,
          1.1200574057572081,
          0.1292866262645455,
          0.6797148370938023,
          -0.6413128688964153,
          1.0099717635913552,
          1.1200574057572081,
          -0.5312272267305623,
          0.5696291949279514,
          0.1292866262645455,
          0.01920098409869455,
          2.11082818524987,
          0.01920098409869455,
          0.8998861214255043,
          1.670485616586465,
          0.45954355276209846
         ]
        },
        {
         "hoverlabel": {
          "namelength": 0
         },
         "hovertemplate": "dataset=model<br>pKi_std=%{x}<br>Vinardo_std=%{y}<br>Vina_std=%{z}<br>size=%{marker.size}",
         "legendgroup": "dataset=model",
         "marker": {
          "color": "#EF553B",
          "opacity": 0.7,
          "size": [
           8.52,
           8.52,
           8.4,
           8.4,
           8.3,
           8.3,
           8.15,
           7.89,
           7.85,
           7.82,
           7.66,
           7.62,
           7.47,
           7.46,
           7.4,
           7.36,
           7.2,
           7.07,
           6.8,
           6.77,
           6.7,
           6.66,
           6.64,
           6.62,
           6.59,
           6.51,
           6.48,
           6.37,
           6.36,
           6.31,
           6.29,
           6.29,
           6.28,
           6.24,
           6.06,
           5.7,
           5.7,
           5.64,
           5.64,
           5.47,
           5.41,
           5.4,
           5.33,
           5.24,
           5.09,
           4.64,
           4.6
          ],
          "sizemode": "area",
          "sizeref": 0.04,
          "symbol": "circle"
         },
         "mode": "markers",
         "name": "dataset=model",
         "scene": "scene",
         "showlegend": true,
         "type": "scatter3d",
         "x": [
          1.5443242492423053,
          1.5443242492423053,
          1.4368640223379798,
          1.4368640223379798,
          1.3473138332510417,
          1.3473138332510417,
          1.2129885496206338,
          0.9801580579945933,
          0.9443379823598179,
          0.917472925633737,
          0.7741926230946353,
          0.7383725474598599,
          0.604047263829452,
          0.5950922449207584,
          0.5413621314685957,
          0.5055420558338203,
          0.36226175329471866,
          0.24584650748169878,
          0.004060996946964634,
          -0.022804059779117116,
          -0.08548919213997347,
          -0.12130926777474887,
          -0.13921930559213697,
          -0.15712934340952428,
          -0.18399440013560603,
          -0.25563455140515684,
          -0.28249960813123776,
          -0.3810048161268703,
          -0.389959835035564,
          -0.4347349295790338,
          -0.4526449673964211,
          -0.4526449673964211,
          -0.4615999863051148,
          -0.4974200619398902,
          -0.6586104022963799,
          -0.9809910830093577,
          -0.9809910830093577,
          -1.0347211964615213,
          -1.0347211964615213,
          -1.1869565179093164,
          -1.240686631361479,
          -1.2496416502701728,
          -1.3123267826310299,
          -1.3929219528092744,
          -1.5272472364396823,
          -1.9302230873309054,
          -1.966043162965681
         ],
         "y": [
          -0.3365977841651878,
          -1.4060833545422615,
          -1.1921862404668475,
          -1.3347843165171236,
          -1.548681430592539,
          -1.1208872024417096,
          -0.1939997081149118,
          -1.6199804686176769,
          -0.1939997081149118,
          -0.051401632064635785,
          -0.2652987461400498,
          -0.12270067008977378,
          -1.1208872024417096,
          -0.550494898240603,
          -0.7643920123160184,
          -0.6217939362657411,
          -0.2652987461400498,
          -0.4078968221903271,
          -0.051401632064635785,
          -1.0495881644165703,
          1.5884762425135446,
          0.804186824237024,
          -0.1939997081149118,
          0.09119644398564149,
          0.019897405960503482,
          0.5189906721364708,
          -0.6930929742908791,
          0.6615887481867467,
          1.3032800904129913,
          0.019897405960503482,
          -0.051401632064635785,
          0.6615887481867467,
          1.8736723946140978,
          1.2319810523878534,
          1.445878166463268,
          0.2337945200359175,
          0.37639259608619474,
          -0.47919586021546506,
          1.0893829763375773,
          1.018083938312438,
          2.0162704706643737,
          -0.1939997081149118,
          1.018083938312438,
          1.8023733565889593,
          3.442251231167139,
          -0.7643920123160184,
          0.16249548201077949
         ],
         "z": [
          -0.20097030023300935,
          -0.8614841532281171,
          -1.411912364057374,
          -1.411912364057374,
          -0.9715697953939681,
          -0.5312272267305623,
          -0.20097030023300935,
          -1.521998006223225,
          -0.3110559423988603,
          -1.081655437559819,
          -0.4211415845647113,
          -0.09088465806715838,
          -1.081655437559819,
          -0.3110559423988603,
          -0.3110559423988603,
          -0.7513985110622662,
          -0.20097030023300935,
          -0.4211415845647113,
          0.45954355276209846,
          -0.8614841532281171,
          0.8998861214255043,
          0.01920098409869455,
          0.1292866262645455,
          -0.3110559423988603,
          0.3494579105962475,
          0.01920098409869455,
          0.2393722684303965,
          0.8998861214255043,
          0.6797148370938023,
          0.2393722684303965,
          -0.7513985110622662,
          -1.191741079725672,
          1.890656900918167,
          1.560399974420612,
          0.3494579105962475,
          0.8998861214255043,
          0.01920098409869455,
          -0.5312272267305623,
          1.0099717635913552,
          1.560399974420612,
          1.1200574057572081,
          -1.191741079725672,
          1.560399974420612,
          1.4503143322547611,
          4.092369744235194,
          -1.9623405748866307,
          -1.521998006223225
         ]
        }
       ],
       "layout": {
        "legend": {
         "itemsizing": "constant",
         "tracegroupgap": 0
        },
        "margin": {
         "t": 60
        },
        "scene": {
         "domain": {
          "x": [
           0,
           1
          ],
          "y": [
           0,
           1
          ]
         },
         "xaxis": {
          "title": {
           "text": "pKi_std"
          }
         },
         "yaxis": {
          "title": {
           "text": "Vinardo_std"
          }
         },
         "zaxis": {
          "title": {
           "text": "Vina_std"
          }
         }
        },
        "template": {
         "data": {
          "bar": [
           {
            "error_x": {
             "color": "#2a3f5f"
            },
            "error_y": {
             "color": "#2a3f5f"
            },
            "marker": {
             "line": {
              "color": "#E5ECF6",
              "width": 0.5
             }
            },
            "type": "bar"
           }
          ],
          "barpolar": [
           {
            "marker": {
             "line": {
              "color": "#E5ECF6",
              "width": 0.5
             }
            },
            "type": "barpolar"
           }
          ],
          "carpet": [
           {
            "aaxis": {
             "endlinecolor": "#2a3f5f",
             "gridcolor": "white",
             "linecolor": "white",
             "minorgridcolor": "white",
             "startlinecolor": "#2a3f5f"
            },
            "baxis": {
             "endlinecolor": "#2a3f5f",
             "gridcolor": "white",
             "linecolor": "white",
             "minorgridcolor": "white",
             "startlinecolor": "#2a3f5f"
            },
            "type": "carpet"
           }
          ],
          "choropleth": [
           {
            "colorbar": {
             "outlinewidth": 0,
             "ticks": ""
            },
            "type": "choropleth"
           }
          ],
          "contour": [
           {
            "colorbar": {
             "outlinewidth": 0,
             "ticks": ""
            },
            "colorscale": [
             [
              0,
              "#0d0887"
             ],
             [
              0.1111111111111111,
              "#46039f"
             ],
             [
              0.2222222222222222,
              "#7201a8"
             ],
             [
              0.3333333333333333,
              "#9c179e"
             ],
             [
              0.4444444444444444,
              "#bd3786"
             ],
             [
              0.5555555555555556,
              "#d8576b"
             ],
             [
              0.6666666666666666,
              "#ed7953"
             ],
             [
              0.7777777777777778,
              "#fb9f3a"
             ],
             [
              0.8888888888888888,
              "#fdca26"
             ],
             [
              1,
              "#f0f921"
             ]
            ],
            "type": "contour"
           }
          ],
          "contourcarpet": [
           {
            "colorbar": {
             "outlinewidth": 0,
             "ticks": ""
            },
            "type": "contourcarpet"
           }
          ],
          "heatmap": [
           {
            "colorbar": {
             "outlinewidth": 0,
             "ticks": ""
            },
            "colorscale": [
             [
              0,
              "#0d0887"
             ],
             [
              0.1111111111111111,
              "#46039f"
             ],
             [
              0.2222222222222222,
              "#7201a8"
             ],
             [
              0.3333333333333333,
              "#9c179e"
             ],
             [
              0.4444444444444444,
              "#bd3786"
             ],
             [
              0.5555555555555556,
              "#d8576b"
             ],
             [
              0.6666666666666666,
              "#ed7953"
             ],
             [
              0.7777777777777778,
              "#fb9f3a"
             ],
             [
              0.8888888888888888,
              "#fdca26"
             ],
             [
              1,
              "#f0f921"
             ]
            ],
            "type": "heatmap"
           }
          ],
          "heatmapgl": [
           {
            "colorbar": {
             "outlinewidth": 0,
             "ticks": ""
            },
            "colorscale": [
             [
              0,
              "#0d0887"
             ],
             [
              0.1111111111111111,
              "#46039f"
             ],
             [
              0.2222222222222222,
              "#7201a8"
             ],
             [
              0.3333333333333333,
              "#9c179e"
             ],
             [
              0.4444444444444444,
              "#bd3786"
             ],
             [
              0.5555555555555556,
              "#d8576b"
             ],
             [
              0.6666666666666666,
              "#ed7953"
             ],
             [
              0.7777777777777778,
              "#fb9f3a"
             ],
             [
              0.8888888888888888,
              "#fdca26"
             ],
             [
              1,
              "#f0f921"
             ]
            ],
            "type": "heatmapgl"
           }
          ],
          "histogram": [
           {
            "marker": {
             "colorbar": {
              "outlinewidth": 0,
              "ticks": ""
             }
            },
            "type": "histogram"
           }
          ],
          "histogram2d": [
           {
            "colorbar": {
             "outlinewidth": 0,
             "ticks": ""
            },
            "colorscale": [
             [
              0,
              "#0d0887"
             ],
             [
              0.1111111111111111,
              "#46039f"
             ],
             [
              0.2222222222222222,
              "#7201a8"
             ],
             [
              0.3333333333333333,
              "#9c179e"
             ],
             [
              0.4444444444444444,
              "#bd3786"
             ],
             [
              0.5555555555555556,
              "#d8576b"
             ],
             [
              0.6666666666666666,
              "#ed7953"
             ],
             [
              0.7777777777777778,
              "#fb9f3a"
             ],
             [
              0.8888888888888888,
              "#fdca26"
             ],
             [
              1,
              "#f0f921"
             ]
            ],
            "type": "histogram2d"
           }
          ],
          "histogram2dcontour": [
           {
            "colorbar": {
             "outlinewidth": 0,
             "ticks": ""
            },
            "colorscale": [
             [
              0,
              "#0d0887"
             ],
             [
              0.1111111111111111,
              "#46039f"
             ],
             [
              0.2222222222222222,
              "#7201a8"
             ],
             [
              0.3333333333333333,
              "#9c179e"
             ],
             [
              0.4444444444444444,
              "#bd3786"
             ],
             [
              0.5555555555555556,
              "#d8576b"
             ],
             [
              0.6666666666666666,
              "#ed7953"
             ],
             [
              0.7777777777777778,
              "#fb9f3a"
             ],
             [
              0.8888888888888888,
              "#fdca26"
             ],
             [
              1,
              "#f0f921"
             ]
            ],
            "type": "histogram2dcontour"
           }
          ],
          "mesh3d": [
           {
            "colorbar": {
             "outlinewidth": 0,
             "ticks": ""
            },
            "type": "mesh3d"
           }
          ],
          "parcoords": [
           {
            "line": {
             "colorbar": {
              "outlinewidth": 0,
              "ticks": ""
             }
            },
            "type": "parcoords"
           }
          ],
          "pie": [
           {
            "automargin": true,
            "type": "pie"
           }
          ],
          "scatter": [
           {
            "marker": {
             "colorbar": {
              "outlinewidth": 0,
              "ticks": ""
             }
            },
            "type": "scatter"
           }
          ],
          "scatter3d": [
           {
            "line": {
             "colorbar": {
              "outlinewidth": 0,
              "ticks": ""
             }
            },
            "marker": {
             "colorbar": {
              "outlinewidth": 0,
              "ticks": ""
             }
            },
            "type": "scatter3d"
           }
          ],
          "scattercarpet": [
           {
            "marker": {
             "colorbar": {
              "outlinewidth": 0,
              "ticks": ""
             }
            },
            "type": "scattercarpet"
           }
          ],
          "scattergeo": [
           {
            "marker": {
             "colorbar": {
              "outlinewidth": 0,
              "ticks": ""
             }
            },
            "type": "scattergeo"
           }
          ],
          "scattergl": [
           {
            "marker": {
             "colorbar": {
              "outlinewidth": 0,
              "ticks": ""
             }
            },
            "type": "scattergl"
           }
          ],
          "scattermapbox": [
           {
            "marker": {
             "colorbar": {
              "outlinewidth": 0,
              "ticks": ""
             }
            },
            "type": "scattermapbox"
           }
          ],
          "scatterpolar": [
           {
            "marker": {
             "colorbar": {
              "outlinewidth": 0,
              "ticks": ""
             }
            },
            "type": "scatterpolar"
           }
          ],
          "scatterpolargl": [
           {
            "marker": {
             "colorbar": {
              "outlinewidth": 0,
              "ticks": ""
             }
            },
            "type": "scatterpolargl"
           }
          ],
          "scatterternary": [
           {
            "marker": {
             "colorbar": {
              "outlinewidth": 0,
              "ticks": ""
             }
            },
            "type": "scatterternary"
           }
          ],
          "surface": [
           {
            "colorbar": {
             "outlinewidth": 0,
             "ticks": ""
            },
            "colorscale": [
             [
              0,
              "#0d0887"
             ],
             [
              0.1111111111111111,
              "#46039f"
             ],
             [
              0.2222222222222222,
              "#7201a8"
             ],
             [
              0.3333333333333333,
              "#9c179e"
             ],
             [
              0.4444444444444444,
              "#bd3786"
             ],
             [
              0.5555555555555556,
              "#d8576b"
             ],
             [
              0.6666666666666666,
              "#ed7953"
             ],
             [
              0.7777777777777778,
              "#fb9f3a"
             ],
             [
              0.8888888888888888,
              "#fdca26"
             ],
             [
              1,
              "#f0f921"
             ]
            ],
            "type": "surface"
           }
          ],
          "table": [
           {
            "cells": {
             "fill": {
              "color": "#EBF0F8"
             },
             "line": {
              "color": "white"
             }
            },
            "header": {
             "fill": {
              "color": "#C8D4E3"
             },
             "line": {
              "color": "white"
             }
            },
            "type": "table"
           }
          ]
         },
         "layout": {
          "annotationdefaults": {
           "arrowcolor": "#2a3f5f",
           "arrowhead": 0,
           "arrowwidth": 1
          },
          "coloraxis": {
           "colorbar": {
            "outlinewidth": 0,
            "ticks": ""
           }
          },
          "colorscale": {
           "diverging": [
            [
             0,
             "#8e0152"
            ],
            [
             0.1,
             "#c51b7d"
            ],
            [
             0.2,
             "#de77ae"
            ],
            [
             0.3,
             "#f1b6da"
            ],
            [
             0.4,
             "#fde0ef"
            ],
            [
             0.5,
             "#f7f7f7"
            ],
            [
             0.6,
             "#e6f5d0"
            ],
            [
             0.7,
             "#b8e186"
            ],
            [
             0.8,
             "#7fbc41"
            ],
            [
             0.9,
             "#4d9221"
            ],
            [
             1,
             "#276419"
            ]
           ],
           "sequential": [
            [
             0,
             "#0d0887"
            ],
            [
             0.1111111111111111,
             "#46039f"
            ],
            [
             0.2222222222222222,
             "#7201a8"
            ],
            [
             0.3333333333333333,
             "#9c179e"
            ],
            [
             0.4444444444444444,
             "#bd3786"
            ],
            [
             0.5555555555555556,
             "#d8576b"
            ],
            [
             0.6666666666666666,
             "#ed7953"
            ],
            [
             0.7777777777777778,
             "#fb9f3a"
            ],
            [
             0.8888888888888888,
             "#fdca26"
            ],
            [
             1,
             "#f0f921"
            ]
           ],
           "sequentialminus": [
            [
             0,
             "#0d0887"
            ],
            [
             0.1111111111111111,
             "#46039f"
            ],
            [
             0.2222222222222222,
             "#7201a8"
            ],
            [
             0.3333333333333333,
             "#9c179e"
            ],
            [
             0.4444444444444444,
             "#bd3786"
            ],
            [
             0.5555555555555556,
             "#d8576b"
            ],
            [
             0.6666666666666666,
             "#ed7953"
            ],
            [
             0.7777777777777778,
             "#fb9f3a"
            ],
            [
             0.8888888888888888,
             "#fdca26"
            ],
            [
             1,
             "#f0f921"
            ]
           ]
          },
          "colorway": [
           "#636efa",
           "#EF553B",
           "#00cc96",
           "#ab63fa",
           "#FFA15A",
           "#19d3f3",
           "#FF6692",
           "#B6E880",
           "#FF97FF",
           "#FECB52"
          ],
          "font": {
           "color": "#2a3f5f"
          },
          "geo": {
           "bgcolor": "white",
           "lakecolor": "white",
           "landcolor": "#E5ECF6",
           "showlakes": true,
           "showland": true,
           "subunitcolor": "white"
          },
          "hoverlabel": {
           "align": "left"
          },
          "hovermode": "closest",
          "mapbox": {
           "style": "light"
          },
          "paper_bgcolor": "white",
          "plot_bgcolor": "#E5ECF6",
          "polar": {
           "angularaxis": {
            "gridcolor": "white",
            "linecolor": "white",
            "ticks": ""
           },
           "bgcolor": "#E5ECF6",
           "radialaxis": {
            "gridcolor": "white",
            "linecolor": "white",
            "ticks": ""
           }
          },
          "scene": {
           "xaxis": {
            "backgroundcolor": "#E5ECF6",
            "gridcolor": "white",
            "gridwidth": 2,
            "linecolor": "white",
            "showbackground": true,
            "ticks": "",
            "zerolinecolor": "white"
           },
           "yaxis": {
            "backgroundcolor": "#E5ECF6",
            "gridcolor": "white",
            "gridwidth": 2,
            "linecolor": "white",
            "showbackground": true,
            "ticks": "",
            "zerolinecolor": "white"
           },
           "zaxis": {
            "backgroundcolor": "#E5ECF6",
            "gridcolor": "white",
            "gridwidth": 2,
            "linecolor": "white",
            "showbackground": true,
            "ticks": "",
            "zerolinecolor": "white"
           }
          },
          "shapedefaults": {
           "line": {
            "color": "#2a3f5f"
           }
          },
          "ternary": {
           "aaxis": {
            "gridcolor": "white",
            "linecolor": "white",
            "ticks": ""
           },
           "baxis": {
            "gridcolor": "white",
            "linecolor": "white",
            "ticks": ""
           },
           "bgcolor": "#E5ECF6",
           "caxis": {
            "gridcolor": "white",
            "linecolor": "white",
            "ticks": ""
           }
          },
          "title": {
           "x": 0.05
          },
          "xaxis": {
           "automargin": true,
           "gridcolor": "white",
           "linecolor": "white",
           "ticks": "",
           "title": {
            "standoff": 15
           },
           "zerolinecolor": "white",
           "zerolinewidth": 2
          },
          "yaxis": {
           "automargin": true,
           "gridcolor": "white",
           "linecolor": "white",
           "ticks": "",
           "title": {
            "standoff": 15
           },
           "zerolinecolor": "white",
           "zerolinewidth": 2
          }
         }
        }
       }
      },
      "text/html": [
       "<div>\n",
       "        \n",
       "        \n",
       "            <div id=\"584b1b75-73f7-4bd9-b060-f34362ee383b\" class=\"plotly-graph-div\" style=\"height:525px; width:100%;\"></div>\n",
       "            <script type=\"text/javascript\">\n",
       "                require([\"plotly\"], function(Plotly) {\n",
       "                    window.PLOTLYENV=window.PLOTLYENV || {};\n",
       "                    \n",
       "                if (document.getElementById(\"584b1b75-73f7-4bd9-b060-f34362ee383b\")) {\n",
       "                    Plotly.newPlot(\n",
       "                        '584b1b75-73f7-4bd9-b060-f34362ee383b',\n",
       "                        [{\"hoverlabel\": {\"namelength\": 0}, \"hovertemplate\": \"dataset=csar<br>pKi_std=%{x}<br>Vinardo_std=%{y}<br>Vina_std=%{z}<br>size=%{marker.size}\", \"legendgroup\": \"dataset=csar\", \"marker\": {\"color\": \"#636efa\", \"opacity\": 0.7, \"size\": [9.0, 8.7, 8.52, 8.4, 8.4, 8.3, 8.15, 8.0, 7.82, 7.77, 7.74, 7.7, 7.68, 7.57, 7.55, 7.4, 7.24, 7.1, 7.08, 7.07, 6.82, 6.76, 6.72, 6.72, 6.6, 6.37, 6.28, 6.11, 6.09, 6.0, 5.96, 5.89, 5.59, 5.34, 5.28, 4.96, 4.89, 4.82, 4.8], \"sizemode\": \"area\", \"sizeref\": 0.04, \"symbol\": \"circle\"}, \"mode\": \"markers\", \"name\": \"dataset=csar\", \"scene\": \"scene\", \"showlegend\": true, \"type\": \"scatter3d\", \"x\": [1.9741651568596101, 1.7055145895987942, 1.5443242492423053, 1.4368640223379798, 1.4368640223379798, 1.3473138332510417, 1.2129885496206338, 1.0786632659902258, 0.917472925633737, 0.8726978310902671, 0.8458327743641861, 0.8100126987294107, 0.7921026609120226, 0.6935974529163909, 0.6756874150990028, 0.5413621314685957, 0.39808182892949406, 0.27271156420777976, 0.25480152639039244, 0.24584650748169878, 0.021971034764352734, -0.03175907868781077, -0.06757915432258617, -0.06757915432258617, -0.17503938122691237, -0.3810048161268703, -0.4615999863051148, -0.6138353077529101, -0.6317453455702982, -0.7123405157485426, -0.748160591383318, -0.8108457237441752, -1.0794962910049903, -1.3033717637223363, -1.357101877174499, -1.6436624822527022, -1.7063476146135594, -1.7690327469744158, -1.7869427847918038], \"y\": [-0.4078968221903271, -0.9069900883662944, -1.0495881644165703, -0.9782891263914324, -0.47919586021546506, -0.6930929742908791, -1.2634852784919857, -0.051401632064635785, -0.7643920123160184, -0.051401632064635785, -1.0495881644165703, -0.9069900883662944, -1.3347843165171236, 0.3050935580610555, -1.4060833545422615, 0.732887786211886, -0.4078968221903271, -0.1939997081149118, -0.9069900883662944, -0.3365977841651878, -1.548681430592539, 1.445878166463268, 0.5902897101616088, -0.6217939362657411, 1.5884762425135446, -0.3365977841651878, 0.3050935580610555, -1.0495881644165703, 0.9467849002873, 1.5171772044884066, -0.4078968221903271, 0.2337945200359175, 0.8754858622621621, 0.16249548201077949, 1.5884762425135446, -0.3365977841651878, 1.2319810523878534, 1.5171772044884066, -0.3365977841651878], \"z\": [-0.20097030023300935, -0.09088465806715838, -0.3110559423988603, -0.7513985110622662, -0.20097030023300935, -0.20097030023300935, -0.8614841532281171, 0.01920098409869455, -0.8614841532281171, 0.45954355276209846, -0.20097030023300935, -0.9715697953939681, -0.8614841532281171, -0.09088465806715838, -1.411912364057374, 0.5696291949279514, 0.2393722684303965, 0.01920098409869455, -0.7513985110622662, -0.4211415845647113, -0.9715697953939681, 2.000742543084018, -0.5312272267305623, -1.411912364057374, 1.1200574057572081, 0.1292866262645455, 0.6797148370938023, -0.6413128688964153, 1.0099717635913552, 1.1200574057572081, -0.5312272267305623, 0.5696291949279514, 0.1292866262645455, 0.01920098409869455, 2.11082818524987, 0.01920098409869455, 0.8998861214255043, 1.670485616586465, 0.45954355276209846]}, {\"hoverlabel\": {\"namelength\": 0}, \"hovertemplate\": \"dataset=model<br>pKi_std=%{x}<br>Vinardo_std=%{y}<br>Vina_std=%{z}<br>size=%{marker.size}\", \"legendgroup\": \"dataset=model\", \"marker\": {\"color\": \"#EF553B\", \"opacity\": 0.7, \"size\": [8.52, 8.52, 8.4, 8.4, 8.3, 8.3, 8.15, 7.89, 7.85, 7.82, 7.66, 7.62, 7.47, 7.46, 7.4, 7.36, 7.2, 7.07, 6.8, 6.77, 6.7, 6.66, 6.64, 6.62, 6.59, 6.51, 6.48, 6.37, 6.36, 6.31, 6.29, 6.29, 6.28, 6.24, 6.06, 5.7, 5.7, 5.64, 5.64, 5.47, 5.41, 5.4, 5.33, 5.24, 5.09, 4.64, 4.6], \"sizemode\": \"area\", \"sizeref\": 0.04, \"symbol\": \"circle\"}, \"mode\": \"markers\", \"name\": \"dataset=model\", \"scene\": \"scene\", \"showlegend\": true, \"type\": \"scatter3d\", \"x\": [1.5443242492423053, 1.5443242492423053, 1.4368640223379798, 1.4368640223379798, 1.3473138332510417, 1.3473138332510417, 1.2129885496206338, 0.9801580579945933, 0.9443379823598179, 0.917472925633737, 0.7741926230946353, 0.7383725474598599, 0.604047263829452, 0.5950922449207584, 0.5413621314685957, 0.5055420558338203, 0.36226175329471866, 0.24584650748169878, 0.004060996946964634, -0.022804059779117116, -0.08548919213997347, -0.12130926777474887, -0.13921930559213697, -0.15712934340952428, -0.18399440013560603, -0.25563455140515684, -0.28249960813123776, -0.3810048161268703, -0.389959835035564, -0.4347349295790338, -0.4526449673964211, -0.4526449673964211, -0.4615999863051148, -0.4974200619398902, -0.6586104022963799, -0.9809910830093577, -0.9809910830093577, -1.0347211964615213, -1.0347211964615213, -1.1869565179093164, -1.240686631361479, -1.2496416502701728, -1.3123267826310299, -1.3929219528092744, -1.5272472364396823, -1.9302230873309054, -1.966043162965681], \"y\": [-0.3365977841651878, -1.4060833545422615, -1.1921862404668475, -1.3347843165171236, -1.548681430592539, -1.1208872024417096, -0.1939997081149118, -1.6199804686176769, -0.1939997081149118, -0.051401632064635785, -0.2652987461400498, -0.12270067008977378, -1.1208872024417096, -0.550494898240603, -0.7643920123160184, -0.6217939362657411, -0.2652987461400498, -0.4078968221903271, -0.051401632064635785, -1.0495881644165703, 1.5884762425135446, 0.804186824237024, -0.1939997081149118, 0.09119644398564149, 0.019897405960503482, 0.5189906721364708, -0.6930929742908791, 0.6615887481867467, 1.3032800904129913, 0.019897405960503482, -0.051401632064635785, 0.6615887481867467, 1.8736723946140978, 1.2319810523878534, 1.445878166463268, 0.2337945200359175, 0.37639259608619474, -0.47919586021546506, 1.0893829763375773, 1.018083938312438, 2.0162704706643737, -0.1939997081149118, 1.018083938312438, 1.8023733565889593, 3.442251231167139, -0.7643920123160184, 0.16249548201077949], \"z\": [-0.20097030023300935, -0.8614841532281171, -1.411912364057374, -1.411912364057374, -0.9715697953939681, -0.5312272267305623, -0.20097030023300935, -1.521998006223225, -0.3110559423988603, -1.081655437559819, -0.4211415845647113, -0.09088465806715838, -1.081655437559819, -0.3110559423988603, -0.3110559423988603, -0.7513985110622662, -0.20097030023300935, -0.4211415845647113, 0.45954355276209846, -0.8614841532281171, 0.8998861214255043, 0.01920098409869455, 0.1292866262645455, -0.3110559423988603, 0.3494579105962475, 0.01920098409869455, 0.2393722684303965, 0.8998861214255043, 0.6797148370938023, 0.2393722684303965, -0.7513985110622662, -1.191741079725672, 1.890656900918167, 1.560399974420612, 0.3494579105962475, 0.8998861214255043, 0.01920098409869455, -0.5312272267305623, 1.0099717635913552, 1.560399974420612, 1.1200574057572081, -1.191741079725672, 1.560399974420612, 1.4503143322547611, 4.092369744235194, -1.9623405748866307, -1.521998006223225]}],\n",
       "                        {\"legend\": {\"itemsizing\": \"constant\", \"tracegroupgap\": 0}, \"margin\": {\"t\": 60}, \"scene\": {\"domain\": {\"x\": [0.0, 1.0], \"y\": [0.0, 1.0]}, \"xaxis\": {\"title\": {\"text\": \"pKi_std\"}}, \"yaxis\": {\"title\": {\"text\": \"Vinardo_std\"}}, \"zaxis\": {\"title\": {\"text\": \"Vina_std\"}}}, \"template\": {\"data\": {\"bar\": [{\"error_x\": {\"color\": \"#2a3f5f\"}, \"error_y\": {\"color\": \"#2a3f5f\"}, \"marker\": {\"line\": {\"color\": \"#E5ECF6\", \"width\": 0.5}}, \"type\": \"bar\"}], \"barpolar\": [{\"marker\": {\"line\": {\"color\": \"#E5ECF6\", \"width\": 0.5}}, \"type\": \"barpolar\"}], \"carpet\": [{\"aaxis\": {\"endlinecolor\": \"#2a3f5f\", \"gridcolor\": \"white\", \"linecolor\": \"white\", \"minorgridcolor\": \"white\", \"startlinecolor\": \"#2a3f5f\"}, \"baxis\": {\"endlinecolor\": \"#2a3f5f\", \"gridcolor\": \"white\", \"linecolor\": \"white\", \"minorgridcolor\": \"white\", \"startlinecolor\": \"#2a3f5f\"}, \"type\": \"carpet\"}], \"choropleth\": [{\"colorbar\": {\"outlinewidth\": 0, \"ticks\": \"\"}, \"type\": \"choropleth\"}], \"contour\": [{\"colorbar\": {\"outlinewidth\": 0, \"ticks\": \"\"}, \"colorscale\": [[0.0, \"#0d0887\"], [0.1111111111111111, \"#46039f\"], [0.2222222222222222, \"#7201a8\"], [0.3333333333333333, \"#9c179e\"], [0.4444444444444444, \"#bd3786\"], [0.5555555555555556, \"#d8576b\"], [0.6666666666666666, \"#ed7953\"], [0.7777777777777778, \"#fb9f3a\"], [0.8888888888888888, \"#fdca26\"], [1.0, \"#f0f921\"]], \"type\": \"contour\"}], \"contourcarpet\": [{\"colorbar\": {\"outlinewidth\": 0, \"ticks\": \"\"}, \"type\": \"contourcarpet\"}], \"heatmap\": [{\"colorbar\": {\"outlinewidth\": 0, \"ticks\": \"\"}, \"colorscale\": [[0.0, \"#0d0887\"], [0.1111111111111111, \"#46039f\"], [0.2222222222222222, \"#7201a8\"], [0.3333333333333333, \"#9c179e\"], [0.4444444444444444, \"#bd3786\"], [0.5555555555555556, \"#d8576b\"], [0.6666666666666666, \"#ed7953\"], [0.7777777777777778, \"#fb9f3a\"], [0.8888888888888888, \"#fdca26\"], [1.0, \"#f0f921\"]], \"type\": \"heatmap\"}], \"heatmapgl\": [{\"colorbar\": {\"outlinewidth\": 0, \"ticks\": \"\"}, \"colorscale\": [[0.0, \"#0d0887\"], [0.1111111111111111, \"#46039f\"], [0.2222222222222222, \"#7201a8\"], [0.3333333333333333, \"#9c179e\"], [0.4444444444444444, \"#bd3786\"], [0.5555555555555556, \"#d8576b\"], [0.6666666666666666, \"#ed7953\"], [0.7777777777777778, \"#fb9f3a\"], [0.8888888888888888, \"#fdca26\"], [1.0, \"#f0f921\"]], \"type\": \"heatmapgl\"}], \"histogram\": [{\"marker\": {\"colorbar\": {\"outlinewidth\": 0, \"ticks\": \"\"}}, \"type\": \"histogram\"}], \"histogram2d\": [{\"colorbar\": {\"outlinewidth\": 0, \"ticks\": \"\"}, \"colorscale\": [[0.0, \"#0d0887\"], [0.1111111111111111, \"#46039f\"], [0.2222222222222222, \"#7201a8\"], [0.3333333333333333, \"#9c179e\"], [0.4444444444444444, \"#bd3786\"], [0.5555555555555556, \"#d8576b\"], [0.6666666666666666, \"#ed7953\"], [0.7777777777777778, \"#fb9f3a\"], [0.8888888888888888, \"#fdca26\"], [1.0, \"#f0f921\"]], \"type\": \"histogram2d\"}], \"histogram2dcontour\": [{\"colorbar\": {\"outlinewidth\": 0, \"ticks\": \"\"}, \"colorscale\": [[0.0, \"#0d0887\"], [0.1111111111111111, \"#46039f\"], [0.2222222222222222, \"#7201a8\"], [0.3333333333333333, \"#9c179e\"], [0.4444444444444444, \"#bd3786\"], [0.5555555555555556, \"#d8576b\"], [0.6666666666666666, \"#ed7953\"], [0.7777777777777778, \"#fb9f3a\"], [0.8888888888888888, \"#fdca26\"], [1.0, \"#f0f921\"]], \"type\": \"histogram2dcontour\"}], \"mesh3d\": [{\"colorbar\": {\"outlinewidth\": 0, \"ticks\": \"\"}, \"type\": \"mesh3d\"}], \"parcoords\": [{\"line\": {\"colorbar\": {\"outlinewidth\": 0, \"ticks\": \"\"}}, \"type\": \"parcoords\"}], \"pie\": [{\"automargin\": true, \"type\": \"pie\"}], \"scatter\": [{\"marker\": {\"colorbar\": {\"outlinewidth\": 0, \"ticks\": \"\"}}, \"type\": \"scatter\"}], \"scatter3d\": [{\"line\": {\"colorbar\": {\"outlinewidth\": 0, \"ticks\": \"\"}}, \"marker\": {\"colorbar\": {\"outlinewidth\": 0, \"ticks\": \"\"}}, \"type\": \"scatter3d\"}], \"scattercarpet\": [{\"marker\": {\"colorbar\": {\"outlinewidth\": 0, \"ticks\": \"\"}}, \"type\": \"scattercarpet\"}], \"scattergeo\": [{\"marker\": {\"colorbar\": {\"outlinewidth\": 0, \"ticks\": \"\"}}, \"type\": \"scattergeo\"}], \"scattergl\": [{\"marker\": {\"colorbar\": {\"outlinewidth\": 0, \"ticks\": \"\"}}, \"type\": \"scattergl\"}], \"scattermapbox\": [{\"marker\": {\"colorbar\": {\"outlinewidth\": 0, \"ticks\": \"\"}}, \"type\": \"scattermapbox\"}], \"scatterpolar\": [{\"marker\": {\"colorbar\": {\"outlinewidth\": 0, \"ticks\": \"\"}}, \"type\": \"scatterpolar\"}], \"scatterpolargl\": [{\"marker\": {\"colorbar\": {\"outlinewidth\": 0, \"ticks\": \"\"}}, \"type\": \"scatterpolargl\"}], \"scatterternary\": [{\"marker\": {\"colorbar\": {\"outlinewidth\": 0, \"ticks\": \"\"}}, \"type\": \"scatterternary\"}], \"surface\": [{\"colorbar\": {\"outlinewidth\": 0, \"ticks\": \"\"}, \"colorscale\": [[0.0, \"#0d0887\"], [0.1111111111111111, \"#46039f\"], [0.2222222222222222, \"#7201a8\"], [0.3333333333333333, \"#9c179e\"], [0.4444444444444444, \"#bd3786\"], [0.5555555555555556, \"#d8576b\"], [0.6666666666666666, \"#ed7953\"], [0.7777777777777778, \"#fb9f3a\"], [0.8888888888888888, \"#fdca26\"], [1.0, \"#f0f921\"]], \"type\": \"surface\"}], \"table\": [{\"cells\": {\"fill\": {\"color\": \"#EBF0F8\"}, \"line\": {\"color\": \"white\"}}, \"header\": {\"fill\": {\"color\": \"#C8D4E3\"}, \"line\": {\"color\": \"white\"}}, \"type\": \"table\"}]}, \"layout\": {\"annotationdefaults\": {\"arrowcolor\": \"#2a3f5f\", \"arrowhead\": 0, \"arrowwidth\": 1}, \"coloraxis\": {\"colorbar\": {\"outlinewidth\": 0, \"ticks\": \"\"}}, \"colorscale\": {\"diverging\": [[0, \"#8e0152\"], [0.1, \"#c51b7d\"], [0.2, \"#de77ae\"], [0.3, \"#f1b6da\"], [0.4, \"#fde0ef\"], [0.5, \"#f7f7f7\"], [0.6, \"#e6f5d0\"], [0.7, \"#b8e186\"], [0.8, \"#7fbc41\"], [0.9, \"#4d9221\"], [1, \"#276419\"]], \"sequential\": [[0.0, \"#0d0887\"], [0.1111111111111111, \"#46039f\"], [0.2222222222222222, \"#7201a8\"], [0.3333333333333333, \"#9c179e\"], [0.4444444444444444, \"#bd3786\"], [0.5555555555555556, \"#d8576b\"], [0.6666666666666666, \"#ed7953\"], [0.7777777777777778, \"#fb9f3a\"], [0.8888888888888888, \"#fdca26\"], [1.0, \"#f0f921\"]], \"sequentialminus\": [[0.0, \"#0d0887\"], [0.1111111111111111, \"#46039f\"], [0.2222222222222222, \"#7201a8\"], [0.3333333333333333, \"#9c179e\"], [0.4444444444444444, \"#bd3786\"], [0.5555555555555556, \"#d8576b\"], [0.6666666666666666, \"#ed7953\"], [0.7777777777777778, \"#fb9f3a\"], [0.8888888888888888, \"#fdca26\"], [1.0, \"#f0f921\"]]}, \"colorway\": [\"#636efa\", \"#EF553B\", \"#00cc96\", \"#ab63fa\", \"#FFA15A\", \"#19d3f3\", \"#FF6692\", \"#B6E880\", \"#FF97FF\", \"#FECB52\"], \"font\": {\"color\": \"#2a3f5f\"}, \"geo\": {\"bgcolor\": \"white\", \"lakecolor\": \"white\", \"landcolor\": \"#E5ECF6\", \"showlakes\": true, \"showland\": true, \"subunitcolor\": \"white\"}, \"hoverlabel\": {\"align\": \"left\"}, \"hovermode\": \"closest\", \"mapbox\": {\"style\": \"light\"}, \"paper_bgcolor\": \"white\", \"plot_bgcolor\": \"#E5ECF6\", \"polar\": {\"angularaxis\": {\"gridcolor\": \"white\", \"linecolor\": \"white\", \"ticks\": \"\"}, \"bgcolor\": \"#E5ECF6\", \"radialaxis\": {\"gridcolor\": \"white\", \"linecolor\": \"white\", \"ticks\": \"\"}}, \"scene\": {\"xaxis\": {\"backgroundcolor\": \"#E5ECF6\", \"gridcolor\": \"white\", \"gridwidth\": 2, \"linecolor\": \"white\", \"showbackground\": true, \"ticks\": \"\", \"zerolinecolor\": \"white\"}, \"yaxis\": {\"backgroundcolor\": \"#E5ECF6\", \"gridcolor\": \"white\", \"gridwidth\": 2, \"linecolor\": \"white\", \"showbackground\": true, \"ticks\": \"\", \"zerolinecolor\": \"white\"}, \"zaxis\": {\"backgroundcolor\": \"#E5ECF6\", \"gridcolor\": \"white\", \"gridwidth\": 2, \"linecolor\": \"white\", \"showbackground\": true, \"ticks\": \"\", \"zerolinecolor\": \"white\"}}, \"shapedefaults\": {\"line\": {\"color\": \"#2a3f5f\"}}, \"ternary\": {\"aaxis\": {\"gridcolor\": \"white\", \"linecolor\": \"white\", \"ticks\": \"\"}, \"baxis\": {\"gridcolor\": \"white\", \"linecolor\": \"white\", \"ticks\": \"\"}, \"bgcolor\": \"#E5ECF6\", \"caxis\": {\"gridcolor\": \"white\", \"linecolor\": \"white\", \"ticks\": \"\"}}, \"title\": {\"x\": 0.05}, \"xaxis\": {\"automargin\": true, \"gridcolor\": \"white\", \"linecolor\": \"white\", \"ticks\": \"\", \"title\": {\"standoff\": 15}, \"zerolinecolor\": \"white\", \"zerolinewidth\": 2}, \"yaxis\": {\"automargin\": true, \"gridcolor\": \"white\", \"linecolor\": \"white\", \"ticks\": \"\", \"title\": {\"standoff\": 15}, \"zerolinecolor\": \"white\", \"zerolinewidth\": 2}}}},\n",
       "                        {\"responsive\": true}\n",
       "                    ).then(function(){\n",
       "                            \n",
       "var gd = document.getElementById('584b1b75-73f7-4bd9-b060-f34362ee383b');\n",
       "var x = new MutationObserver(function (mutations, observer) {{\n",
       "        var display = window.getComputedStyle(gd).display;\n",
       "        if (!display || display === 'none') {{\n",
       "            console.log([gd, 'removed!']);\n",
       "            Plotly.purge(gd);\n",
       "            observer.disconnect();\n",
       "        }}\n",
       "}});\n",
       "\n",
       "// Listen for the removal of the full notebook cells\n",
       "var notebookContainer = gd.closest('#notebook-container');\n",
       "if (notebookContainer) {{\n",
       "    x.observe(notebookContainer, {childList: true});\n",
       "}}\n",
       "\n",
       "// Listen for the clearing of the current output cell\n",
       "var outputEl = gd.closest('.output');\n",
       "if (outputEl) {{\n",
       "    x.observe(outputEl, {childList: true});\n",
       "}}\n",
       "\n",
       "                        })\n",
       "                };\n",
       "                });\n",
       "            </script>\n",
       "        </div>"
      ]
     },
     "metadata": {},
     "output_type": "display_data"
    }
   ],
   "source": [
    "import plotly.express as px\n",
    "fig = px.scatter_3d(df_scaled, x='pKi_std', y='Vinardo_std', z='Vina_std',\n",
    "              opacity=0.7, color = 'dataset', size=df.pKi, size_max=15)\n",
    "fig.show()"
   ]
  },
  {
   "cell_type": "markdown",
   "metadata": {},
   "source": [
    "# All protein conformations\n",
    "\n",
    "### Spearman correlation for all protein crystal conformations"
   ]
  },
  {
   "cell_type": "code",
   "execution_count": 13,
   "metadata": {},
   "outputs": [],
   "source": [
    "calc_spear_cor = lambda x: spearmanr(df_erk2_ligs_exp.pKi, - x)[0]\n",
    "\n",
    "# Vinardo results\n",
    "vinardo_spear_corr = vinardo_dk_results.apply(calc_spear_cor, axis=0)\n",
    "\n",
    "# Vina results\n",
    "vina_spear_corr = vina_dk_results.apply(calc_spear_cor, axis=0)"
   ]
  },
  {
   "cell_type": "markdown",
   "metadata": {},
   "source": [
    "#### Visualization"
   ]
  },
  {
   "cell_type": "code",
   "execution_count": 14,
   "metadata": {},
   "outputs": [],
   "source": [
    "import matplotlib.pyplot as plt\n",
    "import seaborn as sns\n",
    "sns.set(context='talk', style='white', palette='Set3')\n",
    "plt.style.use('ggplot')"
   ]
  },
  {
   "cell_type": "code",
   "execution_count": 15,
   "metadata": {},
   "outputs": [
    {
     "data": {
      "image/png": "[encoded data removed]",
      "text/plain": [
       "<Figure size 864x504 with 1 Axes>"
      ]
     },
     "metadata": {},
     "output_type": "display_data"
    },
    {
     "name": "stdout",
     "output_type": "stream",
     "text": [
      "Each point belongs to a protein crystal conformation.\n"
     ]
    }
   ],
   "source": [
    "df_ = pd.DataFrame([vina_spear_corr, vinardo_spear_corr], index=['Vina', 'Vinardo']).T\n",
    "df_melted = df_.melt(var_name='Docking tool', value_name='Spearman correlation')\n",
    "\n",
    "figure, ax = plt.subplots(figsize=(12, 7))\n",
    "ax = sns.boxplot(y='Spearman correlation', x='Docking tool', data=df_melted, palette=(\"#FFDA5D\", \"#F39152\"))\n",
    "ax = sns.swarmplot(y='Spearman correlation', x='Docking tool', data=df_melted, color='.2')\n",
    "ax.set_title('Spearman corr. coefs. between Dk scores and pKi values\\nper protein conformation')\n",
    "plt.grid(color='white')\n",
    "plt.show()\n",
    "print('Each point belongs to a protein crystal conformation.')"
   ]
  },
  {
   "cell_type": "markdown",
   "metadata": {},
   "source": [
    "### Scatter plot between correlation values in Vina and Vinardo"
   ]
  },
  {
   "cell_type": "code",
   "execution_count": 16,
   "metadata": {},
   "outputs": [
    {
     "data": {
      "image/png": "[encoded data removed]",
      "text/plain": [
       "<Figure size 576x576 with 1 Axes>"
      ]
     },
     "metadata": {},
     "output_type": "display_data"
    }
   ],
   "source": [
    "figure, ax = plt.subplots(figsize=(8, 8))\n",
    "ax = sns.scatterplot(x='Vina', y='Vinardo', data=df_, color='#1578A7', edgecolor='none', alpha=0.5, s=65)\n",
    "ax.set_xlabel('Corr. coefs. Vina/pKi')\n",
    "ax.set_ylabel('Corr. coefs. Vinardo/pKi')\n",
    "ax.set_title('Spearman Correlation coeficient values')\n",
    "plt.xlim((0,1)); plt.ylim((0,1))\n",
    "plt.grid(color='white')\n",
    "plt.show()"
   ]
  },
  {
   "cell_type": "markdown",
   "metadata": {},
   "source": [
    "## Paired test between Vina and Vinardo correlation sets"
   ]
  },
  {
   "cell_type": "code",
   "execution_count": 17,
   "metadata": {},
   "outputs": [],
   "source": [
    "import scipy.stats as stats"
   ]
  },
  {
   "cell_type": "markdown",
   "metadata": {},
   "source": [
    "### Normal distribution\n",
    "**Null hypothesis:**\n",
    "   - $H_0$: Sample $i$ follows a normal distribution."
   ]
  },
  {
   "cell_type": "code",
   "execution_count": 18,
   "metadata": {},
   "outputs": [
    {
     "name": "stdout",
     "output_type": "stream",
     "text": [
      "Normality (Shapiro-Wilks test):\n",
      "\t Vina:\t W = 0.989  p = 0.22515; Ho accepted (alpha = 0.05).\n",
      "\t Vrdo:\t W = 0.975  p = 0.00485; Ho rejected (alpha = 0.05).\n"
     ]
    }
   ],
   "source": [
    "print('Normality (Shapiro-Wilks test):')\n",
    "\n",
    "norm_t = stats.shapiro(vina_spear_corr)\n",
    "print(F'\\t Vina:\\t W = {round(norm_t[0], 3)}  p = {round(norm_t[1], 5)}; Ho accepted (alpha = 0.05).')\n",
    "\n",
    "norm_t = stats.shapiro(vinardo_spear_corr)\n",
    "print(F'\\t Vrdo:\\t W = {round(norm_t[0], 3)}  p = {round(norm_t[1], 5)}; Ho rejected (alpha = 0.05).')"
   ]
  },
  {
   "cell_type": "markdown",
   "metadata": {},
   "source": [
    "### Homocedasticity\n",
    "**Null hypothesis:**\n",
    "   - $H_0$: All samples have the same variance $\\Longrightarrow \\sigma_1 = \\sigma_2$"
   ]
  },
  {
   "cell_type": "code",
   "execution_count": 19,
   "metadata": {},
   "outputs": [
    {
     "name": "stdout",
     "output_type": "stream",
     "text": [
      "Homocedasticity (Barlet test):\n",
      "\t W = 1.854  p = 0.17331; Ho accepted (alpha = 0.05): Samples are homocedastic.\n",
      "Homocedasticity (Levene test):\n",
      "\t W = 0.95  p = 0.33031; Ho accepted (alpha = 0.05): Samples are homocedastic.\n"
     ]
    }
   ],
   "source": [
    "print('Homocedasticity (Barlet test):') # We assume normality\n",
    "bar_t = stats.bartlett(*[vina_spear_corr, vinardo_spear_corr])\n",
    "print(F'\\t W = {round(bar_t[0], 3)}  p = {round(bar_t[1], 5)}; Ho accepted (alpha = 0.05): Samples are homocedastic.')\n",
    "\n",
    "print('Homocedasticity (Levene test):')\n",
    "lev_t = stats.levene(*[vina_spear_corr, vinardo_spear_corr],  center=\"mean\")\n",
    "print(F'\\t W = {round(lev_t[0], 3)}  p = {round(lev_t[1], 5)}; Ho accepted (alpha = 0.05): Samples are homocedastic.')"
   ]
  },
  {
   "cell_type": "markdown",
   "metadata": {},
   "source": [
    "### Paired-samples comparison\n",
    "#### t-paired test and Wilcoxon signed-rank test:\n",
    "\n",
    "**Null hypothesis:**\n",
    "   - $H_0$: The means of the samples are equal $\\Longrightarrow \\mu_{vrd} = \\mu_{vin}$\n",
    "       - Non-parametric: Samples come from the same  population.\n",
    "   - $H_a$: The mean of Vinardo is greater than the mean of Vina $\\Longrightarrow \\mu_{vrd} > \\mu_{vin}$ \n",
    "       - Non-parametric: Samples come from different populations"
   ]
  },
  {
   "cell_type": "code",
   "execution_count": 20,
   "metadata": {},
   "outputs": [
    {
     "name": "stdout",
     "output_type": "stream",
     "text": [
      "t-paired test (to compare means of related samples):\n",
      "\t t = -20.291  p = 0.0; Ho rejected (alpha = 0.05): The means of the samples are different.\n",
      "\n",
      "\n",
      "Wilcoxon test (to compare two related samples\n",
      "[Ho: samples comes from the same population]):\n",
      "\t statistic = 292.0  p = 1.0; Ho rejected (alpha = 0.05): Vinardo is greater.\n"
     ]
    }
   ],
   "source": [
    "print('t-paired test (to compare means of related samples):')\n",
    "t_test = stats.ttest_rel(vina_spear_corr, vinardo_spear_corr)\n",
    "print(F'\\t t = {round(t_test[0], 3)}  p = {round(t_test[1], 5)}; Ho rejected (alpha = 0.05): The means of the samples are different.')\n",
    "print('\\n')\n",
    "print('Wilcoxon test (to compare two related samples\\n[Ho: samples comes from the same population]):')\n",
    "wix_test = stats.wilcoxon(vina_spear_corr, vinardo_spear_corr, alternative=\"greater\")\n",
    "print(F'\\t statistic = {round(wix_test[0], 3)}  p = {round(wix_test[1], 5)}; Ho rejected (alpha = 0.05): Vinardo is greater.')"
   ]
  }
 ],
 "metadata": {
  "kernelspec": {
   "display_name": "Python 3.7.6 64-bit ('mds': conda)",
   "language": "python",
   "name": "python37664bitmdsconda8fcfe9b6c3484566880235af88776fef"
  },
  "language_info": {
   "codemirror_mode": {
    "name": "ipython",
    "version": 3
   },
   "file_extension": ".py",
   "mimetype": "text/x-python",
   "name": "python",
   "nbconvert_exporter": "python",
   "pygments_lexer": "ipython3",
   "version": "3.7.6"
  }
 },
 "nbformat": 4,
 "nbformat_minor": 4
}
