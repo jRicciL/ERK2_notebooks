{
 "cells": [
  {
   "cell_type": "markdown",
   "metadata": {},
   "source": [
    "# Modelado de los residuos restantes de los cristales\n",
    "### Usamos Modeller\n"
   ]
  },
  {
   "cell_type": "code",
   "execution_count": 1,
   "metadata": {},
   "outputs": [
    {
     "name": "stderr",
     "output_type": "stream",
     "text": [
      "/home/joel/anaconda3/envs/mds/lib/python3.6/importlib/_bootstrap.py:219: RuntimeWarning: numpy.ufunc size changed, may indicate binary incompatibility. Expected 192 from C header, got 216 from PyObject\n",
      "  return f(*args, **kwds)\n"
     ]
    }
   ],
   "source": [
    "# Librerías\n",
    "from prody import *\n",
    "import csv\n",
    "from prody import * \n",
    "from Bio import pairwise2, SeqIO\n",
    "import os\n",
    "import glob"
   ]
  },
  {
   "cell_type": "markdown",
   "metadata": {},
   "source": [
    "### Obtener la secuencia de UniProt\n",
    "Utilizamos la secuencia UNIPROT correspondiente a la PROTEÍNA de interés."
   ]
  },
  {
   "cell_type": "code",
   "execution_count": 2,
   "metadata": {},
   "outputs": [],
   "source": [
    "# Nombre de la proteina de interes\n",
    "prot_name = 'erk2'\n",
    "# Secuencia P28482 (ERK2_HUMAN)\n",
    "uniprot_id = \"P28482\""
   ]
  },
  {
   "cell_type": "code",
   "execution_count": 3,
   "metadata": {},
   "outputs": [
    {
     "name": "stdout",
     "output_type": "stream",
     "text": [
      "MAAAAAAGAGPEMVRGQVFDVGPRYTNLSYIGEGAYGMVCSAYDNVNKVRVAIKKISPFEHQTYCQRTLREIKILLRFRHENIIGINDIIRAPTIEQMKDVYIVQDLMETDLYKLLKTQHLSNDHICYFLYQILRGLKYIHSANVLHRDLKPSNLLLNTTCDLKICDFGLARVADPDHDHTGFLTEYVATRWYRAPEIMLNSKGYTKSIDIWSVGCILAEMLSNRPIFPGKHYLDQLNHILGILGSPSQEDLNCIINLKARNYLLSLPHKNKVPWNRLFPNADSKALDLLDKMLTFNPHKRIEVEQALAHPYLEQYYDPSDEPIAEAPFKFDMELDDLPKEKLKELIFEETARFQPGYRS\n"
     ]
    }
   ],
   "source": [
    "# Secuencia de la CDK2 de UniProt\n",
    "fasta = SeqIO.read(open(F'./data/{uniprot_id}.fasta'),'fasta')\n",
    "seq_prot = str(fasta.seq)\n",
    "print(seq_prot)"
   ]
  },
  {
   "cell_type": "markdown",
   "metadata": {},
   "source": [
    "### Función find gaps\n",
    "Cargamos la función que permite permite identificar los gaps en una secuencia y devolver el rango del gap."
   ]
  },
  {
   "cell_type": "code",
   "execution_count": 4,
   "metadata": {},
   "outputs": [],
   "source": [
    "import sys\n",
    "sys.path.append(r'../..')\n",
    "from modulos_python.find_gaps import find_gaps\n",
    "# Recibe una secuencia (con gaps como \"-\") y un valor r para valorar el gap en +/- r posiciones "
   ]
  },
  {
   "cell_type": "code",
   "execution_count": 5,
   "metadata": {},
   "outputs": [
    {
     "data": {
      "text/plain": [
       "{'num_gaps': 2,\n",
       " 'gap_lengths': [3, 1],\n",
       " 'gap_list': [[1, 3], [5, 5]],\n",
       " 'gap_window': [[1, 3], [5, 5]]}"
      ]
     },
     "execution_count": 5,
     "metadata": {},
     "output_type": "execute_result"
    }
   ],
   "source": [
    "# EJEMPLO:\n",
    "find_gaps(\"---3-\", r=0)"
   ]
  },
  {
   "cell_type": "markdown",
   "metadata": {},
   "source": [
    "### Obtenemos los PDB IDs de los cristales\n",
    "Los ids los tomamos de la tabla de metadatos generada cen la libreta *Get_Metadatos..*.  "
   ]
  },
  {
   "cell_type": "code",
   "execution_count": 6,
   "metadata": {},
   "outputs": [
    {
     "name": "stdout",
     "output_type": "stream",
     "text": [
      "Total de PDB IDs a modelar: 166\n"
     ]
    }
   ],
   "source": [
    "# Los IDs de los cristales están en el archivo\n",
    "import pandas as pd\n",
    "import glob\n",
    "file_path = glob.glob(F\"./data/TABLA_MTDATA_{prot_name.upper()}_*.csv\")[0]\n",
    "df_prot = pd.read_csv(file_path, index_col=1)\n",
    "pdbids_list = df_prot.index\n",
    "print(\"Total de PDB IDs a modelar:\", len(pdbids_list))"
   ]
  },
  {
   "cell_type": "code",
   "execution_count": null,
   "metadata": {},
   "outputs": [],
   "source": []
  },
  {
   "cell_type": "markdown",
   "metadata": {},
   "source": [
    "## Se ejecuta Modeller para refinamiento por loops\n",
    "#### Descripción de los pasos a ejecutar:\n",
    "- **1)** Se definen los directorios de entradas y salidas.\n",
    "- **2)** Se carga la estructura cristalográfica a modelar (*cristal*), correspondiente a cada pdb id.\n",
    "    - Si la proteína ya fue modelada se omite volver a modelarla.\n",
    "- **3)** Se hace un **alineamiento de la secuencia** del cristal y la secuencia de Uniprot de la proteína, para ERK2 es **P28482**.\n",
    "- **4)** Se **identifican los gaps en la secuencia del cristal**, si los hay. Se define una ventana de $\\pm$ *r* residuos adyacentes al gap que se considerarán dentro del mismo. Con lo cual, si el gap tiene *n* residuos, su longitud final será de *n + 2r* residuos.\n",
    "- **5)** Se modifica el método *select_atoms* de la clase *MyModel* de MODELLER para indicar que **únicamente modele los residuos que pertenecen al gap** del cristal, **dejando intacto el resto de los átomos de la proteína**. [Más información](https://salilab.org/modeller/manual/node23.html) sobre la metodología usada.\n",
    "- **6)** Ejecuta MODELLER con los parámetros indicados, **generando únicamente un modelo**, el cual es guardado como _PDBID_**MODLL.pdb**. [Más información](https://salilab.org/modeller/9.21/manual/node19.html) sobre los parámetros utilizados."
   ]
  },
  {
   "cell_type": "code",
   "execution_count": 7,
   "metadata": {},
   "outputs": [],
   "source": [
    "# Directiros y parámetros base\n",
    "struct_dir = F'../ARCHIVOS/CRISTALES/PROT_{prot_name.upper()}_CHAINS/'\n",
    "tail_pdb = '_A.pdb' # extensión del archivo pdb del cristal\n",
    "tail_model = '_MODLL' # epiteto del archivo del modelo final, la extensión .pdb la agrega modeller\n",
    "pdbs_model_dir = F\"../ARCHIVOS/CRISTALES/PROT_{prot_name.upper()}_MODELOS_modeller_NoPrep/\" # Carpeta de salida para los modelos\n",
    "\n",
    "# Creamos el directorio de salida si es que no existe\n",
    "import os\n",
    "if not os.path.exists(pdbs_model_dir):\n",
    "    os.makedirs(pdbs_model_dir)"
   ]
  },
  {
   "cell_type": "markdown",
   "metadata": {},
   "source": [
    "#### Creamos la función para ejecutar Modeller"
   ]
  },
  {
   "cell_type": "code",
   "execution_count": 23,
   "metadata": {},
   "outputs": [],
   "source": [
    "from modeller import * # licencia modeller necesaria\n",
    "from modeller.automodel import *\n",
    "\n",
    "def run_modeller(pdb_code, num_res_window = 2, force_modeling = False,\n",
    "                max_var_iterations = 500, repeat_optimization = 2):\n",
    "    '''función para modelar gaps en estructuras cristalográficas utilizando Modeller'''\n",
    "    ###########################\n",
    "    if not force_modeling:\n",
    "        if os.path.isfile(pdbs_model_dir + pdb_code + tail_model + \".pdb\"):\n",
    "            return print(\"El modelo ya existe en el directorio\")\n",
    "    ###########################\n",
    "    try:\n",
    "        # Se lee el archivo pdb. La selección omite residuos negativos.\n",
    "        # Además omite los residuos no estandar, o con modificaciones postraduccionales como el TPO (Tirosina fosfatada)\n",
    "        stc_prot = parsePDB(struct_dir \n",
    "                            + pdb_code + tail_pdb).select('not nonstdaa and resid > 0') \n",
    "        chaid = stc_prot.getChids()[0] # Obtiene el id de la cadena\n",
    "        ref_hv = stc_prot.getHierView()[chaid] # Se obtiene sólo la cadena\n",
    "        seq_cry = ref_hv.getSequence() # Se obtiene la secuencia de la estructura cristalográfica   \n",
    "    except:\n",
    "        return print(\"Error al abrir y modelar:\", pdb_code)\n",
    "    ########################### \n",
    "    # Pregunta si la longitud y la secuencias de Uniprot y de la estructura son iguales\n",
    "    same_seq = len(seq_cry) == len(seq_prot) and seq_cry == seq_prot\n",
    "    # si same_seq es verdadero, se omite hacer el modelado pues la estructura está completa\n",
    "    if same_seq:\n",
    "        return print(\"La proteína \" + pdb_code + \" ya está completa\") \n",
    "        # Si le hacen falta átomos a un residuo fuera del gap, esto se corregirá \n",
    "        # con PDB2PQR y pdb4amber en un fase posterior al modelado.\n",
    "    ###########################     \n",
    "    print(\"Modelando proteína \" + pdb_code)\n",
    "    # Obtener la secueNcia de la estructura a modelar y guardarla en un archivo.\n",
    "    # Alineamiento global, se penalizan con -10 la abertura de nuevos gaps, se obtiene el mejor alineamiento.\n",
    "    alignment = pairwise2.align.globalxs(seq_cry, seq_prot, -10, -0.5, gap_char='-')[0]\n",
    "    # Secuencias del alineamiento\n",
    "    algn1_struc = alignment[0] # Secuencia alineada de la estructura cristalográfica\n",
    "    algn2_seq = seq_prot # Secuencia completa de UniProt\n",
    "\n",
    "    # Nombre de los cabezales de las secuencia deben coincidir con el de los archivos de entrada y salida\n",
    "    crys_file_name = pdb_code + tail_pdb\n",
    "    model_file_name = pdb_code + tail_model\n",
    "\n",
    "    ''' NECESARIO: There should be 10 fields separated by colons \":\".\n",
    "    Please check the file to make sure your sequences end with the '*' character.\n",
    "    Nomenclaturas de los campos del header: \n",
    "    https://salilab.org/modeller/8v2/manual/node176.html'''\n",
    "\n",
    "    # HEADERS (la secuencia del cristal va primero, luego la secuencia completa)\n",
    "    struc_header = \"structureX:\" + crys_file_name + \":.:\" + chaid + \":.:\" + chaid + \":.:.:.:\"\n",
    "    seq_header = \"sequence:\" + model_file_name + \":.:.:.:.:.:.:.:\"\n",
    "    \n",
    "    # Crea el archivo de alineamiento con la estructura requerida por modeller\n",
    "    alg_filename = pdb_code + \".alg\"\n",
    "    with open(alg_filename, \"w\") as handle:\n",
    "        handle.write(\"\\n>P1;%s\\n%s\\n%s*\\n>P1;%s\\n%s\\n%s*\\n\" % (crys_file_name, struc_header, algn1_struc, \n",
    "                                                               model_file_name, seq_header, algn2_seq))\n",
    "    ##########################\n",
    "    # Ejecuta find_gaps para obtener los posibles gaps de la secuencia\n",
    "    gaps = find_gaps(algn1_struc, r = num_res_window)\n",
    "    num_gaps = gaps[\"num_gaps\"]\n",
    "    gap_i = gaps[\"gap_window\"]\n",
    "    \n",
    "    # Se crea el string que necesita Modeller para definir al primer gap\n",
    "    s = \"self.residue_range('\" + str(gap_i[0][0]) + \"', '\" + str(gap_i[0][1]) + \"')\"\n",
    "\n",
    "    # A pesar de que sólo haya un gap, se ejecuta el ciclo, \n",
    "    # si hay más de uno, se extiende el String para incluir los demás\n",
    "    for i in range(1, num_gaps):\n",
    "        s = s + \", \" + \"self.residue_range('\" + str(gap_i[i][0]) + \"', '\" + str(gap_i[i][1]) + \"')\" #nótese la coma\n",
    "    ##########################\n",
    "    ''' SE EJECUTA MODELLER'''\n",
    "    ##########################\n",
    "    # Se crea un nuvo ambiente de modeller\n",
    "    env = environ()\n",
    "    env.io.atom_files_directory = ['.', struct_dir]\n",
    "    \n",
    "    # Se modifica la clase MyModel de Modeller para fijar los residuos ya existentes en el cristal\n",
    "    # Estos residuos no se modelarán ni sus átomos cambiarán de posición\n",
    "    # NECESARIO para poder capturar los valores obtenidos por el rango de gaps\n",
    "    \n",
    "    MyModel_code = \"\"\"\n",
    "class MyModel(automodel):\n",
    "    def select_atoms(self):\n",
    "        return selection(\"\"\" + s + \"\"\")\n",
    "\"\"\" # Al estar dentro del loop la identación de este string es importante\n",
    "    exec(MyModel_code, globals()) # Se lleva a cabo la modificación a MyModel para agregar la región fijada\n",
    "    # Se intancia el objeto MyModel\n",
    "    a = MyModel(env, alnfile = alg_filename, # Lee el archivo fasta creado y guardado en el directorio actual\n",
    "                      knowns = crys_file_name, # Archivo pdb crys, que coincide con el id en el archivo fasta\n",
    "                      sequence = model_file_name) # Nombre del modelo\n",
    "    a.starting_model= 1\n",
    "    a.ending_model  = 1\n",
    "    # Se definen los parámetros de refinamiento dle modelo:\n",
    "    # Más info sobre el refinamiento: https://salilab.org/modeller/9.21/manual/node19.html\n",
    "    a.library_schedule = autosched.slow # Originalmente comentado\n",
    "    a.max_var_iterations = max_var_iterations #*500\n",
    "    a.md_level = refine.slow # Nivel del refinamiento\n",
    "    a.repeat_optimization = repeat_optimization # Número de repeticiones para la optimización\n",
    "    a.make()\n",
    "\n",
    "    ###########################\n",
    "    # Renombra el archivo pdb a pdb_code + _full.pdb\n",
    "    # DEBE ser el único archivo pdb en el directorio '.'\n",
    "    model_file = glob.glob('./' + pdb_code + '*.pdb')[0] # Nombre del archivo pdb\n",
    "    os.rename(model_file, pdbs_model_dir + pdb_code + tail_model + \".pdb\") # Mueve el pdb a la carpeta model_pdbs\n",
    "    # Elimina los archivos extra generados - Todos empiezan con el codigo del PDB ID\n",
    "    for f in glob.glob(pdb_code + \"*\"):\n",
    "        os.remove(f)"
   ]
  },
  {
   "cell_type": "markdown",
   "metadata": {},
   "source": [
    "### Ejecutamos Modeller"
   ]
  },
  {
   "cell_type": "code",
   "execution_count": 32,
   "metadata": {},
   "outputs": [
    {
     "name": "stderr",
     "output_type": "stream",
     "text": [
      "@> 2734 atoms and 1 coordinate set(s) were parsed in 0.03s.\n"
     ]
    },
    {
     "name": "stdout",
     "output_type": "stream",
     "text": [
      "Modelando proteína 3i60\n",
      "\n",
      "check_ali___> Checking the sequence-structure alignment. \n",
      "\n",
      "Implied intrachain target CA(i)-CA(i+1) distances longer than  8.0 angstroms:\n",
      "\n",
      "ALN_POS  TMPL  RID1  RID2  NAM1  NAM2     DIST\n",
      "----------------------------------------------\n",
      "    188     1  182   187      V     A   12.239\n",
      "END OF TABLE\n",
      "read_to_681_> topology.submodel read from topology file:        3\n",
      "mdtrsr__446W> A potential that relies on one protein is used, yet you have at\n",
      "              least one known structure available. MDT, not library, potential is used.\n",
      "0 atoms in HETATM/BLK residues constrained\n",
      "to protein atoms within 2.30 angstroms\n",
      "and protein CA atoms within 10.00 angstroms\n",
      "0 atoms in residues without defined topology\n",
      "constrained to be rigid bodies\n",
      "condens_443_> Restraints marked for deletion were removed.\n",
      "              Total number of restraints before, now:    37141    34495\n",
      "256 (of 2915 total) atoms selected for optimization\n",
      "iupac_m_397W> Atoms were not swapped because of the uncertainty of how to handle the H atom.\n",
      "iupac_m_397W> Atoms were not swapped because of the uncertainty of how to handle the H atom.\n",
      "iupac_m_397W> Atoms were not swapped because of the uncertainty of how to handle the H atom.\n",
      "iupac_m_397W> Atoms were not swapped because of the uncertainty of how to handle the H atom.\n",
      "iupac_m_397W> Atoms were not swapped because of the uncertainty of how to handle the H atom.\n",
      "iupac_m_397W> Atoms were not swapped because of the uncertainty of how to handle the H atom.\n",
      "iupac_m_397W> Atoms were not swapped because of the uncertainty of how to handle the H atom.\n",
      "iupac_m_397W> Atoms were not swapped because of the uncertainty of how to handle the H atom.\n",
      "\n",
      "\n",
      ">> ENERGY; Differences between the model's features and restraints:\n",
      "Number of all residues in MODEL                   :      360\n",
      "Number of all, selected real atoms                :     2915     256\n",
      "Number of all, selected pseudo atoms              :        0       0\n",
      "Number of all static, selected restraints         :    34495    1793\n",
      "COVALENT_CYS                                      :        F\n",
      "NONBONDED_SEL_ATOMS                               :        1\n",
      "Number of non-bonded pairs (excluding 1-2,1-3,1-4):      621\n",
      "Dynamic pairs routine                             : 5, NATM_SEL x NATM double loop\n",
      "Atomic shift for contacts update (UPDATE_DYNAMIC) :    0.390\n",
      "LENNARD_JONES_SWITCH                              :    6.500   7.500\n",
      "COULOMB_JONES_SWITCH                              :    6.500   7.500\n",
      "RESIDUE_SPAN_RANGE                                :        0   99999\n",
      "NLOGN_USE                                         :       15\n",
      "CONTACT_SHELL                                     :    4.000\n",
      "DYNAMIC_PAIRS,_SPHERE,_COULOMB,_LENNARD,_MODELLER :        T       T       F       F       F\n",
      "SPHERE_STDV                                       :    0.050\n",
      "RADII_FACTOR                                      :    0.820\n",
      "Current energy                                    :         378.0618\n",
      "\n",
      "\n",
      "\n",
      "\n",
      "\n",
      "Summary of the restraint violations: \n",
      "\n",
      "   NUM     ... number of restraints.\n",
      "   NUMVI   ... number of restraints with RVIOL > VIOL_REPORT_CUT[i].\n",
      "   RVIOL   ... relative difference from the best value.\n",
      "   NUMVP   ... number of restraints with -Ln(pdf) > VIOL_REPORT_CUT2[i].\n",
      "   RMS_1   ... RMS(feature, minimally_violated_basis_restraint, NUMB).\n",
      "   RMS_2   ... RMS(feature, best_value, NUMB).\n",
      "   MOL.PDF ... scaled contribution to -Ln(Molecular pdf).\n",
      "\n",
      " #                     RESTRAINT_GROUP      NUM   NUMVI  NUMVP   RMS_1   RMS_2         MOL.PDF     S_i\n",
      "------------------------------------------------------------------------------------------------------\n",
      " 1 Bond length potential              :     265       0      1   0.009   0.009      6.5375       1.000\n",
      " 2 Bond angle potential               :     365       0      0   1.730   1.730      21.229       1.000\n",
      " 3 Stereochemical cosine torsion poten:     174       0      7  47.524  47.524      59.180       1.000\n",
      " 4 Stereochemical improper torsion pot:     124       0      0   1.170   1.170      3.9518       1.000\n",
      " 5 Soft-sphere overlap restraints     :     621       0      0   0.003   0.003     0.55960       1.000\n",
      " 6 Lennard-Jones 6-12 potential       :       0       0      0   0.000   0.000      0.0000       1.000\n",
      " 7 Coulomb point-point electrostatic p:       0       0      0   0.000   0.000      0.0000       1.000\n",
      " 8 H-bonding potential                :       0       0      0   0.000   0.000      0.0000       1.000\n",
      " 9 Distance restraints 1 (CA-CA)      :     291      11     18   1.181   1.181      194.65       1.000\n",
      "10 Distance restraints 2 (N-O)        :     223       0      2   0.506   0.506      19.559       1.000\n",
      "11 Mainchain Phi dihedral restraints  :       0       0      0   0.000   0.000      0.0000       1.000\n",
      "12 Mainchain Psi dihedral restraints  :       0       0      0   0.000   0.000      0.0000       1.000\n",
      "13 Mainchain Omega dihedral restraints:      37       0      0   4.230   4.230      7.0981       1.000\n",
      "14 Sidechain Chi_1 dihedral restraints:      23       0      0  75.281  75.281      7.8053       1.000\n",
      "15 Sidechain Chi_2 dihedral restraints:      17       0      0 102.300 102.300      9.7521       1.000\n",
      "16 Sidechain Chi_3 dihedral restraints:       5       0      0 103.787 103.787      3.5022       1.000\n",
      "17 Sidechain Chi_4 dihedral restraints:       2       0      0   1.128   1.128     0.78463       1.000\n",
      "18 Disulfide distance restraints      :       0       0      0   0.000   0.000      0.0000       1.000\n",
      "19 Disulfide angle restraints         :       0       0      0   0.000   0.000      0.0000       1.000\n",
      "20 Disulfide dihedral angle restraints:       0       0      0   0.000   0.000      0.0000       1.000\n",
      "21 Lower bound distance restraints    :       0       0      0   0.000   0.000      0.0000       1.000\n",
      "22 Upper bound distance restraints    :       0       0      0   0.000   0.000      0.0000       1.000\n",
      "23 Distance restraints 3 (SDCH-MNCH)  :     124       0      0   0.510   0.510     0.66555       1.000\n",
      "24 Sidechain Chi_5 dihedral restraints:       0       0      0   0.000   0.000      0.0000       1.000\n",
      "25 Phi/Psi pair of dihedral restraints:      39      23      6  29.702 131.248      33.529       1.000\n",
      "26 Distance restraints 4 (SDCH-SDCH)  :     104       0      0   1.692   1.692      9.2577       1.000\n",
      "27 Distance restraints 5 (X-Y)        :       0       0      0   0.000   0.000      0.0000       1.000\n",
      "28 NMR distance restraints 6 (X-Y)    :       0       0      0   0.000   0.000      0.0000       1.000\n",
      "29 NMR distance restraints 7 (X-Y)    :       0       0      0   0.000   0.000      0.0000       1.000\n",
      "30 Minimal distance restraints        :       0       0      0   0.000   0.000      0.0000       1.000\n",
      "31 Non-bonded restraints              :       0       0      0   0.000   0.000      0.0000       1.000\n",
      "32 Atomic accessibility restraints    :       0       0      0   0.000   0.000      0.0000       1.000\n",
      "33 Atomic density restraints          :       0       0      0   0.000   0.000      0.0000       1.000\n",
      "34 Absolute position restraints       :       0       0      0   0.000   0.000      0.0000       1.000\n",
      "35 Dihedral angle difference restraint:       0       0      0   0.000   0.000      0.0000       1.000\n",
      "36 GBSA implicit solvent potential    :       0       0      0   0.000   0.000      0.0000       1.000\n",
      "37 EM density fitting potential       :       0       0      0   0.000   0.000      0.0000       1.000\n",
      "38 SAXS restraints                    :       0       0      0   0.000   0.000      0.0000       1.000\n",
      "39 Symmetry restraints                :       0       0      0   0.000   0.000      0.0000       1.000\n",
      "\n",
      "\n",
      "\n",
      "# Heavy relative violation of each residue is written to: 3i60_MODLL.V99990001\n",
      "# The profile is NOT normalized by the number of restraints.\n",
      "# The profiles are smoothed over a window of residues:    1\n",
      "# The sum of all numbers in the file:    6523.5034\n",
      "\n",
      "\n",
      "\n",
      "List of the violated restraints:\n",
      "   A restraint is violated when the relative difference\n",
      "   from the best value (RVIOL) is larger than CUTOFF.\n",
      "\n",
      "   ICSR   ... index of a restraint in the current set.\n",
      "   RESNO  ... residue numbers of the first two atoms.\n",
      "   ATM    ... IUPAC atom names of the first two atoms.\n",
      "   FEAT   ... the value of the feature in the model.\n",
      "   restr  ... the mean of the basis restraint with the smallest\n",
      "              difference from the model (local minimum).\n",
      "   viol   ... difference from the local minimum.\n",
      "   rviol  ... relative difference from the local minimum.\n",
      "   RESTR  ... the best value (global minimum).\n",
      "   VIOL   ... difference from the best value.\n",
      "   RVIOL  ... relative difference from the best value.\n",
      "\n",
      "\n",
      "-------------------------------------------------------------------------------------------------\n",
      "\n",
      "Feature  9                           : Distance restraints 1 (CA-CA)           \n",
      "List of the RVIOL violations larger than   :       4.5000\n",
      "\n",
      "    #   ICSR  RESNO1/2 ATM1/2   INDATM1/2    FEAT   restr    viol   rviol   RESTR    VIOL   RVIOL\n",
      "    1  16113 187Y 255I CA  CA   1487 2030   16.65   13.58    3.07    4.68   13.58    3.07    4.68\n",
      "    2  16114 187Y 334E CA  CA   1487 2687   15.56   12.34    3.23    5.28   12.34    3.23    5.28\n",
      "    3  16117 187Y 337D CA  CA   1487 2712   14.95   12.06    2.89    4.85   12.06    2.89    4.85\n",
      "    4  16128 188V 255I CA  CA   1499 2030   18.51   13.96    4.55    7.30   13.96    4.55    7.30\n",
      "    5  16129 188V 334E CA  CA   1499 2687   18.62   13.08    5.54    9.18   13.08    5.54    9.18\n",
      "    6  16130 188V 335L CA  CA   1499 2696   16.49   12.77    3.72    6.64   12.77    3.72    6.64\n",
      "    7  16131 188V 336D CA  CA   1499 2704   14.57   10.52    4.05    7.62   10.52    4.05    7.62\n",
      "    8  16132 188V 337D CA  CA   1499 2712   18.00   13.40    4.61    7.66   13.40    4.61    7.66\n",
      "\n",
      "-------------------------------------------------------------------------------------------------\n",
      "\n",
      "Feature 25                           : Phi/Psi pair of dihedral restraints     \n",
      "List of the RVIOL violations larger than   :       6.5000\n",
      "\n",
      "    #   ICSR  RESNO1/2 ATM1/2   INDATM1/2    FEAT   restr    viol   rviol   RESTR    VIOL   RVIOL\n",
      "    1  10230   1M   2A C   N       7    9  -70.92  -68.20   15.13    1.31  -62.50  171.52   27.71\n",
      "    1          2A   2A N   CA      9   10  130.42  145.30                  -40.90\n",
      "    2  10231   2A   3A C   N      12   14  -87.26  -68.20   21.12    1.47  -62.50  166.56   28.58\n",
      "    2          3A   3A N   CA     14   15  154.39  145.30                  -40.90\n",
      "    3  10232   3A   4A C   N      17   19  -70.25  -68.20    5.52    0.38  -62.50  168.85   28.06\n",
      "    3          4A   4A N   CA     19   20  150.43  145.30                  -40.90\n",
      "    4  10233   4A   5A C   N      22   24  -66.99  -68.20   17.11    1.42  -62.50  156.80   25.92\n",
      "    4          5A   5A N   CA     24   25  162.37  145.30                  -40.90\n",
      "    5  10234   5A   6A C   N      27   29  -77.25  -68.20   29.70    2.08  -62.50  146.26   24.72\n",
      "    5          6A   6A N   CA     29   30  173.59  145.30                  -40.90\n",
      "    6  10235   6A   7A C   N      32   34  -63.39  -68.20   16.75    1.51  -62.50  157.76   25.90\n",
      "    6          7A   7A N   CA     34   35  161.35  145.30                  -40.90\n",
      "    7  10403 174A 175D C   N    1387 1389  -65.67  -70.90   10.05    0.75  -63.30  161.14   20.03\n",
      "    7        175D 175D N   CA   1389 1390  158.88  150.30                  -40.00\n",
      "    8  10404 175D 176P C   N    1395 1397  -63.98  -58.70   20.56    1.32  -64.50  157.83   11.75\n",
      "    8        176P 176P N   CA   1397 1398  -10.63  -30.50                  147.20\n",
      "    9  10405 176P 177D C   N    1402 1404  -55.08  -70.90   16.04    1.12  -63.30  172.57   20.82\n",
      "    9        177D 177D N   CA   1404 1405  147.63  150.30                  -40.00\n",
      "   10  10406 177D 178H C   N    1410 1412  -83.22  -67.60   80.54    5.72  -63.20  100.69   13.89\n",
      "   10        178H 178H N   CA   1412 1413 -140.98  140.00                  -42.30\n",
      "   11  10408 179D 180H C   N    1428 1430  -66.77  -67.60    2.26    0.20  -63.20  175.63   22.18\n",
      "   11        180H 180H N   CA   1430 1431  142.11  140.00                  -42.30\n",
      "   12  10410 181T 182G C   N    1445 1447   89.00   78.70   12.36    0.38   82.20  178.68    9.02\n",
      "   12        182G 182G N   CA   1447 1448 -172.95 -166.10                    8.50\n",
      "   13  10411 182G 183F C   N    1449 1451  -76.50  -71.40   11.25    0.74  -63.20  165.51   23.88\n",
      "   13        183F 183F N   CA   1451 1452  150.73  140.70                  -44.30\n",
      "   14  10412 183F 184L C   N    1460 1462 -132.94 -108.50   31.22    1.39  -63.50 -179.25   29.40\n",
      "   14        184L 184L N   CA   1462 1463  151.93  132.50                  -41.20\n",
      "   15  10413 184L 185T C   N    1468 1470 -159.65 -124.80   71.63    2.25  -63.20  147.67   24.77\n",
      "   15        185T 185T N   CA   1470 1471 -153.92  143.50                  -42.10\n",
      "   16  10414 185T 186E C   N    1475 1477 -174.08 -117.80   59.11    1.80  -63.60 -161.59   32.47\n",
      "   16        186E 186E N   CA   1477 1478  154.89  136.80                  -40.30\n",
      "   17  10415 186E 187Y C   N    1484 1486  -65.62  -63.50    2.37    0.35 -124.30 -172.82    7.79\n",
      "   17        187Y 187Y N   CA   1486 1487  -42.35  -43.40                  135.40\n",
      "   18  10417 188V 189A C   N    1503 1505 -176.62 -134.00   59.01    1.73  -62.50  173.95   34.41\n",
      "   18        189A 189A N   CA   1505 1506 -172.19  147.00                  -40.90\n",
      "   19  10430 201N 202S C   N    1616 1618  -64.66  -72.40   10.58    0.51  -64.10  179.81   13.06\n",
      "   19        202S 202S N   CA   1618 1619  145.18  152.40                  -35.00\n",
      "   20  10431 202S 203K C   N    1622 1624  -63.50  -70.20    8.25    0.50  -62.90  176.38   22.87\n",
      "   20        203K 203K N   CA   1624 1625  135.58  140.40                  -40.80\n",
      "   21  10432 203K 204G C   N    1631 1633   71.52   78.70   17.96    0.79   82.20  169.28    7.68\n",
      "   21        204G 204G N   CA   1633 1634  177.44 -166.10                    8.50\n",
      "   22  10586 357G 358Y C   N    2884 2886  -59.79  -63.50    5.95    0.82 -124.30 -172.04   12.74\n",
      "   22        358Y 358Y N   CA   2886 2887  -48.05  -43.40                  135.40\n",
      "   23  10587 358Y 359R C   N    2896 2898  -76.09  -72.10    8.68    0.58  -63.00  169.80   23.83\n",
      "   23        359R 359R N   CA   2898 2899  149.61  141.90                  -41.10\n",
      "\n",
      "\n",
      "report______> Distribution of short non-bonded contacts:\n",
      "\n",
      "\n",
      "DISTANCE1:  0.00 2.10 2.20 2.30 2.40 2.50 2.60 2.70 2.80 2.90 3.00 3.10 3.20 3.30 3.40\n",
      "DISTANCE2:  2.10 2.20 2.30 2.40 2.50 2.60 2.70 2.80 2.90 3.00 3.10 3.20 3.30 3.40 3.50\n",
      "FREQUENCY:     0    0    0    0    2    8   21   64  116  192  191  290  354  421  494\n",
      "\n",
      "\n",
      "<< end of ENERGY.\n",
      "\n",
      ">> Summary of successfully produced models:\n",
      "Filename                          molpdf\n",
      "----------------------------------------\n",
      "3i60_MODLL.B99990001.pdb       378.06180\n",
      "\n"
     ]
    },
    {
     "name": "stdout",
     "output_type": "stream",
     "text": [
      "46.41107964515686\n"
     ]
    }
   ],
   "source": [
    "import time\n",
    "start = time.time()\n",
    "\n",
    "# se lleva a cabo el modelado de todas las estructuras cristalográficas\n",
    "# for pdb_code in pdbids_list:\n",
    "run_modeller(\"3i60\", \n",
    "             num_res_window = 2, \n",
    "             force_modeling = True,\n",
    "             max_var_iterations = 1000, \n",
    "             repeat_optimization = 2)\n",
    "\n",
    "end = time. time()\n",
    "print(end - start)"
   ]
  },
  {
   "cell_type": "markdown",
   "metadata": {},
   "source": [
    "### Estructuras que en la primera ronda tuvieron problemas con el loop A\n"
   ]
  },
  {
   "cell_type": "code",
   "execution_count": 29,
   "metadata": {
    "scrolled": true
   },
   "outputs": [
    {
     "data": {
      "text/plain": [
       "Index(['3i60', '4fv4', '4fv5', '4fv6', '4fv8', '4fv9', '4o6e', '4qp8', '4qta',\n",
       "       '5ax3', '5bvd', '5bve', '5bvf', '6ots'],\n",
       "      dtype='object', name='PDB_ID')"
      ]
     },
     "execution_count": 29,
     "metadata": {},
     "output_type": "execute_result"
    }
   ],
   "source": [
    "num_struct = [16, 34, 35, 36, 38, 39, 54, 61, 64, 86, 90, 91, 92, 154]\n",
    "pdbids_list[num_struct]"
   ]
  },
  {
   "cell_type": "markdown",
   "metadata": {},
   "source": [
    "Todas estas estructuras fueron insatisfactorias porque el loop A de la proteína, ausente en todas ellas, se entrelazaba con otro loop menor, también ausente."
   ]
  },
  {
   "cell_type": "code",
   "execution_count": 44,
   "metadata": {},
   "outputs": [
    {
     "data": {
      "application/vnd.jupyter.widget-view+json": {
       "model_id": "5f5b38c3aee84245b9ca40fd98715a8b",
       "version_major": 2,
       "version_minor": 0
      },
      "text/plain": [
       "NGLWidget()"
      ]
     },
     "metadata": {},
     "output_type": "display_data"
    }
   ],
   "source": [
    "import pytraj as pt\n",
    "import nglview as nv\n",
    "\n",
    "ejemplo = pt.load(F'{pdbs_model_dir}/modelos_descartados/3i60_MODLL.pdb')\n",
    "view = nv.show_pytraj(ejemplo)\n",
    "view.clear_representations()\n",
    "view.add_cartoon(color='white')\n",
    "view.add_cartoon(selection = '175-185', color='red')\n",
    "view.add_cartoon(selection = '199-207', color='blue')\n",
    "view"
   ]
  },
  {
   "cell_type": "markdown",
   "metadata": {},
   "source": [
    "Para correfir esto, en una segunda ronda fueron \"corregidas\" estas estructuras tras establecer la ventana del gap a r = 1 residuo, aumentar el refinamiento con Modeller, y agregar un C$\\alpha$ \"dummy\" del residuo 182 que forma parte del loop A de la estructura 1wzy, para \"forzar\" a Modeller a que orientase el loop A  en dirección opuesta al loop menor. "
   ]
  },
  {
   "cell_type": "markdown",
   "metadata": {},
   "source": [
    "\n"
   ]
  },
  {
   "cell_type": "markdown",
   "metadata": {},
   "source": [
    "\n"
   ]
  }
 ],
 "metadata": {
  "kernelspec": {
   "display_name": "Python 3",
   "language": "python",
   "name": "python3"
  },
  "language_info": {
   "codemirror_mode": {
    "name": "ipython",
    "version": 3
   },
   "file_extension": ".py",
   "mimetype": "text/x-python",
   "name": "python",
   "nbconvert_exporter": "python",
   "pygments_lexer": "ipython3",
   "version": "3.7.4"
  }
 },
 "nbformat": 4,
 "nbformat_minor": 2
}
